{
 "cells": [
  {
   "cell_type": "markdown",
   "metadata": {},
   "source": [
    "__Background:__\n",
    "\n",
    "We are one of the fastest growing startups in the logistics and delivery domain. We work with several partners and make on-demand delivery to our customers. During the COVID-19 pandemic, we are facing several different challenges and everyday we are trying to address these challenges.\n",
    "\n",
    "We thrive on making our customers happy. As a growing startup, with a global expansion strategy we know that we need to make our customers happy and the only way to do that is to measure how happy each customer is. If we can predict what makes our customers happy or unhappy, we can then take necessary actions.\n",
    "\n",
    "Getting feedback from customers is not easy either, but we do our best to get constant feedback from our customers. This is a crucial function to improve our operations across all levels.\n",
    "\n",
    "We recently did a survey to a select customer cohort. You are presented with a subset of this data. We will be using the remaining data as a private test set.\n",
    "\n",
    "__Data Description:__\n",
    "\n",
    "- Y = target attribute (Y) with values indicating 0 (unhappy) and 1 (happy) customers\n",
    "- X1 = my order was delivered on time\n",
    "- X2 = contents of my order was as I expected\n",
    "- X3 = I ordered everything I wanted to order\n",
    "- X4 = I paid a good price for my order\n",
    "- X5 = I am satisfied with my courier\n",
    "- X6 = the app makes ordering easy for me\n",
    "\n",
    "Attributes X1 to X6 indicate the responses for each question and have values from 1 to 5 where the smaller number indicates less and the higher number indicates more towards the answer.\n",
    "\n",
    "__Goal(s):__\n",
    "\n",
    "Predict if a customer is happy or not based on the answers they give to questions asked.\n",
    "\n",
    "__Success Metrics:__\n",
    "\n",
    "Reach 73% accuracy score or above, or convince us why your solution is superior. We are definitely interested in every solution and insight you can provide us."
   ]
  },
  {
   "cell_type": "markdown",
   "metadata": {},
   "source": [
    "# DATA WRANGLING"
   ]
  },
  {
   "cell_type": "code",
   "execution_count": 1,
   "metadata": {},
   "outputs": [],
   "source": [
    "import pandas as pd\n",
    "import numpy as np\n",
    "import matplotlib.pyplot as plt\n",
    "import seaborn as sns"
   ]
  },
  {
   "cell_type": "code",
   "execution_count": 2,
   "metadata": {},
   "outputs": [],
   "source": [
    "df = pd.read_csv('data/ACME-HappinessSurvey2020.csv')"
   ]
  },
  {
   "cell_type": "code",
   "execution_count": 3,
   "metadata": {},
   "outputs": [
    {
     "data": {
      "text/html": [
       "<div>\n",
       "<style scoped>\n",
       "    .dataframe tbody tr th:only-of-type {\n",
       "        vertical-align: middle;\n",
       "    }\n",
       "\n",
       "    .dataframe tbody tr th {\n",
       "        vertical-align: top;\n",
       "    }\n",
       "\n",
       "    .dataframe thead th {\n",
       "        text-align: right;\n",
       "    }\n",
       "</style>\n",
       "<table border=\"1\" class=\"dataframe\">\n",
       "  <thead>\n",
       "    <tr style=\"text-align: right;\">\n",
       "      <th></th>\n",
       "      <th>Y</th>\n",
       "      <th>X1</th>\n",
       "      <th>X2</th>\n",
       "      <th>X3</th>\n",
       "      <th>X4</th>\n",
       "      <th>X5</th>\n",
       "      <th>X6</th>\n",
       "    </tr>\n",
       "  </thead>\n",
       "  <tbody>\n",
       "    <tr>\n",
       "      <th>0</th>\n",
       "      <td>0</td>\n",
       "      <td>3</td>\n",
       "      <td>3</td>\n",
       "      <td>3</td>\n",
       "      <td>4</td>\n",
       "      <td>2</td>\n",
       "      <td>4</td>\n",
       "    </tr>\n",
       "    <tr>\n",
       "      <th>1</th>\n",
       "      <td>0</td>\n",
       "      <td>3</td>\n",
       "      <td>2</td>\n",
       "      <td>3</td>\n",
       "      <td>5</td>\n",
       "      <td>4</td>\n",
       "      <td>3</td>\n",
       "    </tr>\n",
       "    <tr>\n",
       "      <th>2</th>\n",
       "      <td>1</td>\n",
       "      <td>5</td>\n",
       "      <td>3</td>\n",
       "      <td>3</td>\n",
       "      <td>3</td>\n",
       "      <td>3</td>\n",
       "      <td>5</td>\n",
       "    </tr>\n",
       "    <tr>\n",
       "      <th>3</th>\n",
       "      <td>0</td>\n",
       "      <td>5</td>\n",
       "      <td>4</td>\n",
       "      <td>3</td>\n",
       "      <td>3</td>\n",
       "      <td>3</td>\n",
       "      <td>5</td>\n",
       "    </tr>\n",
       "    <tr>\n",
       "      <th>4</th>\n",
       "      <td>0</td>\n",
       "      <td>5</td>\n",
       "      <td>4</td>\n",
       "      <td>3</td>\n",
       "      <td>3</td>\n",
       "      <td>3</td>\n",
       "      <td>5</td>\n",
       "    </tr>\n",
       "  </tbody>\n",
       "</table>\n",
       "</div>"
      ],
      "text/plain": [
       "   Y  X1  X2  X3  X4  X5  X6\n",
       "0  0   3   3   3   4   2   4\n",
       "1  0   3   2   3   5   4   3\n",
       "2  1   5   3   3   3   3   5\n",
       "3  0   5   4   3   3   3   5\n",
       "4  0   5   4   3   3   3   5"
      ]
     },
     "execution_count": 3,
     "metadata": {},
     "output_type": "execute_result"
    }
   ],
   "source": [
    "# preview data\n",
    "df.head()"
   ]
  },
  {
   "cell_type": "code",
   "execution_count": 4,
   "metadata": {},
   "outputs": [
    {
     "data": {
      "text/html": [
       "<div>\n",
       "<style scoped>\n",
       "    .dataframe tbody tr th:only-of-type {\n",
       "        vertical-align: middle;\n",
       "    }\n",
       "\n",
       "    .dataframe tbody tr th {\n",
       "        vertical-align: top;\n",
       "    }\n",
       "\n",
       "    .dataframe thead th {\n",
       "        text-align: right;\n",
       "    }\n",
       "</style>\n",
       "<table border=\"1\" class=\"dataframe\">\n",
       "  <thead>\n",
       "    <tr style=\"text-align: right;\">\n",
       "      <th></th>\n",
       "      <th>delivered_time</th>\n",
       "      <th>order_satisfaction</th>\n",
       "      <th>order_completed</th>\n",
       "      <th>price_satisfaction</th>\n",
       "      <th>courier_satisfaction</th>\n",
       "      <th>app_satisfaction</th>\n",
       "      <th>happiness</th>\n",
       "    </tr>\n",
       "  </thead>\n",
       "  <tbody>\n",
       "    <tr>\n",
       "      <th>0</th>\n",
       "      <td>3</td>\n",
       "      <td>3</td>\n",
       "      <td>3</td>\n",
       "      <td>4</td>\n",
       "      <td>2</td>\n",
       "      <td>4</td>\n",
       "      <td>0</td>\n",
       "    </tr>\n",
       "    <tr>\n",
       "      <th>1</th>\n",
       "      <td>3</td>\n",
       "      <td>2</td>\n",
       "      <td>3</td>\n",
       "      <td>5</td>\n",
       "      <td>4</td>\n",
       "      <td>3</td>\n",
       "      <td>0</td>\n",
       "    </tr>\n",
       "    <tr>\n",
       "      <th>2</th>\n",
       "      <td>5</td>\n",
       "      <td>3</td>\n",
       "      <td>3</td>\n",
       "      <td>3</td>\n",
       "      <td>3</td>\n",
       "      <td>5</td>\n",
       "      <td>1</td>\n",
       "    </tr>\n",
       "    <tr>\n",
       "      <th>3</th>\n",
       "      <td>5</td>\n",
       "      <td>4</td>\n",
       "      <td>3</td>\n",
       "      <td>3</td>\n",
       "      <td>3</td>\n",
       "      <td>5</td>\n",
       "      <td>0</td>\n",
       "    </tr>\n",
       "    <tr>\n",
       "      <th>4</th>\n",
       "      <td>5</td>\n",
       "      <td>4</td>\n",
       "      <td>3</td>\n",
       "      <td>3</td>\n",
       "      <td>3</td>\n",
       "      <td>5</td>\n",
       "      <td>0</td>\n",
       "    </tr>\n",
       "  </tbody>\n",
       "</table>\n",
       "</div>"
      ],
      "text/plain": [
       "   delivered_time  order_satisfaction  order_completed  price_satisfaction  \\\n",
       "0               3                   3                3                   4   \n",
       "1               3                   2                3                   5   \n",
       "2               5                   3                3                   3   \n",
       "3               5                   4                3                   3   \n",
       "4               5                   4                3                   3   \n",
       "\n",
       "   courier_satisfaction  app_satisfaction  happiness  \n",
       "0                     2                 4          0  \n",
       "1                     4                 3          0  \n",
       "2                     3                 5          1  \n",
       "3                     3                 5          0  \n",
       "4                     3                 5          0  "
      ]
     },
     "execution_count": 4,
     "metadata": {},
     "output_type": "execute_result"
    }
   ],
   "source": [
    "# move outcome to the last column\n",
    "df = df[['X1', 'X2', 'X3', 'X4', 'X5', 'X6', 'Y']]\n",
    "\n",
    "# rename columns to a user readable format\n",
    "old_name = list(df.columns)\n",
    "new_name = ['delivered_time', 'order_satisfaction', 'order_completed', 'price_satisfaction', \n",
    "            'courier_satisfaction', 'app_satisfaction', 'happiness']\n",
    "\n",
    "df.rename(columns = (dict(zip(old_name, new_name))), inplace = True)\n",
    "df.head()"
   ]
  },
  {
   "cell_type": "code",
   "execution_count": 5,
   "metadata": {},
   "outputs": [
    {
     "name": "stdout",
     "output_type": "stream",
     "text": [
      "<class 'pandas.core.frame.DataFrame'>\n",
      "RangeIndex: 126 entries, 0 to 125\n",
      "Data columns (total 7 columns):\n",
      " #   Column                Non-Null Count  Dtype\n",
      "---  ------                --------------  -----\n",
      " 0   delivered_time        126 non-null    int64\n",
      " 1   order_satisfaction    126 non-null    int64\n",
      " 2   order_completed       126 non-null    int64\n",
      " 3   price_satisfaction    126 non-null    int64\n",
      " 4   courier_satisfaction  126 non-null    int64\n",
      " 5   app_satisfaction      126 non-null    int64\n",
      " 6   happiness             126 non-null    int64\n",
      "dtypes: int64(7)\n",
      "memory usage: 7.0 KB\n"
     ]
    }
   ],
   "source": [
    "# check dtypes, any null values, number of columns, and total number of samples\n",
    "df.info()"
   ]
  },
  {
   "cell_type": "code",
   "execution_count": 6,
   "metadata": {},
   "outputs": [
    {
     "data": {
      "text/plain": [
       "delivered_time          0\n",
       "order_satisfaction      0\n",
       "order_completed         0\n",
       "price_satisfaction      0\n",
       "courier_satisfaction    0\n",
       "app_satisfaction        0\n",
       "happiness               0\n",
       "dtype: int64"
      ]
     },
     "execution_count": 6,
     "metadata": {},
     "output_type": "execute_result"
    }
   ],
   "source": [
    "# check for missing data\n",
    "df.isna().sum()"
   ]
  },
  {
   "cell_type": "code",
   "execution_count": 7,
   "metadata": {},
   "outputs": [
    {
     "name": "stdout",
     "output_type": "stream",
     "text": [
      "delivered_time: [3 5 4 1]\n",
      "order_satisfaction: [3 2 4 5 1]\n",
      "order_completed: [3 2 4 5 1]\n",
      "price_satisfaction: [4 5 3 2 1]\n",
      "courier_satisfaction: [2 4 3 5 1]\n",
      "app_satisfaction: [4 3 5 2 1]\n",
      "happiness: [0 1]\n"
     ]
    }
   ],
   "source": [
    "# check that all values for each feature ranges from 1 to 5\n",
    "# check that the value for the outcome is only 0 or 1\n",
    "\n",
    "for i in df.columns:\n",
    "    print(f'{i}: {df[i].unique()}')"
   ]
  },
  {
   "cell_type": "code",
   "execution_count": 8,
   "metadata": {},
   "outputs": [
    {
     "data": {
      "text/html": [
       "<div>\n",
       "<style scoped>\n",
       "    .dataframe tbody tr th:only-of-type {\n",
       "        vertical-align: middle;\n",
       "    }\n",
       "\n",
       "    .dataframe tbody tr th {\n",
       "        vertical-align: top;\n",
       "    }\n",
       "\n",
       "    .dataframe thead th {\n",
       "        text-align: right;\n",
       "    }\n",
       "</style>\n",
       "<table border=\"1\" class=\"dataframe\">\n",
       "  <thead>\n",
       "    <tr style=\"text-align: right;\">\n",
       "      <th></th>\n",
       "      <th>delivered_time</th>\n",
       "      <th>order_satisfaction</th>\n",
       "      <th>order_completed</th>\n",
       "      <th>price_satisfaction</th>\n",
       "      <th>courier_satisfaction</th>\n",
       "      <th>app_satisfaction</th>\n",
       "      <th>happiness</th>\n",
       "    </tr>\n",
       "  </thead>\n",
       "  <tbody>\n",
       "    <tr>\n",
       "      <th>count</th>\n",
       "      <td>126.000000</td>\n",
       "      <td>126.000000</td>\n",
       "      <td>126.000000</td>\n",
       "      <td>126.000000</td>\n",
       "      <td>126.000000</td>\n",
       "      <td>126.000000</td>\n",
       "      <td>126.000000</td>\n",
       "    </tr>\n",
       "    <tr>\n",
       "      <th>mean</th>\n",
       "      <td>4.333333</td>\n",
       "      <td>2.531746</td>\n",
       "      <td>3.309524</td>\n",
       "      <td>3.746032</td>\n",
       "      <td>3.650794</td>\n",
       "      <td>4.253968</td>\n",
       "      <td>0.547619</td>\n",
       "    </tr>\n",
       "    <tr>\n",
       "      <th>std</th>\n",
       "      <td>0.800000</td>\n",
       "      <td>1.114892</td>\n",
       "      <td>1.023440</td>\n",
       "      <td>0.875776</td>\n",
       "      <td>1.147641</td>\n",
       "      <td>0.809311</td>\n",
       "      <td>0.499714</td>\n",
       "    </tr>\n",
       "    <tr>\n",
       "      <th>min</th>\n",
       "      <td>1.000000</td>\n",
       "      <td>1.000000</td>\n",
       "      <td>1.000000</td>\n",
       "      <td>1.000000</td>\n",
       "      <td>1.000000</td>\n",
       "      <td>1.000000</td>\n",
       "      <td>0.000000</td>\n",
       "    </tr>\n",
       "    <tr>\n",
       "      <th>25%</th>\n",
       "      <td>4.000000</td>\n",
       "      <td>2.000000</td>\n",
       "      <td>3.000000</td>\n",
       "      <td>3.000000</td>\n",
       "      <td>3.000000</td>\n",
       "      <td>4.000000</td>\n",
       "      <td>0.000000</td>\n",
       "    </tr>\n",
       "    <tr>\n",
       "      <th>50%</th>\n",
       "      <td>5.000000</td>\n",
       "      <td>3.000000</td>\n",
       "      <td>3.000000</td>\n",
       "      <td>4.000000</td>\n",
       "      <td>4.000000</td>\n",
       "      <td>4.000000</td>\n",
       "      <td>1.000000</td>\n",
       "    </tr>\n",
       "    <tr>\n",
       "      <th>75%</th>\n",
       "      <td>5.000000</td>\n",
       "      <td>3.000000</td>\n",
       "      <td>4.000000</td>\n",
       "      <td>4.000000</td>\n",
       "      <td>4.000000</td>\n",
       "      <td>5.000000</td>\n",
       "      <td>1.000000</td>\n",
       "    </tr>\n",
       "    <tr>\n",
       "      <th>max</th>\n",
       "      <td>5.000000</td>\n",
       "      <td>5.000000</td>\n",
       "      <td>5.000000</td>\n",
       "      <td>5.000000</td>\n",
       "      <td>5.000000</td>\n",
       "      <td>5.000000</td>\n",
       "      <td>1.000000</td>\n",
       "    </tr>\n",
       "  </tbody>\n",
       "</table>\n",
       "</div>"
      ],
      "text/plain": [
       "       delivered_time  order_satisfaction  order_completed  \\\n",
       "count      126.000000          126.000000       126.000000   \n",
       "mean         4.333333            2.531746         3.309524   \n",
       "std          0.800000            1.114892         1.023440   \n",
       "min          1.000000            1.000000         1.000000   \n",
       "25%          4.000000            2.000000         3.000000   \n",
       "50%          5.000000            3.000000         3.000000   \n",
       "75%          5.000000            3.000000         4.000000   \n",
       "max          5.000000            5.000000         5.000000   \n",
       "\n",
       "       price_satisfaction  courier_satisfaction  app_satisfaction   happiness  \n",
       "count          126.000000            126.000000        126.000000  126.000000  \n",
       "mean             3.746032              3.650794          4.253968    0.547619  \n",
       "std              0.875776              1.147641          0.809311    0.499714  \n",
       "min              1.000000              1.000000          1.000000    0.000000  \n",
       "25%              3.000000              3.000000          4.000000    0.000000  \n",
       "50%              4.000000              4.000000          4.000000    1.000000  \n",
       "75%              4.000000              4.000000          5.000000    1.000000  \n",
       "max              5.000000              5.000000          5.000000    1.000000  "
      ]
     },
     "execution_count": 8,
     "metadata": {},
     "output_type": "execute_result"
    }
   ],
   "source": [
    "df.describe()"
   ]
  },
  {
   "cell_type": "markdown",
   "metadata": {},
   "source": [
    "The data has the appropriate dtype and is not missing any values or has any inconsistencies.\n",
    "\n",
    "Based on a cursory glance of the descriptive statistics, we can see that the lowest rating is order satisfaction. Delivery time, app satisfaction, courier satisfaciton, price satisfaction on average skew to higher ratings, but order completeness is pretty neutral. There seems to be very little difference between happy and unhappy customers.\n",
    "\n",
    "In conclusion, both order satisfaction and order completeness need to be improved.\n",
    "We will explore all this more visually in the next section."
   ]
  },
  {
   "cell_type": "markdown",
   "metadata": {},
   "source": [
    "# EXPLORATORY DATA ANALYSIS"
   ]
  },
  {
   "cell_type": "code",
   "execution_count": 9,
   "metadata": {},
   "outputs": [
    {
     "data": {
      "image/png": "[encoded data removed]",
      "text/plain": [
       "<Figure size 1080x720 with 6 Axes>"
      ]
     },
     "metadata": {
      "needs_background": "light"
     },
     "output_type": "display_data"
    }
   ],
   "source": [
    "#plot feature distribution\n",
    "feature = df.copy().iloc[:, 0:6]\n",
    "\n",
    "#set default number of bins to 5 for ratings\n",
    "bins = 5\n",
    "\n",
    "plt.figure(figsize=(15, 10))\n",
    "\n",
    "for i in range(len(feature.columns)):\n",
    "    ax = plt.subplot(int(len(feature.columns) / 3), 3, i + 1)\n",
    "    _ = sns.histplot(data=df, x=feature.columns[i], ax=ax, bins=bins)\n",
    "    _ = plt.ylabel('Count')\n",
    "_ = plt.tight_layout()\n",
    "_ = plt.suptitle(f'Feature Distribution', y=1.02, size=20)\n",
    "_ = plt.show()"
   ]
  },
  {
   "cell_type": "code",
   "execution_count": 10,
   "metadata": {},
   "outputs": [
    {
     "data": {
      "image/png": "[encoded data removed]",
      "text/plain": [
       "<Figure size 720x360 with 1 Axes>"
      ]
     },
     "metadata": {
      "needs_background": "light"
     },
     "output_type": "display_data"
    }
   ],
   "source": [
    "#plot outcome distribution\n",
    "\n",
    "plt.figure(figsize=(10, 5))\n",
    "\n",
    "ax = sns.countplot(data=df, x=df.happiness)\n",
    "_ = plt.title('Customer Happiness Distribution', size=15)\n",
    "_ = ax.set_xticklabels(['Unhappy', 'Happy'])\n",
    "_ = plt.ylabel('Count')\n",
    "_ = plt.show()"
   ]
  },
  {
   "cell_type": "markdown",
   "metadata": {},
   "source": [
    "Now let's formally look at how skewed each feature is.\n",
    "\n",
    "For skewness, we will consider a rule of thumb that a score between -0.5 and 0.5 is fairly symmetrical. Anything outside of those bounds we will consider for scaling and transformation."
   ]
  },
  {
   "cell_type": "code",
   "execution_count": 11,
   "metadata": {},
   "outputs": [
    {
     "data": {
      "text/html": [
       "<div>\n",
       "<style scoped>\n",
       "    .dataframe tbody tr th:only-of-type {\n",
       "        vertical-align: middle;\n",
       "    }\n",
       "\n",
       "    .dataframe tbody tr th {\n",
       "        vertical-align: top;\n",
       "    }\n",
       "\n",
       "    .dataframe thead th {\n",
       "        text-align: right;\n",
       "    }\n",
       "</style>\n",
       "<table border=\"1\" class=\"dataframe\">\n",
       "  <thead>\n",
       "    <tr style=\"text-align: right;\">\n",
       "      <th></th>\n",
       "      <th>skew</th>\n",
       "    </tr>\n",
       "  </thead>\n",
       "  <tbody>\n",
       "    <tr>\n",
       "      <th>delivered_time</th>\n",
       "      <td>-1.058468</td>\n",
       "    </tr>\n",
       "    <tr>\n",
       "      <th>order_satisfaction</th>\n",
       "      <td>0.271000</td>\n",
       "    </tr>\n",
       "    <tr>\n",
       "      <th>order_completed</th>\n",
       "      <td>-0.199536</td>\n",
       "    </tr>\n",
       "    <tr>\n",
       "      <th>price_satisfaction</th>\n",
       "      <td>-0.422240</td>\n",
       "    </tr>\n",
       "    <tr>\n",
       "      <th>courier_satisfaction</th>\n",
       "      <td>-0.699999</td>\n",
       "    </tr>\n",
       "    <tr>\n",
       "      <th>app_satisfaction</th>\n",
       "      <td>-0.957590</td>\n",
       "    </tr>\n",
       "    <tr>\n",
       "      <th>happiness</th>\n",
       "      <td>-0.193659</td>\n",
       "    </tr>\n",
       "  </tbody>\n",
       "</table>\n",
       "</div>"
      ],
      "text/plain": [
       "                          skew\n",
       "delivered_time       -1.058468\n",
       "order_satisfaction    0.271000\n",
       "order_completed      -0.199536\n",
       "price_satisfaction   -0.422240\n",
       "courier_satisfaction -0.699999\n",
       "app_satisfaction     -0.957590\n",
       "happiness            -0.193659"
      ]
     },
     "execution_count": 11,
     "metadata": {},
     "output_type": "execute_result"
    }
   ],
   "source": [
    "df.agg(['skew']).T"
   ]
  },
  {
   "cell_type": "markdown",
   "metadata": {},
   "source": [
    "Based on the above distributions we can see that most of the features are not normally distributed:\n",
    "\n",
    "- order_completed and order_satisfaction look normally distributed and are fairly symmetrical.\n",
    "- price_satisfaction is skewed left, but is otherwise symmetrical and falls within the bounds we are considering for skewness.\n",
    "- delivered_time, courier_satisfaction, and app_satisfaction are all moderately skewed left amd will need to be transformed.\n",
    "\n",
    "There are slightly more happy than unhappy customers. Otherwise, this is also fairly symmetrical."
   ]
  },
  {
   "cell_type": "code",
   "execution_count": 12,
   "metadata": {},
   "outputs": [
    {
     "data": {
      "text/html": [
       "<div>\n",
       "<style scoped>\n",
       "    .dataframe tbody tr th:only-of-type {\n",
       "        vertical-align: middle;\n",
       "    }\n",
       "\n",
       "    .dataframe tbody tr th {\n",
       "        vertical-align: top;\n",
       "    }\n",
       "\n",
       "    .dataframe thead th {\n",
       "        text-align: right;\n",
       "    }\n",
       "</style>\n",
       "<table border=\"1\" class=\"dataframe\">\n",
       "  <thead>\n",
       "    <tr style=\"text-align: right;\">\n",
       "      <th></th>\n",
       "      <th>delivered_time</th>\n",
       "      <th>order_satisfaction</th>\n",
       "      <th>order_completed</th>\n",
       "      <th>price_satisfaction</th>\n",
       "      <th>courier_satisfaction</th>\n",
       "      <th>app_satisfaction</th>\n",
       "      <th>happiness</th>\n",
       "    </tr>\n",
       "  </thead>\n",
       "  <tbody>\n",
       "    <tr>\n",
       "      <th>1</th>\n",
       "      <td>4.536232</td>\n",
       "      <td>2.507246</td>\n",
       "      <td>3.449275</td>\n",
       "      <td>3.797101</td>\n",
       "      <td>3.884058</td>\n",
       "      <td>4.376812</td>\n",
       "      <td>1.0</td>\n",
       "    </tr>\n",
       "    <tr>\n",
       "      <th>0</th>\n",
       "      <td>4.087719</td>\n",
       "      <td>2.561404</td>\n",
       "      <td>3.140351</td>\n",
       "      <td>3.684211</td>\n",
       "      <td>3.368421</td>\n",
       "      <td>4.105263</td>\n",
       "      <td>0.0</td>\n",
       "    </tr>\n",
       "  </tbody>\n",
       "</table>\n",
       "</div>"
      ],
      "text/plain": [
       "   delivered_time  order_satisfaction  order_completed  price_satisfaction  \\\n",
       "1        4.536232            2.507246         3.449275            3.797101   \n",
       "0        4.087719            2.561404         3.140351            3.684211   \n",
       "\n",
       "   courier_satisfaction  app_satisfaction  happiness  \n",
       "1              3.884058          4.376812        1.0  \n",
       "0              3.368421          4.105263        0.0  "
      ]
     },
     "execution_count": 12,
     "metadata": {},
     "output_type": "execute_result"
    }
   ],
   "source": [
    "happiness_mean = pd.DataFrame(data = {1 : list(df[df.happiness == 1].describe().T['mean']), \n",
    "                                      0 : list(df[df.happiness == 0].describe().T['mean'])},\n",
    "                              index = new_name)\n",
    "happiness_mean.T"
   ]
  },
  {
   "cell_type": "markdown",
   "metadata": {},
   "source": [
    "When we break down the average rating by happy and unhappy customers, we can confirm again that order_satisfaction and order_completed seriously needs to be improved because even happy customers are rating that there orders are not correct. We can drop order_satisfaction as this won't add any value to the model in predicting customer happiness.\n",
    "\n",
    "Let's break this out for the rest of the features."
   ]
  },
  {
   "cell_type": "code",
   "execution_count": 13,
   "metadata": {
    "scrolled": false
   },
   "outputs": [
    {
     "data": {
      "image/png": "[encoded data removed]",
      "text/plain": [
       "<Figure size 1440x1440 with 6 Axes>"
      ]
     },
     "metadata": {
      "needs_background": "light"
     },
     "output_type": "display_data"
    }
   ],
   "source": [
    "data = df.copy().iloc[:, 0:6]\n",
    "\n",
    "plt.figure(figsize=(20, 20))\n",
    "\n",
    "for i in range(len(data.columns)):\n",
    "    ax = plt.subplot(int(len(data.columns) / 3), 3, i + 1)\n",
    "    arr = sns.countplot(data=df, x=data.columns[i], ax=ax, hue='happiness')\n",
    "    legend_labels, _= ax.get_legend_handles_labels()\n",
    "    _ = arr.legend(legend_labels, ['Unhappy','Happy'], bbox_to_anchor=(1,1), title='Customer Rating')\n",
    "    _ = plt.xlabel(f'{data.columns[i]} reviews')\n",
    "    _ = plt.ylabel('Count')\n",
    "_ = plt.tight_layout()\n",
    "_ = plt.suptitle(f'Happy and Unhappy Customer Ratings', y=1.02, size=20)\n",
    "_ = plt.show()"
   ]
  },
  {
   "cell_type": "markdown",
   "metadata": {},
   "source": [
    "We can see above when we break down the ratings for order_satisfaction, that even customers who are happy still rate 3 stars and below. This won't help us with our model. All other features look useful and can be included."
   ]
  },
  {
   "cell_type": "markdown",
   "metadata": {},
   "source": [
    "Let's take a look at the correlation of features to see if there are any features we can drop from our dataset."
   ]
  },
  {
   "cell_type": "code",
   "execution_count": 14,
   "metadata": {
    "scrolled": false
   },
   "outputs": [
    {
     "data": {
      "image/png": "[encoded data removed]",
      "text/plain": [
       "<Figure size 1080x720 with 2 Axes>"
      ]
     },
     "metadata": {
      "needs_background": "light"
     },
     "output_type": "display_data"
    }
   ],
   "source": [
    "plt.subplots(figsize=(15,10))\n",
    "plt.title('Correlation of Features')\n",
    "sns.heatmap(df.corr(), annot=True)\n",
    "plt.show()"
   ]
  },
  {
   "cell_type": "markdown",
   "metadata": {},
   "source": [
    "Based on the heatmap and distribution of happy and unhappy customers, we could drop order_satisfaction and price_satisfaction from our dataset. App satisfcation and courier satisfaction have a moderate correlation with delivered time which could be an issue if we choose to use a linear regression model.\n",
    "\n",
    "However, based on the breakdown of customer reviews, customers that were happy did rate price_satisfaction much higher so we will keep this in the data as it could potentially help our model."
   ]
  },
  {
   "cell_type": "markdown",
   "metadata": {},
   "source": [
    "We can see that the data is imbalanced, with most ratings at 3, 4, and 5.\n",
    "There may also be potential issues with overfitting since the dataset is so small."
   ]
  },
  {
   "cell_type": "markdown",
   "metadata": {},
   "source": [
    "# PRE-PROCESSING"
   ]
  },
  {
   "cell_type": "markdown",
   "metadata": {},
   "source": [
    "### Feature Engineering: Transformations"
   ]
  },
  {
   "cell_type": "code",
   "execution_count": 15,
   "metadata": {},
   "outputs": [],
   "source": [
    "from sklearn.model_selection import train_test_split\n",
    "from scipy.stats import boxcox"
   ]
  },
  {
   "cell_type": "markdown",
   "metadata": {},
   "source": [
    "Based on what we learned about the features and distribution, we want to transform and reduce skewness before modeling the data on the following:\n",
    "\n",
    "- delivered_time\n",
    "- price_satisfaction\n",
    "- courier_satisfaction\n",
    "- app_satisfaction\n",
    "\n",
    "We are considering scaling price satisfaction because it is close enough to being skewed and we want to see whether we can improve its correlation with happiness.\n",
    "\n",
    "We will be using the following transformations to see which best reduces skewness in our data:\n",
    "\n",
    "- log transformation\n",
    "- square root transformation\n",
    "- box-cox transformation"
   ]
  },
  {
   "cell_type": "code",
   "execution_count": 16,
   "metadata": {},
   "outputs": [],
   "source": [
    "def skewness_score(df, func):\n",
    "    \n",
    "    #create a copy of df\n",
    "    scaledf = df.copy()\n",
    "    \n",
    "    for i in df.columns:\n",
    "        if (df[i].agg(['skew'])[0] > 0.3) | (df[i].agg(['skew'])[0] < -0.3):\n",
    "            scale = func(df[i])\n",
    "            if func == boxcox:\n",
    "                scaledf[i] = scale[0]\n",
    "            else:\n",
    "                scaledf[i] = scale\n",
    "\n",
    "    # measure for skewness\n",
    "    print(scaledf.agg(['skew']).T)\n",
    "    return scaledf"
   ]
  },
  {
   "cell_type": "code",
   "execution_count": 17,
   "metadata": {},
   "outputs": [
    {
     "data": {
      "text/html": [
       "<div>\n",
       "<style scoped>\n",
       "    .dataframe tbody tr th:only-of-type {\n",
       "        vertical-align: middle;\n",
       "    }\n",
       "\n",
       "    .dataframe tbody tr th {\n",
       "        vertical-align: top;\n",
       "    }\n",
       "\n",
       "    .dataframe thead th {\n",
       "        text-align: right;\n",
       "    }\n",
       "</style>\n",
       "<table border=\"1\" class=\"dataframe\">\n",
       "  <thead>\n",
       "    <tr style=\"text-align: right;\">\n",
       "      <th></th>\n",
       "      <th>skew</th>\n",
       "    </tr>\n",
       "  </thead>\n",
       "  <tbody>\n",
       "    <tr>\n",
       "      <th>delivered_time</th>\n",
       "      <td>-1.058468</td>\n",
       "    </tr>\n",
       "    <tr>\n",
       "      <th>order_satisfaction</th>\n",
       "      <td>0.271000</td>\n",
       "    </tr>\n",
       "    <tr>\n",
       "      <th>order_completed</th>\n",
       "      <td>-0.199536</td>\n",
       "    </tr>\n",
       "    <tr>\n",
       "      <th>price_satisfaction</th>\n",
       "      <td>-0.422240</td>\n",
       "    </tr>\n",
       "    <tr>\n",
       "      <th>courier_satisfaction</th>\n",
       "      <td>-0.699999</td>\n",
       "    </tr>\n",
       "    <tr>\n",
       "      <th>app_satisfaction</th>\n",
       "      <td>-0.957590</td>\n",
       "    </tr>\n",
       "    <tr>\n",
       "      <th>happiness</th>\n",
       "      <td>-0.193659</td>\n",
       "    </tr>\n",
       "  </tbody>\n",
       "</table>\n",
       "</div>"
      ],
      "text/plain": [
       "                          skew\n",
       "delivered_time       -1.058468\n",
       "order_satisfaction    0.271000\n",
       "order_completed      -0.199536\n",
       "price_satisfaction   -0.422240\n",
       "courier_satisfaction -0.699999\n",
       "app_satisfaction     -0.957590\n",
       "happiness            -0.193659"
      ]
     },
     "execution_count": 17,
     "metadata": {},
     "output_type": "execute_result"
    }
   ],
   "source": [
    "# original skew\n",
    "df.agg(['skew']).T"
   ]
  },
  {
   "cell_type": "code",
   "execution_count": 18,
   "metadata": {},
   "outputs": [
    {
     "name": "stdout",
     "output_type": "stream",
     "text": [
      "                          skew\n",
      "delivered_time       -2.509650\n",
      "order_satisfaction    0.271000\n",
      "order_completed      -0.199536\n",
      "price_satisfaction   -1.783357\n",
      "courier_satisfaction -1.553415\n",
      "app_satisfaction     -2.373047\n",
      "happiness            -0.193659\n"
     ]
    }
   ],
   "source": [
    "# log transformation\n",
    "logdf = skewness_score(df, np.log)"
   ]
  },
  {
   "cell_type": "code",
   "execution_count": 19,
   "metadata": {},
   "outputs": [
    {
     "name": "stdout",
     "output_type": "stream",
     "text": [
      "                          skew\n",
      "delivered_time       -1.562586\n",
      "order_satisfaction    0.271000\n",
      "order_completed      -0.199536\n",
      "price_satisfaction   -0.971423\n",
      "courier_satisfaction -1.088021\n",
      "app_satisfaction     -1.470749\n",
      "happiness            -0.193659\n"
     ]
    }
   ],
   "source": [
    "# square root transformation\n",
    "sqrtdf = skewness_score(df, np.sqrt)"
   ]
  },
  {
   "cell_type": "markdown",
   "metadata": {},
   "source": [
    "Based on the following transformations so far, the log and square root transformations have only worsened the skewness. price_satisfaction was only slightly reduced under the square root transformation.\n",
    "\n",
    "Let's try Box-Cox."
   ]
  },
  {
   "cell_type": "code",
   "execution_count": 20,
   "metadata": {},
   "outputs": [
    {
     "name": "stdout",
     "output_type": "stream",
     "text": [
      "                          skew\n",
      "delivered_time       -0.381695\n",
      "order_satisfaction    0.271000\n",
      "order_completed      -0.199536\n",
      "price_satisfaction   -0.052506\n",
      "courier_satisfaction -0.274511\n",
      "app_satisfaction     -0.278770\n",
      "happiness            -0.193659\n"
     ]
    }
   ],
   "source": [
    "#box-cox transformation\n",
    "boxcoxdf = skewness_score(df, boxcox)"
   ]
  },
  {
   "cell_type": "markdown",
   "metadata": {},
   "source": [
    "Box-Cox transformation significantly reduced skewness for all left skewed data. We will be using this transformation and making this our new dataset."
   ]
  },
  {
   "cell_type": "code",
   "execution_count": 21,
   "metadata": {},
   "outputs": [
    {
     "data": {
      "text/html": [
       "<div>\n",
       "<style scoped>\n",
       "    .dataframe tbody tr th:only-of-type {\n",
       "        vertical-align: middle;\n",
       "    }\n",
       "\n",
       "    .dataframe tbody tr th {\n",
       "        vertical-align: top;\n",
       "    }\n",
       "\n",
       "    .dataframe thead th {\n",
       "        text-align: right;\n",
       "    }\n",
       "</style>\n",
       "<table border=\"1\" class=\"dataframe\">\n",
       "  <thead>\n",
       "    <tr style=\"text-align: right;\">\n",
       "      <th></th>\n",
       "      <th>delivered_time</th>\n",
       "      <th>order_satisfaction</th>\n",
       "      <th>order_completed</th>\n",
       "      <th>price_satisfaction</th>\n",
       "      <th>courier_satisfaction</th>\n",
       "      <th>app_satisfaction</th>\n",
       "      <th>happiness</th>\n",
       "    </tr>\n",
       "  </thead>\n",
       "  <tbody>\n",
       "    <tr>\n",
       "      <th>0</th>\n",
       "      <td>10.310459</td>\n",
       "      <td>3</td>\n",
       "      <td>3</td>\n",
       "      <td>4.619280</td>\n",
       "      <td>1.317663</td>\n",
       "      <td>15.062869</td>\n",
       "      <td>0</td>\n",
       "    </tr>\n",
       "    <tr>\n",
       "      <th>1</th>\n",
       "      <td>10.310459</td>\n",
       "      <td>2</td>\n",
       "      <td>3</td>\n",
       "      <td>6.704308</td>\n",
       "      <td>5.570104</td>\n",
       "      <td>6.752861</td>\n",
       "      <td>0</td>\n",
       "    </tr>\n",
       "    <tr>\n",
       "      <th>2</th>\n",
       "      <td>54.524775</td>\n",
       "      <td>3</td>\n",
       "      <td>3</td>\n",
       "      <td>2.775932</td>\n",
       "      <td>3.197320</td>\n",
       "      <td>27.741232</td>\n",
       "      <td>1</td>\n",
       "    </tr>\n",
       "    <tr>\n",
       "      <th>3</th>\n",
       "      <td>54.524775</td>\n",
       "      <td>4</td>\n",
       "      <td>3</td>\n",
       "      <td>2.775932</td>\n",
       "      <td>3.197320</td>\n",
       "      <td>27.741232</td>\n",
       "      <td>0</td>\n",
       "    </tr>\n",
       "    <tr>\n",
       "      <th>4</th>\n",
       "      <td>54.524775</td>\n",
       "      <td>4</td>\n",
       "      <td>3</td>\n",
       "      <td>2.775932</td>\n",
       "      <td>3.197320</td>\n",
       "      <td>27.741232</td>\n",
       "      <td>0</td>\n",
       "    </tr>\n",
       "  </tbody>\n",
       "</table>\n",
       "</div>"
      ],
      "text/plain": [
       "   delivered_time  order_satisfaction  order_completed  price_satisfaction  \\\n",
       "0       10.310459                   3                3            4.619280   \n",
       "1       10.310459                   2                3            6.704308   \n",
       "2       54.524775                   3                3            2.775932   \n",
       "3       54.524775                   4                3            2.775932   \n",
       "4       54.524775                   4                3            2.775932   \n",
       "\n",
       "   courier_satisfaction  app_satisfaction  happiness  \n",
       "0              1.317663         15.062869          0  \n",
       "1              5.570104          6.752861          0  \n",
       "2              3.197320         27.741232          1  \n",
       "3              3.197320         27.741232          0  \n",
       "4              3.197320         27.741232          0  "
      ]
     },
     "execution_count": 21,
     "metadata": {},
     "output_type": "execute_result"
    }
   ],
   "source": [
    "# use the box-cox transformation as our new dataset\n",
    "df = boxcoxdf\n",
    "df.head()"
   ]
  },
  {
   "cell_type": "code",
   "execution_count": 22,
   "metadata": {},
   "outputs": [
    {
     "data": {
      "image/png": "[encoded data removed]",
      "text/plain": [
       "<Figure size 1080x720 with 2 Axes>"
      ]
     },
     "metadata": {
      "needs_background": "light"
     },
     "output_type": "display_data"
    }
   ],
   "source": [
    "# compare new correlations\n",
    "plt.subplots(figsize=(15,10))\n",
    "plt.title('Correlation of Features')\n",
    "sns.heatmap(df.corr(), annot=True)\n",
    "plt.show()"
   ]
  },
  {
   "cell_type": "markdown",
   "metadata": {},
   "source": [
    "price_satisfaction has slightly increased in correlation to happiness. For now we will look at 3 different datasets to see which one will perform best with the models:\n",
    "\n",
    "- __df1__: dataset that includes all features except order_satisfaction and price_satisfaction\n",
    "- __df2__: dataset that includes all features except order_satisfaction\n",
    "- __df3__: dataset that includes all features\n",
    "\n",
    "Because we've transformed the data and each rating is represented as a categorical variable instead of an integer, we need to create dummy variables for all features. We can exclude the target variable happiness."
   ]
  },
  {
   "cell_type": "markdown",
   "metadata": {},
   "source": [
    "### Create Dummy Variables"
   ]
  },
  {
   "cell_type": "code",
   "execution_count": 23,
   "metadata": {},
   "outputs": [],
   "source": [
    "# drop order_satisfaction and price_satisfaction\n",
    "df1 = df[['happiness','delivered_time', 'order_completed','courier_satisfaction', 'app_satisfaction']]\n",
    "\n",
    "df1 = pd.get_dummies(df1, columns = ['delivered_time', 'order_completed','courier_satisfaction', \n",
    "                                     'app_satisfaction'], drop_first = False)\n",
    "\n",
    "#drop order_satisfaction\n",
    "df2 = df[['happiness','delivered_time', 'order_completed','courier_satisfaction', 'app_satisfaction', \n",
    "            'price_satisfaction']]\n",
    "\n",
    "df2 = pd.get_dummies(df2, columns = ['delivered_time', 'order_completed','courier_satisfaction', \n",
    "                                      'app_satisfaction', 'price_satisfaction'], drop_first = False)\n",
    "#use all features\n",
    "df3 = df[['happiness','delivered_time', 'order_satisfaction', 'order_completed', 'price_satisfaction', \n",
    "            'courier_satisfaction', 'app_satisfaction']]\n",
    "\n",
    "df3 = pd.get_dummies(df3, columns = ['delivered_time', 'order_satisfaction', 'order_completed', 'price_satisfaction', \n",
    "                                     'courier_satisfaction', 'app_satisfaction'], drop_first = False)"
   ]
  },
  {
   "cell_type": "markdown",
   "metadata": {},
   "source": [
    "### Train Test Split"
   ]
  },
  {
   "cell_type": "code",
   "execution_count": 24,
   "metadata": {},
   "outputs": [],
   "source": [
    "def create_df(X, y):\n",
    "    data = pd.DataFrame(X)\n",
    "    data['y'] = y\n",
    "    data.reset_index(drop=True, inplace=True)\n",
    "    return data"
   ]
  },
  {
   "cell_type": "code",
   "execution_count": 25,
   "metadata": {},
   "outputs": [],
   "source": [
    "# divide each dataset into a train and test set and recombine X_train and y_train into our new training dataset\n",
    "\n",
    "#df1\n",
    "X1 = df1.drop(columns='happiness', axis=1)\n",
    "y1 = df1.happiness\n",
    "\n",
    "X1_train, X1_test, y1_train, y1_test = train_test_split(X1, y1, test_size = 0.2, random_state = 42)\n",
    "\n",
    "df1 = create_df(X1_train, y1_train)\n",
    "\n",
    "# df2\n",
    "X2 = df2.drop(columns='happiness', axis=1)\n",
    "y2 = df2.happiness\n",
    "\n",
    "X2_train, X2_test, y2_train, y2_test = train_test_split(X2, y2, test_size = 0.2, random_state = 42)\n",
    "\n",
    "df2 = create_df(X2_train, y2_train)\n",
    "\n",
    "# df3\n",
    "X3 = df3.drop(columns='happiness', axis=1)\n",
    "y3 = df3.happiness\n",
    "\n",
    "X3_train, X3_test, y3_train, y3_test = train_test_split(X3, y3, test_size = 0.2, random_state = 42)\n",
    "\n",
    "df3 = create_df(X3_train, y3_train)"
   ]
  },
  {
   "cell_type": "markdown",
   "metadata": {},
   "source": [
    "### Model Review"
   ]
  },
  {
   "cell_type": "markdown",
   "metadata": {},
   "source": [
    "Before we start choosing our models, we will use pycaret's automl to determine our top 3 performing models optimized for accuracy."
   ]
  },
  {
   "cell_type": "code",
   "execution_count": 26,
   "metadata": {},
   "outputs": [
    {
     "name": "stderr",
     "output_type": "stream",
     "text": [
      "C:\\Users\\Justine\\anaconda3\\lib\\site-packages\\dask\\dataframe\\utils.py:13: FutureWarning: pandas.util.testing is deprecated. Use the functions in the public API at pandas.testing instead.\n",
      "  import pandas.util.testing as tm\n",
      "C:\\Users\\Justine\\anaconda3\\lib\\site-packages\\distributed\\config.py:63: YAMLLoadWarning: calling yaml.load() without Loader=... is deprecated, as the default Loader is unsafe. Please read https://msg.pyyaml.org/load for full details.\n",
      "  config.update(yaml.load(text) or {})\n"
     ]
    }
   ],
   "source": [
    "from pycaret.classification import *"
   ]
  },
  {
   "cell_type": "code",
   "execution_count": 27,
   "metadata": {},
   "outputs": [],
   "source": [
    "def get_best_model(data):\n",
    "    \n",
    "    clf1 = setup(data, target = data.columns[-1], silent = True, verbose = False)\n",
    "    #compare the models\n",
    "    top5 = compare_models(n_select = 3) \n",
    "    #find the best model\n",
    "    best = automl(optimize = 'Accuracy')\n",
    "    \n",
    "    print(best)\n",
    "    \n",
    "    return None"
   ]
  },
  {
   "cell_type": "code",
   "execution_count": 28,
   "metadata": {
    "scrolled": false
   },
   "outputs": [
    {
     "data": {
      "text/html": [
       "<style  type=\"text/css\" >\n",
       "    #T_82cd2cfc_7b36_11ec_b661_b46bfc7acf46 th {\n",
       "          text-align: left;\n",
       "    }#T_82cd2cfc_7b36_11ec_b661_b46bfc7acf46row0_col0,#T_82cd2cfc_7b36_11ec_b661_b46bfc7acf46row0_col2,#T_82cd2cfc_7b36_11ec_b661_b46bfc7acf46row0_col3,#T_82cd2cfc_7b36_11ec_b661_b46bfc7acf46row0_col4,#T_82cd2cfc_7b36_11ec_b661_b46bfc7acf46row0_col6,#T_82cd2cfc_7b36_11ec_b661_b46bfc7acf46row0_col7,#T_82cd2cfc_7b36_11ec_b661_b46bfc7acf46row1_col0,#T_82cd2cfc_7b36_11ec_b661_b46bfc7acf46row1_col1,#T_82cd2cfc_7b36_11ec_b661_b46bfc7acf46row1_col2,#T_82cd2cfc_7b36_11ec_b661_b46bfc7acf46row1_col3,#T_82cd2cfc_7b36_11ec_b661_b46bfc7acf46row1_col4,#T_82cd2cfc_7b36_11ec_b661_b46bfc7acf46row1_col5,#T_82cd2cfc_7b36_11ec_b661_b46bfc7acf46row2_col0,#T_82cd2cfc_7b36_11ec_b661_b46bfc7acf46row2_col1,#T_82cd2cfc_7b36_11ec_b661_b46bfc7acf46row2_col3,#T_82cd2cfc_7b36_11ec_b661_b46bfc7acf46row2_col4,#T_82cd2cfc_7b36_11ec_b661_b46bfc7acf46row2_col5,#T_82cd2cfc_7b36_11ec_b661_b46bfc7acf46row2_col6,#T_82cd2cfc_7b36_11ec_b661_b46bfc7acf46row2_col7,#T_82cd2cfc_7b36_11ec_b661_b46bfc7acf46row3_col0,#T_82cd2cfc_7b36_11ec_b661_b46bfc7acf46row3_col1,#T_82cd2cfc_7b36_11ec_b661_b46bfc7acf46row3_col2,#T_82cd2cfc_7b36_11ec_b661_b46bfc7acf46row3_col3,#T_82cd2cfc_7b36_11ec_b661_b46bfc7acf46row3_col4,#T_82cd2cfc_7b36_11ec_b661_b46bfc7acf46row3_col5,#T_82cd2cfc_7b36_11ec_b661_b46bfc7acf46row3_col6,#T_82cd2cfc_7b36_11ec_b661_b46bfc7acf46row3_col7,#T_82cd2cfc_7b36_11ec_b661_b46bfc7acf46row4_col0,#T_82cd2cfc_7b36_11ec_b661_b46bfc7acf46row4_col1,#T_82cd2cfc_7b36_11ec_b661_b46bfc7acf46row4_col2,#T_82cd2cfc_7b36_11ec_b661_b46bfc7acf46row4_col3,#T_82cd2cfc_7b36_11ec_b661_b46bfc7acf46row4_col4,#T_82cd2cfc_7b36_11ec_b661_b46bfc7acf46row4_col5,#T_82cd2cfc_7b36_11ec_b661_b46bfc7acf46row4_col6,#T_82cd2cfc_7b36_11ec_b661_b46bfc7acf46row4_col7,#T_82cd2cfc_7b36_11ec_b661_b46bfc7acf46row5_col0,#T_82cd2cfc_7b36_11ec_b661_b46bfc7acf46row5_col1,#T_82cd2cfc_7b36_11ec_b661_b46bfc7acf46row5_col2,#T_82cd2cfc_7b36_11ec_b661_b46bfc7acf46row5_col3,#T_82cd2cfc_7b36_11ec_b661_b46bfc7acf46row5_col4,#T_82cd2cfc_7b36_11ec_b661_b46bfc7acf46row5_col5,#T_82cd2cfc_7b36_11ec_b661_b46bfc7acf46row5_col6,#T_82cd2cfc_7b36_11ec_b661_b46bfc7acf46row5_col7,#T_82cd2cfc_7b36_11ec_b661_b46bfc7acf46row6_col0,#T_82cd2cfc_7b36_11ec_b661_b46bfc7acf46row6_col1,#T_82cd2cfc_7b36_11ec_b661_b46bfc7acf46row6_col2,#T_82cd2cfc_7b36_11ec_b661_b46bfc7acf46row6_col3,#T_82cd2cfc_7b36_11ec_b661_b46bfc7acf46row6_col4,#T_82cd2cfc_7b36_11ec_b661_b46bfc7acf46row6_col5,#T_82cd2cfc_7b36_11ec_b661_b46bfc7acf46row6_col6,#T_82cd2cfc_7b36_11ec_b661_b46bfc7acf46row6_col7,#T_82cd2cfc_7b36_11ec_b661_b46bfc7acf46row7_col0,#T_82cd2cfc_7b36_11ec_b661_b46bfc7acf46row7_col1,#T_82cd2cfc_7b36_11ec_b661_b46bfc7acf46row7_col2,#T_82cd2cfc_7b36_11ec_b661_b46bfc7acf46row7_col3,#T_82cd2cfc_7b36_11ec_b661_b46bfc7acf46row7_col5,#T_82cd2cfc_7b36_11ec_b661_b46bfc7acf46row7_col6,#T_82cd2cfc_7b36_11ec_b661_b46bfc7acf46row7_col7,#T_82cd2cfc_7b36_11ec_b661_b46bfc7acf46row8_col0,#T_82cd2cfc_7b36_11ec_b661_b46bfc7acf46row8_col1,#T_82cd2cfc_7b36_11ec_b661_b46bfc7acf46row8_col2,#T_82cd2cfc_7b36_11ec_b661_b46bfc7acf46row8_col3,#T_82cd2cfc_7b36_11ec_b661_b46bfc7acf46row8_col4,#T_82cd2cfc_7b36_11ec_b661_b46bfc7acf46row8_col5,#T_82cd2cfc_7b36_11ec_b661_b46bfc7acf46row8_col6,#T_82cd2cfc_7b36_11ec_b661_b46bfc7acf46row8_col7,#T_82cd2cfc_7b36_11ec_b661_b46bfc7acf46row9_col0,#T_82cd2cfc_7b36_11ec_b661_b46bfc7acf46row9_col1,#T_82cd2cfc_7b36_11ec_b661_b46bfc7acf46row9_col2,#T_82cd2cfc_7b36_11ec_b661_b46bfc7acf46row9_col3,#T_82cd2cfc_7b36_11ec_b661_b46bfc7acf46row9_col4,#T_82cd2cfc_7b36_11ec_b661_b46bfc7acf46row9_col5,#T_82cd2cfc_7b36_11ec_b661_b46bfc7acf46row9_col6,#T_82cd2cfc_7b36_11ec_b661_b46bfc7acf46row9_col7,#T_82cd2cfc_7b36_11ec_b661_b46bfc7acf46row10_col0,#T_82cd2cfc_7b36_11ec_b661_b46bfc7acf46row10_col1,#T_82cd2cfc_7b36_11ec_b661_b46bfc7acf46row10_col2,#T_82cd2cfc_7b36_11ec_b661_b46bfc7acf46row10_col3,#T_82cd2cfc_7b36_11ec_b661_b46bfc7acf46row10_col4,#T_82cd2cfc_7b36_11ec_b661_b46bfc7acf46row10_col5,#T_82cd2cfc_7b36_11ec_b661_b46bfc7acf46row10_col6,#T_82cd2cfc_7b36_11ec_b661_b46bfc7acf46row10_col7,#T_82cd2cfc_7b36_11ec_b661_b46bfc7acf46row11_col0,#T_82cd2cfc_7b36_11ec_b661_b46bfc7acf46row11_col1,#T_82cd2cfc_7b36_11ec_b661_b46bfc7acf46row11_col2,#T_82cd2cfc_7b36_11ec_b661_b46bfc7acf46row11_col4,#T_82cd2cfc_7b36_11ec_b661_b46bfc7acf46row11_col5,#T_82cd2cfc_7b36_11ec_b661_b46bfc7acf46row11_col6,#T_82cd2cfc_7b36_11ec_b661_b46bfc7acf46row11_col7,#T_82cd2cfc_7b36_11ec_b661_b46bfc7acf46row12_col0,#T_82cd2cfc_7b36_11ec_b661_b46bfc7acf46row12_col1,#T_82cd2cfc_7b36_11ec_b661_b46bfc7acf46row12_col2,#T_82cd2cfc_7b36_11ec_b661_b46bfc7acf46row12_col3,#T_82cd2cfc_7b36_11ec_b661_b46bfc7acf46row12_col4,#T_82cd2cfc_7b36_11ec_b661_b46bfc7acf46row12_col5,#T_82cd2cfc_7b36_11ec_b661_b46bfc7acf46row12_col6,#T_82cd2cfc_7b36_11ec_b661_b46bfc7acf46row12_col7,#T_82cd2cfc_7b36_11ec_b661_b46bfc7acf46row13_col0,#T_82cd2cfc_7b36_11ec_b661_b46bfc7acf46row13_col1,#T_82cd2cfc_7b36_11ec_b661_b46bfc7acf46row13_col2,#T_82cd2cfc_7b36_11ec_b661_b46bfc7acf46row13_col3,#T_82cd2cfc_7b36_11ec_b661_b46bfc7acf46row13_col4,#T_82cd2cfc_7b36_11ec_b661_b46bfc7acf46row13_col5,#T_82cd2cfc_7b36_11ec_b661_b46bfc7acf46row13_col6,#T_82cd2cfc_7b36_11ec_b661_b46bfc7acf46row13_col7,#T_82cd2cfc_7b36_11ec_b661_b46bfc7acf46row14_col0,#T_82cd2cfc_7b36_11ec_b661_b46bfc7acf46row14_col1,#T_82cd2cfc_7b36_11ec_b661_b46bfc7acf46row14_col2,#T_82cd2cfc_7b36_11ec_b661_b46bfc7acf46row14_col3,#T_82cd2cfc_7b36_11ec_b661_b46bfc7acf46row14_col4,#T_82cd2cfc_7b36_11ec_b661_b46bfc7acf46row14_col5,#T_82cd2cfc_7b36_11ec_b661_b46bfc7acf46row14_col6,#T_82cd2cfc_7b36_11ec_b661_b46bfc7acf46row14_col7{\n",
       "            text-align:  left;\n",
       "            text-align:  left;\n",
       "        }#T_82cd2cfc_7b36_11ec_b661_b46bfc7acf46row0_col1,#T_82cd2cfc_7b36_11ec_b661_b46bfc7acf46row0_col5,#T_82cd2cfc_7b36_11ec_b661_b46bfc7acf46row1_col6,#T_82cd2cfc_7b36_11ec_b661_b46bfc7acf46row1_col7,#T_82cd2cfc_7b36_11ec_b661_b46bfc7acf46row2_col2,#T_82cd2cfc_7b36_11ec_b661_b46bfc7acf46row7_col4,#T_82cd2cfc_7b36_11ec_b661_b46bfc7acf46row11_col3{\n",
       "            text-align:  left;\n",
       "            text-align:  left;\n",
       "            background-color:  yellow;\n",
       "        }#T_82cd2cfc_7b36_11ec_b661_b46bfc7acf46row0_col8,#T_82cd2cfc_7b36_11ec_b661_b46bfc7acf46row1_col8,#T_82cd2cfc_7b36_11ec_b661_b46bfc7acf46row2_col8,#T_82cd2cfc_7b36_11ec_b661_b46bfc7acf46row3_col8,#T_82cd2cfc_7b36_11ec_b661_b46bfc7acf46row4_col8,#T_82cd2cfc_7b36_11ec_b661_b46bfc7acf46row5_col8,#T_82cd2cfc_7b36_11ec_b661_b46bfc7acf46row6_col8,#T_82cd2cfc_7b36_11ec_b661_b46bfc7acf46row7_col8,#T_82cd2cfc_7b36_11ec_b661_b46bfc7acf46row9_col8,#T_82cd2cfc_7b36_11ec_b661_b46bfc7acf46row10_col8,#T_82cd2cfc_7b36_11ec_b661_b46bfc7acf46row11_col8,#T_82cd2cfc_7b36_11ec_b661_b46bfc7acf46row12_col8,#T_82cd2cfc_7b36_11ec_b661_b46bfc7acf46row13_col8,#T_82cd2cfc_7b36_11ec_b661_b46bfc7acf46row14_col8{\n",
       "            text-align:  left;\n",
       "            text-align:  left;\n",
       "            background-color:  lightgrey;\n",
       "        }#T_82cd2cfc_7b36_11ec_b661_b46bfc7acf46row8_col8{\n",
       "            text-align:  left;\n",
       "            text-align:  left;\n",
       "            background-color:  yellow;\n",
       "            background-color:  lightgrey;\n",
       "        }</style><table id=\"T_82cd2cfc_7b36_11ec_b661_b46bfc7acf46\" ><thead>    <tr>        <th class=\"blank level0\" ></th>        <th class=\"col_heading level0 col0\" >Model</th>        <th class=\"col_heading level0 col1\" >Accuracy</th>        <th class=\"col_heading level0 col2\" >AUC</th>        <th class=\"col_heading level0 col3\" >Recall</th>        <th class=\"col_heading level0 col4\" >Prec.</th>        <th class=\"col_heading level0 col5\" >F1</th>        <th class=\"col_heading level0 col6\" >Kappa</th>        <th class=\"col_heading level0 col7\" >MCC</th>        <th class=\"col_heading level0 col8\" >TT (Sec)</th>    </tr></thead><tbody>\n",
       "                <tr>\n",
       "                        <th id=\"T_82cd2cfc_7b36_11ec_b661_b46bfc7acf46level0_row0\" class=\"row_heading level0 row0\" >lightgbm</th>\n",
       "                        <td id=\"T_82cd2cfc_7b36_11ec_b661_b46bfc7acf46row0_col0\" class=\"data row0 col0\" >Light Gradient Boosting Machine</td>\n",
       "                        <td id=\"T_82cd2cfc_7b36_11ec_b661_b46bfc7acf46row0_col1\" class=\"data row0 col1\" >0.7119</td>\n",
       "                        <td id=\"T_82cd2cfc_7b36_11ec_b661_b46bfc7acf46row0_col2\" class=\"data row0 col2\" >0.5746</td>\n",
       "                        <td id=\"T_82cd2cfc_7b36_11ec_b661_b46bfc7acf46row0_col3\" class=\"data row0 col3\" >0.9500</td>\n",
       "                        <td id=\"T_82cd2cfc_7b36_11ec_b661_b46bfc7acf46row0_col4\" class=\"data row0 col4\" >0.6950</td>\n",
       "                        <td id=\"T_82cd2cfc_7b36_11ec_b661_b46bfc7acf46row0_col5\" class=\"data row0 col5\" >0.7988</td>\n",
       "                        <td id=\"T_82cd2cfc_7b36_11ec_b661_b46bfc7acf46row0_col6\" class=\"data row0 col6\" >0.2862</td>\n",
       "                        <td id=\"T_82cd2cfc_7b36_11ec_b661_b46bfc7acf46row0_col7\" class=\"data row0 col7\" >0.3285</td>\n",
       "                        <td id=\"T_82cd2cfc_7b36_11ec_b661_b46bfc7acf46row0_col8\" class=\"data row0 col8\" >0.0840</td>\n",
       "            </tr>\n",
       "            <tr>\n",
       "                        <th id=\"T_82cd2cfc_7b36_11ec_b661_b46bfc7acf46level0_row1\" class=\"row_heading level0 row1\" >catboost</th>\n",
       "                        <td id=\"T_82cd2cfc_7b36_11ec_b661_b46bfc7acf46row1_col0\" class=\"data row1 col0\" >CatBoost Classifier</td>\n",
       "                        <td id=\"T_82cd2cfc_7b36_11ec_b661_b46bfc7acf46row1_col1\" class=\"data row1 col1\" >0.7095</td>\n",
       "                        <td id=\"T_82cd2cfc_7b36_11ec_b661_b46bfc7acf46row1_col2\" class=\"data row1 col2\" >0.6754</td>\n",
       "                        <td id=\"T_82cd2cfc_7b36_11ec_b661_b46bfc7acf46row1_col3\" class=\"data row1 col3\" >0.8650</td>\n",
       "                        <td id=\"T_82cd2cfc_7b36_11ec_b661_b46bfc7acf46row1_col4\" class=\"data row1 col4\" >0.7367</td>\n",
       "                        <td id=\"T_82cd2cfc_7b36_11ec_b661_b46bfc7acf46row1_col5\" class=\"data row1 col5\" >0.7862</td>\n",
       "                        <td id=\"T_82cd2cfc_7b36_11ec_b661_b46bfc7acf46row1_col6\" class=\"data row1 col6\" >0.3234</td>\n",
       "                        <td id=\"T_82cd2cfc_7b36_11ec_b661_b46bfc7acf46row1_col7\" class=\"data row1 col7\" >0.3633</td>\n",
       "                        <td id=\"T_82cd2cfc_7b36_11ec_b661_b46bfc7acf46row1_col8\" class=\"data row1 col8\" >0.2280</td>\n",
       "            </tr>\n",
       "            <tr>\n",
       "                        <th id=\"T_82cd2cfc_7b36_11ec_b661_b46bfc7acf46level0_row2\" class=\"row_heading level0 row2\" >rf</th>\n",
       "                        <td id=\"T_82cd2cfc_7b36_11ec_b661_b46bfc7acf46row2_col0\" class=\"data row2 col0\" >Random Forest Classifier</td>\n",
       "                        <td id=\"T_82cd2cfc_7b36_11ec_b661_b46bfc7acf46row2_col1\" class=\"data row2 col1\" >0.6810</td>\n",
       "                        <td id=\"T_82cd2cfc_7b36_11ec_b661_b46bfc7acf46row2_col2\" class=\"data row2 col2\" >0.6862</td>\n",
       "                        <td id=\"T_82cd2cfc_7b36_11ec_b661_b46bfc7acf46row2_col3\" class=\"data row2 col3\" >0.8150</td>\n",
       "                        <td id=\"T_82cd2cfc_7b36_11ec_b661_b46bfc7acf46row2_col4\" class=\"data row2 col4\" >0.7250</td>\n",
       "                        <td id=\"T_82cd2cfc_7b36_11ec_b661_b46bfc7acf46row2_col5\" class=\"data row2 col5\" >0.7590</td>\n",
       "                        <td id=\"T_82cd2cfc_7b36_11ec_b661_b46bfc7acf46row2_col6\" class=\"data row2 col6\" >0.2678</td>\n",
       "                        <td id=\"T_82cd2cfc_7b36_11ec_b661_b46bfc7acf46row2_col7\" class=\"data row2 col7\" >0.2940</td>\n",
       "                        <td id=\"T_82cd2cfc_7b36_11ec_b661_b46bfc7acf46row2_col8\" class=\"data row2 col8\" >0.0840</td>\n",
       "            </tr>\n",
       "            <tr>\n",
       "                        <th id=\"T_82cd2cfc_7b36_11ec_b661_b46bfc7acf46level0_row3\" class=\"row_heading level0 row3\" >lr</th>\n",
       "                        <td id=\"T_82cd2cfc_7b36_11ec_b661_b46bfc7acf46row3_col0\" class=\"data row3 col0\" >Logistic Regression</td>\n",
       "                        <td id=\"T_82cd2cfc_7b36_11ec_b661_b46bfc7acf46row3_col1\" class=\"data row3 col1\" >0.6690</td>\n",
       "                        <td id=\"T_82cd2cfc_7b36_11ec_b661_b46bfc7acf46row3_col2\" class=\"data row3 col2\" >0.6171</td>\n",
       "                        <td id=\"T_82cd2cfc_7b36_11ec_b661_b46bfc7acf46row3_col3\" class=\"data row3 col3\" >0.8800</td>\n",
       "                        <td id=\"T_82cd2cfc_7b36_11ec_b661_b46bfc7acf46row3_col4\" class=\"data row3 col4\" >0.6748</td>\n",
       "                        <td id=\"T_82cd2cfc_7b36_11ec_b661_b46bfc7acf46row3_col5\" class=\"data row3 col5\" >0.7576</td>\n",
       "                        <td id=\"T_82cd2cfc_7b36_11ec_b661_b46bfc7acf46row3_col6\" class=\"data row3 col6\" >0.2097</td>\n",
       "                        <td id=\"T_82cd2cfc_7b36_11ec_b661_b46bfc7acf46row3_col7\" class=\"data row3 col7\" >0.2423</td>\n",
       "                        <td id=\"T_82cd2cfc_7b36_11ec_b661_b46bfc7acf46row3_col8\" class=\"data row3 col8\" >0.7120</td>\n",
       "            </tr>\n",
       "            <tr>\n",
       "                        <th id=\"T_82cd2cfc_7b36_11ec_b661_b46bfc7acf46level0_row4\" class=\"row_heading level0 row4\" >knn</th>\n",
       "                        <td id=\"T_82cd2cfc_7b36_11ec_b661_b46bfc7acf46row4_col0\" class=\"data row4 col0\" >K Neighbors Classifier</td>\n",
       "                        <td id=\"T_82cd2cfc_7b36_11ec_b661_b46bfc7acf46row4_col1\" class=\"data row4 col1\" >0.6690</td>\n",
       "                        <td id=\"T_82cd2cfc_7b36_11ec_b661_b46bfc7acf46row4_col2\" class=\"data row4 col2\" >0.6442</td>\n",
       "                        <td id=\"T_82cd2cfc_7b36_11ec_b661_b46bfc7acf46row4_col3\" class=\"data row4 col3\" >0.8600</td>\n",
       "                        <td id=\"T_82cd2cfc_7b36_11ec_b661_b46bfc7acf46row4_col4\" class=\"data row4 col4\" >0.6933</td>\n",
       "                        <td id=\"T_82cd2cfc_7b36_11ec_b661_b46bfc7acf46row4_col5\" class=\"data row4 col5\" >0.7601</td>\n",
       "                        <td id=\"T_82cd2cfc_7b36_11ec_b661_b46bfc7acf46row4_col6\" class=\"data row4 col6\" >0.2173</td>\n",
       "                        <td id=\"T_82cd2cfc_7b36_11ec_b661_b46bfc7acf46row4_col7\" class=\"data row4 col7\" >0.2554</td>\n",
       "                        <td id=\"T_82cd2cfc_7b36_11ec_b661_b46bfc7acf46row4_col8\" class=\"data row4 col8\" >0.0120</td>\n",
       "            </tr>\n",
       "            <tr>\n",
       "                        <th id=\"T_82cd2cfc_7b36_11ec_b661_b46bfc7acf46level0_row5\" class=\"row_heading level0 row5\" >gbc</th>\n",
       "                        <td id=\"T_82cd2cfc_7b36_11ec_b661_b46bfc7acf46row5_col0\" class=\"data row5 col0\" >Gradient Boosting Classifier</td>\n",
       "                        <td id=\"T_82cd2cfc_7b36_11ec_b661_b46bfc7acf46row5_col1\" class=\"data row5 col1\" >0.6667</td>\n",
       "                        <td id=\"T_82cd2cfc_7b36_11ec_b661_b46bfc7acf46row5_col2\" class=\"data row5 col2\" >0.6629</td>\n",
       "                        <td id=\"T_82cd2cfc_7b36_11ec_b661_b46bfc7acf46row5_col3\" class=\"data row5 col3\" >0.7500</td>\n",
       "                        <td id=\"T_82cd2cfc_7b36_11ec_b661_b46bfc7acf46row5_col4\" class=\"data row5 col4\" >0.7433</td>\n",
       "                        <td id=\"T_82cd2cfc_7b36_11ec_b661_b46bfc7acf46row5_col5\" class=\"data row5 col5\" >0.7263</td>\n",
       "                        <td id=\"T_82cd2cfc_7b36_11ec_b661_b46bfc7acf46row5_col6\" class=\"data row5 col6\" >0.2949</td>\n",
       "                        <td id=\"T_82cd2cfc_7b36_11ec_b661_b46bfc7acf46row5_col7\" class=\"data row5 col7\" >0.3328</td>\n",
       "                        <td id=\"T_82cd2cfc_7b36_11ec_b661_b46bfc7acf46row5_col8\" class=\"data row5 col8\" >0.0220</td>\n",
       "            </tr>\n",
       "            <tr>\n",
       "                        <th id=\"T_82cd2cfc_7b36_11ec_b661_b46bfc7acf46level0_row6\" class=\"row_heading level0 row6\" >et</th>\n",
       "                        <td id=\"T_82cd2cfc_7b36_11ec_b661_b46bfc7acf46row6_col0\" class=\"data row6 col0\" >Extra Trees Classifier</td>\n",
       "                        <td id=\"T_82cd2cfc_7b36_11ec_b661_b46bfc7acf46row6_col1\" class=\"data row6 col1\" >0.6667</td>\n",
       "                        <td id=\"T_82cd2cfc_7b36_11ec_b661_b46bfc7acf46row6_col2\" class=\"data row6 col2\" >0.6550</td>\n",
       "                        <td id=\"T_82cd2cfc_7b36_11ec_b661_b46bfc7acf46row6_col3\" class=\"data row6 col3\" >0.7900</td>\n",
       "                        <td id=\"T_82cd2cfc_7b36_11ec_b661_b46bfc7acf46row6_col4\" class=\"data row6 col4\" >0.7150</td>\n",
       "                        <td id=\"T_82cd2cfc_7b36_11ec_b661_b46bfc7acf46row6_col5\" class=\"data row6 col5\" >0.7423</td>\n",
       "                        <td id=\"T_82cd2cfc_7b36_11ec_b661_b46bfc7acf46row6_col6\" class=\"data row6 col6\" >0.2424</td>\n",
       "                        <td id=\"T_82cd2cfc_7b36_11ec_b661_b46bfc7acf46row6_col7\" class=\"data row6 col7\" >0.2682</td>\n",
       "                        <td id=\"T_82cd2cfc_7b36_11ec_b661_b46bfc7acf46row6_col8\" class=\"data row6 col8\" >0.0710</td>\n",
       "            </tr>\n",
       "            <tr>\n",
       "                        <th id=\"T_82cd2cfc_7b36_11ec_b661_b46bfc7acf46level0_row7\" class=\"row_heading level0 row7\" >dt</th>\n",
       "                        <td id=\"T_82cd2cfc_7b36_11ec_b661_b46bfc7acf46row7_col0\" class=\"data row7 col0\" >Decision Tree Classifier</td>\n",
       "                        <td id=\"T_82cd2cfc_7b36_11ec_b661_b46bfc7acf46row7_col1\" class=\"data row7 col1\" >0.6524</td>\n",
       "                        <td id=\"T_82cd2cfc_7b36_11ec_b661_b46bfc7acf46row7_col2\" class=\"data row7 col2\" >0.6483</td>\n",
       "                        <td id=\"T_82cd2cfc_7b36_11ec_b661_b46bfc7acf46row7_col3\" class=\"data row7 col3\" >0.7150</td>\n",
       "                        <td id=\"T_82cd2cfc_7b36_11ec_b661_b46bfc7acf46row7_col4\" class=\"data row7 col4\" >0.7483</td>\n",
       "                        <td id=\"T_82cd2cfc_7b36_11ec_b661_b46bfc7acf46row7_col5\" class=\"data row7 col5\" >0.6966</td>\n",
       "                        <td id=\"T_82cd2cfc_7b36_11ec_b661_b46bfc7acf46row7_col6\" class=\"data row7 col6\" >0.2300</td>\n",
       "                        <td id=\"T_82cd2cfc_7b36_11ec_b661_b46bfc7acf46row7_col7\" class=\"data row7 col7\" >0.2702</td>\n",
       "                        <td id=\"T_82cd2cfc_7b36_11ec_b661_b46bfc7acf46row7_col8\" class=\"data row7 col8\" >0.0060</td>\n",
       "            </tr>\n",
       "            <tr>\n",
       "                        <th id=\"T_82cd2cfc_7b36_11ec_b661_b46bfc7acf46level0_row8\" class=\"row_heading level0 row8\" >ridge</th>\n",
       "                        <td id=\"T_82cd2cfc_7b36_11ec_b661_b46bfc7acf46row8_col0\" class=\"data row8 col0\" >Ridge Classifier</td>\n",
       "                        <td id=\"T_82cd2cfc_7b36_11ec_b661_b46bfc7acf46row8_col1\" class=\"data row8 col1\" >0.6405</td>\n",
       "                        <td id=\"T_82cd2cfc_7b36_11ec_b661_b46bfc7acf46row8_col2\" class=\"data row8 col2\" >0.0000</td>\n",
       "                        <td id=\"T_82cd2cfc_7b36_11ec_b661_b46bfc7acf46row8_col3\" class=\"data row8 col3\" >0.8350</td>\n",
       "                        <td id=\"T_82cd2cfc_7b36_11ec_b661_b46bfc7acf46row8_col4\" class=\"data row8 col4\" >0.6650</td>\n",
       "                        <td id=\"T_82cd2cfc_7b36_11ec_b661_b46bfc7acf46row8_col5\" class=\"data row8 col5\" >0.7332</td>\n",
       "                        <td id=\"T_82cd2cfc_7b36_11ec_b661_b46bfc7acf46row8_col6\" class=\"data row8 col6\" >0.1583</td>\n",
       "                        <td id=\"T_82cd2cfc_7b36_11ec_b661_b46bfc7acf46row8_col7\" class=\"data row8 col7\" >0.1851</td>\n",
       "                        <td id=\"T_82cd2cfc_7b36_11ec_b661_b46bfc7acf46row8_col8\" class=\"data row8 col8\" >0.0050</td>\n",
       "            </tr>\n",
       "            <tr>\n",
       "                        <th id=\"T_82cd2cfc_7b36_11ec_b661_b46bfc7acf46level0_row9\" class=\"row_heading level0 row9\" >lda</th>\n",
       "                        <td id=\"T_82cd2cfc_7b36_11ec_b661_b46bfc7acf46row9_col0\" class=\"data row9 col0\" >Linear Discriminant Analysis</td>\n",
       "                        <td id=\"T_82cd2cfc_7b36_11ec_b661_b46bfc7acf46row9_col1\" class=\"data row9 col1\" >0.6262</td>\n",
       "                        <td id=\"T_82cd2cfc_7b36_11ec_b661_b46bfc7acf46row9_col2\" class=\"data row9 col2\" >0.6304</td>\n",
       "                        <td id=\"T_82cd2cfc_7b36_11ec_b661_b46bfc7acf46row9_col3\" class=\"data row9 col3\" >0.8100</td>\n",
       "                        <td id=\"T_82cd2cfc_7b36_11ec_b661_b46bfc7acf46row9_col4\" class=\"data row9 col4\" >0.6583</td>\n",
       "                        <td id=\"T_82cd2cfc_7b36_11ec_b661_b46bfc7acf46row9_col5\" class=\"data row9 col5\" >0.7198</td>\n",
       "                        <td id=\"T_82cd2cfc_7b36_11ec_b661_b46bfc7acf46row9_col6\" class=\"data row9 col6\" >0.1306</td>\n",
       "                        <td id=\"T_82cd2cfc_7b36_11ec_b661_b46bfc7acf46row9_col7\" class=\"data row9 col7\" >0.1471</td>\n",
       "                        <td id=\"T_82cd2cfc_7b36_11ec_b661_b46bfc7acf46row9_col8\" class=\"data row9 col8\" >0.0070</td>\n",
       "            </tr>\n",
       "            <tr>\n",
       "                        <th id=\"T_82cd2cfc_7b36_11ec_b661_b46bfc7acf46level0_row10\" class=\"row_heading level0 row10\" >ada</th>\n",
       "                        <td id=\"T_82cd2cfc_7b36_11ec_b661_b46bfc7acf46row10_col0\" class=\"data row10 col0\" >Ada Boost Classifier</td>\n",
       "                        <td id=\"T_82cd2cfc_7b36_11ec_b661_b46bfc7acf46row10_col1\" class=\"data row10 col1\" >0.6119</td>\n",
       "                        <td id=\"T_82cd2cfc_7b36_11ec_b661_b46bfc7acf46row10_col2\" class=\"data row10 col2\" >0.6304</td>\n",
       "                        <td id=\"T_82cd2cfc_7b36_11ec_b661_b46bfc7acf46row10_col3\" class=\"data row10 col3\" >0.7850</td>\n",
       "                        <td id=\"T_82cd2cfc_7b36_11ec_b661_b46bfc7acf46row10_col4\" class=\"data row10 col4\" >0.6483</td>\n",
       "                        <td id=\"T_82cd2cfc_7b36_11ec_b661_b46bfc7acf46row10_col5\" class=\"data row10 col5\" >0.7043</td>\n",
       "                        <td id=\"T_82cd2cfc_7b36_11ec_b661_b46bfc7acf46row10_col6\" class=\"data row10 col6\" >0.1057</td>\n",
       "                        <td id=\"T_82cd2cfc_7b36_11ec_b661_b46bfc7acf46row10_col7\" class=\"data row10 col7\" >0.1277</td>\n",
       "                        <td id=\"T_82cd2cfc_7b36_11ec_b661_b46bfc7acf46row10_col8\" class=\"data row10 col8\" >0.0350</td>\n",
       "            </tr>\n",
       "            <tr>\n",
       "                        <th id=\"T_82cd2cfc_7b36_11ec_b661_b46bfc7acf46level0_row11\" class=\"row_heading level0 row11\" >dummy</th>\n",
       "                        <td id=\"T_82cd2cfc_7b36_11ec_b661_b46bfc7acf46row11_col0\" class=\"data row11 col0\" >Dummy Classifier</td>\n",
       "                        <td id=\"T_82cd2cfc_7b36_11ec_b661_b46bfc7acf46row11_col1\" class=\"data row11 col1\" >0.6095</td>\n",
       "                        <td id=\"T_82cd2cfc_7b36_11ec_b661_b46bfc7acf46row11_col2\" class=\"data row11 col2\" >0.5000</td>\n",
       "                        <td id=\"T_82cd2cfc_7b36_11ec_b661_b46bfc7acf46row11_col3\" class=\"data row11 col3\" >1.0000</td>\n",
       "                        <td id=\"T_82cd2cfc_7b36_11ec_b661_b46bfc7acf46row11_col4\" class=\"data row11 col4\" >0.6095</td>\n",
       "                        <td id=\"T_82cd2cfc_7b36_11ec_b661_b46bfc7acf46row11_col5\" class=\"data row11 col5\" >0.7558</td>\n",
       "                        <td id=\"T_82cd2cfc_7b36_11ec_b661_b46bfc7acf46row11_col6\" class=\"data row11 col6\" >0.0000</td>\n",
       "                        <td id=\"T_82cd2cfc_7b36_11ec_b661_b46bfc7acf46row11_col7\" class=\"data row11 col7\" >0.0000</td>\n",
       "                        <td id=\"T_82cd2cfc_7b36_11ec_b661_b46bfc7acf46row11_col8\" class=\"data row11 col8\" >0.0060</td>\n",
       "            </tr>\n",
       "            <tr>\n",
       "                        <th id=\"T_82cd2cfc_7b36_11ec_b661_b46bfc7acf46level0_row12\" class=\"row_heading level0 row12\" >nb</th>\n",
       "                        <td id=\"T_82cd2cfc_7b36_11ec_b661_b46bfc7acf46row12_col0\" class=\"data row12 col0\" >Naive Bayes</td>\n",
       "                        <td id=\"T_82cd2cfc_7b36_11ec_b661_b46bfc7acf46row12_col1\" class=\"data row12 col1\" >0.5952</td>\n",
       "                        <td id=\"T_82cd2cfc_7b36_11ec_b661_b46bfc7acf46row12_col2\" class=\"data row12 col2\" >0.5204</td>\n",
       "                        <td id=\"T_82cd2cfc_7b36_11ec_b661_b46bfc7acf46row12_col3\" class=\"data row12 col3\" >0.8550</td>\n",
       "                        <td id=\"T_82cd2cfc_7b36_11ec_b661_b46bfc7acf46row12_col4\" class=\"data row12 col4\" >0.5695</td>\n",
       "                        <td id=\"T_82cd2cfc_7b36_11ec_b661_b46bfc7acf46row12_col5\" class=\"data row12 col5\" >0.6809</td>\n",
       "                        <td id=\"T_82cd2cfc_7b36_11ec_b661_b46bfc7acf46row12_col6\" class=\"data row12 col6\" >0.0283</td>\n",
       "                        <td id=\"T_82cd2cfc_7b36_11ec_b661_b46bfc7acf46row12_col7\" class=\"data row12 col7\" >0.0304</td>\n",
       "                        <td id=\"T_82cd2cfc_7b36_11ec_b661_b46bfc7acf46row12_col8\" class=\"data row12 col8\" >0.0070</td>\n",
       "            </tr>\n",
       "            <tr>\n",
       "                        <th id=\"T_82cd2cfc_7b36_11ec_b661_b46bfc7acf46level0_row13\" class=\"row_heading level0 row13\" >qda</th>\n",
       "                        <td id=\"T_82cd2cfc_7b36_11ec_b661_b46bfc7acf46row13_col0\" class=\"data row13 col0\" >Quadratic Discriminant Analysis</td>\n",
       "                        <td id=\"T_82cd2cfc_7b36_11ec_b661_b46bfc7acf46row13_col1\" class=\"data row13 col1\" >0.5952</td>\n",
       "                        <td id=\"T_82cd2cfc_7b36_11ec_b661_b46bfc7acf46row13_col2\" class=\"data row13 col2\" >0.0000</td>\n",
       "                        <td id=\"T_82cd2cfc_7b36_11ec_b661_b46bfc7acf46row13_col3\" class=\"data row13 col3\" >0.9000</td>\n",
       "                        <td id=\"T_82cd2cfc_7b36_11ec_b661_b46bfc7acf46row13_col4\" class=\"data row13 col4\" >0.5524</td>\n",
       "                        <td id=\"T_82cd2cfc_7b36_11ec_b661_b46bfc7acf46row13_col5\" class=\"data row13 col5\" >0.6830</td>\n",
       "                        <td id=\"T_82cd2cfc_7b36_11ec_b661_b46bfc7acf46row13_col6\" class=\"data row13 col6\" >0.0000</td>\n",
       "                        <td id=\"T_82cd2cfc_7b36_11ec_b661_b46bfc7acf46row13_col7\" class=\"data row13 col7\" >0.0000</td>\n",
       "                        <td id=\"T_82cd2cfc_7b36_11ec_b661_b46bfc7acf46row13_col8\" class=\"data row13 col8\" >0.0100</td>\n",
       "            </tr>\n",
       "            <tr>\n",
       "                        <th id=\"T_82cd2cfc_7b36_11ec_b661_b46bfc7acf46level0_row14\" class=\"row_heading level0 row14\" >svm</th>\n",
       "                        <td id=\"T_82cd2cfc_7b36_11ec_b661_b46bfc7acf46row14_col0\" class=\"data row14 col0\" >SVM - Linear Kernel</td>\n",
       "                        <td id=\"T_82cd2cfc_7b36_11ec_b661_b46bfc7acf46row14_col1\" class=\"data row14 col1\" >0.5381</td>\n",
       "                        <td id=\"T_82cd2cfc_7b36_11ec_b661_b46bfc7acf46row14_col2\" class=\"data row14 col2\" >0.0000</td>\n",
       "                        <td id=\"T_82cd2cfc_7b36_11ec_b661_b46bfc7acf46row14_col3\" class=\"data row14 col3\" >0.6700</td>\n",
       "                        <td id=\"T_82cd2cfc_7b36_11ec_b661_b46bfc7acf46row14_col4\" class=\"data row14 col4\" >0.6033</td>\n",
       "                        <td id=\"T_82cd2cfc_7b36_11ec_b661_b46bfc7acf46row14_col5\" class=\"data row14 col5\" >0.6257</td>\n",
       "                        <td id=\"T_82cd2cfc_7b36_11ec_b661_b46bfc7acf46row14_col6\" class=\"data row14 col6\" >-0.0282</td>\n",
       "                        <td id=\"T_82cd2cfc_7b36_11ec_b661_b46bfc7acf46row14_col7\" class=\"data row14 col7\" >-0.0265</td>\n",
       "                        <td id=\"T_82cd2cfc_7b36_11ec_b661_b46bfc7acf46row14_col8\" class=\"data row14 col8\" >0.0070</td>\n",
       "            </tr>\n",
       "    </tbody></table>"
      ],
      "text/plain": [
       "<pandas.io.formats.style.Styler at 0x19923389670>"
      ]
     },
     "metadata": {},
     "output_type": "display_data"
    },
    {
     "name": "stdout",
     "output_type": "stream",
     "text": [
      "LGBMClassifier(boosting_type='gbdt', class_weight=None, colsample_bytree=1.0,\n",
      "               importance_type='split', learning_rate=0.1, max_depth=-1,\n",
      "               min_child_samples=20, min_child_weight=0.001, min_split_gain=0.0,\n",
      "               n_estimators=100, n_jobs=-1, num_leaves=31, objective=None,\n",
      "               random_state=2717, reg_alpha=0.0, reg_lambda=0.0, silent='warn',\n",
      "               subsample=1.0, subsample_for_bin=200000, subsample_freq=0)\n"
     ]
    }
   ],
   "source": [
    "get_best_model(df1)"
   ]
  },
  {
   "cell_type": "code",
   "execution_count": 29,
   "metadata": {
    "scrolled": false
   },
   "outputs": [
    {
     "data": {
      "text/html": [
       "<style  type=\"text/css\" >\n",
       "    #T_87fd65db_7b36_11ec_a466_b46bfc7acf46 th {\n",
       "          text-align: left;\n",
       "    }#T_87fd65db_7b36_11ec_a466_b46bfc7acf46row0_col0,#T_87fd65db_7b36_11ec_a466_b46bfc7acf46row0_col2,#T_87fd65db_7b36_11ec_a466_b46bfc7acf46row0_col3,#T_87fd65db_7b36_11ec_a466_b46bfc7acf46row0_col5,#T_87fd65db_7b36_11ec_a466_b46bfc7acf46row1_col0,#T_87fd65db_7b36_11ec_a466_b46bfc7acf46row1_col1,#T_87fd65db_7b36_11ec_a466_b46bfc7acf46row1_col2,#T_87fd65db_7b36_11ec_a466_b46bfc7acf46row1_col3,#T_87fd65db_7b36_11ec_a466_b46bfc7acf46row1_col4,#T_87fd65db_7b36_11ec_a466_b46bfc7acf46row1_col5,#T_87fd65db_7b36_11ec_a466_b46bfc7acf46row1_col6,#T_87fd65db_7b36_11ec_a466_b46bfc7acf46row1_col7,#T_87fd65db_7b36_11ec_a466_b46bfc7acf46row2_col0,#T_87fd65db_7b36_11ec_a466_b46bfc7acf46row2_col1,#T_87fd65db_7b36_11ec_a466_b46bfc7acf46row2_col2,#T_87fd65db_7b36_11ec_a466_b46bfc7acf46row2_col3,#T_87fd65db_7b36_11ec_a466_b46bfc7acf46row2_col4,#T_87fd65db_7b36_11ec_a466_b46bfc7acf46row2_col5,#T_87fd65db_7b36_11ec_a466_b46bfc7acf46row2_col6,#T_87fd65db_7b36_11ec_a466_b46bfc7acf46row2_col7,#T_87fd65db_7b36_11ec_a466_b46bfc7acf46row3_col0,#T_87fd65db_7b36_11ec_a466_b46bfc7acf46row3_col1,#T_87fd65db_7b36_11ec_a466_b46bfc7acf46row3_col2,#T_87fd65db_7b36_11ec_a466_b46bfc7acf46row3_col4,#T_87fd65db_7b36_11ec_a466_b46bfc7acf46row3_col6,#T_87fd65db_7b36_11ec_a466_b46bfc7acf46row3_col7,#T_87fd65db_7b36_11ec_a466_b46bfc7acf46row4_col0,#T_87fd65db_7b36_11ec_a466_b46bfc7acf46row4_col1,#T_87fd65db_7b36_11ec_a466_b46bfc7acf46row4_col2,#T_87fd65db_7b36_11ec_a466_b46bfc7acf46row4_col3,#T_87fd65db_7b36_11ec_a466_b46bfc7acf46row4_col4,#T_87fd65db_7b36_11ec_a466_b46bfc7acf46row4_col5,#T_87fd65db_7b36_11ec_a466_b46bfc7acf46row4_col6,#T_87fd65db_7b36_11ec_a466_b46bfc7acf46row4_col7,#T_87fd65db_7b36_11ec_a466_b46bfc7acf46row5_col0,#T_87fd65db_7b36_11ec_a466_b46bfc7acf46row5_col1,#T_87fd65db_7b36_11ec_a466_b46bfc7acf46row5_col2,#T_87fd65db_7b36_11ec_a466_b46bfc7acf46row5_col3,#T_87fd65db_7b36_11ec_a466_b46bfc7acf46row5_col4,#T_87fd65db_7b36_11ec_a466_b46bfc7acf46row5_col5,#T_87fd65db_7b36_11ec_a466_b46bfc7acf46row5_col6,#T_87fd65db_7b36_11ec_a466_b46bfc7acf46row5_col7,#T_87fd65db_7b36_11ec_a466_b46bfc7acf46row6_col0,#T_87fd65db_7b36_11ec_a466_b46bfc7acf46row6_col1,#T_87fd65db_7b36_11ec_a466_b46bfc7acf46row6_col2,#T_87fd65db_7b36_11ec_a466_b46bfc7acf46row6_col3,#T_87fd65db_7b36_11ec_a466_b46bfc7acf46row6_col4,#T_87fd65db_7b36_11ec_a466_b46bfc7acf46row6_col5,#T_87fd65db_7b36_11ec_a466_b46bfc7acf46row6_col6,#T_87fd65db_7b36_11ec_a466_b46bfc7acf46row6_col7,#T_87fd65db_7b36_11ec_a466_b46bfc7acf46row7_col0,#T_87fd65db_7b36_11ec_a466_b46bfc7acf46row7_col1,#T_87fd65db_7b36_11ec_a466_b46bfc7acf46row7_col2,#T_87fd65db_7b36_11ec_a466_b46bfc7acf46row7_col3,#T_87fd65db_7b36_11ec_a466_b46bfc7acf46row7_col4,#T_87fd65db_7b36_11ec_a466_b46bfc7acf46row7_col5,#T_87fd65db_7b36_11ec_a466_b46bfc7acf46row7_col6,#T_87fd65db_7b36_11ec_a466_b46bfc7acf46row7_col7,#T_87fd65db_7b36_11ec_a466_b46bfc7acf46row8_col0,#T_87fd65db_7b36_11ec_a466_b46bfc7acf46row8_col1,#T_87fd65db_7b36_11ec_a466_b46bfc7acf46row8_col2,#T_87fd65db_7b36_11ec_a466_b46bfc7acf46row8_col3,#T_87fd65db_7b36_11ec_a466_b46bfc7acf46row8_col4,#T_87fd65db_7b36_11ec_a466_b46bfc7acf46row8_col5,#T_87fd65db_7b36_11ec_a466_b46bfc7acf46row8_col6,#T_87fd65db_7b36_11ec_a466_b46bfc7acf46row8_col7,#T_87fd65db_7b36_11ec_a466_b46bfc7acf46row9_col0,#T_87fd65db_7b36_11ec_a466_b46bfc7acf46row9_col1,#T_87fd65db_7b36_11ec_a466_b46bfc7acf46row9_col3,#T_87fd65db_7b36_11ec_a466_b46bfc7acf46row9_col4,#T_87fd65db_7b36_11ec_a466_b46bfc7acf46row9_col5,#T_87fd65db_7b36_11ec_a466_b46bfc7acf46row9_col6,#T_87fd65db_7b36_11ec_a466_b46bfc7acf46row9_col7,#T_87fd65db_7b36_11ec_a466_b46bfc7acf46row10_col0,#T_87fd65db_7b36_11ec_a466_b46bfc7acf46row10_col1,#T_87fd65db_7b36_11ec_a466_b46bfc7acf46row10_col2,#T_87fd65db_7b36_11ec_a466_b46bfc7acf46row10_col3,#T_87fd65db_7b36_11ec_a466_b46bfc7acf46row10_col4,#T_87fd65db_7b36_11ec_a466_b46bfc7acf46row10_col5,#T_87fd65db_7b36_11ec_a466_b46bfc7acf46row10_col6,#T_87fd65db_7b36_11ec_a466_b46bfc7acf46row10_col7,#T_87fd65db_7b36_11ec_a466_b46bfc7acf46row11_col0,#T_87fd65db_7b36_11ec_a466_b46bfc7acf46row11_col1,#T_87fd65db_7b36_11ec_a466_b46bfc7acf46row11_col2,#T_87fd65db_7b36_11ec_a466_b46bfc7acf46row11_col3,#T_87fd65db_7b36_11ec_a466_b46bfc7acf46row11_col4,#T_87fd65db_7b36_11ec_a466_b46bfc7acf46row11_col5,#T_87fd65db_7b36_11ec_a466_b46bfc7acf46row11_col6,#T_87fd65db_7b36_11ec_a466_b46bfc7acf46row11_col7,#T_87fd65db_7b36_11ec_a466_b46bfc7acf46row12_col0,#T_87fd65db_7b36_11ec_a466_b46bfc7acf46row12_col1,#T_87fd65db_7b36_11ec_a466_b46bfc7acf46row12_col2,#T_87fd65db_7b36_11ec_a466_b46bfc7acf46row12_col3,#T_87fd65db_7b36_11ec_a466_b46bfc7acf46row12_col4,#T_87fd65db_7b36_11ec_a466_b46bfc7acf46row12_col5,#T_87fd65db_7b36_11ec_a466_b46bfc7acf46row12_col6,#T_87fd65db_7b36_11ec_a466_b46bfc7acf46row12_col7,#T_87fd65db_7b36_11ec_a466_b46bfc7acf46row13_col0,#T_87fd65db_7b36_11ec_a466_b46bfc7acf46row13_col1,#T_87fd65db_7b36_11ec_a466_b46bfc7acf46row13_col2,#T_87fd65db_7b36_11ec_a466_b46bfc7acf46row13_col3,#T_87fd65db_7b36_11ec_a466_b46bfc7acf46row13_col4,#T_87fd65db_7b36_11ec_a466_b46bfc7acf46row13_col5,#T_87fd65db_7b36_11ec_a466_b46bfc7acf46row13_col6,#T_87fd65db_7b36_11ec_a466_b46bfc7acf46row13_col7,#T_87fd65db_7b36_11ec_a466_b46bfc7acf46row14_col0,#T_87fd65db_7b36_11ec_a466_b46bfc7acf46row14_col1,#T_87fd65db_7b36_11ec_a466_b46bfc7acf46row14_col2,#T_87fd65db_7b36_11ec_a466_b46bfc7acf46row14_col3,#T_87fd65db_7b36_11ec_a466_b46bfc7acf46row14_col4,#T_87fd65db_7b36_11ec_a466_b46bfc7acf46row14_col5,#T_87fd65db_7b36_11ec_a466_b46bfc7acf46row14_col6,#T_87fd65db_7b36_11ec_a466_b46bfc7acf46row14_col7{\n",
       "            text-align:  left;\n",
       "            text-align:  left;\n",
       "        }#T_87fd65db_7b36_11ec_a466_b46bfc7acf46row0_col1,#T_87fd65db_7b36_11ec_a466_b46bfc7acf46row0_col4,#T_87fd65db_7b36_11ec_a466_b46bfc7acf46row0_col6,#T_87fd65db_7b36_11ec_a466_b46bfc7acf46row0_col7,#T_87fd65db_7b36_11ec_a466_b46bfc7acf46row3_col3,#T_87fd65db_7b36_11ec_a466_b46bfc7acf46row3_col5,#T_87fd65db_7b36_11ec_a466_b46bfc7acf46row9_col2{\n",
       "            text-align:  left;\n",
       "            text-align:  left;\n",
       "            background-color:  yellow;\n",
       "        }#T_87fd65db_7b36_11ec_a466_b46bfc7acf46row0_col8,#T_87fd65db_7b36_11ec_a466_b46bfc7acf46row1_col8,#T_87fd65db_7b36_11ec_a466_b46bfc7acf46row2_col8,#T_87fd65db_7b36_11ec_a466_b46bfc7acf46row4_col8,#T_87fd65db_7b36_11ec_a466_b46bfc7acf46row5_col8,#T_87fd65db_7b36_11ec_a466_b46bfc7acf46row6_col8,#T_87fd65db_7b36_11ec_a466_b46bfc7acf46row7_col8,#T_87fd65db_7b36_11ec_a466_b46bfc7acf46row8_col8,#T_87fd65db_7b36_11ec_a466_b46bfc7acf46row9_col8,#T_87fd65db_7b36_11ec_a466_b46bfc7acf46row10_col8,#T_87fd65db_7b36_11ec_a466_b46bfc7acf46row11_col8,#T_87fd65db_7b36_11ec_a466_b46bfc7acf46row12_col8,#T_87fd65db_7b36_11ec_a466_b46bfc7acf46row14_col8{\n",
       "            text-align:  left;\n",
       "            text-align:  left;\n",
       "            background-color:  lightgrey;\n",
       "        }#T_87fd65db_7b36_11ec_a466_b46bfc7acf46row3_col8,#T_87fd65db_7b36_11ec_a466_b46bfc7acf46row13_col8{\n",
       "            text-align:  left;\n",
       "            text-align:  left;\n",
       "            background-color:  yellow;\n",
       "            background-color:  lightgrey;\n",
       "        }</style><table id=\"T_87fd65db_7b36_11ec_a466_b46bfc7acf46\" ><thead>    <tr>        <th class=\"blank level0\" ></th>        <th class=\"col_heading level0 col0\" >Model</th>        <th class=\"col_heading level0 col1\" >Accuracy</th>        <th class=\"col_heading level0 col2\" >AUC</th>        <th class=\"col_heading level0 col3\" >Recall</th>        <th class=\"col_heading level0 col4\" >Prec.</th>        <th class=\"col_heading level0 col5\" >F1</th>        <th class=\"col_heading level0 col6\" >Kappa</th>        <th class=\"col_heading level0 col7\" >MCC</th>        <th class=\"col_heading level0 col8\" >TT (Sec)</th>    </tr></thead><tbody>\n",
       "                <tr>\n",
       "                        <th id=\"T_87fd65db_7b36_11ec_a466_b46bfc7acf46level0_row0\" class=\"row_heading level0 row0\" >gbc</th>\n",
       "                        <td id=\"T_87fd65db_7b36_11ec_a466_b46bfc7acf46row0_col0\" class=\"data row0 col0\" >Gradient Boosting Classifier</td>\n",
       "                        <td id=\"T_87fd65db_7b36_11ec_a466_b46bfc7acf46row0_col1\" class=\"data row0 col1\" >0.6095</td>\n",
       "                        <td id=\"T_87fd65db_7b36_11ec_a466_b46bfc7acf46row0_col2\" class=\"data row0 col2\" >0.5389</td>\n",
       "                        <td id=\"T_87fd65db_7b36_11ec_a466_b46bfc7acf46row0_col3\" class=\"data row0 col3\" >0.7167</td>\n",
       "                        <td id=\"T_87fd65db_7b36_11ec_a466_b46bfc7acf46row0_col4\" class=\"data row0 col4\" >0.6317</td>\n",
       "                        <td id=\"T_87fd65db_7b36_11ec_a466_b46bfc7acf46row0_col5\" class=\"data row0 col5\" >0.6594</td>\n",
       "                        <td id=\"T_87fd65db_7b36_11ec_a466_b46bfc7acf46row0_col6\" class=\"data row0 col6\" >0.1909</td>\n",
       "                        <td id=\"T_87fd65db_7b36_11ec_a466_b46bfc7acf46row0_col7\" class=\"data row0 col7\" >0.2192</td>\n",
       "                        <td id=\"T_87fd65db_7b36_11ec_a466_b46bfc7acf46row0_col8\" class=\"data row0 col8\" >0.0220</td>\n",
       "            </tr>\n",
       "            <tr>\n",
       "                        <th id=\"T_87fd65db_7b36_11ec_a466_b46bfc7acf46level0_row1\" class=\"row_heading level0 row1\" >svm</th>\n",
       "                        <td id=\"T_87fd65db_7b36_11ec_a466_b46bfc7acf46row1_col0\" class=\"data row1 col0\" >SVM - Linear Kernel</td>\n",
       "                        <td id=\"T_87fd65db_7b36_11ec_a466_b46bfc7acf46row1_col1\" class=\"data row1 col1\" >0.5786</td>\n",
       "                        <td id=\"T_87fd65db_7b36_11ec_a466_b46bfc7acf46row1_col2\" class=\"data row1 col2\" >0.0000</td>\n",
       "                        <td id=\"T_87fd65db_7b36_11ec_a466_b46bfc7acf46row1_col3\" class=\"data row1 col3\" >0.6583</td>\n",
       "                        <td id=\"T_87fd65db_7b36_11ec_a466_b46bfc7acf46row1_col4\" class=\"data row1 col4\" >0.5571</td>\n",
       "                        <td id=\"T_87fd65db_7b36_11ec_a466_b46bfc7acf46row1_col5\" class=\"data row1 col5\" >0.5842</td>\n",
       "                        <td id=\"T_87fd65db_7b36_11ec_a466_b46bfc7acf46row1_col6\" class=\"data row1 col6\" >0.1298</td>\n",
       "                        <td id=\"T_87fd65db_7b36_11ec_a466_b46bfc7acf46row1_col7\" class=\"data row1 col7\" >0.1561</td>\n",
       "                        <td id=\"T_87fd65db_7b36_11ec_a466_b46bfc7acf46row1_col8\" class=\"data row1 col8\" >0.0090</td>\n",
       "            </tr>\n",
       "            <tr>\n",
       "                        <th id=\"T_87fd65db_7b36_11ec_a466_b46bfc7acf46level0_row2\" class=\"row_heading level0 row2\" >qda</th>\n",
       "                        <td id=\"T_87fd65db_7b36_11ec_a466_b46bfc7acf46row2_col0\" class=\"data row2 col0\" >Quadratic Discriminant Analysis</td>\n",
       "                        <td id=\"T_87fd65db_7b36_11ec_a466_b46bfc7acf46row2_col1\" class=\"data row2 col1\" >0.5643</td>\n",
       "                        <td id=\"T_87fd65db_7b36_11ec_a466_b46bfc7acf46row2_col2\" class=\"data row2 col2\" >0.0000</td>\n",
       "                        <td id=\"T_87fd65db_7b36_11ec_a466_b46bfc7acf46row2_col3\" class=\"data row2 col3\" >0.9000</td>\n",
       "                        <td id=\"T_87fd65db_7b36_11ec_a466_b46bfc7acf46row2_col4\" class=\"data row2 col4\" >0.5143</td>\n",
       "                        <td id=\"T_87fd65db_7b36_11ec_a466_b46bfc7acf46row2_col5\" class=\"data row2 col5\" >0.6545</td>\n",
       "                        <td id=\"T_87fd65db_7b36_11ec_a466_b46bfc7acf46row2_col6\" class=\"data row2 col6\" >0.0000</td>\n",
       "                        <td id=\"T_87fd65db_7b36_11ec_a466_b46bfc7acf46row2_col7\" class=\"data row2 col7\" >0.0000</td>\n",
       "                        <td id=\"T_87fd65db_7b36_11ec_a466_b46bfc7acf46row2_col8\" class=\"data row2 col8\" >0.0080</td>\n",
       "            </tr>\n",
       "            <tr>\n",
       "                        <th id=\"T_87fd65db_7b36_11ec_a466_b46bfc7acf46level0_row3\" class=\"row_heading level0 row3\" >dummy</th>\n",
       "                        <td id=\"T_87fd65db_7b36_11ec_a466_b46bfc7acf46row3_col0\" class=\"data row3 col0\" >Dummy Classifier</td>\n",
       "                        <td id=\"T_87fd65db_7b36_11ec_a466_b46bfc7acf46row3_col1\" class=\"data row3 col1\" >0.5643</td>\n",
       "                        <td id=\"T_87fd65db_7b36_11ec_a466_b46bfc7acf46row3_col2\" class=\"data row3 col2\" >0.5000</td>\n",
       "                        <td id=\"T_87fd65db_7b36_11ec_a466_b46bfc7acf46row3_col3\" class=\"data row3 col3\" >1.0000</td>\n",
       "                        <td id=\"T_87fd65db_7b36_11ec_a466_b46bfc7acf46row3_col4\" class=\"data row3 col4\" >0.5643</td>\n",
       "                        <td id=\"T_87fd65db_7b36_11ec_a466_b46bfc7acf46row3_col5\" class=\"data row3 col5\" >0.7212</td>\n",
       "                        <td id=\"T_87fd65db_7b36_11ec_a466_b46bfc7acf46row3_col6\" class=\"data row3 col6\" >0.0000</td>\n",
       "                        <td id=\"T_87fd65db_7b36_11ec_a466_b46bfc7acf46row3_col7\" class=\"data row3 col7\" >0.0000</td>\n",
       "                        <td id=\"T_87fd65db_7b36_11ec_a466_b46bfc7acf46row3_col8\" class=\"data row3 col8\" >0.0050</td>\n",
       "            </tr>\n",
       "            <tr>\n",
       "                        <th id=\"T_87fd65db_7b36_11ec_a466_b46bfc7acf46level0_row4\" class=\"row_heading level0 row4\" >dt</th>\n",
       "                        <td id=\"T_87fd65db_7b36_11ec_a466_b46bfc7acf46row4_col0\" class=\"data row4 col0\" >Decision Tree Classifier</td>\n",
       "                        <td id=\"T_87fd65db_7b36_11ec_a466_b46bfc7acf46row4_col1\" class=\"data row4 col1\" >0.5381</td>\n",
       "                        <td id=\"T_87fd65db_7b36_11ec_a466_b46bfc7acf46row4_col2\" class=\"data row4 col2\" >0.4917</td>\n",
       "                        <td id=\"T_87fd65db_7b36_11ec_a466_b46bfc7acf46row4_col3\" class=\"data row4 col3\" >0.5417</td>\n",
       "                        <td id=\"T_87fd65db_7b36_11ec_a466_b46bfc7acf46row4_col4\" class=\"data row4 col4\" >0.5821</td>\n",
       "                        <td id=\"T_87fd65db_7b36_11ec_a466_b46bfc7acf46row4_col5\" class=\"data row4 col5\" >0.5453</td>\n",
       "                        <td id=\"T_87fd65db_7b36_11ec_a466_b46bfc7acf46row4_col6\" class=\"data row4 col6\" >0.0735</td>\n",
       "                        <td id=\"T_87fd65db_7b36_11ec_a466_b46bfc7acf46row4_col7\" class=\"data row4 col7\" >0.0660</td>\n",
       "                        <td id=\"T_87fd65db_7b36_11ec_a466_b46bfc7acf46row4_col8\" class=\"data row4 col8\" >0.0080</td>\n",
       "            </tr>\n",
       "            <tr>\n",
       "                        <th id=\"T_87fd65db_7b36_11ec_a466_b46bfc7acf46level0_row5\" class=\"row_heading level0 row5\" >catboost</th>\n",
       "                        <td id=\"T_87fd65db_7b36_11ec_a466_b46bfc7acf46row5_col0\" class=\"data row5 col0\" >CatBoost Classifier</td>\n",
       "                        <td id=\"T_87fd65db_7b36_11ec_a466_b46bfc7acf46row5_col1\" class=\"data row5 col1\" >0.5357</td>\n",
       "                        <td id=\"T_87fd65db_7b36_11ec_a466_b46bfc7acf46row5_col2\" class=\"data row5 col2\" >0.5333</td>\n",
       "                        <td id=\"T_87fd65db_7b36_11ec_a466_b46bfc7acf46row5_col3\" class=\"data row5 col3\" >0.6833</td>\n",
       "                        <td id=\"T_87fd65db_7b36_11ec_a466_b46bfc7acf46row5_col4\" class=\"data row5 col4\" >0.5583</td>\n",
       "                        <td id=\"T_87fd65db_7b36_11ec_a466_b46bfc7acf46row5_col5\" class=\"data row5 col5\" >0.6058</td>\n",
       "                        <td id=\"T_87fd65db_7b36_11ec_a466_b46bfc7acf46row5_col6\" class=\"data row5 col6\" >0.0238</td>\n",
       "                        <td id=\"T_87fd65db_7b36_11ec_a466_b46bfc7acf46row5_col7\" class=\"data row5 col7\" >0.0501</td>\n",
       "                        <td id=\"T_87fd65db_7b36_11ec_a466_b46bfc7acf46row5_col8\" class=\"data row5 col8\" >0.2290</td>\n",
       "            </tr>\n",
       "            <tr>\n",
       "                        <th id=\"T_87fd65db_7b36_11ec_a466_b46bfc7acf46level0_row6\" class=\"row_heading level0 row6\" >rf</th>\n",
       "                        <td id=\"T_87fd65db_7b36_11ec_a466_b46bfc7acf46row6_col0\" class=\"data row6 col0\" >Random Forest Classifier</td>\n",
       "                        <td id=\"T_87fd65db_7b36_11ec_a466_b46bfc7acf46row6_col1\" class=\"data row6 col1\" >0.5238</td>\n",
       "                        <td id=\"T_87fd65db_7b36_11ec_a466_b46bfc7acf46row6_col2\" class=\"data row6 col2\" >0.5083</td>\n",
       "                        <td id=\"T_87fd65db_7b36_11ec_a466_b46bfc7acf46row6_col3\" class=\"data row6 col3\" >0.6917</td>\n",
       "                        <td id=\"T_87fd65db_7b36_11ec_a466_b46bfc7acf46row6_col4\" class=\"data row6 col4\" >0.5533</td>\n",
       "                        <td id=\"T_87fd65db_7b36_11ec_a466_b46bfc7acf46row6_col5\" class=\"data row6 col5\" >0.6108</td>\n",
       "                        <td id=\"T_87fd65db_7b36_11ec_a466_b46bfc7acf46row6_col6\" class=\"data row6 col6\" >-0.0035</td>\n",
       "                        <td id=\"T_87fd65db_7b36_11ec_a466_b46bfc7acf46row6_col7\" class=\"data row6 col7\" >0.0129</td>\n",
       "                        <td id=\"T_87fd65db_7b36_11ec_a466_b46bfc7acf46row6_col8\" class=\"data row6 col8\" >0.0910</td>\n",
       "            </tr>\n",
       "            <tr>\n",
       "                        <th id=\"T_87fd65db_7b36_11ec_a466_b46bfc7acf46level0_row7\" class=\"row_heading level0 row7\" >lightgbm</th>\n",
       "                        <td id=\"T_87fd65db_7b36_11ec_a466_b46bfc7acf46row7_col0\" class=\"data row7 col0\" >Light Gradient Boosting Machine</td>\n",
       "                        <td id=\"T_87fd65db_7b36_11ec_a466_b46bfc7acf46row7_col1\" class=\"data row7 col1\" >0.5238</td>\n",
       "                        <td id=\"T_87fd65db_7b36_11ec_a466_b46bfc7acf46row7_col2\" class=\"data row7 col2\" >0.5694</td>\n",
       "                        <td id=\"T_87fd65db_7b36_11ec_a466_b46bfc7acf46row7_col3\" class=\"data row7 col3\" >0.6500</td>\n",
       "                        <td id=\"T_87fd65db_7b36_11ec_a466_b46bfc7acf46row7_col4\" class=\"data row7 col4\" >0.5483</td>\n",
       "                        <td id=\"T_87fd65db_7b36_11ec_a466_b46bfc7acf46row7_col5\" class=\"data row7 col5\" >0.5871</td>\n",
       "                        <td id=\"T_87fd65db_7b36_11ec_a466_b46bfc7acf46row7_col6\" class=\"data row7 col6\" >0.0241</td>\n",
       "                        <td id=\"T_87fd65db_7b36_11ec_a466_b46bfc7acf46row7_col7\" class=\"data row7 col7\" >0.0442</td>\n",
       "                        <td id=\"T_87fd65db_7b36_11ec_a466_b46bfc7acf46row7_col8\" class=\"data row7 col8\" >0.0110</td>\n",
       "            </tr>\n",
       "            <tr>\n",
       "                        <th id=\"T_87fd65db_7b36_11ec_a466_b46bfc7acf46level0_row8\" class=\"row_heading level0 row8\" >nb</th>\n",
       "                        <td id=\"T_87fd65db_7b36_11ec_a466_b46bfc7acf46row8_col0\" class=\"data row8 col0\" >Naive Bayes</td>\n",
       "                        <td id=\"T_87fd65db_7b36_11ec_a466_b46bfc7acf46row8_col1\" class=\"data row8 col1\" >0.5214</td>\n",
       "                        <td id=\"T_87fd65db_7b36_11ec_a466_b46bfc7acf46row8_col2\" class=\"data row8 col2\" >0.4806</td>\n",
       "                        <td id=\"T_87fd65db_7b36_11ec_a466_b46bfc7acf46row8_col3\" class=\"data row8 col3\" >0.6250</td>\n",
       "                        <td id=\"T_87fd65db_7b36_11ec_a466_b46bfc7acf46row8_col4\" class=\"data row8 col4\" >0.5233</td>\n",
       "                        <td id=\"T_87fd65db_7b36_11ec_a466_b46bfc7acf46row8_col5\" class=\"data row8 col5\" >0.5610</td>\n",
       "                        <td id=\"T_87fd65db_7b36_11ec_a466_b46bfc7acf46row8_col6\" class=\"data row8 col6\" >-0.0150</td>\n",
       "                        <td id=\"T_87fd65db_7b36_11ec_a466_b46bfc7acf46row8_col7\" class=\"data row8 col7\" >-0.0362</td>\n",
       "                        <td id=\"T_87fd65db_7b36_11ec_a466_b46bfc7acf46row8_col8\" class=\"data row8 col8\" >0.0070</td>\n",
       "            </tr>\n",
       "            <tr>\n",
       "                        <th id=\"T_87fd65db_7b36_11ec_a466_b46bfc7acf46level0_row9\" class=\"row_heading level0 row9\" >et</th>\n",
       "                        <td id=\"T_87fd65db_7b36_11ec_a466_b46bfc7acf46row9_col0\" class=\"data row9 col0\" >Extra Trees Classifier</td>\n",
       "                        <td id=\"T_87fd65db_7b36_11ec_a466_b46bfc7acf46row9_col1\" class=\"data row9 col1\" >0.5071</td>\n",
       "                        <td id=\"T_87fd65db_7b36_11ec_a466_b46bfc7acf46row9_col2\" class=\"data row9 col2\" >0.5708</td>\n",
       "                        <td id=\"T_87fd65db_7b36_11ec_a466_b46bfc7acf46row9_col3\" class=\"data row9 col3\" >0.5583</td>\n",
       "                        <td id=\"T_87fd65db_7b36_11ec_a466_b46bfc7acf46row9_col4\" class=\"data row9 col4\" >0.5217</td>\n",
       "                        <td id=\"T_87fd65db_7b36_11ec_a466_b46bfc7acf46row9_col5\" class=\"data row9 col5\" >0.5321</td>\n",
       "                        <td id=\"T_87fd65db_7b36_11ec_a466_b46bfc7acf46row9_col6\" class=\"data row9 col6\" >-0.0065</td>\n",
       "                        <td id=\"T_87fd65db_7b36_11ec_a466_b46bfc7acf46row9_col7\" class=\"data row9 col7\" >-0.0301</td>\n",
       "                        <td id=\"T_87fd65db_7b36_11ec_a466_b46bfc7acf46row9_col8\" class=\"data row9 col8\" >0.0740</td>\n",
       "            </tr>\n",
       "            <tr>\n",
       "                        <th id=\"T_87fd65db_7b36_11ec_a466_b46bfc7acf46level0_row10\" class=\"row_heading level0 row10\" >knn</th>\n",
       "                        <td id=\"T_87fd65db_7b36_11ec_a466_b46bfc7acf46row10_col0\" class=\"data row10 col0\" >K Neighbors Classifier</td>\n",
       "                        <td id=\"T_87fd65db_7b36_11ec_a466_b46bfc7acf46row10_col1\" class=\"data row10 col1\" >0.4905</td>\n",
       "                        <td id=\"T_87fd65db_7b36_11ec_a466_b46bfc7acf46row10_col2\" class=\"data row10 col2\" >0.4667</td>\n",
       "                        <td id=\"T_87fd65db_7b36_11ec_a466_b46bfc7acf46row10_col3\" class=\"data row10 col3\" >0.5833</td>\n",
       "                        <td id=\"T_87fd65db_7b36_11ec_a466_b46bfc7acf46row10_col4\" class=\"data row10 col4\" >0.5400</td>\n",
       "                        <td id=\"T_87fd65db_7b36_11ec_a466_b46bfc7acf46row10_col5\" class=\"data row10 col5\" >0.5535</td>\n",
       "                        <td id=\"T_87fd65db_7b36_11ec_a466_b46bfc7acf46row10_col6\" class=\"data row10 col6\" >-0.0504</td>\n",
       "                        <td id=\"T_87fd65db_7b36_11ec_a466_b46bfc7acf46row10_col7\" class=\"data row10 col7\" >-0.0513</td>\n",
       "                        <td id=\"T_87fd65db_7b36_11ec_a466_b46bfc7acf46row10_col8\" class=\"data row10 col8\" >0.0140</td>\n",
       "            </tr>\n",
       "            <tr>\n",
       "                        <th id=\"T_87fd65db_7b36_11ec_a466_b46bfc7acf46level0_row11\" class=\"row_heading level0 row11\" >ada</th>\n",
       "                        <td id=\"T_87fd65db_7b36_11ec_a466_b46bfc7acf46row11_col0\" class=\"data row11 col0\" >Ada Boost Classifier</td>\n",
       "                        <td id=\"T_87fd65db_7b36_11ec_a466_b46bfc7acf46row11_col1\" class=\"data row11 col1\" >0.4643</td>\n",
       "                        <td id=\"T_87fd65db_7b36_11ec_a466_b46bfc7acf46row11_col2\" class=\"data row11 col2\" >0.4361</td>\n",
       "                        <td id=\"T_87fd65db_7b36_11ec_a466_b46bfc7acf46row11_col3\" class=\"data row11 col3\" >0.5667</td>\n",
       "                        <td id=\"T_87fd65db_7b36_11ec_a466_b46bfc7acf46row11_col4\" class=\"data row11 col4\" >0.5200</td>\n",
       "                        <td id=\"T_87fd65db_7b36_11ec_a466_b46bfc7acf46row11_col5\" class=\"data row11 col5\" >0.5362</td>\n",
       "                        <td id=\"T_87fd65db_7b36_11ec_a466_b46bfc7acf46row11_col6\" class=\"data row11 col6\" >-0.1005</td>\n",
       "                        <td id=\"T_87fd65db_7b36_11ec_a466_b46bfc7acf46row11_col7\" class=\"data row11 col7\" >-0.1088</td>\n",
       "                        <td id=\"T_87fd65db_7b36_11ec_a466_b46bfc7acf46row11_col8\" class=\"data row11 col8\" >0.0350</td>\n",
       "            </tr>\n",
       "            <tr>\n",
       "                        <th id=\"T_87fd65db_7b36_11ec_a466_b46bfc7acf46level0_row12\" class=\"row_heading level0 row12\" >lr</th>\n",
       "                        <td id=\"T_87fd65db_7b36_11ec_a466_b46bfc7acf46row12_col0\" class=\"data row12 col0\" >Logistic Regression</td>\n",
       "                        <td id=\"T_87fd65db_7b36_11ec_a466_b46bfc7acf46row12_col1\" class=\"data row12 col1\" >0.4500</td>\n",
       "                        <td id=\"T_87fd65db_7b36_11ec_a466_b46bfc7acf46row12_col2\" class=\"data row12 col2\" >0.4722</td>\n",
       "                        <td id=\"T_87fd65db_7b36_11ec_a466_b46bfc7acf46row12_col3\" class=\"data row12 col3\" >0.5417</td>\n",
       "                        <td id=\"T_87fd65db_7b36_11ec_a466_b46bfc7acf46row12_col4\" class=\"data row12 col4\" >0.5100</td>\n",
       "                        <td id=\"T_87fd65db_7b36_11ec_a466_b46bfc7acf46row12_col5\" class=\"data row12 col5\" >0.5183</td>\n",
       "                        <td id=\"T_87fd65db_7b36_11ec_a466_b46bfc7acf46row12_col6\" class=\"data row12 col6\" >-0.1258</td>\n",
       "                        <td id=\"T_87fd65db_7b36_11ec_a466_b46bfc7acf46row12_col7\" class=\"data row12 col7\" >-0.1290</td>\n",
       "                        <td id=\"T_87fd65db_7b36_11ec_a466_b46bfc7acf46row12_col8\" class=\"data row12 col8\" >0.0080</td>\n",
       "            </tr>\n",
       "            <tr>\n",
       "                        <th id=\"T_87fd65db_7b36_11ec_a466_b46bfc7acf46level0_row13\" class=\"row_heading level0 row13\" >lda</th>\n",
       "                        <td id=\"T_87fd65db_7b36_11ec_a466_b46bfc7acf46row13_col0\" class=\"data row13 col0\" >Linear Discriminant Analysis</td>\n",
       "                        <td id=\"T_87fd65db_7b36_11ec_a466_b46bfc7acf46row13_col1\" class=\"data row13 col1\" >0.4500</td>\n",
       "                        <td id=\"T_87fd65db_7b36_11ec_a466_b46bfc7acf46row13_col2\" class=\"data row13 col2\" >0.4278</td>\n",
       "                        <td id=\"T_87fd65db_7b36_11ec_a466_b46bfc7acf46row13_col3\" class=\"data row13 col3\" >0.5417</td>\n",
       "                        <td id=\"T_87fd65db_7b36_11ec_a466_b46bfc7acf46row13_col4\" class=\"data row13 col4\" >0.5183</td>\n",
       "                        <td id=\"T_87fd65db_7b36_11ec_a466_b46bfc7acf46row13_col5\" class=\"data row13 col5\" >0.5231</td>\n",
       "                        <td id=\"T_87fd65db_7b36_11ec_a466_b46bfc7acf46row13_col6\" class=\"data row13 col6\" >-0.1282</td>\n",
       "                        <td id=\"T_87fd65db_7b36_11ec_a466_b46bfc7acf46row13_col7\" class=\"data row13 col7\" >-0.1346</td>\n",
       "                        <td id=\"T_87fd65db_7b36_11ec_a466_b46bfc7acf46row13_col8\" class=\"data row13 col8\" >0.0050</td>\n",
       "            </tr>\n",
       "            <tr>\n",
       "                        <th id=\"T_87fd65db_7b36_11ec_a466_b46bfc7acf46level0_row14\" class=\"row_heading level0 row14\" >ridge</th>\n",
       "                        <td id=\"T_87fd65db_7b36_11ec_a466_b46bfc7acf46row14_col0\" class=\"data row14 col0\" >Ridge Classifier</td>\n",
       "                        <td id=\"T_87fd65db_7b36_11ec_a466_b46bfc7acf46row14_col1\" class=\"data row14 col1\" >0.4357</td>\n",
       "                        <td id=\"T_87fd65db_7b36_11ec_a466_b46bfc7acf46row14_col2\" class=\"data row14 col2\" >0.0000</td>\n",
       "                        <td id=\"T_87fd65db_7b36_11ec_a466_b46bfc7acf46row14_col3\" class=\"data row14 col3\" >0.5167</td>\n",
       "                        <td id=\"T_87fd65db_7b36_11ec_a466_b46bfc7acf46row14_col4\" class=\"data row14 col4\" >0.4950</td>\n",
       "                        <td id=\"T_87fd65db_7b36_11ec_a466_b46bfc7acf46row14_col5\" class=\"data row14 col5\" >0.5012</td>\n",
       "                        <td id=\"T_87fd65db_7b36_11ec_a466_b46bfc7acf46row14_col6\" class=\"data row14 col6\" >-0.1483</td>\n",
       "                        <td id=\"T_87fd65db_7b36_11ec_a466_b46bfc7acf46row14_col7\" class=\"data row14 col7\" >-0.1484</td>\n",
       "                        <td id=\"T_87fd65db_7b36_11ec_a466_b46bfc7acf46row14_col8\" class=\"data row14 col8\" >0.0060</td>\n",
       "            </tr>\n",
       "    </tbody></table>"
      ],
      "text/plain": [
       "<pandas.io.formats.style.Styler at 0x199278ef9a0>"
      ]
     },
     "metadata": {},
     "output_type": "display_data"
    },
    {
     "name": "stdout",
     "output_type": "stream",
     "text": [
      "GradientBoostingClassifier(ccp_alpha=0.0, criterion='friedman_mse', init=None,\n",
      "                           learning_rate=0.1, loss='deviance', max_depth=3,\n",
      "                           max_features=None, max_leaf_nodes=None,\n",
      "                           min_impurity_decrease=0.0, min_impurity_split=None,\n",
      "                           min_samples_leaf=1, min_samples_split=2,\n",
      "                           min_weight_fraction_leaf=0.0, n_estimators=100,\n",
      "                           n_iter_no_change=None, presort='deprecated',\n",
      "                           random_state=7716, subsample=1.0, tol=0.0001,\n",
      "                           validation_fraction=0.1, verbose=0,\n",
      "                           warm_start=False)\n"
     ]
    }
   ],
   "source": [
    "get_best_model(df2)"
   ]
  },
  {
   "cell_type": "code",
   "execution_count": 30,
   "metadata": {
    "scrolled": false
   },
   "outputs": [
    {
     "data": {
      "text/html": [
       "<style  type=\"text/css\" >\n",
       "    #T_8d97d768_7b36_11ec_8437_b46bfc7acf46 th {\n",
       "          text-align: left;\n",
       "    }#T_8d97d768_7b36_11ec_8437_b46bfc7acf46row0_col0,#T_8d97d768_7b36_11ec_8437_b46bfc7acf46row0_col3,#T_8d97d768_7b36_11ec_8437_b46bfc7acf46row0_col4,#T_8d97d768_7b36_11ec_8437_b46bfc7acf46row0_col5,#T_8d97d768_7b36_11ec_8437_b46bfc7acf46row1_col0,#T_8d97d768_7b36_11ec_8437_b46bfc7acf46row1_col1,#T_8d97d768_7b36_11ec_8437_b46bfc7acf46row1_col2,#T_8d97d768_7b36_11ec_8437_b46bfc7acf46row1_col3,#T_8d97d768_7b36_11ec_8437_b46bfc7acf46row1_col4,#T_8d97d768_7b36_11ec_8437_b46bfc7acf46row1_col5,#T_8d97d768_7b36_11ec_8437_b46bfc7acf46row1_col6,#T_8d97d768_7b36_11ec_8437_b46bfc7acf46row1_col7,#T_8d97d768_7b36_11ec_8437_b46bfc7acf46row2_col0,#T_8d97d768_7b36_11ec_8437_b46bfc7acf46row2_col1,#T_8d97d768_7b36_11ec_8437_b46bfc7acf46row2_col2,#T_8d97d768_7b36_11ec_8437_b46bfc7acf46row2_col3,#T_8d97d768_7b36_11ec_8437_b46bfc7acf46row2_col5,#T_8d97d768_7b36_11ec_8437_b46bfc7acf46row2_col6,#T_8d97d768_7b36_11ec_8437_b46bfc7acf46row2_col7,#T_8d97d768_7b36_11ec_8437_b46bfc7acf46row3_col0,#T_8d97d768_7b36_11ec_8437_b46bfc7acf46row3_col1,#T_8d97d768_7b36_11ec_8437_b46bfc7acf46row3_col2,#T_8d97d768_7b36_11ec_8437_b46bfc7acf46row3_col4,#T_8d97d768_7b36_11ec_8437_b46bfc7acf46row3_col6,#T_8d97d768_7b36_11ec_8437_b46bfc7acf46row3_col7,#T_8d97d768_7b36_11ec_8437_b46bfc7acf46row4_col0,#T_8d97d768_7b36_11ec_8437_b46bfc7acf46row4_col1,#T_8d97d768_7b36_11ec_8437_b46bfc7acf46row4_col2,#T_8d97d768_7b36_11ec_8437_b46bfc7acf46row4_col3,#T_8d97d768_7b36_11ec_8437_b46bfc7acf46row4_col4,#T_8d97d768_7b36_11ec_8437_b46bfc7acf46row4_col5,#T_8d97d768_7b36_11ec_8437_b46bfc7acf46row4_col6,#T_8d97d768_7b36_11ec_8437_b46bfc7acf46row4_col7,#T_8d97d768_7b36_11ec_8437_b46bfc7acf46row5_col0,#T_8d97d768_7b36_11ec_8437_b46bfc7acf46row5_col1,#T_8d97d768_7b36_11ec_8437_b46bfc7acf46row5_col2,#T_8d97d768_7b36_11ec_8437_b46bfc7acf46row5_col3,#T_8d97d768_7b36_11ec_8437_b46bfc7acf46row5_col4,#T_8d97d768_7b36_11ec_8437_b46bfc7acf46row5_col5,#T_8d97d768_7b36_11ec_8437_b46bfc7acf46row5_col6,#T_8d97d768_7b36_11ec_8437_b46bfc7acf46row5_col7,#T_8d97d768_7b36_11ec_8437_b46bfc7acf46row6_col0,#T_8d97d768_7b36_11ec_8437_b46bfc7acf46row6_col1,#T_8d97d768_7b36_11ec_8437_b46bfc7acf46row6_col2,#T_8d97d768_7b36_11ec_8437_b46bfc7acf46row6_col3,#T_8d97d768_7b36_11ec_8437_b46bfc7acf46row6_col4,#T_8d97d768_7b36_11ec_8437_b46bfc7acf46row6_col5,#T_8d97d768_7b36_11ec_8437_b46bfc7acf46row6_col6,#T_8d97d768_7b36_11ec_8437_b46bfc7acf46row6_col7,#T_8d97d768_7b36_11ec_8437_b46bfc7acf46row7_col0,#T_8d97d768_7b36_11ec_8437_b46bfc7acf46row7_col1,#T_8d97d768_7b36_11ec_8437_b46bfc7acf46row7_col2,#T_8d97d768_7b36_11ec_8437_b46bfc7acf46row7_col3,#T_8d97d768_7b36_11ec_8437_b46bfc7acf46row7_col4,#T_8d97d768_7b36_11ec_8437_b46bfc7acf46row7_col5,#T_8d97d768_7b36_11ec_8437_b46bfc7acf46row7_col6,#T_8d97d768_7b36_11ec_8437_b46bfc7acf46row7_col7,#T_8d97d768_7b36_11ec_8437_b46bfc7acf46row8_col0,#T_8d97d768_7b36_11ec_8437_b46bfc7acf46row8_col1,#T_8d97d768_7b36_11ec_8437_b46bfc7acf46row8_col2,#T_8d97d768_7b36_11ec_8437_b46bfc7acf46row8_col3,#T_8d97d768_7b36_11ec_8437_b46bfc7acf46row8_col4,#T_8d97d768_7b36_11ec_8437_b46bfc7acf46row8_col5,#T_8d97d768_7b36_11ec_8437_b46bfc7acf46row8_col6,#T_8d97d768_7b36_11ec_8437_b46bfc7acf46row8_col7,#T_8d97d768_7b36_11ec_8437_b46bfc7acf46row9_col0,#T_8d97d768_7b36_11ec_8437_b46bfc7acf46row9_col1,#T_8d97d768_7b36_11ec_8437_b46bfc7acf46row9_col2,#T_8d97d768_7b36_11ec_8437_b46bfc7acf46row9_col3,#T_8d97d768_7b36_11ec_8437_b46bfc7acf46row9_col4,#T_8d97d768_7b36_11ec_8437_b46bfc7acf46row9_col5,#T_8d97d768_7b36_11ec_8437_b46bfc7acf46row9_col6,#T_8d97d768_7b36_11ec_8437_b46bfc7acf46row9_col7,#T_8d97d768_7b36_11ec_8437_b46bfc7acf46row10_col0,#T_8d97d768_7b36_11ec_8437_b46bfc7acf46row10_col1,#T_8d97d768_7b36_11ec_8437_b46bfc7acf46row10_col2,#T_8d97d768_7b36_11ec_8437_b46bfc7acf46row10_col3,#T_8d97d768_7b36_11ec_8437_b46bfc7acf46row10_col4,#T_8d97d768_7b36_11ec_8437_b46bfc7acf46row10_col5,#T_8d97d768_7b36_11ec_8437_b46bfc7acf46row10_col6,#T_8d97d768_7b36_11ec_8437_b46bfc7acf46row10_col7,#T_8d97d768_7b36_11ec_8437_b46bfc7acf46row11_col0,#T_8d97d768_7b36_11ec_8437_b46bfc7acf46row11_col1,#T_8d97d768_7b36_11ec_8437_b46bfc7acf46row11_col2,#T_8d97d768_7b36_11ec_8437_b46bfc7acf46row11_col3,#T_8d97d768_7b36_11ec_8437_b46bfc7acf46row11_col4,#T_8d97d768_7b36_11ec_8437_b46bfc7acf46row11_col5,#T_8d97d768_7b36_11ec_8437_b46bfc7acf46row11_col6,#T_8d97d768_7b36_11ec_8437_b46bfc7acf46row11_col7,#T_8d97d768_7b36_11ec_8437_b46bfc7acf46row12_col0,#T_8d97d768_7b36_11ec_8437_b46bfc7acf46row12_col1,#T_8d97d768_7b36_11ec_8437_b46bfc7acf46row12_col2,#T_8d97d768_7b36_11ec_8437_b46bfc7acf46row12_col3,#T_8d97d768_7b36_11ec_8437_b46bfc7acf46row12_col4,#T_8d97d768_7b36_11ec_8437_b46bfc7acf46row12_col5,#T_8d97d768_7b36_11ec_8437_b46bfc7acf46row12_col6,#T_8d97d768_7b36_11ec_8437_b46bfc7acf46row12_col7,#T_8d97d768_7b36_11ec_8437_b46bfc7acf46row13_col0,#T_8d97d768_7b36_11ec_8437_b46bfc7acf46row13_col1,#T_8d97d768_7b36_11ec_8437_b46bfc7acf46row13_col2,#T_8d97d768_7b36_11ec_8437_b46bfc7acf46row13_col3,#T_8d97d768_7b36_11ec_8437_b46bfc7acf46row13_col4,#T_8d97d768_7b36_11ec_8437_b46bfc7acf46row13_col5,#T_8d97d768_7b36_11ec_8437_b46bfc7acf46row13_col6,#T_8d97d768_7b36_11ec_8437_b46bfc7acf46row13_col7,#T_8d97d768_7b36_11ec_8437_b46bfc7acf46row14_col0,#T_8d97d768_7b36_11ec_8437_b46bfc7acf46row14_col1,#T_8d97d768_7b36_11ec_8437_b46bfc7acf46row14_col2,#T_8d97d768_7b36_11ec_8437_b46bfc7acf46row14_col3,#T_8d97d768_7b36_11ec_8437_b46bfc7acf46row14_col4,#T_8d97d768_7b36_11ec_8437_b46bfc7acf46row14_col5,#T_8d97d768_7b36_11ec_8437_b46bfc7acf46row14_col6,#T_8d97d768_7b36_11ec_8437_b46bfc7acf46row14_col7{\n",
       "            text-align:  left;\n",
       "            text-align:  left;\n",
       "        }#T_8d97d768_7b36_11ec_8437_b46bfc7acf46row0_col1,#T_8d97d768_7b36_11ec_8437_b46bfc7acf46row0_col2,#T_8d97d768_7b36_11ec_8437_b46bfc7acf46row0_col6,#T_8d97d768_7b36_11ec_8437_b46bfc7acf46row0_col7,#T_8d97d768_7b36_11ec_8437_b46bfc7acf46row2_col4,#T_8d97d768_7b36_11ec_8437_b46bfc7acf46row3_col3,#T_8d97d768_7b36_11ec_8437_b46bfc7acf46row3_col5{\n",
       "            text-align:  left;\n",
       "            text-align:  left;\n",
       "            background-color:  yellow;\n",
       "        }#T_8d97d768_7b36_11ec_8437_b46bfc7acf46row0_col8,#T_8d97d768_7b36_11ec_8437_b46bfc7acf46row1_col8,#T_8d97d768_7b36_11ec_8437_b46bfc7acf46row2_col8,#T_8d97d768_7b36_11ec_8437_b46bfc7acf46row4_col8,#T_8d97d768_7b36_11ec_8437_b46bfc7acf46row6_col8,#T_8d97d768_7b36_11ec_8437_b46bfc7acf46row7_col8,#T_8d97d768_7b36_11ec_8437_b46bfc7acf46row8_col8,#T_8d97d768_7b36_11ec_8437_b46bfc7acf46row9_col8,#T_8d97d768_7b36_11ec_8437_b46bfc7acf46row10_col8,#T_8d97d768_7b36_11ec_8437_b46bfc7acf46row11_col8,#T_8d97d768_7b36_11ec_8437_b46bfc7acf46row14_col8{\n",
       "            text-align:  left;\n",
       "            text-align:  left;\n",
       "            background-color:  lightgrey;\n",
       "        }#T_8d97d768_7b36_11ec_8437_b46bfc7acf46row3_col8,#T_8d97d768_7b36_11ec_8437_b46bfc7acf46row5_col8,#T_8d97d768_7b36_11ec_8437_b46bfc7acf46row12_col8,#T_8d97d768_7b36_11ec_8437_b46bfc7acf46row13_col8{\n",
       "            text-align:  left;\n",
       "            text-align:  left;\n",
       "            background-color:  yellow;\n",
       "            background-color:  lightgrey;\n",
       "        }</style><table id=\"T_8d97d768_7b36_11ec_8437_b46bfc7acf46\" ><thead>    <tr>        <th class=\"blank level0\" ></th>        <th class=\"col_heading level0 col0\" >Model</th>        <th class=\"col_heading level0 col1\" >Accuracy</th>        <th class=\"col_heading level0 col2\" >AUC</th>        <th class=\"col_heading level0 col3\" >Recall</th>        <th class=\"col_heading level0 col4\" >Prec.</th>        <th class=\"col_heading level0 col5\" >F1</th>        <th class=\"col_heading level0 col6\" >Kappa</th>        <th class=\"col_heading level0 col7\" >MCC</th>        <th class=\"col_heading level0 col8\" >TT (Sec)</th>    </tr></thead><tbody>\n",
       "                <tr>\n",
       "                        <th id=\"T_8d97d768_7b36_11ec_8437_b46bfc7acf46level0_row0\" class=\"row_heading level0 row0\" >lightgbm</th>\n",
       "                        <td id=\"T_8d97d768_7b36_11ec_8437_b46bfc7acf46row0_col0\" class=\"data row0 col0\" >Light Gradient Boosting Machine</td>\n",
       "                        <td id=\"T_8d97d768_7b36_11ec_8437_b46bfc7acf46row0_col1\" class=\"data row0 col1\" >0.6405</td>\n",
       "                        <td id=\"T_8d97d768_7b36_11ec_8437_b46bfc7acf46row0_col2\" class=\"data row0 col2\" >0.6942</td>\n",
       "                        <td id=\"T_8d97d768_7b36_11ec_8437_b46bfc7acf46row0_col3\" class=\"data row0 col3\" >0.8100</td>\n",
       "                        <td id=\"T_8d97d768_7b36_11ec_8437_b46bfc7acf46row0_col4\" class=\"data row0 col4\" >0.6705</td>\n",
       "                        <td id=\"T_8d97d768_7b36_11ec_8437_b46bfc7acf46row0_col5\" class=\"data row0 col5\" >0.7172</td>\n",
       "                        <td id=\"T_8d97d768_7b36_11ec_8437_b46bfc7acf46row0_col6\" class=\"data row0 col6\" >0.2119</td>\n",
       "                        <td id=\"T_8d97d768_7b36_11ec_8437_b46bfc7acf46row0_col7\" class=\"data row0 col7\" >0.2343</td>\n",
       "                        <td id=\"T_8d97d768_7b36_11ec_8437_b46bfc7acf46row0_col8\" class=\"data row0 col8\" >0.0090</td>\n",
       "            </tr>\n",
       "            <tr>\n",
       "                        <th id=\"T_8d97d768_7b36_11ec_8437_b46bfc7acf46level0_row1\" class=\"row_heading level0 row1\" >rf</th>\n",
       "                        <td id=\"T_8d97d768_7b36_11ec_8437_b46bfc7acf46row1_col0\" class=\"data row1 col0\" >Random Forest Classifier</td>\n",
       "                        <td id=\"T_8d97d768_7b36_11ec_8437_b46bfc7acf46row1_col1\" class=\"data row1 col1\" >0.6262</td>\n",
       "                        <td id=\"T_8d97d768_7b36_11ec_8437_b46bfc7acf46row1_col2\" class=\"data row1 col2\" >0.6125</td>\n",
       "                        <td id=\"T_8d97d768_7b36_11ec_8437_b46bfc7acf46row1_col3\" class=\"data row1 col3\" >0.7650</td>\n",
       "                        <td id=\"T_8d97d768_7b36_11ec_8437_b46bfc7acf46row1_col4\" class=\"data row1 col4\" >0.6633</td>\n",
       "                        <td id=\"T_8d97d768_7b36_11ec_8437_b46bfc7acf46row1_col5\" class=\"data row1 col5\" >0.7039</td>\n",
       "                        <td id=\"T_8d97d768_7b36_11ec_8437_b46bfc7acf46row1_col6\" class=\"data row1 col6\" >0.1943</td>\n",
       "                        <td id=\"T_8d97d768_7b36_11ec_8437_b46bfc7acf46row1_col7\" class=\"data row1 col7\" >0.2232</td>\n",
       "                        <td id=\"T_8d97d768_7b36_11ec_8437_b46bfc7acf46row1_col8\" class=\"data row1 col8\" >0.0840</td>\n",
       "            </tr>\n",
       "            <tr>\n",
       "                        <th id=\"T_8d97d768_7b36_11ec_8437_b46bfc7acf46level0_row2\" class=\"row_heading level0 row2\" >catboost</th>\n",
       "                        <td id=\"T_8d97d768_7b36_11ec_8437_b46bfc7acf46row2_col0\" class=\"data row2 col0\" >CatBoost Classifier</td>\n",
       "                        <td id=\"T_8d97d768_7b36_11ec_8437_b46bfc7acf46row2_col1\" class=\"data row2 col1\" >0.6262</td>\n",
       "                        <td id=\"T_8d97d768_7b36_11ec_8437_b46bfc7acf46row2_col2\" class=\"data row2 col2\" >0.5900</td>\n",
       "                        <td id=\"T_8d97d768_7b36_11ec_8437_b46bfc7acf46row2_col3\" class=\"data row2 col3\" >0.7900</td>\n",
       "                        <td id=\"T_8d97d768_7b36_11ec_8437_b46bfc7acf46row2_col4\" class=\"data row2 col4\" >0.6738</td>\n",
       "                        <td id=\"T_8d97d768_7b36_11ec_8437_b46bfc7acf46row2_col5\" class=\"data row2 col5\" >0.7133</td>\n",
       "                        <td id=\"T_8d97d768_7b36_11ec_8437_b46bfc7acf46row2_col6\" class=\"data row2 col6\" >0.1878</td>\n",
       "                        <td id=\"T_8d97d768_7b36_11ec_8437_b46bfc7acf46row2_col7\" class=\"data row2 col7\" >0.2150</td>\n",
       "                        <td id=\"T_8d97d768_7b36_11ec_8437_b46bfc7acf46row2_col8\" class=\"data row2 col8\" >0.2390</td>\n",
       "            </tr>\n",
       "            <tr>\n",
       "                        <th id=\"T_8d97d768_7b36_11ec_8437_b46bfc7acf46level0_row3\" class=\"row_heading level0 row3\" >dummy</th>\n",
       "                        <td id=\"T_8d97d768_7b36_11ec_8437_b46bfc7acf46row3_col0\" class=\"data row3 col0\" >Dummy Classifier</td>\n",
       "                        <td id=\"T_8d97d768_7b36_11ec_8437_b46bfc7acf46row3_col1\" class=\"data row3 col1\" >0.6095</td>\n",
       "                        <td id=\"T_8d97d768_7b36_11ec_8437_b46bfc7acf46row3_col2\" class=\"data row3 col2\" >0.5000</td>\n",
       "                        <td id=\"T_8d97d768_7b36_11ec_8437_b46bfc7acf46row3_col3\" class=\"data row3 col3\" >1.0000</td>\n",
       "                        <td id=\"T_8d97d768_7b36_11ec_8437_b46bfc7acf46row3_col4\" class=\"data row3 col4\" >0.6095</td>\n",
       "                        <td id=\"T_8d97d768_7b36_11ec_8437_b46bfc7acf46row3_col5\" class=\"data row3 col5\" >0.7558</td>\n",
       "                        <td id=\"T_8d97d768_7b36_11ec_8437_b46bfc7acf46row3_col6\" class=\"data row3 col6\" >0.0000</td>\n",
       "                        <td id=\"T_8d97d768_7b36_11ec_8437_b46bfc7acf46row3_col7\" class=\"data row3 col7\" >0.0000</td>\n",
       "                        <td id=\"T_8d97d768_7b36_11ec_8437_b46bfc7acf46row3_col8\" class=\"data row3 col8\" >0.0060</td>\n",
       "            </tr>\n",
       "            <tr>\n",
       "                        <th id=\"T_8d97d768_7b36_11ec_8437_b46bfc7acf46level0_row4\" class=\"row_heading level0 row4\" >lr</th>\n",
       "                        <td id=\"T_8d97d768_7b36_11ec_8437_b46bfc7acf46row4_col0\" class=\"data row4 col0\" >Logistic Regression</td>\n",
       "                        <td id=\"T_8d97d768_7b36_11ec_8437_b46bfc7acf46row4_col1\" class=\"data row4 col1\" >0.5976</td>\n",
       "                        <td id=\"T_8d97d768_7b36_11ec_8437_b46bfc7acf46row4_col2\" class=\"data row4 col2\" >0.5225</td>\n",
       "                        <td id=\"T_8d97d768_7b36_11ec_8437_b46bfc7acf46row4_col3\" class=\"data row4 col3\" >0.7450</td>\n",
       "                        <td id=\"T_8d97d768_7b36_11ec_8437_b46bfc7acf46row4_col4\" class=\"data row4 col4\" >0.6633</td>\n",
       "                        <td id=\"T_8d97d768_7b36_11ec_8437_b46bfc7acf46row4_col5\" class=\"data row4 col5\" >0.6867</td>\n",
       "                        <td id=\"T_8d97d768_7b36_11ec_8437_b46bfc7acf46row4_col6\" class=\"data row4 col6\" >0.1390</td>\n",
       "                        <td id=\"T_8d97d768_7b36_11ec_8437_b46bfc7acf46row4_col7\" class=\"data row4 col7\" >0.1654</td>\n",
       "                        <td id=\"T_8d97d768_7b36_11ec_8437_b46bfc7acf46row4_col8\" class=\"data row4 col8\" >0.0070</td>\n",
       "            </tr>\n",
       "            <tr>\n",
       "                        <th id=\"T_8d97d768_7b36_11ec_8437_b46bfc7acf46level0_row5\" class=\"row_heading level0 row5\" >ridge</th>\n",
       "                        <td id=\"T_8d97d768_7b36_11ec_8437_b46bfc7acf46row5_col0\" class=\"data row5 col0\" >Ridge Classifier</td>\n",
       "                        <td id=\"T_8d97d768_7b36_11ec_8437_b46bfc7acf46row5_col1\" class=\"data row5 col1\" >0.5976</td>\n",
       "                        <td id=\"T_8d97d768_7b36_11ec_8437_b46bfc7acf46row5_col2\" class=\"data row5 col2\" >0.0000</td>\n",
       "                        <td id=\"T_8d97d768_7b36_11ec_8437_b46bfc7acf46row5_col3\" class=\"data row5 col3\" >0.7700</td>\n",
       "                        <td id=\"T_8d97d768_7b36_11ec_8437_b46bfc7acf46row5_col4\" class=\"data row5 col4\" >0.6450</td>\n",
       "                        <td id=\"T_8d97d768_7b36_11ec_8437_b46bfc7acf46row5_col5\" class=\"data row5 col5\" >0.6906</td>\n",
       "                        <td id=\"T_8d97d768_7b36_11ec_8437_b46bfc7acf46row5_col6\" class=\"data row5 col6\" >0.1313</td>\n",
       "                        <td id=\"T_8d97d768_7b36_11ec_8437_b46bfc7acf46row5_col7\" class=\"data row5 col7\" >0.1418</td>\n",
       "                        <td id=\"T_8d97d768_7b36_11ec_8437_b46bfc7acf46row5_col8\" class=\"data row5 col8\" >0.0060</td>\n",
       "            </tr>\n",
       "            <tr>\n",
       "                        <th id=\"T_8d97d768_7b36_11ec_8437_b46bfc7acf46level0_row6\" class=\"row_heading level0 row6\" >qda</th>\n",
       "                        <td id=\"T_8d97d768_7b36_11ec_8437_b46bfc7acf46row6_col0\" class=\"data row6 col0\" >Quadratic Discriminant Analysis</td>\n",
       "                        <td id=\"T_8d97d768_7b36_11ec_8437_b46bfc7acf46row6_col1\" class=\"data row6 col1\" >0.5952</td>\n",
       "                        <td id=\"T_8d97d768_7b36_11ec_8437_b46bfc7acf46row6_col2\" class=\"data row6 col2\" >0.4917</td>\n",
       "                        <td id=\"T_8d97d768_7b36_11ec_8437_b46bfc7acf46row6_col3\" class=\"data row6 col3\" >0.9500</td>\n",
       "                        <td id=\"T_8d97d768_7b36_11ec_8437_b46bfc7acf46row6_col4\" class=\"data row6 col4\" >0.6052</td>\n",
       "                        <td id=\"T_8d97d768_7b36_11ec_8437_b46bfc7acf46row6_col5\" class=\"data row6 col5\" >0.7370</td>\n",
       "                        <td id=\"T_8d97d768_7b36_11ec_8437_b46bfc7acf46row6_col6\" class=\"data row6 col6\" >-0.0186</td>\n",
       "                        <td id=\"T_8d97d768_7b36_11ec_8437_b46bfc7acf46row6_col7\" class=\"data row6 col7\" >-0.0262</td>\n",
       "                        <td id=\"T_8d97d768_7b36_11ec_8437_b46bfc7acf46row6_col8\" class=\"data row6 col8\" >0.0080</td>\n",
       "            </tr>\n",
       "            <tr>\n",
       "                        <th id=\"T_8d97d768_7b36_11ec_8437_b46bfc7acf46level0_row7\" class=\"row_heading level0 row7\" >et</th>\n",
       "                        <td id=\"T_8d97d768_7b36_11ec_8437_b46bfc7acf46row7_col0\" class=\"data row7 col0\" >Extra Trees Classifier</td>\n",
       "                        <td id=\"T_8d97d768_7b36_11ec_8437_b46bfc7acf46row7_col1\" class=\"data row7 col1\" >0.5833</td>\n",
       "                        <td id=\"T_8d97d768_7b36_11ec_8437_b46bfc7acf46row7_col2\" class=\"data row7 col2\" >0.5683</td>\n",
       "                        <td id=\"T_8d97d768_7b36_11ec_8437_b46bfc7acf46row7_col3\" class=\"data row7 col3\" >0.7150</td>\n",
       "                        <td id=\"T_8d97d768_7b36_11ec_8437_b46bfc7acf46row7_col4\" class=\"data row7 col4\" >0.6383</td>\n",
       "                        <td id=\"T_8d97d768_7b36_11ec_8437_b46bfc7acf46row7_col5\" class=\"data row7 col5\" >0.6660</td>\n",
       "                        <td id=\"T_8d97d768_7b36_11ec_8437_b46bfc7acf46row7_col6\" class=\"data row7 col6\" >0.1050</td>\n",
       "                        <td id=\"T_8d97d768_7b36_11ec_8437_b46bfc7acf46row7_col7\" class=\"data row7 col7\" >0.1158</td>\n",
       "                        <td id=\"T_8d97d768_7b36_11ec_8437_b46bfc7acf46row7_col8\" class=\"data row7 col8\" >0.0780</td>\n",
       "            </tr>\n",
       "            <tr>\n",
       "                        <th id=\"T_8d97d768_7b36_11ec_8437_b46bfc7acf46level0_row8\" class=\"row_heading level0 row8\" >gbc</th>\n",
       "                        <td id=\"T_8d97d768_7b36_11ec_8437_b46bfc7acf46row8_col0\" class=\"data row8 col0\" >Gradient Boosting Classifier</td>\n",
       "                        <td id=\"T_8d97d768_7b36_11ec_8437_b46bfc7acf46row8_col1\" class=\"data row8 col1\" >0.5810</td>\n",
       "                        <td id=\"T_8d97d768_7b36_11ec_8437_b46bfc7acf46row8_col2\" class=\"data row8 col2\" >0.5958</td>\n",
       "                        <td id=\"T_8d97d768_7b36_11ec_8437_b46bfc7acf46row8_col3\" class=\"data row8 col3\" >0.7150</td>\n",
       "                        <td id=\"T_8d97d768_7b36_11ec_8437_b46bfc7acf46row8_col4\" class=\"data row8 col4\" >0.6333</td>\n",
       "                        <td id=\"T_8d97d768_7b36_11ec_8437_b46bfc7acf46row8_col5\" class=\"data row8 col5\" >0.6583</td>\n",
       "                        <td id=\"T_8d97d768_7b36_11ec_8437_b46bfc7acf46row8_col6\" class=\"data row8 col6\" >0.1022</td>\n",
       "                        <td id=\"T_8d97d768_7b36_11ec_8437_b46bfc7acf46row8_col7\" class=\"data row8 col7\" >0.1155</td>\n",
       "                        <td id=\"T_8d97d768_7b36_11ec_8437_b46bfc7acf46row8_col8\" class=\"data row8 col8\" >0.0220</td>\n",
       "            </tr>\n",
       "            <tr>\n",
       "                        <th id=\"T_8d97d768_7b36_11ec_8437_b46bfc7acf46level0_row9\" class=\"row_heading level0 row9\" >knn</th>\n",
       "                        <td id=\"T_8d97d768_7b36_11ec_8437_b46bfc7acf46row9_col0\" class=\"data row9 col0\" >K Neighbors Classifier</td>\n",
       "                        <td id=\"T_8d97d768_7b36_11ec_8437_b46bfc7acf46row9_col1\" class=\"data row9 col1\" >0.5667</td>\n",
       "                        <td id=\"T_8d97d768_7b36_11ec_8437_b46bfc7acf46row9_col2\" class=\"data row9 col2\" >0.5604</td>\n",
       "                        <td id=\"T_8d97d768_7b36_11ec_8437_b46bfc7acf46row9_col3\" class=\"data row9 col3\" >0.8150</td>\n",
       "                        <td id=\"T_8d97d768_7b36_11ec_8437_b46bfc7acf46row9_col4\" class=\"data row9 col4\" >0.6210</td>\n",
       "                        <td id=\"T_8d97d768_7b36_11ec_8437_b46bfc7acf46row9_col5\" class=\"data row9 col5\" >0.6938</td>\n",
       "                        <td id=\"T_8d97d768_7b36_11ec_8437_b46bfc7acf46row9_col6\" class=\"data row9 col6\" >0.0269</td>\n",
       "                        <td id=\"T_8d97d768_7b36_11ec_8437_b46bfc7acf46row9_col7\" class=\"data row9 col7\" >0.0143</td>\n",
       "                        <td id=\"T_8d97d768_7b36_11ec_8437_b46bfc7acf46row9_col8\" class=\"data row9 col8\" >0.0130</td>\n",
       "            </tr>\n",
       "            <tr>\n",
       "                        <th id=\"T_8d97d768_7b36_11ec_8437_b46bfc7acf46level0_row10\" class=\"row_heading level0 row10\" >nb</th>\n",
       "                        <td id=\"T_8d97d768_7b36_11ec_8437_b46bfc7acf46row10_col0\" class=\"data row10 col0\" >Naive Bayes</td>\n",
       "                        <td id=\"T_8d97d768_7b36_11ec_8437_b46bfc7acf46row10_col1\" class=\"data row10 col1\" >0.5548</td>\n",
       "                        <td id=\"T_8d97d768_7b36_11ec_8437_b46bfc7acf46row10_col2\" class=\"data row10 col2\" >0.6467</td>\n",
       "                        <td id=\"T_8d97d768_7b36_11ec_8437_b46bfc7acf46row10_col3\" class=\"data row10 col3\" >0.6300</td>\n",
       "                        <td id=\"T_8d97d768_7b36_11ec_8437_b46bfc7acf46row10_col4\" class=\"data row10 col4\" >0.6255</td>\n",
       "                        <td id=\"T_8d97d768_7b36_11ec_8437_b46bfc7acf46row10_col5\" class=\"data row10 col5\" >0.6045</td>\n",
       "                        <td id=\"T_8d97d768_7b36_11ec_8437_b46bfc7acf46row10_col6\" class=\"data row10 col6\" >0.0955</td>\n",
       "                        <td id=\"T_8d97d768_7b36_11ec_8437_b46bfc7acf46row10_col7\" class=\"data row10 col7\" >0.0940</td>\n",
       "                        <td id=\"T_8d97d768_7b36_11ec_8437_b46bfc7acf46row10_col8\" class=\"data row10 col8\" >0.0080</td>\n",
       "            </tr>\n",
       "            <tr>\n",
       "                        <th id=\"T_8d97d768_7b36_11ec_8437_b46bfc7acf46level0_row11\" class=\"row_heading level0 row11\" >svm</th>\n",
       "                        <td id=\"T_8d97d768_7b36_11ec_8437_b46bfc7acf46row11_col0\" class=\"data row11 col0\" >SVM - Linear Kernel</td>\n",
       "                        <td id=\"T_8d97d768_7b36_11ec_8437_b46bfc7acf46row11_col1\" class=\"data row11 col1\" >0.5548</td>\n",
       "                        <td id=\"T_8d97d768_7b36_11ec_8437_b46bfc7acf46row11_col2\" class=\"data row11 col2\" >0.0000</td>\n",
       "                        <td id=\"T_8d97d768_7b36_11ec_8437_b46bfc7acf46row11_col3\" class=\"data row11 col3\" >0.6300</td>\n",
       "                        <td id=\"T_8d97d768_7b36_11ec_8437_b46bfc7acf46row11_col4\" class=\"data row11 col4\" >0.6550</td>\n",
       "                        <td id=\"T_8d97d768_7b36_11ec_8437_b46bfc7acf46row11_col5\" class=\"data row11 col5\" >0.6150</td>\n",
       "                        <td id=\"T_8d97d768_7b36_11ec_8437_b46bfc7acf46row11_col6\" class=\"data row11 col6\" >0.0875</td>\n",
       "                        <td id=\"T_8d97d768_7b36_11ec_8437_b46bfc7acf46row11_col7\" class=\"data row11 col7\" >0.0984</td>\n",
       "                        <td id=\"T_8d97d768_7b36_11ec_8437_b46bfc7acf46row11_col8\" class=\"data row11 col8\" >0.0070</td>\n",
       "            </tr>\n",
       "            <tr>\n",
       "                        <th id=\"T_8d97d768_7b36_11ec_8437_b46bfc7acf46level0_row12\" class=\"row_heading level0 row12\" >dt</th>\n",
       "                        <td id=\"T_8d97d768_7b36_11ec_8437_b46bfc7acf46row12_col0\" class=\"data row12 col0\" >Decision Tree Classifier</td>\n",
       "                        <td id=\"T_8d97d768_7b36_11ec_8437_b46bfc7acf46row12_col1\" class=\"data row12 col1\" >0.5500</td>\n",
       "                        <td id=\"T_8d97d768_7b36_11ec_8437_b46bfc7acf46row12_col2\" class=\"data row12 col2\" >0.5050</td>\n",
       "                        <td id=\"T_8d97d768_7b36_11ec_8437_b46bfc7acf46row12_col3\" class=\"data row12 col3\" >0.7100</td>\n",
       "                        <td id=\"T_8d97d768_7b36_11ec_8437_b46bfc7acf46row12_col4\" class=\"data row12 col4\" >0.6005</td>\n",
       "                        <td id=\"T_8d97d768_7b36_11ec_8437_b46bfc7acf46row12_col5\" class=\"data row12 col5\" >0.6435</td>\n",
       "                        <td id=\"T_8d97d768_7b36_11ec_8437_b46bfc7acf46row12_col6\" class=\"data row12 col6\" >0.0091</td>\n",
       "                        <td id=\"T_8d97d768_7b36_11ec_8437_b46bfc7acf46row12_col7\" class=\"data row12 col7\" >0.0002</td>\n",
       "                        <td id=\"T_8d97d768_7b36_11ec_8437_b46bfc7acf46row12_col8\" class=\"data row12 col8\" >0.0060</td>\n",
       "            </tr>\n",
       "            <tr>\n",
       "                        <th id=\"T_8d97d768_7b36_11ec_8437_b46bfc7acf46level0_row13\" class=\"row_heading level0 row13\" >lda</th>\n",
       "                        <td id=\"T_8d97d768_7b36_11ec_8437_b46bfc7acf46row13_col0\" class=\"data row13 col0\" >Linear Discriminant Analysis</td>\n",
       "                        <td id=\"T_8d97d768_7b36_11ec_8437_b46bfc7acf46row13_col1\" class=\"data row13 col1\" >0.5405</td>\n",
       "                        <td id=\"T_8d97d768_7b36_11ec_8437_b46bfc7acf46row13_col2\" class=\"data row13 col2\" >0.4950</td>\n",
       "                        <td id=\"T_8d97d768_7b36_11ec_8437_b46bfc7acf46row13_col3\" class=\"data row13 col3\" >0.6450</td>\n",
       "                        <td id=\"T_8d97d768_7b36_11ec_8437_b46bfc7acf46row13_col4\" class=\"data row13 col4\" >0.6083</td>\n",
       "                        <td id=\"T_8d97d768_7b36_11ec_8437_b46bfc7acf46row13_col5\" class=\"data row13 col5\" >0.6140</td>\n",
       "                        <td id=\"T_8d97d768_7b36_11ec_8437_b46bfc7acf46row13_col6\" class=\"data row13 col6\" >0.0374</td>\n",
       "                        <td id=\"T_8d97d768_7b36_11ec_8437_b46bfc7acf46row13_col7\" class=\"data row13 col7\" >0.0411</td>\n",
       "                        <td id=\"T_8d97d768_7b36_11ec_8437_b46bfc7acf46row13_col8\" class=\"data row13 col8\" >0.0060</td>\n",
       "            </tr>\n",
       "            <tr>\n",
       "                        <th id=\"T_8d97d768_7b36_11ec_8437_b46bfc7acf46level0_row14\" class=\"row_heading level0 row14\" >ada</th>\n",
       "                        <td id=\"T_8d97d768_7b36_11ec_8437_b46bfc7acf46row14_col0\" class=\"data row14 col0\" >Ada Boost Classifier</td>\n",
       "                        <td id=\"T_8d97d768_7b36_11ec_8437_b46bfc7acf46row14_col1\" class=\"data row14 col1\" >0.5381</td>\n",
       "                        <td id=\"T_8d97d768_7b36_11ec_8437_b46bfc7acf46row14_col2\" class=\"data row14 col2\" >0.5550</td>\n",
       "                        <td id=\"T_8d97d768_7b36_11ec_8437_b46bfc7acf46row14_col3\" class=\"data row14 col3\" >0.6450</td>\n",
       "                        <td id=\"T_8d97d768_7b36_11ec_8437_b46bfc7acf46row14_col4\" class=\"data row14 col4\" >0.6183</td>\n",
       "                        <td id=\"T_8d97d768_7b36_11ec_8437_b46bfc7acf46row14_col5\" class=\"data row14 col5\" >0.6221</td>\n",
       "                        <td id=\"T_8d97d768_7b36_11ec_8437_b46bfc7acf46row14_col6\" class=\"data row14 col6\" >0.0262</td>\n",
       "                        <td id=\"T_8d97d768_7b36_11ec_8437_b46bfc7acf46row14_col7\" class=\"data row14 col7\" >0.0308</td>\n",
       "                        <td id=\"T_8d97d768_7b36_11ec_8437_b46bfc7acf46row14_col8\" class=\"data row14 col8\" >0.0320</td>\n",
       "            </tr>\n",
       "    </tbody></table>"
      ],
      "text/plain": [
       "<pandas.io.formats.style.Styler at 0x1992706fcd0>"
      ]
     },
     "metadata": {},
     "output_type": "display_data"
    },
    {
     "name": "stdout",
     "output_type": "stream",
     "text": [
      "LGBMClassifier(boosting_type='gbdt', class_weight=None, colsample_bytree=1.0,\n",
      "               importance_type='split', learning_rate=0.1, max_depth=-1,\n",
      "               min_child_samples=20, min_child_weight=0.001, min_split_gain=0.0,\n",
      "               n_estimators=100, n_jobs=-1, num_leaves=31, objective=None,\n",
      "               random_state=8752, reg_alpha=0.0, reg_lambda=0.0, silent='warn',\n",
      "               subsample=1.0, subsample_for_bin=200000, subsample_freq=0)\n"
     ]
    }
   ],
   "source": [
    "get_best_model(df3)"
   ]
  },
  {
   "cell_type": "markdown",
   "metadata": {},
   "source": [
    "So far all 3 datasets are between 60% to 70% accurate on the best model chosen by AutoML. We need to bring this up to at least 73% accuracy. We will need to go back and continue feature engineering by bootstrapping on the original dataset to prevent any overfitting and downsample the data to an equal number based on the target variable of happy and unhappy customers."
   ]
  },
  {
   "cell_type": "markdown",
   "metadata": {},
   "source": [
    "## FEATURE ENGINEERING: 2ND ROUND"
   ]
  },
  {
   "cell_type": "markdown",
   "metadata": {},
   "source": [
    "### BOOTSTRAPPING"
   ]
  },
  {
   "cell_type": "code",
   "execution_count": 31,
   "metadata": {},
   "outputs": [],
   "source": [
    "# create a function for bootstrapping\n",
    "\n",
    "def bootstrapping(array, n_sample, n_iters):\n",
    "    \n",
    "    boot = []\n",
    "    \n",
    "    for i in range(n_iters):\n",
    "        # choose a random index number between 0 to n_sample with replacement\n",
    "        index = np.random.choice(range(n_sample), replace=True)\n",
    "        # store value in a temp variable\n",
    "        sample = array[index]\n",
    "        # append to list\n",
    "        boot.append(sample)\n",
    "        \n",
    "    return boot"
   ]
  },
  {
   "cell_type": "code",
   "execution_count": 32,
   "metadata": {
    "scrolled": true
   },
   "outputs": [
    {
     "name": "stdout",
     "output_type": "stream",
     "text": [
      " Happy Customers: 69\n",
      " Unhappy Customers: 57\n"
     ]
    }
   ],
   "source": [
    "# split the dataset into happy and unhappy customers\n",
    "happy_df = df[df.happiness == 1].reset_index(drop=True)\n",
    "unhappy_df = df[df.happiness == 0].reset_index(drop=True)\n",
    "\n",
    "print(f' Happy Customers: {len(happy_df)}\\n Unhappy Customers: {len(unhappy_df)}')"
   ]
  },
  {
   "cell_type": "code",
   "execution_count": 33,
   "metadata": {},
   "outputs": [],
   "source": [
    "# create an array for happy and unhappy values to sample from\n",
    "happy_array = happy_df.values\n",
    "unhappy_array = unhappy_df.values"
   ]
  },
  {
   "cell_type": "code",
   "execution_count": 34,
   "metadata": {},
   "outputs": [],
   "source": [
    "# create a boot to store happy customers at 100 iterations, choosing from the full range of the array\n",
    "happy_boot = bootstrapping(happy_array, n_sample=len(happy_array), n_iters=100)\n",
    "\n",
    "# create a boot to store unhappy customers at 100 iterations, choosing from the full range of the array\n",
    "unhappy_boot = bootstrapping(unhappy_array, n_sample=len(unhappy_array), n_iters=100)"
   ]
  },
  {
   "cell_type": "markdown",
   "metadata": {},
   "source": [
    "### DOWNSAMPLING"
   ]
  },
  {
   "cell_type": "markdown",
   "metadata": {},
   "source": [
    "Now we want to downsample to 57 happy and unhappy customers each for a total of 114 customers."
   ]
  },
  {
   "cell_type": "markdown",
   "metadata": {},
   "source": [
    "From our 100 random samples in each boot, we will now downsample the data of happy and unhappy customers to original sample number of 57 happy and unhappy customers each."
   ]
  },
  {
   "cell_type": "code",
   "execution_count": 35,
   "metadata": {},
   "outputs": [
    {
     "name": "stdout",
     "output_type": "stream",
     "text": [
      " Happy Customers: 57\n",
      " Unhappy Customers: 57\n"
     ]
    }
   ],
   "source": [
    "# set the new iteration to 57, the total number of unhappy customers\n",
    "iters = 57\n",
    "\n",
    "# set the sample to the length of either happy_boot or unhappy_boot.\n",
    "# since both are equal it doesn't really matter, but we will test this to make sure.\n",
    "\n",
    "if len(happy_boot) == len(unhappy_boot):\n",
    "    sample = len(happy_boot)\n",
    "    \n",
    "# create a new list of happy customers from the boot we created\n",
    "happy_customers = bootstrapping(happy_boot, sample, iters)\n",
    "\n",
    "# create a new list of unhappy customers from the boot we created\n",
    "unhappy_customers = bootstrapping(unhappy_boot, sample, iters)\n",
    "\n",
    "# confirm length of each new list\n",
    "print(f' Happy Customers: {len(happy_customers)}\\n Unhappy Customers: {len(unhappy_customers)}')"
   ]
  },
  {
   "cell_type": "markdown",
   "metadata": {},
   "source": [
    "We can now combine our happy and unhappy customers into a new dataset."
   ]
  },
  {
   "cell_type": "code",
   "execution_count": 36,
   "metadata": {},
   "outputs": [],
   "source": [
    "# create a dataframe of happy customers\n",
    "happy_df = pd.DataFrame(happy_customers, columns=df.columns)\n",
    "\n",
    "# create a dataframe of unhappy customers\n",
    "unhappy_df = pd.DataFrame(unhappy_customers, columns=df.columns)\n",
    "\n",
    "#combine both dataframe into our new dataset\n",
    "cleaned_df = pd.concat([happy_df, unhappy_df], axis=0).reset_index(drop=True)"
   ]
  },
  {
   "cell_type": "markdown",
   "metadata": {},
   "source": [
    "### CREATE NEW DUMMY VARIABLES"
   ]
  },
  {
   "cell_type": "code",
   "execution_count": 37,
   "metadata": {},
   "outputs": [],
   "source": [
    "# drop order_satisfaction and price_satisfaction\n",
    "df1 = cleaned_df[['happiness','delivered_time', 'order_completed','courier_satisfaction', 'app_satisfaction']]\n",
    "\n",
    "df1 = pd.get_dummies(df1, columns = ['delivered_time', 'order_completed','courier_satisfaction', \n",
    "                                     'app_satisfaction'], drop_first = False)\n",
    "\n",
    "#drop order_satisfaction\n",
    "df2 = cleaned_df[['happiness','delivered_time', 'order_completed','courier_satisfaction', 'app_satisfaction', \n",
    "            'price_satisfaction']]\n",
    "\n",
    "df2 = pd.get_dummies(df2, columns = ['delivered_time', 'order_completed','courier_satisfaction', \n",
    "                                      'app_satisfaction', 'price_satisfaction'], drop_first = False)\n",
    "#use all features\n",
    "df3 = cleaned_df[['happiness','delivered_time', 'order_satisfaction', 'order_completed', 'price_satisfaction', \n",
    "            'courier_satisfaction', 'app_satisfaction']]\n",
    "\n",
    "df3 = pd.get_dummies(df3, columns = ['delivered_time', 'order_satisfaction', 'order_completed', 'price_satisfaction', \n",
    "                                     'courier_satisfaction', 'app_satisfaction'], drop_first = False)"
   ]
  },
  {
   "cell_type": "markdown",
   "metadata": {},
   "source": [
    "### TRAIN TEST SPLIT"
   ]
  },
  {
   "cell_type": "code",
   "execution_count": 38,
   "metadata": {},
   "outputs": [],
   "source": [
    "# divide each dataset into a train and test set and recombine X_train and y_train into our new training dataset\n",
    "\n",
    "#df1\n",
    "X1 = df1.drop(columns='happiness', axis=1)\n",
    "y1 = df1.happiness\n",
    "\n",
    "X1_train, X1_test, y1_train, y1_test = train_test_split(X1, y1, test_size = 0.2, random_state = 42)\n",
    "\n",
    "df1 = create_df(X1_train, y1_train)\n",
    "\n",
    "# df2\n",
    "X2 = df2.drop(columns='happiness', axis=1)\n",
    "y2 = df2.happiness\n",
    "\n",
    "X2_train, X2_test, y2_train, y2_test = train_test_split(X2, y2, test_size = 0.2, random_state = 42)\n",
    "\n",
    "df2 = create_df(X2_train, y2_train)\n",
    "\n",
    "# df3\n",
    "X3 = df3.drop(columns='happiness', axis=1)\n",
    "y3 = df3.happiness\n",
    "\n",
    "X3_train, X3_test, y3_train, y3_test = train_test_split(X3, y3, test_size = 0.2, random_state = 42)\n",
    "\n",
    "df3 = create_df(X3_train, y3_train)"
   ]
  },
  {
   "cell_type": "markdown",
   "metadata": {},
   "source": [
    "We should now have a training dataset of 91 data points. Let's see if anything if the best model has changed for each dataset has changed."
   ]
  },
  {
   "cell_type": "code",
   "execution_count": 39,
   "metadata": {
    "scrolled": false
   },
   "outputs": [
    {
     "data": {
      "text/html": [
       "<style  type=\"text/css\" >\n",
       "    #T_92aa4aa5_7b36_11ec_a6e5_b46bfc7acf46 th {\n",
       "          text-align: left;\n",
       "    }#T_92aa4aa5_7b36_11ec_a6e5_b46bfc7acf46row0_col0,#T_92aa4aa5_7b36_11ec_a6e5_b46bfc7acf46row0_col2,#T_92aa4aa5_7b36_11ec_a6e5_b46bfc7acf46row0_col3,#T_92aa4aa5_7b36_11ec_a6e5_b46bfc7acf46row1_col0,#T_92aa4aa5_7b36_11ec_a6e5_b46bfc7acf46row1_col1,#T_92aa4aa5_7b36_11ec_a6e5_b46bfc7acf46row1_col2,#T_92aa4aa5_7b36_11ec_a6e5_b46bfc7acf46row1_col3,#T_92aa4aa5_7b36_11ec_a6e5_b46bfc7acf46row1_col4,#T_92aa4aa5_7b36_11ec_a6e5_b46bfc7acf46row1_col5,#T_92aa4aa5_7b36_11ec_a6e5_b46bfc7acf46row1_col6,#T_92aa4aa5_7b36_11ec_a6e5_b46bfc7acf46row1_col7,#T_92aa4aa5_7b36_11ec_a6e5_b46bfc7acf46row2_col0,#T_92aa4aa5_7b36_11ec_a6e5_b46bfc7acf46row2_col1,#T_92aa4aa5_7b36_11ec_a6e5_b46bfc7acf46row2_col2,#T_92aa4aa5_7b36_11ec_a6e5_b46bfc7acf46row2_col3,#T_92aa4aa5_7b36_11ec_a6e5_b46bfc7acf46row2_col4,#T_92aa4aa5_7b36_11ec_a6e5_b46bfc7acf46row2_col5,#T_92aa4aa5_7b36_11ec_a6e5_b46bfc7acf46row2_col6,#T_92aa4aa5_7b36_11ec_a6e5_b46bfc7acf46row2_col7,#T_92aa4aa5_7b36_11ec_a6e5_b46bfc7acf46row3_col0,#T_92aa4aa5_7b36_11ec_a6e5_b46bfc7acf46row3_col1,#T_92aa4aa5_7b36_11ec_a6e5_b46bfc7acf46row3_col2,#T_92aa4aa5_7b36_11ec_a6e5_b46bfc7acf46row3_col3,#T_92aa4aa5_7b36_11ec_a6e5_b46bfc7acf46row3_col4,#T_92aa4aa5_7b36_11ec_a6e5_b46bfc7acf46row3_col5,#T_92aa4aa5_7b36_11ec_a6e5_b46bfc7acf46row3_col6,#T_92aa4aa5_7b36_11ec_a6e5_b46bfc7acf46row3_col7,#T_92aa4aa5_7b36_11ec_a6e5_b46bfc7acf46row4_col0,#T_92aa4aa5_7b36_11ec_a6e5_b46bfc7acf46row4_col1,#T_92aa4aa5_7b36_11ec_a6e5_b46bfc7acf46row4_col2,#T_92aa4aa5_7b36_11ec_a6e5_b46bfc7acf46row4_col3,#T_92aa4aa5_7b36_11ec_a6e5_b46bfc7acf46row4_col4,#T_92aa4aa5_7b36_11ec_a6e5_b46bfc7acf46row4_col5,#T_92aa4aa5_7b36_11ec_a6e5_b46bfc7acf46row4_col6,#T_92aa4aa5_7b36_11ec_a6e5_b46bfc7acf46row4_col7,#T_92aa4aa5_7b36_11ec_a6e5_b46bfc7acf46row5_col0,#T_92aa4aa5_7b36_11ec_a6e5_b46bfc7acf46row5_col1,#T_92aa4aa5_7b36_11ec_a6e5_b46bfc7acf46row5_col2,#T_92aa4aa5_7b36_11ec_a6e5_b46bfc7acf46row5_col3,#T_92aa4aa5_7b36_11ec_a6e5_b46bfc7acf46row5_col4,#T_92aa4aa5_7b36_11ec_a6e5_b46bfc7acf46row5_col5,#T_92aa4aa5_7b36_11ec_a6e5_b46bfc7acf46row5_col6,#T_92aa4aa5_7b36_11ec_a6e5_b46bfc7acf46row5_col7,#T_92aa4aa5_7b36_11ec_a6e5_b46bfc7acf46row6_col0,#T_92aa4aa5_7b36_11ec_a6e5_b46bfc7acf46row6_col1,#T_92aa4aa5_7b36_11ec_a6e5_b46bfc7acf46row6_col2,#T_92aa4aa5_7b36_11ec_a6e5_b46bfc7acf46row6_col3,#T_92aa4aa5_7b36_11ec_a6e5_b46bfc7acf46row6_col4,#T_92aa4aa5_7b36_11ec_a6e5_b46bfc7acf46row6_col5,#T_92aa4aa5_7b36_11ec_a6e5_b46bfc7acf46row6_col6,#T_92aa4aa5_7b36_11ec_a6e5_b46bfc7acf46row6_col7,#T_92aa4aa5_7b36_11ec_a6e5_b46bfc7acf46row7_col0,#T_92aa4aa5_7b36_11ec_a6e5_b46bfc7acf46row7_col1,#T_92aa4aa5_7b36_11ec_a6e5_b46bfc7acf46row7_col2,#T_92aa4aa5_7b36_11ec_a6e5_b46bfc7acf46row7_col3,#T_92aa4aa5_7b36_11ec_a6e5_b46bfc7acf46row7_col4,#T_92aa4aa5_7b36_11ec_a6e5_b46bfc7acf46row7_col5,#T_92aa4aa5_7b36_11ec_a6e5_b46bfc7acf46row7_col6,#T_92aa4aa5_7b36_11ec_a6e5_b46bfc7acf46row7_col7,#T_92aa4aa5_7b36_11ec_a6e5_b46bfc7acf46row8_col0,#T_92aa4aa5_7b36_11ec_a6e5_b46bfc7acf46row8_col1,#T_92aa4aa5_7b36_11ec_a6e5_b46bfc7acf46row8_col2,#T_92aa4aa5_7b36_11ec_a6e5_b46bfc7acf46row8_col3,#T_92aa4aa5_7b36_11ec_a6e5_b46bfc7acf46row8_col4,#T_92aa4aa5_7b36_11ec_a6e5_b46bfc7acf46row8_col5,#T_92aa4aa5_7b36_11ec_a6e5_b46bfc7acf46row8_col6,#T_92aa4aa5_7b36_11ec_a6e5_b46bfc7acf46row8_col7,#T_92aa4aa5_7b36_11ec_a6e5_b46bfc7acf46row9_col0,#T_92aa4aa5_7b36_11ec_a6e5_b46bfc7acf46row9_col1,#T_92aa4aa5_7b36_11ec_a6e5_b46bfc7acf46row9_col3,#T_92aa4aa5_7b36_11ec_a6e5_b46bfc7acf46row9_col4,#T_92aa4aa5_7b36_11ec_a6e5_b46bfc7acf46row9_col5,#T_92aa4aa5_7b36_11ec_a6e5_b46bfc7acf46row9_col6,#T_92aa4aa5_7b36_11ec_a6e5_b46bfc7acf46row9_col7,#T_92aa4aa5_7b36_11ec_a6e5_b46bfc7acf46row10_col0,#T_92aa4aa5_7b36_11ec_a6e5_b46bfc7acf46row10_col1,#T_92aa4aa5_7b36_11ec_a6e5_b46bfc7acf46row10_col2,#T_92aa4aa5_7b36_11ec_a6e5_b46bfc7acf46row10_col3,#T_92aa4aa5_7b36_11ec_a6e5_b46bfc7acf46row10_col4,#T_92aa4aa5_7b36_11ec_a6e5_b46bfc7acf46row10_col5,#T_92aa4aa5_7b36_11ec_a6e5_b46bfc7acf46row10_col6,#T_92aa4aa5_7b36_11ec_a6e5_b46bfc7acf46row10_col7,#T_92aa4aa5_7b36_11ec_a6e5_b46bfc7acf46row11_col0,#T_92aa4aa5_7b36_11ec_a6e5_b46bfc7acf46row11_col1,#T_92aa4aa5_7b36_11ec_a6e5_b46bfc7acf46row11_col2,#T_92aa4aa5_7b36_11ec_a6e5_b46bfc7acf46row11_col3,#T_92aa4aa5_7b36_11ec_a6e5_b46bfc7acf46row11_col4,#T_92aa4aa5_7b36_11ec_a6e5_b46bfc7acf46row11_col5,#T_92aa4aa5_7b36_11ec_a6e5_b46bfc7acf46row11_col6,#T_92aa4aa5_7b36_11ec_a6e5_b46bfc7acf46row11_col7,#T_92aa4aa5_7b36_11ec_a6e5_b46bfc7acf46row12_col0,#T_92aa4aa5_7b36_11ec_a6e5_b46bfc7acf46row12_col1,#T_92aa4aa5_7b36_11ec_a6e5_b46bfc7acf46row12_col2,#T_92aa4aa5_7b36_11ec_a6e5_b46bfc7acf46row12_col3,#T_92aa4aa5_7b36_11ec_a6e5_b46bfc7acf46row12_col4,#T_92aa4aa5_7b36_11ec_a6e5_b46bfc7acf46row12_col5,#T_92aa4aa5_7b36_11ec_a6e5_b46bfc7acf46row12_col6,#T_92aa4aa5_7b36_11ec_a6e5_b46bfc7acf46row12_col7,#T_92aa4aa5_7b36_11ec_a6e5_b46bfc7acf46row13_col0,#T_92aa4aa5_7b36_11ec_a6e5_b46bfc7acf46row13_col1,#T_92aa4aa5_7b36_11ec_a6e5_b46bfc7acf46row13_col2,#T_92aa4aa5_7b36_11ec_a6e5_b46bfc7acf46row13_col4,#T_92aa4aa5_7b36_11ec_a6e5_b46bfc7acf46row13_col5,#T_92aa4aa5_7b36_11ec_a6e5_b46bfc7acf46row13_col6,#T_92aa4aa5_7b36_11ec_a6e5_b46bfc7acf46row13_col7,#T_92aa4aa5_7b36_11ec_a6e5_b46bfc7acf46row14_col0,#T_92aa4aa5_7b36_11ec_a6e5_b46bfc7acf46row14_col1,#T_92aa4aa5_7b36_11ec_a6e5_b46bfc7acf46row14_col2,#T_92aa4aa5_7b36_11ec_a6e5_b46bfc7acf46row14_col3,#T_92aa4aa5_7b36_11ec_a6e5_b46bfc7acf46row14_col4,#T_92aa4aa5_7b36_11ec_a6e5_b46bfc7acf46row14_col5,#T_92aa4aa5_7b36_11ec_a6e5_b46bfc7acf46row14_col6,#T_92aa4aa5_7b36_11ec_a6e5_b46bfc7acf46row14_col7{\n",
       "            text-align:  left;\n",
       "            text-align:  left;\n",
       "        }#T_92aa4aa5_7b36_11ec_a6e5_b46bfc7acf46row0_col1,#T_92aa4aa5_7b36_11ec_a6e5_b46bfc7acf46row0_col4,#T_92aa4aa5_7b36_11ec_a6e5_b46bfc7acf46row0_col5,#T_92aa4aa5_7b36_11ec_a6e5_b46bfc7acf46row0_col6,#T_92aa4aa5_7b36_11ec_a6e5_b46bfc7acf46row0_col7,#T_92aa4aa5_7b36_11ec_a6e5_b46bfc7acf46row9_col2,#T_92aa4aa5_7b36_11ec_a6e5_b46bfc7acf46row13_col3{\n",
       "            text-align:  left;\n",
       "            text-align:  left;\n",
       "            background-color:  yellow;\n",
       "        }#T_92aa4aa5_7b36_11ec_a6e5_b46bfc7acf46row0_col8,#T_92aa4aa5_7b36_11ec_a6e5_b46bfc7acf46row1_col8,#T_92aa4aa5_7b36_11ec_a6e5_b46bfc7acf46row2_col8,#T_92aa4aa5_7b36_11ec_a6e5_b46bfc7acf46row3_col8,#T_92aa4aa5_7b36_11ec_a6e5_b46bfc7acf46row6_col8,#T_92aa4aa5_7b36_11ec_a6e5_b46bfc7acf46row7_col8,#T_92aa4aa5_7b36_11ec_a6e5_b46bfc7acf46row8_col8,#T_92aa4aa5_7b36_11ec_a6e5_b46bfc7acf46row9_col8,#T_92aa4aa5_7b36_11ec_a6e5_b46bfc7acf46row10_col8,#T_92aa4aa5_7b36_11ec_a6e5_b46bfc7acf46row11_col8,#T_92aa4aa5_7b36_11ec_a6e5_b46bfc7acf46row12_col8,#T_92aa4aa5_7b36_11ec_a6e5_b46bfc7acf46row13_col8,#T_92aa4aa5_7b36_11ec_a6e5_b46bfc7acf46row14_col8{\n",
       "            text-align:  left;\n",
       "            text-align:  left;\n",
       "            background-color:  lightgrey;\n",
       "        }#T_92aa4aa5_7b36_11ec_a6e5_b46bfc7acf46row4_col8,#T_92aa4aa5_7b36_11ec_a6e5_b46bfc7acf46row5_col8{\n",
       "            text-align:  left;\n",
       "            text-align:  left;\n",
       "            background-color:  yellow;\n",
       "            background-color:  lightgrey;\n",
       "        }</style><table id=\"T_92aa4aa5_7b36_11ec_a6e5_b46bfc7acf46\" ><thead>    <tr>        <th class=\"blank level0\" ></th>        <th class=\"col_heading level0 col0\" >Model</th>        <th class=\"col_heading level0 col1\" >Accuracy</th>        <th class=\"col_heading level0 col2\" >AUC</th>        <th class=\"col_heading level0 col3\" >Recall</th>        <th class=\"col_heading level0 col4\" >Prec.</th>        <th class=\"col_heading level0 col5\" >F1</th>        <th class=\"col_heading level0 col6\" >Kappa</th>        <th class=\"col_heading level0 col7\" >MCC</th>        <th class=\"col_heading level0 col8\" >TT (Sec)</th>    </tr></thead><tbody>\n",
       "                <tr>\n",
       "                        <th id=\"T_92aa4aa5_7b36_11ec_a6e5_b46bfc7acf46level0_row0\" class=\"row_heading level0 row0\" >rf</th>\n",
       "                        <td id=\"T_92aa4aa5_7b36_11ec_a6e5_b46bfc7acf46row0_col0\" class=\"data row0 col0\" >Random Forest Classifier</td>\n",
       "                        <td id=\"T_92aa4aa5_7b36_11ec_a6e5_b46bfc7acf46row0_col1\" class=\"data row0 col1\" >0.7405</td>\n",
       "                        <td id=\"T_92aa4aa5_7b36_11ec_a6e5_b46bfc7acf46row0_col2\" class=\"data row0 col2\" >0.7847</td>\n",
       "                        <td id=\"T_92aa4aa5_7b36_11ec_a6e5_b46bfc7acf46row0_col3\" class=\"data row0 col3\" >0.8333</td>\n",
       "                        <td id=\"T_92aa4aa5_7b36_11ec_a6e5_b46bfc7acf46row0_col4\" class=\"data row0 col4\" >0.7100</td>\n",
       "                        <td id=\"T_92aa4aa5_7b36_11ec_a6e5_b46bfc7acf46row0_col5\" class=\"data row0 col5\" >0.7398</td>\n",
       "                        <td id=\"T_92aa4aa5_7b36_11ec_a6e5_b46bfc7acf46row0_col6\" class=\"data row0 col6\" >0.4911</td>\n",
       "                        <td id=\"T_92aa4aa5_7b36_11ec_a6e5_b46bfc7acf46row0_col7\" class=\"data row0 col7\" >0.5365</td>\n",
       "                        <td id=\"T_92aa4aa5_7b36_11ec_a6e5_b46bfc7acf46row0_col8\" class=\"data row0 col8\" >0.0850</td>\n",
       "            </tr>\n",
       "            <tr>\n",
       "                        <th id=\"T_92aa4aa5_7b36_11ec_a6e5_b46bfc7acf46level0_row1\" class=\"row_heading level0 row1\" >lightgbm</th>\n",
       "                        <td id=\"T_92aa4aa5_7b36_11ec_a6e5_b46bfc7acf46row1_col0\" class=\"data row1 col0\" >Light Gradient Boosting Machine</td>\n",
       "                        <td id=\"T_92aa4aa5_7b36_11ec_a6e5_b46bfc7acf46row1_col1\" class=\"data row1 col1\" >0.7286</td>\n",
       "                        <td id=\"T_92aa4aa5_7b36_11ec_a6e5_b46bfc7acf46row1_col2\" class=\"data row1 col2\" >0.7569</td>\n",
       "                        <td id=\"T_92aa4aa5_7b36_11ec_a6e5_b46bfc7acf46row1_col3\" class=\"data row1 col3\" >0.7167</td>\n",
       "                        <td id=\"T_92aa4aa5_7b36_11ec_a6e5_b46bfc7acf46row1_col4\" class=\"data row1 col4\" >0.6417</td>\n",
       "                        <td id=\"T_92aa4aa5_7b36_11ec_a6e5_b46bfc7acf46row1_col5\" class=\"data row1 col5\" >0.6676</td>\n",
       "                        <td id=\"T_92aa4aa5_7b36_11ec_a6e5_b46bfc7acf46row1_col6\" class=\"data row1 col6\" >0.4440</td>\n",
       "                        <td id=\"T_92aa4aa5_7b36_11ec_a6e5_b46bfc7acf46row1_col7\" class=\"data row1 col7\" >0.4581</td>\n",
       "                        <td id=\"T_92aa4aa5_7b36_11ec_a6e5_b46bfc7acf46row1_col8\" class=\"data row1 col8\" >0.0090</td>\n",
       "            </tr>\n",
       "            <tr>\n",
       "                        <th id=\"T_92aa4aa5_7b36_11ec_a6e5_b46bfc7acf46level0_row2\" class=\"row_heading level0 row2\" >lr</th>\n",
       "                        <td id=\"T_92aa4aa5_7b36_11ec_a6e5_b46bfc7acf46row2_col0\" class=\"data row2 col0\" >Logistic Regression</td>\n",
       "                        <td id=\"T_92aa4aa5_7b36_11ec_a6e5_b46bfc7acf46row2_col1\" class=\"data row2 col1\" >0.7119</td>\n",
       "                        <td id=\"T_92aa4aa5_7b36_11ec_a6e5_b46bfc7acf46row2_col2\" class=\"data row2 col2\" >0.7847</td>\n",
       "                        <td id=\"T_92aa4aa5_7b36_11ec_a6e5_b46bfc7acf46row2_col3\" class=\"data row2 col3\" >0.6833</td>\n",
       "                        <td id=\"T_92aa4aa5_7b36_11ec_a6e5_b46bfc7acf46row2_col4\" class=\"data row2 col4\" >0.6250</td>\n",
       "                        <td id=\"T_92aa4aa5_7b36_11ec_a6e5_b46bfc7acf46row2_col5\" class=\"data row2 col5\" >0.6429</td>\n",
       "                        <td id=\"T_92aa4aa5_7b36_11ec_a6e5_b46bfc7acf46row2_col6\" class=\"data row2 col6\" >0.4083</td>\n",
       "                        <td id=\"T_92aa4aa5_7b36_11ec_a6e5_b46bfc7acf46row2_col7\" class=\"data row2 col7\" >0.4205</td>\n",
       "                        <td id=\"T_92aa4aa5_7b36_11ec_a6e5_b46bfc7acf46row2_col8\" class=\"data row2 col8\" >0.0070</td>\n",
       "            </tr>\n",
       "            <tr>\n",
       "                        <th id=\"T_92aa4aa5_7b36_11ec_a6e5_b46bfc7acf46level0_row3\" class=\"row_heading level0 row3\" >gbc</th>\n",
       "                        <td id=\"T_92aa4aa5_7b36_11ec_a6e5_b46bfc7acf46row3_col0\" class=\"data row3 col0\" >Gradient Boosting Classifier</td>\n",
       "                        <td id=\"T_92aa4aa5_7b36_11ec_a6e5_b46bfc7acf46row3_col1\" class=\"data row3 col1\" >0.7095</td>\n",
       "                        <td id=\"T_92aa4aa5_7b36_11ec_a6e5_b46bfc7acf46row3_col2\" class=\"data row3 col2\" >0.7292</td>\n",
       "                        <td id=\"T_92aa4aa5_7b36_11ec_a6e5_b46bfc7acf46row3_col3\" class=\"data row3 col3\" >0.7667</td>\n",
       "                        <td id=\"T_92aa4aa5_7b36_11ec_a6e5_b46bfc7acf46row3_col4\" class=\"data row3 col4\" >0.6933</td>\n",
       "                        <td id=\"T_92aa4aa5_7b36_11ec_a6e5_b46bfc7acf46row3_col5\" class=\"data row3 col5\" >0.7017</td>\n",
       "                        <td id=\"T_92aa4aa5_7b36_11ec_a6e5_b46bfc7acf46row3_col6\" class=\"data row3 col6\" >0.4275</td>\n",
       "                        <td id=\"T_92aa4aa5_7b36_11ec_a6e5_b46bfc7acf46row3_col7\" class=\"data row3 col7\" >0.4658</td>\n",
       "                        <td id=\"T_92aa4aa5_7b36_11ec_a6e5_b46bfc7acf46row3_col8\" class=\"data row3 col8\" >0.0220</td>\n",
       "            </tr>\n",
       "            <tr>\n",
       "                        <th id=\"T_92aa4aa5_7b36_11ec_a6e5_b46bfc7acf46level0_row4\" class=\"row_heading level0 row4\" >ridge</th>\n",
       "                        <td id=\"T_92aa4aa5_7b36_11ec_a6e5_b46bfc7acf46row4_col0\" class=\"data row4 col0\" >Ridge Classifier</td>\n",
       "                        <td id=\"T_92aa4aa5_7b36_11ec_a6e5_b46bfc7acf46row4_col1\" class=\"data row4 col1\" >0.6976</td>\n",
       "                        <td id=\"T_92aa4aa5_7b36_11ec_a6e5_b46bfc7acf46row4_col2\" class=\"data row4 col2\" >0.0000</td>\n",
       "                        <td id=\"T_92aa4aa5_7b36_11ec_a6e5_b46bfc7acf46row4_col3\" class=\"data row4 col3\" >0.6833</td>\n",
       "                        <td id=\"T_92aa4aa5_7b36_11ec_a6e5_b46bfc7acf46row4_col4\" class=\"data row4 col4\" >0.5917</td>\n",
       "                        <td id=\"T_92aa4aa5_7b36_11ec_a6e5_b46bfc7acf46row4_col5\" class=\"data row4 col5\" >0.6295</td>\n",
       "                        <td id=\"T_92aa4aa5_7b36_11ec_a6e5_b46bfc7acf46row4_col6\" class=\"data row4 col6\" >0.3827</td>\n",
       "                        <td id=\"T_92aa4aa5_7b36_11ec_a6e5_b46bfc7acf46row4_col7\" class=\"data row4 col7\" >0.3914</td>\n",
       "                        <td id=\"T_92aa4aa5_7b36_11ec_a6e5_b46bfc7acf46row4_col8\" class=\"data row4 col8\" >0.0050</td>\n",
       "            </tr>\n",
       "            <tr>\n",
       "                        <th id=\"T_92aa4aa5_7b36_11ec_a6e5_b46bfc7acf46level0_row5\" class=\"row_heading level0 row5\" >dt</th>\n",
       "                        <td id=\"T_92aa4aa5_7b36_11ec_a6e5_b46bfc7acf46row5_col0\" class=\"data row5 col0\" >Decision Tree Classifier</td>\n",
       "                        <td id=\"T_92aa4aa5_7b36_11ec_a6e5_b46bfc7acf46row5_col1\" class=\"data row5 col1\" >0.6929</td>\n",
       "                        <td id=\"T_92aa4aa5_7b36_11ec_a6e5_b46bfc7acf46row5_col2\" class=\"data row5 col2\" >0.7201</td>\n",
       "                        <td id=\"T_92aa4aa5_7b36_11ec_a6e5_b46bfc7acf46row5_col3\" class=\"data row5 col3\" >0.7000</td>\n",
       "                        <td id=\"T_92aa4aa5_7b36_11ec_a6e5_b46bfc7acf46row5_col4\" class=\"data row5 col4\" >0.6517</td>\n",
       "                        <td id=\"T_92aa4aa5_7b36_11ec_a6e5_b46bfc7acf46row5_col5\" class=\"data row5 col5\" >0.6540</td>\n",
       "                        <td id=\"T_92aa4aa5_7b36_11ec_a6e5_b46bfc7acf46row5_col6\" class=\"data row5 col6\" >0.3708</td>\n",
       "                        <td id=\"T_92aa4aa5_7b36_11ec_a6e5_b46bfc7acf46row5_col7\" class=\"data row5 col7\" >0.4032</td>\n",
       "                        <td id=\"T_92aa4aa5_7b36_11ec_a6e5_b46bfc7acf46row5_col8\" class=\"data row5 col8\" >0.0050</td>\n",
       "            </tr>\n",
       "            <tr>\n",
       "                        <th id=\"T_92aa4aa5_7b36_11ec_a6e5_b46bfc7acf46level0_row6\" class=\"row_heading level0 row6\" >et</th>\n",
       "                        <td id=\"T_92aa4aa5_7b36_11ec_a6e5_b46bfc7acf46row6_col0\" class=\"data row6 col0\" >Extra Trees Classifier</td>\n",
       "                        <td id=\"T_92aa4aa5_7b36_11ec_a6e5_b46bfc7acf46row6_col1\" class=\"data row6 col1\" >0.6929</td>\n",
       "                        <td id=\"T_92aa4aa5_7b36_11ec_a6e5_b46bfc7acf46row6_col2\" class=\"data row6 col2\" >0.7438</td>\n",
       "                        <td id=\"T_92aa4aa5_7b36_11ec_a6e5_b46bfc7acf46row6_col3\" class=\"data row6 col3\" >0.7000</td>\n",
       "                        <td id=\"T_92aa4aa5_7b36_11ec_a6e5_b46bfc7acf46row6_col4\" class=\"data row6 col4\" >0.6517</td>\n",
       "                        <td id=\"T_92aa4aa5_7b36_11ec_a6e5_b46bfc7acf46row6_col5\" class=\"data row6 col5\" >0.6540</td>\n",
       "                        <td id=\"T_92aa4aa5_7b36_11ec_a6e5_b46bfc7acf46row6_col6\" class=\"data row6 col6\" >0.3708</td>\n",
       "                        <td id=\"T_92aa4aa5_7b36_11ec_a6e5_b46bfc7acf46row6_col7\" class=\"data row6 col7\" >0.4032</td>\n",
       "                        <td id=\"T_92aa4aa5_7b36_11ec_a6e5_b46bfc7acf46row6_col8\" class=\"data row6 col8\" >0.0740</td>\n",
       "            </tr>\n",
       "            <tr>\n",
       "                        <th id=\"T_92aa4aa5_7b36_11ec_a6e5_b46bfc7acf46level0_row7\" class=\"row_heading level0 row7\" >lda</th>\n",
       "                        <td id=\"T_92aa4aa5_7b36_11ec_a6e5_b46bfc7acf46row7_col0\" class=\"data row7 col0\" >Linear Discriminant Analysis</td>\n",
       "                        <td id=\"T_92aa4aa5_7b36_11ec_a6e5_b46bfc7acf46row7_col1\" class=\"data row7 col1\" >0.6833</td>\n",
       "                        <td id=\"T_92aa4aa5_7b36_11ec_a6e5_b46bfc7acf46row7_col2\" class=\"data row7 col2\" >0.7806</td>\n",
       "                        <td id=\"T_92aa4aa5_7b36_11ec_a6e5_b46bfc7acf46row7_col3\" class=\"data row7 col3\" >0.6500</td>\n",
       "                        <td id=\"T_92aa4aa5_7b36_11ec_a6e5_b46bfc7acf46row7_col4\" class=\"data row7 col4\" >0.5917</td>\n",
       "                        <td id=\"T_92aa4aa5_7b36_11ec_a6e5_b46bfc7acf46row7_col5\" class=\"data row7 col5\" >0.6095</td>\n",
       "                        <td id=\"T_92aa4aa5_7b36_11ec_a6e5_b46bfc7acf46row7_col6\" class=\"data row7 col6\" >0.3522</td>\n",
       "                        <td id=\"T_92aa4aa5_7b36_11ec_a6e5_b46bfc7acf46row7_col7\" class=\"data row7 col7\" >0.3645</td>\n",
       "                        <td id=\"T_92aa4aa5_7b36_11ec_a6e5_b46bfc7acf46row7_col8\" class=\"data row7 col8\" >0.0060</td>\n",
       "            </tr>\n",
       "            <tr>\n",
       "                        <th id=\"T_92aa4aa5_7b36_11ec_a6e5_b46bfc7acf46level0_row8\" class=\"row_heading level0 row8\" >ada</th>\n",
       "                        <td id=\"T_92aa4aa5_7b36_11ec_a6e5_b46bfc7acf46row8_col0\" class=\"data row8 col0\" >Ada Boost Classifier</td>\n",
       "                        <td id=\"T_92aa4aa5_7b36_11ec_a6e5_b46bfc7acf46row8_col1\" class=\"data row8 col1\" >0.6690</td>\n",
       "                        <td id=\"T_92aa4aa5_7b36_11ec_a6e5_b46bfc7acf46row8_col2\" class=\"data row8 col2\" >0.7431</td>\n",
       "                        <td id=\"T_92aa4aa5_7b36_11ec_a6e5_b46bfc7acf46row8_col3\" class=\"data row8 col3\" >0.6833</td>\n",
       "                        <td id=\"T_92aa4aa5_7b36_11ec_a6e5_b46bfc7acf46row8_col4\" class=\"data row8 col4\" >0.5817</td>\n",
       "                        <td id=\"T_92aa4aa5_7b36_11ec_a6e5_b46bfc7acf46row8_col5\" class=\"data row8 col5\" >0.6224</td>\n",
       "                        <td id=\"T_92aa4aa5_7b36_11ec_a6e5_b46bfc7acf46row8_col6\" class=\"data row8 col6\" >0.3317</td>\n",
       "                        <td id=\"T_92aa4aa5_7b36_11ec_a6e5_b46bfc7acf46row8_col7\" class=\"data row8 col7\" >0.3303</td>\n",
       "                        <td id=\"T_92aa4aa5_7b36_11ec_a6e5_b46bfc7acf46row8_col8\" class=\"data row8 col8\" >0.0310</td>\n",
       "            </tr>\n",
       "            <tr>\n",
       "                        <th id=\"T_92aa4aa5_7b36_11ec_a6e5_b46bfc7acf46level0_row9\" class=\"row_heading level0 row9\" >catboost</th>\n",
       "                        <td id=\"T_92aa4aa5_7b36_11ec_a6e5_b46bfc7acf46row9_col0\" class=\"data row9 col0\" >CatBoost Classifier</td>\n",
       "                        <td id=\"T_92aa4aa5_7b36_11ec_a6e5_b46bfc7acf46row9_col1\" class=\"data row9 col1\" >0.6667</td>\n",
       "                        <td id=\"T_92aa4aa5_7b36_11ec_a6e5_b46bfc7acf46row9_col2\" class=\"data row9 col2\" >0.7958</td>\n",
       "                        <td id=\"T_92aa4aa5_7b36_11ec_a6e5_b46bfc7acf46row9_col3\" class=\"data row9 col3\" >0.7333</td>\n",
       "                        <td id=\"T_92aa4aa5_7b36_11ec_a6e5_b46bfc7acf46row9_col4\" class=\"data row9 col4\" >0.5517</td>\n",
       "                        <td id=\"T_92aa4aa5_7b36_11ec_a6e5_b46bfc7acf46row9_col5\" class=\"data row9 col5\" >0.6179</td>\n",
       "                        <td id=\"T_92aa4aa5_7b36_11ec_a6e5_b46bfc7acf46row9_col6\" class=\"data row9 col6\" >0.3300</td>\n",
       "                        <td id=\"T_92aa4aa5_7b36_11ec_a6e5_b46bfc7acf46row9_col7\" class=\"data row9 col7\" >0.3654</td>\n",
       "                        <td id=\"T_92aa4aa5_7b36_11ec_a6e5_b46bfc7acf46row9_col8\" class=\"data row9 col8\" >0.2030</td>\n",
       "            </tr>\n",
       "            <tr>\n",
       "                        <th id=\"T_92aa4aa5_7b36_11ec_a6e5_b46bfc7acf46level0_row10\" class=\"row_heading level0 row10\" >knn</th>\n",
       "                        <td id=\"T_92aa4aa5_7b36_11ec_a6e5_b46bfc7acf46row10_col0\" class=\"data row10 col0\" >K Neighbors Classifier</td>\n",
       "                        <td id=\"T_92aa4aa5_7b36_11ec_a6e5_b46bfc7acf46row10_col1\" class=\"data row10 col1\" >0.6595</td>\n",
       "                        <td id=\"T_92aa4aa5_7b36_11ec_a6e5_b46bfc7acf46row10_col2\" class=\"data row10 col2\" >0.6472</td>\n",
       "                        <td id=\"T_92aa4aa5_7b36_11ec_a6e5_b46bfc7acf46row10_col3\" class=\"data row10 col3\" >0.7667</td>\n",
       "                        <td id=\"T_92aa4aa5_7b36_11ec_a6e5_b46bfc7acf46row10_col4\" class=\"data row10 col4\" >0.5767</td>\n",
       "                        <td id=\"T_92aa4aa5_7b36_11ec_a6e5_b46bfc7acf46row10_col5\" class=\"data row10 col5\" >0.6512</td>\n",
       "                        <td id=\"T_92aa4aa5_7b36_11ec_a6e5_b46bfc7acf46row10_col6\" class=\"data row10 col6\" >0.3113</td>\n",
       "                        <td id=\"T_92aa4aa5_7b36_11ec_a6e5_b46bfc7acf46row10_col7\" class=\"data row10 col7\" >0.3404</td>\n",
       "                        <td id=\"T_92aa4aa5_7b36_11ec_a6e5_b46bfc7acf46row10_col8\" class=\"data row10 col8\" >0.0120</td>\n",
       "            </tr>\n",
       "            <tr>\n",
       "                        <th id=\"T_92aa4aa5_7b36_11ec_a6e5_b46bfc7acf46level0_row11\" class=\"row_heading level0 row11\" >svm</th>\n",
       "                        <td id=\"T_92aa4aa5_7b36_11ec_a6e5_b46bfc7acf46row11_col0\" class=\"data row11 col0\" >SVM - Linear Kernel</td>\n",
       "                        <td id=\"T_92aa4aa5_7b36_11ec_a6e5_b46bfc7acf46row11_col1\" class=\"data row11 col1\" >0.6333</td>\n",
       "                        <td id=\"T_92aa4aa5_7b36_11ec_a6e5_b46bfc7acf46row11_col2\" class=\"data row11 col2\" >0.0000</td>\n",
       "                        <td id=\"T_92aa4aa5_7b36_11ec_a6e5_b46bfc7acf46row11_col3\" class=\"data row11 col3\" >0.4667</td>\n",
       "                        <td id=\"T_92aa4aa5_7b36_11ec_a6e5_b46bfc7acf46row11_col4\" class=\"data row11 col4\" >0.5267</td>\n",
       "                        <td id=\"T_92aa4aa5_7b36_11ec_a6e5_b46bfc7acf46row11_col5\" class=\"data row11 col5\" >0.4483</td>\n",
       "                        <td id=\"T_92aa4aa5_7b36_11ec_a6e5_b46bfc7acf46row11_col6\" class=\"data row11 col6\" >0.2175</td>\n",
       "                        <td id=\"T_92aa4aa5_7b36_11ec_a6e5_b46bfc7acf46row11_col7\" class=\"data row11 col7\" >0.2505</td>\n",
       "                        <td id=\"T_92aa4aa5_7b36_11ec_a6e5_b46bfc7acf46row11_col8\" class=\"data row11 col8\" >0.0070</td>\n",
       "            </tr>\n",
       "            <tr>\n",
       "                        <th id=\"T_92aa4aa5_7b36_11ec_a6e5_b46bfc7acf46level0_row12\" class=\"row_heading level0 row12\" >dummy</th>\n",
       "                        <td id=\"T_92aa4aa5_7b36_11ec_a6e5_b46bfc7acf46row12_col0\" class=\"data row12 col0\" >Dummy Classifier</td>\n",
       "                        <td id=\"T_92aa4aa5_7b36_11ec_a6e5_b46bfc7acf46row12_col1\" class=\"data row12 col1\" >0.5548</td>\n",
       "                        <td id=\"T_92aa4aa5_7b36_11ec_a6e5_b46bfc7acf46row12_col2\" class=\"data row12 col2\" >0.5000</td>\n",
       "                        <td id=\"T_92aa4aa5_7b36_11ec_a6e5_b46bfc7acf46row12_col3\" class=\"data row12 col3\" >0.0000</td>\n",
       "                        <td id=\"T_92aa4aa5_7b36_11ec_a6e5_b46bfc7acf46row12_col4\" class=\"data row12 col4\" >0.0000</td>\n",
       "                        <td id=\"T_92aa4aa5_7b36_11ec_a6e5_b46bfc7acf46row12_col5\" class=\"data row12 col5\" >0.0000</td>\n",
       "                        <td id=\"T_92aa4aa5_7b36_11ec_a6e5_b46bfc7acf46row12_col6\" class=\"data row12 col6\" >0.0000</td>\n",
       "                        <td id=\"T_92aa4aa5_7b36_11ec_a6e5_b46bfc7acf46row12_col7\" class=\"data row12 col7\" >0.0000</td>\n",
       "                        <td id=\"T_92aa4aa5_7b36_11ec_a6e5_b46bfc7acf46row12_col8\" class=\"data row12 col8\" >0.0060</td>\n",
       "            </tr>\n",
       "            <tr>\n",
       "                        <th id=\"T_92aa4aa5_7b36_11ec_a6e5_b46bfc7acf46level0_row13\" class=\"row_heading level0 row13\" >nb</th>\n",
       "                        <td id=\"T_92aa4aa5_7b36_11ec_a6e5_b46bfc7acf46row13_col0\" class=\"data row13 col0\" >Naive Bayes</td>\n",
       "                        <td id=\"T_92aa4aa5_7b36_11ec_a6e5_b46bfc7acf46row13_col1\" class=\"data row13 col1\" >0.5524</td>\n",
       "                        <td id=\"T_92aa4aa5_7b36_11ec_a6e5_b46bfc7acf46row13_col2\" class=\"data row13 col2\" >0.7493</td>\n",
       "                        <td id=\"T_92aa4aa5_7b36_11ec_a6e5_b46bfc7acf46row13_col3\" class=\"data row13 col3\" >0.9000</td>\n",
       "                        <td id=\"T_92aa4aa5_7b36_11ec_a6e5_b46bfc7acf46row13_col4\" class=\"data row13 col4\" >0.5112</td>\n",
       "                        <td id=\"T_92aa4aa5_7b36_11ec_a6e5_b46bfc7acf46row13_col5\" class=\"data row13 col5\" >0.6421</td>\n",
       "                        <td id=\"T_92aa4aa5_7b36_11ec_a6e5_b46bfc7acf46row13_col6\" class=\"data row13 col6\" >0.1613</td>\n",
       "                        <td id=\"T_92aa4aa5_7b36_11ec_a6e5_b46bfc7acf46row13_col7\" class=\"data row13 col7\" >0.1864</td>\n",
       "                        <td id=\"T_92aa4aa5_7b36_11ec_a6e5_b46bfc7acf46row13_col8\" class=\"data row13 col8\" >0.0060</td>\n",
       "            </tr>\n",
       "            <tr>\n",
       "                        <th id=\"T_92aa4aa5_7b36_11ec_a6e5_b46bfc7acf46level0_row14\" class=\"row_heading level0 row14\" >qda</th>\n",
       "                        <td id=\"T_92aa4aa5_7b36_11ec_a6e5_b46bfc7acf46row14_col0\" class=\"data row14 col0\" >Quadratic Discriminant Analysis</td>\n",
       "                        <td id=\"T_92aa4aa5_7b36_11ec_a6e5_b46bfc7acf46row14_col1\" class=\"data row14 col1\" >0.5405</td>\n",
       "                        <td id=\"T_92aa4aa5_7b36_11ec_a6e5_b46bfc7acf46row14_col2\" class=\"data row14 col2\" >0.5139</td>\n",
       "                        <td id=\"T_92aa4aa5_7b36_11ec_a6e5_b46bfc7acf46row14_col3\" class=\"data row14 col3\" >0.5000</td>\n",
       "                        <td id=\"T_92aa4aa5_7b36_11ec_a6e5_b46bfc7acf46row14_col4\" class=\"data row14 col4\" >0.2995</td>\n",
       "                        <td id=\"T_92aa4aa5_7b36_11ec_a6e5_b46bfc7acf46row14_col5\" class=\"data row14 col5\" >0.3648</td>\n",
       "                        <td id=\"T_92aa4aa5_7b36_11ec_a6e5_b46bfc7acf46row14_col6\" class=\"data row14 col6\" >0.1075</td>\n",
       "                        <td id=\"T_92aa4aa5_7b36_11ec_a6e5_b46bfc7acf46row14_col7\" class=\"data row14 col7\" >0.1316</td>\n",
       "                        <td id=\"T_92aa4aa5_7b36_11ec_a6e5_b46bfc7acf46row14_col8\" class=\"data row14 col8\" >0.0070</td>\n",
       "            </tr>\n",
       "    </tbody></table>"
      ],
      "text/plain": [
       "<pandas.io.formats.style.Styler at 0x19922d85be0>"
      ]
     },
     "metadata": {},
     "output_type": "display_data"
    },
    {
     "name": "stdout",
     "output_type": "stream",
     "text": [
      "RandomForestClassifier(bootstrap=True, ccp_alpha=0.0, class_weight=None,\n",
      "                       criterion='gini', max_depth=None, max_features='auto',\n",
      "                       max_leaf_nodes=None, max_samples=None,\n",
      "                       min_impurity_decrease=0.0, min_impurity_split=None,\n",
      "                       min_samples_leaf=1, min_samples_split=2,\n",
      "                       min_weight_fraction_leaf=0.0, n_estimators=100,\n",
      "                       n_jobs=-1, oob_score=False, random_state=5452, verbose=0,\n",
      "                       warm_start=False)\n"
     ]
    }
   ],
   "source": [
    "get_best_model(df1)"
   ]
  },
  {
   "cell_type": "code",
   "execution_count": 40,
   "metadata": {
    "scrolled": false
   },
   "outputs": [
    {
     "data": {
      "text/html": [
       "<style  type=\"text/css\" >\n",
       "    #T_980a3948_7b36_11ec_bbe5_b46bfc7acf46 th {\n",
       "          text-align: left;\n",
       "    }#T_980a3948_7b36_11ec_bbe5_b46bfc7acf46row0_col0,#T_980a3948_7b36_11ec_bbe5_b46bfc7acf46row0_col2,#T_980a3948_7b36_11ec_bbe5_b46bfc7acf46row0_col3,#T_980a3948_7b36_11ec_bbe5_b46bfc7acf46row0_col4,#T_980a3948_7b36_11ec_bbe5_b46bfc7acf46row0_col6,#T_980a3948_7b36_11ec_bbe5_b46bfc7acf46row0_col7,#T_980a3948_7b36_11ec_bbe5_b46bfc7acf46row1_col0,#T_980a3948_7b36_11ec_bbe5_b46bfc7acf46row1_col1,#T_980a3948_7b36_11ec_bbe5_b46bfc7acf46row1_col2,#T_980a3948_7b36_11ec_bbe5_b46bfc7acf46row1_col3,#T_980a3948_7b36_11ec_bbe5_b46bfc7acf46row1_col5,#T_980a3948_7b36_11ec_bbe5_b46bfc7acf46row2_col0,#T_980a3948_7b36_11ec_bbe5_b46bfc7acf46row2_col1,#T_980a3948_7b36_11ec_bbe5_b46bfc7acf46row2_col3,#T_980a3948_7b36_11ec_bbe5_b46bfc7acf46row2_col4,#T_980a3948_7b36_11ec_bbe5_b46bfc7acf46row2_col5,#T_980a3948_7b36_11ec_bbe5_b46bfc7acf46row2_col6,#T_980a3948_7b36_11ec_bbe5_b46bfc7acf46row2_col7,#T_980a3948_7b36_11ec_bbe5_b46bfc7acf46row3_col0,#T_980a3948_7b36_11ec_bbe5_b46bfc7acf46row3_col1,#T_980a3948_7b36_11ec_bbe5_b46bfc7acf46row3_col2,#T_980a3948_7b36_11ec_bbe5_b46bfc7acf46row3_col3,#T_980a3948_7b36_11ec_bbe5_b46bfc7acf46row3_col4,#T_980a3948_7b36_11ec_bbe5_b46bfc7acf46row3_col5,#T_980a3948_7b36_11ec_bbe5_b46bfc7acf46row3_col6,#T_980a3948_7b36_11ec_bbe5_b46bfc7acf46row3_col7,#T_980a3948_7b36_11ec_bbe5_b46bfc7acf46row4_col0,#T_980a3948_7b36_11ec_bbe5_b46bfc7acf46row4_col1,#T_980a3948_7b36_11ec_bbe5_b46bfc7acf46row4_col2,#T_980a3948_7b36_11ec_bbe5_b46bfc7acf46row4_col3,#T_980a3948_7b36_11ec_bbe5_b46bfc7acf46row4_col4,#T_980a3948_7b36_11ec_bbe5_b46bfc7acf46row4_col5,#T_980a3948_7b36_11ec_bbe5_b46bfc7acf46row4_col6,#T_980a3948_7b36_11ec_bbe5_b46bfc7acf46row4_col7,#T_980a3948_7b36_11ec_bbe5_b46bfc7acf46row5_col0,#T_980a3948_7b36_11ec_bbe5_b46bfc7acf46row5_col1,#T_980a3948_7b36_11ec_bbe5_b46bfc7acf46row5_col2,#T_980a3948_7b36_11ec_bbe5_b46bfc7acf46row5_col3,#T_980a3948_7b36_11ec_bbe5_b46bfc7acf46row5_col4,#T_980a3948_7b36_11ec_bbe5_b46bfc7acf46row5_col5,#T_980a3948_7b36_11ec_bbe5_b46bfc7acf46row5_col6,#T_980a3948_7b36_11ec_bbe5_b46bfc7acf46row5_col7,#T_980a3948_7b36_11ec_bbe5_b46bfc7acf46row6_col0,#T_980a3948_7b36_11ec_bbe5_b46bfc7acf46row6_col1,#T_980a3948_7b36_11ec_bbe5_b46bfc7acf46row6_col2,#T_980a3948_7b36_11ec_bbe5_b46bfc7acf46row6_col3,#T_980a3948_7b36_11ec_bbe5_b46bfc7acf46row6_col4,#T_980a3948_7b36_11ec_bbe5_b46bfc7acf46row6_col5,#T_980a3948_7b36_11ec_bbe5_b46bfc7acf46row6_col6,#T_980a3948_7b36_11ec_bbe5_b46bfc7acf46row6_col7,#T_980a3948_7b36_11ec_bbe5_b46bfc7acf46row7_col0,#T_980a3948_7b36_11ec_bbe5_b46bfc7acf46row7_col1,#T_980a3948_7b36_11ec_bbe5_b46bfc7acf46row7_col2,#T_980a3948_7b36_11ec_bbe5_b46bfc7acf46row7_col3,#T_980a3948_7b36_11ec_bbe5_b46bfc7acf46row7_col4,#T_980a3948_7b36_11ec_bbe5_b46bfc7acf46row7_col5,#T_980a3948_7b36_11ec_bbe5_b46bfc7acf46row7_col6,#T_980a3948_7b36_11ec_bbe5_b46bfc7acf46row7_col7,#T_980a3948_7b36_11ec_bbe5_b46bfc7acf46row8_col0,#T_980a3948_7b36_11ec_bbe5_b46bfc7acf46row8_col1,#T_980a3948_7b36_11ec_bbe5_b46bfc7acf46row8_col2,#T_980a3948_7b36_11ec_bbe5_b46bfc7acf46row8_col3,#T_980a3948_7b36_11ec_bbe5_b46bfc7acf46row8_col4,#T_980a3948_7b36_11ec_bbe5_b46bfc7acf46row8_col5,#T_980a3948_7b36_11ec_bbe5_b46bfc7acf46row8_col6,#T_980a3948_7b36_11ec_bbe5_b46bfc7acf46row8_col7,#T_980a3948_7b36_11ec_bbe5_b46bfc7acf46row9_col0,#T_980a3948_7b36_11ec_bbe5_b46bfc7acf46row9_col1,#T_980a3948_7b36_11ec_bbe5_b46bfc7acf46row9_col2,#T_980a3948_7b36_11ec_bbe5_b46bfc7acf46row9_col3,#T_980a3948_7b36_11ec_bbe5_b46bfc7acf46row9_col4,#T_980a3948_7b36_11ec_bbe5_b46bfc7acf46row9_col5,#T_980a3948_7b36_11ec_bbe5_b46bfc7acf46row9_col6,#T_980a3948_7b36_11ec_bbe5_b46bfc7acf46row9_col7,#T_980a3948_7b36_11ec_bbe5_b46bfc7acf46row10_col0,#T_980a3948_7b36_11ec_bbe5_b46bfc7acf46row10_col1,#T_980a3948_7b36_11ec_bbe5_b46bfc7acf46row10_col2,#T_980a3948_7b36_11ec_bbe5_b46bfc7acf46row10_col3,#T_980a3948_7b36_11ec_bbe5_b46bfc7acf46row10_col4,#T_980a3948_7b36_11ec_bbe5_b46bfc7acf46row10_col5,#T_980a3948_7b36_11ec_bbe5_b46bfc7acf46row10_col6,#T_980a3948_7b36_11ec_bbe5_b46bfc7acf46row10_col7,#T_980a3948_7b36_11ec_bbe5_b46bfc7acf46row11_col0,#T_980a3948_7b36_11ec_bbe5_b46bfc7acf46row11_col1,#T_980a3948_7b36_11ec_bbe5_b46bfc7acf46row11_col2,#T_980a3948_7b36_11ec_bbe5_b46bfc7acf46row11_col3,#T_980a3948_7b36_11ec_bbe5_b46bfc7acf46row11_col4,#T_980a3948_7b36_11ec_bbe5_b46bfc7acf46row11_col5,#T_980a3948_7b36_11ec_bbe5_b46bfc7acf46row11_col6,#T_980a3948_7b36_11ec_bbe5_b46bfc7acf46row11_col7,#T_980a3948_7b36_11ec_bbe5_b46bfc7acf46row12_col0,#T_980a3948_7b36_11ec_bbe5_b46bfc7acf46row12_col1,#T_980a3948_7b36_11ec_bbe5_b46bfc7acf46row12_col2,#T_980a3948_7b36_11ec_bbe5_b46bfc7acf46row12_col3,#T_980a3948_7b36_11ec_bbe5_b46bfc7acf46row12_col4,#T_980a3948_7b36_11ec_bbe5_b46bfc7acf46row12_col5,#T_980a3948_7b36_11ec_bbe5_b46bfc7acf46row12_col6,#T_980a3948_7b36_11ec_bbe5_b46bfc7acf46row12_col7,#T_980a3948_7b36_11ec_bbe5_b46bfc7acf46row13_col0,#T_980a3948_7b36_11ec_bbe5_b46bfc7acf46row13_col1,#T_980a3948_7b36_11ec_bbe5_b46bfc7acf46row13_col2,#T_980a3948_7b36_11ec_bbe5_b46bfc7acf46row13_col4,#T_980a3948_7b36_11ec_bbe5_b46bfc7acf46row13_col5,#T_980a3948_7b36_11ec_bbe5_b46bfc7acf46row13_col6,#T_980a3948_7b36_11ec_bbe5_b46bfc7acf46row13_col7,#T_980a3948_7b36_11ec_bbe5_b46bfc7acf46row14_col0,#T_980a3948_7b36_11ec_bbe5_b46bfc7acf46row14_col1,#T_980a3948_7b36_11ec_bbe5_b46bfc7acf46row14_col2,#T_980a3948_7b36_11ec_bbe5_b46bfc7acf46row14_col4,#T_980a3948_7b36_11ec_bbe5_b46bfc7acf46row14_col5,#T_980a3948_7b36_11ec_bbe5_b46bfc7acf46row14_col6,#T_980a3948_7b36_11ec_bbe5_b46bfc7acf46row14_col7{\n",
       "            text-align:  left;\n",
       "            text-align:  left;\n",
       "        }#T_980a3948_7b36_11ec_bbe5_b46bfc7acf46row0_col1,#T_980a3948_7b36_11ec_bbe5_b46bfc7acf46row0_col5,#T_980a3948_7b36_11ec_bbe5_b46bfc7acf46row1_col4,#T_980a3948_7b36_11ec_bbe5_b46bfc7acf46row1_col6,#T_980a3948_7b36_11ec_bbe5_b46bfc7acf46row1_col7,#T_980a3948_7b36_11ec_bbe5_b46bfc7acf46row2_col2,#T_980a3948_7b36_11ec_bbe5_b46bfc7acf46row13_col3,#T_980a3948_7b36_11ec_bbe5_b46bfc7acf46row14_col3{\n",
       "            text-align:  left;\n",
       "            text-align:  left;\n",
       "            background-color:  yellow;\n",
       "        }#T_980a3948_7b36_11ec_bbe5_b46bfc7acf46row0_col8,#T_980a3948_7b36_11ec_bbe5_b46bfc7acf46row1_col8,#T_980a3948_7b36_11ec_bbe5_b46bfc7acf46row2_col8,#T_980a3948_7b36_11ec_bbe5_b46bfc7acf46row3_col8,#T_980a3948_7b36_11ec_bbe5_b46bfc7acf46row4_col8,#T_980a3948_7b36_11ec_bbe5_b46bfc7acf46row6_col8,#T_980a3948_7b36_11ec_bbe5_b46bfc7acf46row7_col8,#T_980a3948_7b36_11ec_bbe5_b46bfc7acf46row9_col8,#T_980a3948_7b36_11ec_bbe5_b46bfc7acf46row10_col8,#T_980a3948_7b36_11ec_bbe5_b46bfc7acf46row11_col8,#T_980a3948_7b36_11ec_bbe5_b46bfc7acf46row12_col8,#T_980a3948_7b36_11ec_bbe5_b46bfc7acf46row13_col8,#T_980a3948_7b36_11ec_bbe5_b46bfc7acf46row14_col8{\n",
       "            text-align:  left;\n",
       "            text-align:  left;\n",
       "            background-color:  lightgrey;\n",
       "        }#T_980a3948_7b36_11ec_bbe5_b46bfc7acf46row5_col8,#T_980a3948_7b36_11ec_bbe5_b46bfc7acf46row8_col8{\n",
       "            text-align:  left;\n",
       "            text-align:  left;\n",
       "            background-color:  yellow;\n",
       "            background-color:  lightgrey;\n",
       "        }</style><table id=\"T_980a3948_7b36_11ec_bbe5_b46bfc7acf46\" ><thead>    <tr>        <th class=\"blank level0\" ></th>        <th class=\"col_heading level0 col0\" >Model</th>        <th class=\"col_heading level0 col1\" >Accuracy</th>        <th class=\"col_heading level0 col2\" >AUC</th>        <th class=\"col_heading level0 col3\" >Recall</th>        <th class=\"col_heading level0 col4\" >Prec.</th>        <th class=\"col_heading level0 col5\" >F1</th>        <th class=\"col_heading level0 col6\" >Kappa</th>        <th class=\"col_heading level0 col7\" >MCC</th>        <th class=\"col_heading level0 col8\" >TT (Sec)</th>    </tr></thead><tbody>\n",
       "                <tr>\n",
       "                        <th id=\"T_980a3948_7b36_11ec_bbe5_b46bfc7acf46level0_row0\" class=\"row_heading level0 row0\" >rf</th>\n",
       "                        <td id=\"T_980a3948_7b36_11ec_bbe5_b46bfc7acf46row0_col0\" class=\"data row0 col0\" >Random Forest Classifier</td>\n",
       "                        <td id=\"T_980a3948_7b36_11ec_bbe5_b46bfc7acf46row0_col1\" class=\"data row0 col1\" >0.8071</td>\n",
       "                        <td id=\"T_980a3948_7b36_11ec_bbe5_b46bfc7acf46row0_col2\" class=\"data row0 col2\" >0.8931</td>\n",
       "                        <td id=\"T_980a3948_7b36_11ec_bbe5_b46bfc7acf46row0_col3\" class=\"data row0 col3\" >0.8917</td>\n",
       "                        <td id=\"T_980a3948_7b36_11ec_bbe5_b46bfc7acf46row0_col4\" class=\"data row0 col4\" >0.8317</td>\n",
       "                        <td id=\"T_980a3948_7b36_11ec_bbe5_b46bfc7acf46row0_col5\" class=\"data row0 col5\" >0.8475</td>\n",
       "                        <td id=\"T_980a3948_7b36_11ec_bbe5_b46bfc7acf46row0_col6\" class=\"data row0 col6\" >0.5976</td>\n",
       "                        <td id=\"T_980a3948_7b36_11ec_bbe5_b46bfc7acf46row0_col7\" class=\"data row0 col7\" >0.6313</td>\n",
       "                        <td id=\"T_980a3948_7b36_11ec_bbe5_b46bfc7acf46row0_col8\" class=\"data row0 col8\" >0.0830</td>\n",
       "            </tr>\n",
       "            <tr>\n",
       "                        <th id=\"T_980a3948_7b36_11ec_bbe5_b46bfc7acf46level0_row1\" class=\"row_heading level0 row1\" >gbc</th>\n",
       "                        <td id=\"T_980a3948_7b36_11ec_bbe5_b46bfc7acf46row1_col0\" class=\"data row1 col0\" >Gradient Boosting Classifier</td>\n",
       "                        <td id=\"T_980a3948_7b36_11ec_bbe5_b46bfc7acf46row1_col1\" class=\"data row1 col1\" >0.8048</td>\n",
       "                        <td id=\"T_980a3948_7b36_11ec_bbe5_b46bfc7acf46row1_col2\" class=\"data row1 col2\" >0.8639</td>\n",
       "                        <td id=\"T_980a3948_7b36_11ec_bbe5_b46bfc7acf46row1_col3\" class=\"data row1 col3\" >0.8667</td>\n",
       "                        <td id=\"T_980a3948_7b36_11ec_bbe5_b46bfc7acf46row1_col4\" class=\"data row1 col4\" >0.8517</td>\n",
       "                        <td id=\"T_980a3948_7b36_11ec_bbe5_b46bfc7acf46row1_col5\" class=\"data row1 col5\" >0.8395</td>\n",
       "                        <td id=\"T_980a3948_7b36_11ec_bbe5_b46bfc7acf46row1_col6\" class=\"data row1 col6\" >0.6014</td>\n",
       "                        <td id=\"T_980a3948_7b36_11ec_bbe5_b46bfc7acf46row1_col7\" class=\"data row1 col7\" >0.6376</td>\n",
       "                        <td id=\"T_980a3948_7b36_11ec_bbe5_b46bfc7acf46row1_col8\" class=\"data row1 col8\" >0.0220</td>\n",
       "            </tr>\n",
       "            <tr>\n",
       "                        <th id=\"T_980a3948_7b36_11ec_bbe5_b46bfc7acf46level0_row2\" class=\"row_heading level0 row2\" >et</th>\n",
       "                        <td id=\"T_980a3948_7b36_11ec_bbe5_b46bfc7acf46row2_col0\" class=\"data row2 col0\" >Extra Trees Classifier</td>\n",
       "                        <td id=\"T_980a3948_7b36_11ec_bbe5_b46bfc7acf46row2_col1\" class=\"data row2 col1\" >0.7714</td>\n",
       "                        <td id=\"T_980a3948_7b36_11ec_bbe5_b46bfc7acf46row2_col2\" class=\"data row2 col2\" >0.9278</td>\n",
       "                        <td id=\"T_980a3948_7b36_11ec_bbe5_b46bfc7acf46row2_col3\" class=\"data row2 col3\" >0.8167</td>\n",
       "                        <td id=\"T_980a3948_7b36_11ec_bbe5_b46bfc7acf46row2_col4\" class=\"data row2 col4\" >0.8433</td>\n",
       "                        <td id=\"T_980a3948_7b36_11ec_bbe5_b46bfc7acf46row2_col5\" class=\"data row2 col5\" >0.8026</td>\n",
       "                        <td id=\"T_980a3948_7b36_11ec_bbe5_b46bfc7acf46row2_col6\" class=\"data row2 col6\" >0.5497</td>\n",
       "                        <td id=\"T_980a3948_7b36_11ec_bbe5_b46bfc7acf46row2_col7\" class=\"data row2 col7\" >0.5919</td>\n",
       "                        <td id=\"T_980a3948_7b36_11ec_bbe5_b46bfc7acf46row2_col8\" class=\"data row2 col8\" >0.0730</td>\n",
       "            </tr>\n",
       "            <tr>\n",
       "                        <th id=\"T_980a3948_7b36_11ec_bbe5_b46bfc7acf46level0_row3\" class=\"row_heading level0 row3\" >lightgbm</th>\n",
       "                        <td id=\"T_980a3948_7b36_11ec_bbe5_b46bfc7acf46row3_col0\" class=\"data row3 col0\" >Light Gradient Boosting Machine</td>\n",
       "                        <td id=\"T_980a3948_7b36_11ec_bbe5_b46bfc7acf46row3_col1\" class=\"data row3 col1\" >0.7619</td>\n",
       "                        <td id=\"T_980a3948_7b36_11ec_bbe5_b46bfc7acf46row3_col2\" class=\"data row3 col2\" >0.7903</td>\n",
       "                        <td id=\"T_980a3948_7b36_11ec_bbe5_b46bfc7acf46row3_col3\" class=\"data row3 col3\" >0.8333</td>\n",
       "                        <td id=\"T_980a3948_7b36_11ec_bbe5_b46bfc7acf46row3_col4\" class=\"data row3 col4\" >0.7867</td>\n",
       "                        <td id=\"T_980a3948_7b36_11ec_bbe5_b46bfc7acf46row3_col5\" class=\"data row3 col5\" >0.8032</td>\n",
       "                        <td id=\"T_980a3948_7b36_11ec_bbe5_b46bfc7acf46row3_col6\" class=\"data row3 col6\" >0.5196</td>\n",
       "                        <td id=\"T_980a3948_7b36_11ec_bbe5_b46bfc7acf46row3_col7\" class=\"data row3 col7\" >0.5116</td>\n",
       "                        <td id=\"T_980a3948_7b36_11ec_bbe5_b46bfc7acf46row3_col8\" class=\"data row3 col8\" >0.0100</td>\n",
       "            </tr>\n",
       "            <tr>\n",
       "                        <th id=\"T_980a3948_7b36_11ec_bbe5_b46bfc7acf46level0_row4\" class=\"row_heading level0 row4\" >catboost</th>\n",
       "                        <td id=\"T_980a3948_7b36_11ec_bbe5_b46bfc7acf46row4_col0\" class=\"data row4 col0\" >CatBoost Classifier</td>\n",
       "                        <td id=\"T_980a3948_7b36_11ec_bbe5_b46bfc7acf46row4_col1\" class=\"data row4 col1\" >0.7619</td>\n",
       "                        <td id=\"T_980a3948_7b36_11ec_bbe5_b46bfc7acf46row4_col2\" class=\"data row4 col2\" >0.8903</td>\n",
       "                        <td id=\"T_980a3948_7b36_11ec_bbe5_b46bfc7acf46row4_col3\" class=\"data row4 col3\" >0.8917</td>\n",
       "                        <td id=\"T_980a3948_7b36_11ec_bbe5_b46bfc7acf46row4_col4\" class=\"data row4 col4\" >0.7921</td>\n",
       "                        <td id=\"T_980a3948_7b36_11ec_bbe5_b46bfc7acf46row4_col5\" class=\"data row4 col5\" >0.8172</td>\n",
       "                        <td id=\"T_980a3948_7b36_11ec_bbe5_b46bfc7acf46row4_col6\" class=\"data row4 col6\" >0.5041</td>\n",
       "                        <td id=\"T_980a3948_7b36_11ec_bbe5_b46bfc7acf46row4_col7\" class=\"data row4 col7\" >0.5211</td>\n",
       "                        <td id=\"T_980a3948_7b36_11ec_bbe5_b46bfc7acf46row4_col8\" class=\"data row4 col8\" >0.2330</td>\n",
       "            </tr>\n",
       "            <tr>\n",
       "                        <th id=\"T_980a3948_7b36_11ec_bbe5_b46bfc7acf46level0_row5\" class=\"row_heading level0 row5\" >dt</th>\n",
       "                        <td id=\"T_980a3948_7b36_11ec_bbe5_b46bfc7acf46row5_col0\" class=\"data row5 col0\" >Decision Tree Classifier</td>\n",
       "                        <td id=\"T_980a3948_7b36_11ec_bbe5_b46bfc7acf46row5_col1\" class=\"data row5 col1\" >0.7571</td>\n",
       "                        <td id=\"T_980a3948_7b36_11ec_bbe5_b46bfc7acf46row5_col2\" class=\"data row5 col2\" >0.7972</td>\n",
       "                        <td id=\"T_980a3948_7b36_11ec_bbe5_b46bfc7acf46row5_col3\" class=\"data row5 col3\" >0.8500</td>\n",
       "                        <td id=\"T_980a3948_7b36_11ec_bbe5_b46bfc7acf46row5_col4\" class=\"data row5 col4\" >0.7833</td>\n",
       "                        <td id=\"T_980a3948_7b36_11ec_bbe5_b46bfc7acf46row5_col5\" class=\"data row5 col5\" >0.7951</td>\n",
       "                        <td id=\"T_980a3948_7b36_11ec_bbe5_b46bfc7acf46row5_col6\" class=\"data row5 col6\" >0.5193</td>\n",
       "                        <td id=\"T_980a3948_7b36_11ec_bbe5_b46bfc7acf46row5_col7\" class=\"data row5 col7\" >0.5553</td>\n",
       "                        <td id=\"T_980a3948_7b36_11ec_bbe5_b46bfc7acf46row5_col8\" class=\"data row5 col8\" >0.0050</td>\n",
       "            </tr>\n",
       "            <tr>\n",
       "                        <th id=\"T_980a3948_7b36_11ec_bbe5_b46bfc7acf46level0_row6\" class=\"row_heading level0 row6\" >ada</th>\n",
       "                        <td id=\"T_980a3948_7b36_11ec_bbe5_b46bfc7acf46row6_col0\" class=\"data row6 col0\" >Ada Boost Classifier</td>\n",
       "                        <td id=\"T_980a3948_7b36_11ec_bbe5_b46bfc7acf46row6_col1\" class=\"data row6 col1\" >0.6976</td>\n",
       "                        <td id=\"T_980a3948_7b36_11ec_bbe5_b46bfc7acf46row6_col2\" class=\"data row6 col2\" >0.7514</td>\n",
       "                        <td id=\"T_980a3948_7b36_11ec_bbe5_b46bfc7acf46row6_col3\" class=\"data row6 col3\" >0.8167</td>\n",
       "                        <td id=\"T_980a3948_7b36_11ec_bbe5_b46bfc7acf46row6_col4\" class=\"data row6 col4\" >0.7117</td>\n",
       "                        <td id=\"T_980a3948_7b36_11ec_bbe5_b46bfc7acf46row6_col5\" class=\"data row6 col5\" >0.7471</td>\n",
       "                        <td id=\"T_980a3948_7b36_11ec_bbe5_b46bfc7acf46row6_col6\" class=\"data row6 col6\" >0.3791</td>\n",
       "                        <td id=\"T_980a3948_7b36_11ec_bbe5_b46bfc7acf46row6_col7\" class=\"data row6 col7\" >0.4155</td>\n",
       "                        <td id=\"T_980a3948_7b36_11ec_bbe5_b46bfc7acf46row6_col8\" class=\"data row6 col8\" >0.0320</td>\n",
       "            </tr>\n",
       "            <tr>\n",
       "                        <th id=\"T_980a3948_7b36_11ec_bbe5_b46bfc7acf46level0_row7\" class=\"row_heading level0 row7\" >svm</th>\n",
       "                        <td id=\"T_980a3948_7b36_11ec_bbe5_b46bfc7acf46row7_col0\" class=\"data row7 col0\" >SVM - Linear Kernel</td>\n",
       "                        <td id=\"T_980a3948_7b36_11ec_bbe5_b46bfc7acf46row7_col1\" class=\"data row7 col1\" >0.6833</td>\n",
       "                        <td id=\"T_980a3948_7b36_11ec_bbe5_b46bfc7acf46row7_col2\" class=\"data row7 col2\" >0.0000</td>\n",
       "                        <td id=\"T_980a3948_7b36_11ec_bbe5_b46bfc7acf46row7_col3\" class=\"data row7 col3\" >0.8333</td>\n",
       "                        <td id=\"T_980a3948_7b36_11ec_bbe5_b46bfc7acf46row7_col4\" class=\"data row7 col4\" >0.7033</td>\n",
       "                        <td id=\"T_980a3948_7b36_11ec_bbe5_b46bfc7acf46row7_col5\" class=\"data row7 col5\" >0.7517</td>\n",
       "                        <td id=\"T_980a3948_7b36_11ec_bbe5_b46bfc7acf46row7_col6\" class=\"data row7 col6\" >0.3117</td>\n",
       "                        <td id=\"T_980a3948_7b36_11ec_bbe5_b46bfc7acf46row7_col7\" class=\"data row7 col7\" >0.3384</td>\n",
       "                        <td id=\"T_980a3948_7b36_11ec_bbe5_b46bfc7acf46row7_col8\" class=\"data row7 col8\" >0.0070</td>\n",
       "            </tr>\n",
       "            <tr>\n",
       "                        <th id=\"T_980a3948_7b36_11ec_bbe5_b46bfc7acf46level0_row8\" class=\"row_heading level0 row8\" >nb</th>\n",
       "                        <td id=\"T_980a3948_7b36_11ec_bbe5_b46bfc7acf46row8_col0\" class=\"data row8 col0\" >Naive Bayes</td>\n",
       "                        <td id=\"T_980a3948_7b36_11ec_bbe5_b46bfc7acf46row8_col1\" class=\"data row8 col1\" >0.6810</td>\n",
       "                        <td id=\"T_980a3948_7b36_11ec_bbe5_b46bfc7acf46row8_col2\" class=\"data row8 col2\" >0.7028</td>\n",
       "                        <td id=\"T_980a3948_7b36_11ec_bbe5_b46bfc7acf46row8_col3\" class=\"data row8 col3\" >0.9667</td>\n",
       "                        <td id=\"T_980a3948_7b36_11ec_bbe5_b46bfc7acf46row8_col4\" class=\"data row8 col4\" >0.6671</td>\n",
       "                        <td id=\"T_980a3948_7b36_11ec_bbe5_b46bfc7acf46row8_col5\" class=\"data row8 col5\" >0.7822</td>\n",
       "                        <td id=\"T_980a3948_7b36_11ec_bbe5_b46bfc7acf46row8_col6\" class=\"data row8 col6\" >0.2631</td>\n",
       "                        <td id=\"T_980a3948_7b36_11ec_bbe5_b46bfc7acf46row8_col7\" class=\"data row8 col7\" >0.2834</td>\n",
       "                        <td id=\"T_980a3948_7b36_11ec_bbe5_b46bfc7acf46row8_col8\" class=\"data row8 col8\" >0.0050</td>\n",
       "            </tr>\n",
       "            <tr>\n",
       "                        <th id=\"T_980a3948_7b36_11ec_bbe5_b46bfc7acf46level0_row9\" class=\"row_heading level0 row9\" >knn</th>\n",
       "                        <td id=\"T_980a3948_7b36_11ec_bbe5_b46bfc7acf46row9_col0\" class=\"data row9 col0\" >K Neighbors Classifier</td>\n",
       "                        <td id=\"T_980a3948_7b36_11ec_bbe5_b46bfc7acf46row9_col1\" class=\"data row9 col1\" >0.6690</td>\n",
       "                        <td id=\"T_980a3948_7b36_11ec_bbe5_b46bfc7acf46row9_col2\" class=\"data row9 col2\" >0.7653</td>\n",
       "                        <td id=\"T_980a3948_7b36_11ec_bbe5_b46bfc7acf46row9_col3\" class=\"data row9 col3\" >0.8417</td>\n",
       "                        <td id=\"T_980a3948_7b36_11ec_bbe5_b46bfc7acf46row9_col4\" class=\"data row9 col4\" >0.6971</td>\n",
       "                        <td id=\"T_980a3948_7b36_11ec_bbe5_b46bfc7acf46row9_col5\" class=\"data row9 col5\" >0.7497</td>\n",
       "                        <td id=\"T_980a3948_7b36_11ec_bbe5_b46bfc7acf46row9_col6\" class=\"data row9 col6\" >0.2908</td>\n",
       "                        <td id=\"T_980a3948_7b36_11ec_bbe5_b46bfc7acf46row9_col7\" class=\"data row9 col7\" >0.3055</td>\n",
       "                        <td id=\"T_980a3948_7b36_11ec_bbe5_b46bfc7acf46row9_col8\" class=\"data row9 col8\" >0.0130</td>\n",
       "            </tr>\n",
       "            <tr>\n",
       "                        <th id=\"T_980a3948_7b36_11ec_bbe5_b46bfc7acf46level0_row10\" class=\"row_heading level0 row10\" >lda</th>\n",
       "                        <td id=\"T_980a3948_7b36_11ec_bbe5_b46bfc7acf46row10_col0\" class=\"data row10 col0\" >Linear Discriminant Analysis</td>\n",
       "                        <td id=\"T_980a3948_7b36_11ec_bbe5_b46bfc7acf46row10_col1\" class=\"data row10 col1\" >0.6643</td>\n",
       "                        <td id=\"T_980a3948_7b36_11ec_bbe5_b46bfc7acf46row10_col2\" class=\"data row10 col2\" >0.6722</td>\n",
       "                        <td id=\"T_980a3948_7b36_11ec_bbe5_b46bfc7acf46row10_col3\" class=\"data row10 col3\" >0.7833</td>\n",
       "                        <td id=\"T_980a3948_7b36_11ec_bbe5_b46bfc7acf46row10_col4\" class=\"data row10 col4\" >0.6783</td>\n",
       "                        <td id=\"T_980a3948_7b36_11ec_bbe5_b46bfc7acf46row10_col5\" class=\"data row10 col5\" >0.7149</td>\n",
       "                        <td id=\"T_980a3948_7b36_11ec_bbe5_b46bfc7acf46row10_col6\" class=\"data row10 col6\" >0.3184</td>\n",
       "                        <td id=\"T_980a3948_7b36_11ec_bbe5_b46bfc7acf46row10_col7\" class=\"data row10 col7\" >0.3383</td>\n",
       "                        <td id=\"T_980a3948_7b36_11ec_bbe5_b46bfc7acf46row10_col8\" class=\"data row10 col8\" >0.0060</td>\n",
       "            </tr>\n",
       "            <tr>\n",
       "                        <th id=\"T_980a3948_7b36_11ec_bbe5_b46bfc7acf46level0_row11\" class=\"row_heading level0 row11\" >lr</th>\n",
       "                        <td id=\"T_980a3948_7b36_11ec_bbe5_b46bfc7acf46row11_col0\" class=\"data row11 col0\" >Logistic Regression</td>\n",
       "                        <td id=\"T_980a3948_7b36_11ec_bbe5_b46bfc7acf46row11_col1\" class=\"data row11 col1\" >0.6500</td>\n",
       "                        <td id=\"T_980a3948_7b36_11ec_bbe5_b46bfc7acf46row11_col2\" class=\"data row11 col2\" >0.7833</td>\n",
       "                        <td id=\"T_980a3948_7b36_11ec_bbe5_b46bfc7acf46row11_col3\" class=\"data row11 col3\" >0.7583</td>\n",
       "                        <td id=\"T_980a3948_7b36_11ec_bbe5_b46bfc7acf46row11_col4\" class=\"data row11 col4\" >0.6783</td>\n",
       "                        <td id=\"T_980a3948_7b36_11ec_bbe5_b46bfc7acf46row11_col5\" class=\"data row11 col5\" >0.7022</td>\n",
       "                        <td id=\"T_980a3948_7b36_11ec_bbe5_b46bfc7acf46row11_col6\" class=\"data row11 col6\" >0.2895</td>\n",
       "                        <td id=\"T_980a3948_7b36_11ec_bbe5_b46bfc7acf46row11_col7\" class=\"data row11 col7\" >0.2947</td>\n",
       "                        <td id=\"T_980a3948_7b36_11ec_bbe5_b46bfc7acf46row11_col8\" class=\"data row11 col8\" >0.0070</td>\n",
       "            </tr>\n",
       "            <tr>\n",
       "                        <th id=\"T_980a3948_7b36_11ec_bbe5_b46bfc7acf46level0_row12\" class=\"row_heading level0 row12\" >ridge</th>\n",
       "                        <td id=\"T_980a3948_7b36_11ec_bbe5_b46bfc7acf46row12_col0\" class=\"data row12 col0\" >Ridge Classifier</td>\n",
       "                        <td id=\"T_980a3948_7b36_11ec_bbe5_b46bfc7acf46row12_col1\" class=\"data row12 col1\" >0.6333</td>\n",
       "                        <td id=\"T_980a3948_7b36_11ec_bbe5_b46bfc7acf46row12_col2\" class=\"data row12 col2\" >0.0000</td>\n",
       "                        <td id=\"T_980a3948_7b36_11ec_bbe5_b46bfc7acf46row12_col3\" class=\"data row12 col3\" >0.7333</td>\n",
       "                        <td id=\"T_980a3948_7b36_11ec_bbe5_b46bfc7acf46row12_col4\" class=\"data row12 col4\" >0.6700</td>\n",
       "                        <td id=\"T_980a3948_7b36_11ec_bbe5_b46bfc7acf46row12_col5\" class=\"data row12 col5\" >0.6844</td>\n",
       "                        <td id=\"T_980a3948_7b36_11ec_bbe5_b46bfc7acf46row12_col6\" class=\"data row12 col6\" >0.2645</td>\n",
       "                        <td id=\"T_980a3948_7b36_11ec_bbe5_b46bfc7acf46row12_col7\" class=\"data row12 col7\" >0.2697</td>\n",
       "                        <td id=\"T_980a3948_7b36_11ec_bbe5_b46bfc7acf46row12_col8\" class=\"data row12 col8\" >0.0070</td>\n",
       "            </tr>\n",
       "            <tr>\n",
       "                        <th id=\"T_980a3948_7b36_11ec_bbe5_b46bfc7acf46level0_row13\" class=\"row_heading level0 row13\" >qda</th>\n",
       "                        <td id=\"T_980a3948_7b36_11ec_bbe5_b46bfc7acf46row13_col0\" class=\"data row13 col0\" >Quadratic Discriminant Analysis</td>\n",
       "                        <td id=\"T_980a3948_7b36_11ec_bbe5_b46bfc7acf46row13_col1\" class=\"data row13 col1\" >0.5881</td>\n",
       "                        <td id=\"T_980a3948_7b36_11ec_bbe5_b46bfc7acf46row13_col2\" class=\"data row13 col2\" >0.0000</td>\n",
       "                        <td id=\"T_980a3948_7b36_11ec_bbe5_b46bfc7acf46row13_col3\" class=\"data row13 col3\" >1.0000</td>\n",
       "                        <td id=\"T_980a3948_7b36_11ec_bbe5_b46bfc7acf46row13_col4\" class=\"data row13 col4\" >0.5881</td>\n",
       "                        <td id=\"T_980a3948_7b36_11ec_bbe5_b46bfc7acf46row13_col5\" class=\"data row13 col5\" >0.7382</td>\n",
       "                        <td id=\"T_980a3948_7b36_11ec_bbe5_b46bfc7acf46row13_col6\" class=\"data row13 col6\" >0.0000</td>\n",
       "                        <td id=\"T_980a3948_7b36_11ec_bbe5_b46bfc7acf46row13_col7\" class=\"data row13 col7\" >0.0000</td>\n",
       "                        <td id=\"T_980a3948_7b36_11ec_bbe5_b46bfc7acf46row13_col8\" class=\"data row13 col8\" >0.0080</td>\n",
       "            </tr>\n",
       "            <tr>\n",
       "                        <th id=\"T_980a3948_7b36_11ec_bbe5_b46bfc7acf46level0_row14\" class=\"row_heading level0 row14\" >dummy</th>\n",
       "                        <td id=\"T_980a3948_7b36_11ec_bbe5_b46bfc7acf46row14_col0\" class=\"data row14 col0\" >Dummy Classifier</td>\n",
       "                        <td id=\"T_980a3948_7b36_11ec_bbe5_b46bfc7acf46row14_col1\" class=\"data row14 col1\" >0.5881</td>\n",
       "                        <td id=\"T_980a3948_7b36_11ec_bbe5_b46bfc7acf46row14_col2\" class=\"data row14 col2\" >0.5000</td>\n",
       "                        <td id=\"T_980a3948_7b36_11ec_bbe5_b46bfc7acf46row14_col3\" class=\"data row14 col3\" >1.0000</td>\n",
       "                        <td id=\"T_980a3948_7b36_11ec_bbe5_b46bfc7acf46row14_col4\" class=\"data row14 col4\" >0.5881</td>\n",
       "                        <td id=\"T_980a3948_7b36_11ec_bbe5_b46bfc7acf46row14_col5\" class=\"data row14 col5\" >0.7382</td>\n",
       "                        <td id=\"T_980a3948_7b36_11ec_bbe5_b46bfc7acf46row14_col6\" class=\"data row14 col6\" >0.0000</td>\n",
       "                        <td id=\"T_980a3948_7b36_11ec_bbe5_b46bfc7acf46row14_col7\" class=\"data row14 col7\" >0.0000</td>\n",
       "                        <td id=\"T_980a3948_7b36_11ec_bbe5_b46bfc7acf46row14_col8\" class=\"data row14 col8\" >0.0060</td>\n",
       "            </tr>\n",
       "    </tbody></table>"
      ],
      "text/plain": [
       "<pandas.io.formats.style.Styler at 0x19922a82dc0>"
      ]
     },
     "metadata": {},
     "output_type": "display_data"
    },
    {
     "name": "stdout",
     "output_type": "stream",
     "text": [
      "RandomForestClassifier(bootstrap=True, ccp_alpha=0.0, class_weight=None,\n",
      "                       criterion='gini', max_depth=None, max_features='auto',\n",
      "                       max_leaf_nodes=None, max_samples=None,\n",
      "                       min_impurity_decrease=0.0, min_impurity_split=None,\n",
      "                       min_samples_leaf=1, min_samples_split=2,\n",
      "                       min_weight_fraction_leaf=0.0, n_estimators=100,\n",
      "                       n_jobs=-1, oob_score=False, random_state=2200, verbose=0,\n",
      "                       warm_start=False)\n"
     ]
    }
   ],
   "source": [
    "get_best_model(df2)"
   ]
  },
  {
   "cell_type": "code",
   "execution_count": 41,
   "metadata": {
    "scrolled": false
   },
   "outputs": [
    {
     "data": {
      "text/html": [
       "<style  type=\"text/css\" >\n",
       "    #T_9e0d2a7e_7b36_11ec_8b6d_b46bfc7acf46 th {\n",
       "          text-align: left;\n",
       "    }#T_9e0d2a7e_7b36_11ec_8b6d_b46bfc7acf46row0_col0,#T_9e0d2a7e_7b36_11ec_8b6d_b46bfc7acf46row0_col2,#T_9e0d2a7e_7b36_11ec_8b6d_b46bfc7acf46row0_col3,#T_9e0d2a7e_7b36_11ec_8b6d_b46bfc7acf46row0_col4,#T_9e0d2a7e_7b36_11ec_8b6d_b46bfc7acf46row1_col0,#T_9e0d2a7e_7b36_11ec_8b6d_b46bfc7acf46row1_col1,#T_9e0d2a7e_7b36_11ec_8b6d_b46bfc7acf46row1_col2,#T_9e0d2a7e_7b36_11ec_8b6d_b46bfc7acf46row1_col3,#T_9e0d2a7e_7b36_11ec_8b6d_b46bfc7acf46row1_col5,#T_9e0d2a7e_7b36_11ec_8b6d_b46bfc7acf46row1_col6,#T_9e0d2a7e_7b36_11ec_8b6d_b46bfc7acf46row1_col7,#T_9e0d2a7e_7b36_11ec_8b6d_b46bfc7acf46row2_col0,#T_9e0d2a7e_7b36_11ec_8b6d_b46bfc7acf46row2_col1,#T_9e0d2a7e_7b36_11ec_8b6d_b46bfc7acf46row2_col2,#T_9e0d2a7e_7b36_11ec_8b6d_b46bfc7acf46row2_col3,#T_9e0d2a7e_7b36_11ec_8b6d_b46bfc7acf46row2_col4,#T_9e0d2a7e_7b36_11ec_8b6d_b46bfc7acf46row2_col5,#T_9e0d2a7e_7b36_11ec_8b6d_b46bfc7acf46row2_col6,#T_9e0d2a7e_7b36_11ec_8b6d_b46bfc7acf46row2_col7,#T_9e0d2a7e_7b36_11ec_8b6d_b46bfc7acf46row3_col0,#T_9e0d2a7e_7b36_11ec_8b6d_b46bfc7acf46row3_col1,#T_9e0d2a7e_7b36_11ec_8b6d_b46bfc7acf46row3_col3,#T_9e0d2a7e_7b36_11ec_8b6d_b46bfc7acf46row3_col4,#T_9e0d2a7e_7b36_11ec_8b6d_b46bfc7acf46row3_col5,#T_9e0d2a7e_7b36_11ec_8b6d_b46bfc7acf46row3_col6,#T_9e0d2a7e_7b36_11ec_8b6d_b46bfc7acf46row3_col7,#T_9e0d2a7e_7b36_11ec_8b6d_b46bfc7acf46row4_col0,#T_9e0d2a7e_7b36_11ec_8b6d_b46bfc7acf46row4_col1,#T_9e0d2a7e_7b36_11ec_8b6d_b46bfc7acf46row4_col2,#T_9e0d2a7e_7b36_11ec_8b6d_b46bfc7acf46row4_col3,#T_9e0d2a7e_7b36_11ec_8b6d_b46bfc7acf46row4_col4,#T_9e0d2a7e_7b36_11ec_8b6d_b46bfc7acf46row4_col5,#T_9e0d2a7e_7b36_11ec_8b6d_b46bfc7acf46row4_col6,#T_9e0d2a7e_7b36_11ec_8b6d_b46bfc7acf46row4_col7,#T_9e0d2a7e_7b36_11ec_8b6d_b46bfc7acf46row5_col0,#T_9e0d2a7e_7b36_11ec_8b6d_b46bfc7acf46row5_col1,#T_9e0d2a7e_7b36_11ec_8b6d_b46bfc7acf46row5_col2,#T_9e0d2a7e_7b36_11ec_8b6d_b46bfc7acf46row5_col3,#T_9e0d2a7e_7b36_11ec_8b6d_b46bfc7acf46row5_col4,#T_9e0d2a7e_7b36_11ec_8b6d_b46bfc7acf46row5_col5,#T_9e0d2a7e_7b36_11ec_8b6d_b46bfc7acf46row5_col6,#T_9e0d2a7e_7b36_11ec_8b6d_b46bfc7acf46row5_col7,#T_9e0d2a7e_7b36_11ec_8b6d_b46bfc7acf46row6_col0,#T_9e0d2a7e_7b36_11ec_8b6d_b46bfc7acf46row6_col1,#T_9e0d2a7e_7b36_11ec_8b6d_b46bfc7acf46row6_col2,#T_9e0d2a7e_7b36_11ec_8b6d_b46bfc7acf46row6_col3,#T_9e0d2a7e_7b36_11ec_8b6d_b46bfc7acf46row6_col4,#T_9e0d2a7e_7b36_11ec_8b6d_b46bfc7acf46row6_col5,#T_9e0d2a7e_7b36_11ec_8b6d_b46bfc7acf46row6_col6,#T_9e0d2a7e_7b36_11ec_8b6d_b46bfc7acf46row6_col7,#T_9e0d2a7e_7b36_11ec_8b6d_b46bfc7acf46row7_col0,#T_9e0d2a7e_7b36_11ec_8b6d_b46bfc7acf46row7_col1,#T_9e0d2a7e_7b36_11ec_8b6d_b46bfc7acf46row7_col2,#T_9e0d2a7e_7b36_11ec_8b6d_b46bfc7acf46row7_col3,#T_9e0d2a7e_7b36_11ec_8b6d_b46bfc7acf46row7_col4,#T_9e0d2a7e_7b36_11ec_8b6d_b46bfc7acf46row7_col5,#T_9e0d2a7e_7b36_11ec_8b6d_b46bfc7acf46row7_col6,#T_9e0d2a7e_7b36_11ec_8b6d_b46bfc7acf46row7_col7,#T_9e0d2a7e_7b36_11ec_8b6d_b46bfc7acf46row8_col0,#T_9e0d2a7e_7b36_11ec_8b6d_b46bfc7acf46row8_col1,#T_9e0d2a7e_7b36_11ec_8b6d_b46bfc7acf46row8_col2,#T_9e0d2a7e_7b36_11ec_8b6d_b46bfc7acf46row8_col3,#T_9e0d2a7e_7b36_11ec_8b6d_b46bfc7acf46row8_col4,#T_9e0d2a7e_7b36_11ec_8b6d_b46bfc7acf46row8_col5,#T_9e0d2a7e_7b36_11ec_8b6d_b46bfc7acf46row8_col6,#T_9e0d2a7e_7b36_11ec_8b6d_b46bfc7acf46row8_col7,#T_9e0d2a7e_7b36_11ec_8b6d_b46bfc7acf46row9_col0,#T_9e0d2a7e_7b36_11ec_8b6d_b46bfc7acf46row9_col1,#T_9e0d2a7e_7b36_11ec_8b6d_b46bfc7acf46row9_col2,#T_9e0d2a7e_7b36_11ec_8b6d_b46bfc7acf46row9_col3,#T_9e0d2a7e_7b36_11ec_8b6d_b46bfc7acf46row9_col4,#T_9e0d2a7e_7b36_11ec_8b6d_b46bfc7acf46row9_col5,#T_9e0d2a7e_7b36_11ec_8b6d_b46bfc7acf46row9_col6,#T_9e0d2a7e_7b36_11ec_8b6d_b46bfc7acf46row9_col7,#T_9e0d2a7e_7b36_11ec_8b6d_b46bfc7acf46row10_col0,#T_9e0d2a7e_7b36_11ec_8b6d_b46bfc7acf46row10_col1,#T_9e0d2a7e_7b36_11ec_8b6d_b46bfc7acf46row10_col2,#T_9e0d2a7e_7b36_11ec_8b6d_b46bfc7acf46row10_col3,#T_9e0d2a7e_7b36_11ec_8b6d_b46bfc7acf46row10_col4,#T_9e0d2a7e_7b36_11ec_8b6d_b46bfc7acf46row10_col5,#T_9e0d2a7e_7b36_11ec_8b6d_b46bfc7acf46row10_col6,#T_9e0d2a7e_7b36_11ec_8b6d_b46bfc7acf46row10_col7,#T_9e0d2a7e_7b36_11ec_8b6d_b46bfc7acf46row11_col0,#T_9e0d2a7e_7b36_11ec_8b6d_b46bfc7acf46row11_col1,#T_9e0d2a7e_7b36_11ec_8b6d_b46bfc7acf46row11_col2,#T_9e0d2a7e_7b36_11ec_8b6d_b46bfc7acf46row11_col3,#T_9e0d2a7e_7b36_11ec_8b6d_b46bfc7acf46row11_col4,#T_9e0d2a7e_7b36_11ec_8b6d_b46bfc7acf46row11_col5,#T_9e0d2a7e_7b36_11ec_8b6d_b46bfc7acf46row11_col6,#T_9e0d2a7e_7b36_11ec_8b6d_b46bfc7acf46row11_col7,#T_9e0d2a7e_7b36_11ec_8b6d_b46bfc7acf46row12_col0,#T_9e0d2a7e_7b36_11ec_8b6d_b46bfc7acf46row12_col1,#T_9e0d2a7e_7b36_11ec_8b6d_b46bfc7acf46row12_col2,#T_9e0d2a7e_7b36_11ec_8b6d_b46bfc7acf46row12_col3,#T_9e0d2a7e_7b36_11ec_8b6d_b46bfc7acf46row12_col4,#T_9e0d2a7e_7b36_11ec_8b6d_b46bfc7acf46row12_col5,#T_9e0d2a7e_7b36_11ec_8b6d_b46bfc7acf46row12_col6,#T_9e0d2a7e_7b36_11ec_8b6d_b46bfc7acf46row12_col7,#T_9e0d2a7e_7b36_11ec_8b6d_b46bfc7acf46row13_col0,#T_9e0d2a7e_7b36_11ec_8b6d_b46bfc7acf46row13_col1,#T_9e0d2a7e_7b36_11ec_8b6d_b46bfc7acf46row13_col2,#T_9e0d2a7e_7b36_11ec_8b6d_b46bfc7acf46row13_col4,#T_9e0d2a7e_7b36_11ec_8b6d_b46bfc7acf46row13_col5,#T_9e0d2a7e_7b36_11ec_8b6d_b46bfc7acf46row13_col6,#T_9e0d2a7e_7b36_11ec_8b6d_b46bfc7acf46row13_col7,#T_9e0d2a7e_7b36_11ec_8b6d_b46bfc7acf46row14_col0,#T_9e0d2a7e_7b36_11ec_8b6d_b46bfc7acf46row14_col1,#T_9e0d2a7e_7b36_11ec_8b6d_b46bfc7acf46row14_col2,#T_9e0d2a7e_7b36_11ec_8b6d_b46bfc7acf46row14_col3,#T_9e0d2a7e_7b36_11ec_8b6d_b46bfc7acf46row14_col4,#T_9e0d2a7e_7b36_11ec_8b6d_b46bfc7acf46row14_col5,#T_9e0d2a7e_7b36_11ec_8b6d_b46bfc7acf46row14_col6,#T_9e0d2a7e_7b36_11ec_8b6d_b46bfc7acf46row14_col7{\n",
       "            text-align:  left;\n",
       "            text-align:  left;\n",
       "        }#T_9e0d2a7e_7b36_11ec_8b6d_b46bfc7acf46row0_col1,#T_9e0d2a7e_7b36_11ec_8b6d_b46bfc7acf46row0_col5,#T_9e0d2a7e_7b36_11ec_8b6d_b46bfc7acf46row0_col6,#T_9e0d2a7e_7b36_11ec_8b6d_b46bfc7acf46row0_col7,#T_9e0d2a7e_7b36_11ec_8b6d_b46bfc7acf46row1_col4,#T_9e0d2a7e_7b36_11ec_8b6d_b46bfc7acf46row3_col2,#T_9e0d2a7e_7b36_11ec_8b6d_b46bfc7acf46row13_col3{\n",
       "            text-align:  left;\n",
       "            text-align:  left;\n",
       "            background-color:  yellow;\n",
       "        }#T_9e0d2a7e_7b36_11ec_8b6d_b46bfc7acf46row0_col8,#T_9e0d2a7e_7b36_11ec_8b6d_b46bfc7acf46row1_col8,#T_9e0d2a7e_7b36_11ec_8b6d_b46bfc7acf46row2_col8,#T_9e0d2a7e_7b36_11ec_8b6d_b46bfc7acf46row3_col8,#T_9e0d2a7e_7b36_11ec_8b6d_b46bfc7acf46row5_col8,#T_9e0d2a7e_7b36_11ec_8b6d_b46bfc7acf46row6_col8,#T_9e0d2a7e_7b36_11ec_8b6d_b46bfc7acf46row7_col8,#T_9e0d2a7e_7b36_11ec_8b6d_b46bfc7acf46row8_col8,#T_9e0d2a7e_7b36_11ec_8b6d_b46bfc7acf46row10_col8,#T_9e0d2a7e_7b36_11ec_8b6d_b46bfc7acf46row11_col8,#T_9e0d2a7e_7b36_11ec_8b6d_b46bfc7acf46row12_col8,#T_9e0d2a7e_7b36_11ec_8b6d_b46bfc7acf46row13_col8,#T_9e0d2a7e_7b36_11ec_8b6d_b46bfc7acf46row14_col8{\n",
       "            text-align:  left;\n",
       "            text-align:  left;\n",
       "            background-color:  lightgrey;\n",
       "        }#T_9e0d2a7e_7b36_11ec_8b6d_b46bfc7acf46row4_col8,#T_9e0d2a7e_7b36_11ec_8b6d_b46bfc7acf46row9_col8{\n",
       "            text-align:  left;\n",
       "            text-align:  left;\n",
       "            background-color:  yellow;\n",
       "            background-color:  lightgrey;\n",
       "        }</style><table id=\"T_9e0d2a7e_7b36_11ec_8b6d_b46bfc7acf46\" ><thead>    <tr>        <th class=\"blank level0\" ></th>        <th class=\"col_heading level0 col0\" >Model</th>        <th class=\"col_heading level0 col1\" >Accuracy</th>        <th class=\"col_heading level0 col2\" >AUC</th>        <th class=\"col_heading level0 col3\" >Recall</th>        <th class=\"col_heading level0 col4\" >Prec.</th>        <th class=\"col_heading level0 col5\" >F1</th>        <th class=\"col_heading level0 col6\" >Kappa</th>        <th class=\"col_heading level0 col7\" >MCC</th>        <th class=\"col_heading level0 col8\" >TT (Sec)</th>    </tr></thead><tbody>\n",
       "                <tr>\n",
       "                        <th id=\"T_9e0d2a7e_7b36_11ec_8b6d_b46bfc7acf46level0_row0\" class=\"row_heading level0 row0\" >catboost</th>\n",
       "                        <td id=\"T_9e0d2a7e_7b36_11ec_8b6d_b46bfc7acf46row0_col0\" class=\"data row0 col0\" >CatBoost Classifier</td>\n",
       "                        <td id=\"T_9e0d2a7e_7b36_11ec_8b6d_b46bfc7acf46row0_col1\" class=\"data row0 col1\" >0.8262</td>\n",
       "                        <td id=\"T_9e0d2a7e_7b36_11ec_8b6d_b46bfc7acf46row0_col2\" class=\"data row0 col2\" >0.9028</td>\n",
       "                        <td id=\"T_9e0d2a7e_7b36_11ec_8b6d_b46bfc7acf46row0_col3\" class=\"data row0 col3\" >0.8333</td>\n",
       "                        <td id=\"T_9e0d2a7e_7b36_11ec_8b6d_b46bfc7acf46row0_col4\" class=\"data row0 col4\" >0.8267</td>\n",
       "                        <td id=\"T_9e0d2a7e_7b36_11ec_8b6d_b46bfc7acf46row0_col5\" class=\"data row0 col5\" >0.8131</td>\n",
       "                        <td id=\"T_9e0d2a7e_7b36_11ec_8b6d_b46bfc7acf46row0_col6\" class=\"data row0 col6\" >0.6474</td>\n",
       "                        <td id=\"T_9e0d2a7e_7b36_11ec_8b6d_b46bfc7acf46row0_col7\" class=\"data row0 col7\" >0.6743</td>\n",
       "                        <td id=\"T_9e0d2a7e_7b36_11ec_8b6d_b46bfc7acf46row0_col8\" class=\"data row0 col8\" >0.2830</td>\n",
       "            </tr>\n",
       "            <tr>\n",
       "                        <th id=\"T_9e0d2a7e_7b36_11ec_8b6d_b46bfc7acf46level0_row1\" class=\"row_heading level0 row1\" >gbc</th>\n",
       "                        <td id=\"T_9e0d2a7e_7b36_11ec_8b6d_b46bfc7acf46row1_col0\" class=\"data row1 col0\" >Gradient Boosting Classifier</td>\n",
       "                        <td id=\"T_9e0d2a7e_7b36_11ec_8b6d_b46bfc7acf46row1_col1\" class=\"data row1 col1\" >0.8143</td>\n",
       "                        <td id=\"T_9e0d2a7e_7b36_11ec_8b6d_b46bfc7acf46row1_col2\" class=\"data row1 col2\" >0.8472</td>\n",
       "                        <td id=\"T_9e0d2a7e_7b36_11ec_8b6d_b46bfc7acf46row1_col3\" class=\"data row1 col3\" >0.8083</td>\n",
       "                        <td id=\"T_9e0d2a7e_7b36_11ec_8b6d_b46bfc7acf46row1_col4\" class=\"data row1 col4\" >0.8433</td>\n",
       "                        <td id=\"T_9e0d2a7e_7b36_11ec_8b6d_b46bfc7acf46row1_col5\" class=\"data row1 col5\" >0.7955</td>\n",
       "                        <td id=\"T_9e0d2a7e_7b36_11ec_8b6d_b46bfc7acf46row1_col6\" class=\"data row1 col6\" >0.6273</td>\n",
       "                        <td id=\"T_9e0d2a7e_7b36_11ec_8b6d_b46bfc7acf46row1_col7\" class=\"data row1 col7\" >0.6642</td>\n",
       "                        <td id=\"T_9e0d2a7e_7b36_11ec_8b6d_b46bfc7acf46row1_col8\" class=\"data row1 col8\" >0.0230</td>\n",
       "            </tr>\n",
       "            <tr>\n",
       "                        <th id=\"T_9e0d2a7e_7b36_11ec_8b6d_b46bfc7acf46level0_row2\" class=\"row_heading level0 row2\" >et</th>\n",
       "                        <td id=\"T_9e0d2a7e_7b36_11ec_8b6d_b46bfc7acf46row2_col0\" class=\"data row2 col0\" >Extra Trees Classifier</td>\n",
       "                        <td id=\"T_9e0d2a7e_7b36_11ec_8b6d_b46bfc7acf46row2_col1\" class=\"data row2 col1\" >0.8119</td>\n",
       "                        <td id=\"T_9e0d2a7e_7b36_11ec_8b6d_b46bfc7acf46row2_col2\" class=\"data row2 col2\" >0.9083</td>\n",
       "                        <td id=\"T_9e0d2a7e_7b36_11ec_8b6d_b46bfc7acf46row2_col3\" class=\"data row2 col3\" >0.8083</td>\n",
       "                        <td id=\"T_9e0d2a7e_7b36_11ec_8b6d_b46bfc7acf46row2_col4\" class=\"data row2 col4\" >0.8267</td>\n",
       "                        <td id=\"T_9e0d2a7e_7b36_11ec_8b6d_b46bfc7acf46row2_col5\" class=\"data row2 col5\" >0.7988</td>\n",
       "                        <td id=\"T_9e0d2a7e_7b36_11ec_8b6d_b46bfc7acf46row2_col6\" class=\"data row2 col6\" >0.6194</td>\n",
       "                        <td id=\"T_9e0d2a7e_7b36_11ec_8b6d_b46bfc7acf46row2_col7\" class=\"data row2 col7\" >0.6493</td>\n",
       "                        <td id=\"T_9e0d2a7e_7b36_11ec_8b6d_b46bfc7acf46row2_col8\" class=\"data row2 col8\" >0.0740</td>\n",
       "            </tr>\n",
       "            <tr>\n",
       "                        <th id=\"T_9e0d2a7e_7b36_11ec_8b6d_b46bfc7acf46level0_row3\" class=\"row_heading level0 row3\" >rf</th>\n",
       "                        <td id=\"T_9e0d2a7e_7b36_11ec_8b6d_b46bfc7acf46row3_col0\" class=\"data row3 col0\" >Random Forest Classifier</td>\n",
       "                        <td id=\"T_9e0d2a7e_7b36_11ec_8b6d_b46bfc7acf46row3_col1\" class=\"data row3 col1\" >0.8095</td>\n",
       "                        <td id=\"T_9e0d2a7e_7b36_11ec_8b6d_b46bfc7acf46row3_col2\" class=\"data row3 col2\" >0.9167</td>\n",
       "                        <td id=\"T_9e0d2a7e_7b36_11ec_8b6d_b46bfc7acf46row3_col3\" class=\"data row3 col3\" >0.8333</td>\n",
       "                        <td id=\"T_9e0d2a7e_7b36_11ec_8b6d_b46bfc7acf46row3_col4\" class=\"data row3 col4\" >0.8117</td>\n",
       "                        <td id=\"T_9e0d2a7e_7b36_11ec_8b6d_b46bfc7acf46row3_col5\" class=\"data row3 col5\" >0.8024</td>\n",
       "                        <td id=\"T_9e0d2a7e_7b36_11ec_8b6d_b46bfc7acf46row3_col6\" class=\"data row3 col6\" >0.6140</td>\n",
       "                        <td id=\"T_9e0d2a7e_7b36_11ec_8b6d_b46bfc7acf46row3_col7\" class=\"data row3 col7\" >0.6483</td>\n",
       "                        <td id=\"T_9e0d2a7e_7b36_11ec_8b6d_b46bfc7acf46row3_col8\" class=\"data row3 col8\" >0.0860</td>\n",
       "            </tr>\n",
       "            <tr>\n",
       "                        <th id=\"T_9e0d2a7e_7b36_11ec_8b6d_b46bfc7acf46level0_row4\" class=\"row_heading level0 row4\" >dt</th>\n",
       "                        <td id=\"T_9e0d2a7e_7b36_11ec_8b6d_b46bfc7acf46row4_col0\" class=\"data row4 col0\" >Decision Tree Classifier</td>\n",
       "                        <td id=\"T_9e0d2a7e_7b36_11ec_8b6d_b46bfc7acf46row4_col1\" class=\"data row4 col1\" >0.7810</td>\n",
       "                        <td id=\"T_9e0d2a7e_7b36_11ec_8b6d_b46bfc7acf46row4_col2\" class=\"data row4 col2\" >0.7833</td>\n",
       "                        <td id=\"T_9e0d2a7e_7b36_11ec_8b6d_b46bfc7acf46row4_col3\" class=\"data row4 col3\" >0.8083</td>\n",
       "                        <td id=\"T_9e0d2a7e_7b36_11ec_8b6d_b46bfc7acf46row4_col4\" class=\"data row4 col4\" >0.7950</td>\n",
       "                        <td id=\"T_9e0d2a7e_7b36_11ec_8b6d_b46bfc7acf46row4_col5\" class=\"data row4 col5\" >0.7814</td>\n",
       "                        <td id=\"T_9e0d2a7e_7b36_11ec_8b6d_b46bfc7acf46row4_col6\" class=\"data row4 col6\" >0.5607</td>\n",
       "                        <td id=\"T_9e0d2a7e_7b36_11ec_8b6d_b46bfc7acf46row4_col7\" class=\"data row4 col7\" >0.5975</td>\n",
       "                        <td id=\"T_9e0d2a7e_7b36_11ec_8b6d_b46bfc7acf46row4_col8\" class=\"data row4 col8\" >0.0050</td>\n",
       "            </tr>\n",
       "            <tr>\n",
       "                        <th id=\"T_9e0d2a7e_7b36_11ec_8b6d_b46bfc7acf46level0_row5\" class=\"row_heading level0 row5\" >lightgbm</th>\n",
       "                        <td id=\"T_9e0d2a7e_7b36_11ec_8b6d_b46bfc7acf46row5_col0\" class=\"data row5 col0\" >Light Gradient Boosting Machine</td>\n",
       "                        <td id=\"T_9e0d2a7e_7b36_11ec_8b6d_b46bfc7acf46row5_col1\" class=\"data row5 col1\" >0.6571</td>\n",
       "                        <td id=\"T_9e0d2a7e_7b36_11ec_8b6d_b46bfc7acf46row5_col2\" class=\"data row5 col2\" >0.7431</td>\n",
       "                        <td id=\"T_9e0d2a7e_7b36_11ec_8b6d_b46bfc7acf46row5_col3\" class=\"data row5 col3\" >0.7167</td>\n",
       "                        <td id=\"T_9e0d2a7e_7b36_11ec_8b6d_b46bfc7acf46row5_col4\" class=\"data row5 col4\" >0.6917</td>\n",
       "                        <td id=\"T_9e0d2a7e_7b36_11ec_8b6d_b46bfc7acf46row5_col5\" class=\"data row5 col5\" >0.6729</td>\n",
       "                        <td id=\"T_9e0d2a7e_7b36_11ec_8b6d_b46bfc7acf46row5_col6\" class=\"data row5 col6\" >0.3143</td>\n",
       "                        <td id=\"T_9e0d2a7e_7b36_11ec_8b6d_b46bfc7acf46row5_col7\" class=\"data row5 col7\" >0.3440</td>\n",
       "                        <td id=\"T_9e0d2a7e_7b36_11ec_8b6d_b46bfc7acf46row5_col8\" class=\"data row5 col8\" >0.0090</td>\n",
       "            </tr>\n",
       "            <tr>\n",
       "                        <th id=\"T_9e0d2a7e_7b36_11ec_8b6d_b46bfc7acf46level0_row6\" class=\"row_heading level0 row6\" >lr</th>\n",
       "                        <td id=\"T_9e0d2a7e_7b36_11ec_8b6d_b46bfc7acf46row6_col0\" class=\"data row6 col0\" >Logistic Regression</td>\n",
       "                        <td id=\"T_9e0d2a7e_7b36_11ec_8b6d_b46bfc7acf46row6_col1\" class=\"data row6 col1\" >0.6524</td>\n",
       "                        <td id=\"T_9e0d2a7e_7b36_11ec_8b6d_b46bfc7acf46row6_col2\" class=\"data row6 col2\" >0.6667</td>\n",
       "                        <td id=\"T_9e0d2a7e_7b36_11ec_8b6d_b46bfc7acf46row6_col3\" class=\"data row6 col3\" >0.7417</td>\n",
       "                        <td id=\"T_9e0d2a7e_7b36_11ec_8b6d_b46bfc7acf46row6_col4\" class=\"data row6 col4\" >0.6817</td>\n",
       "                        <td id=\"T_9e0d2a7e_7b36_11ec_8b6d_b46bfc7acf46row6_col5\" class=\"data row6 col5\" >0.6664</td>\n",
       "                        <td id=\"T_9e0d2a7e_7b36_11ec_8b6d_b46bfc7acf46row6_col6\" class=\"data row6 col6\" >0.3059</td>\n",
       "                        <td id=\"T_9e0d2a7e_7b36_11ec_8b6d_b46bfc7acf46row6_col7\" class=\"data row6 col7\" >0.3316</td>\n",
       "                        <td id=\"T_9e0d2a7e_7b36_11ec_8b6d_b46bfc7acf46row6_col8\" class=\"data row6 col8\" >0.0120</td>\n",
       "            </tr>\n",
       "            <tr>\n",
       "                        <th id=\"T_9e0d2a7e_7b36_11ec_8b6d_b46bfc7acf46level0_row7\" class=\"row_heading level0 row7\" >qda</th>\n",
       "                        <td id=\"T_9e0d2a7e_7b36_11ec_8b6d_b46bfc7acf46row7_col0\" class=\"data row7 col0\" >Quadratic Discriminant Analysis</td>\n",
       "                        <td id=\"T_9e0d2a7e_7b36_11ec_8b6d_b46bfc7acf46row7_col1\" class=\"data row7 col1\" >0.6524</td>\n",
       "                        <td id=\"T_9e0d2a7e_7b36_11ec_8b6d_b46bfc7acf46row7_col2\" class=\"data row7 col2\" >0.6208</td>\n",
       "                        <td id=\"T_9e0d2a7e_7b36_11ec_8b6d_b46bfc7acf46row7_col3\" class=\"data row7 col3\" >0.4500</td>\n",
       "                        <td id=\"T_9e0d2a7e_7b36_11ec_8b6d_b46bfc7acf46row7_col4\" class=\"data row7 col4\" >0.5429</td>\n",
       "                        <td id=\"T_9e0d2a7e_7b36_11ec_8b6d_b46bfc7acf46row7_col5\" class=\"data row7 col5\" >0.4567</td>\n",
       "                        <td id=\"T_9e0d2a7e_7b36_11ec_8b6d_b46bfc7acf46row7_col6\" class=\"data row7 col6\" >0.3159</td>\n",
       "                        <td id=\"T_9e0d2a7e_7b36_11ec_8b6d_b46bfc7acf46row7_col7\" class=\"data row7 col7\" >0.3279</td>\n",
       "                        <td id=\"T_9e0d2a7e_7b36_11ec_8b6d_b46bfc7acf46row7_col8\" class=\"data row7 col8\" >0.0070</td>\n",
       "            </tr>\n",
       "            <tr>\n",
       "                        <th id=\"T_9e0d2a7e_7b36_11ec_8b6d_b46bfc7acf46level0_row8\" class=\"row_heading level0 row8\" >knn</th>\n",
       "                        <td id=\"T_9e0d2a7e_7b36_11ec_8b6d_b46bfc7acf46row8_col0\" class=\"data row8 col0\" >K Neighbors Classifier</td>\n",
       "                        <td id=\"T_9e0d2a7e_7b36_11ec_8b6d_b46bfc7acf46row8_col1\" class=\"data row8 col1\" >0.6381</td>\n",
       "                        <td id=\"T_9e0d2a7e_7b36_11ec_8b6d_b46bfc7acf46row8_col2\" class=\"data row8 col2\" >0.7083</td>\n",
       "                        <td id=\"T_9e0d2a7e_7b36_11ec_8b6d_b46bfc7acf46row8_col3\" class=\"data row8 col3\" >0.6750</td>\n",
       "                        <td id=\"T_9e0d2a7e_7b36_11ec_8b6d_b46bfc7acf46row8_col4\" class=\"data row8 col4\" >0.6183</td>\n",
       "                        <td id=\"T_9e0d2a7e_7b36_11ec_8b6d_b46bfc7acf46row8_col5\" class=\"data row8 col5\" >0.6243</td>\n",
       "                        <td id=\"T_9e0d2a7e_7b36_11ec_8b6d_b46bfc7acf46row8_col6\" class=\"data row8 col6\" >0.2637</td>\n",
       "                        <td id=\"T_9e0d2a7e_7b36_11ec_8b6d_b46bfc7acf46row8_col7\" class=\"data row8 col7\" >0.2758</td>\n",
       "                        <td id=\"T_9e0d2a7e_7b36_11ec_8b6d_b46bfc7acf46row8_col8\" class=\"data row8 col8\" >0.0130</td>\n",
       "            </tr>\n",
       "            <tr>\n",
       "                        <th id=\"T_9e0d2a7e_7b36_11ec_8b6d_b46bfc7acf46level0_row9\" class=\"row_heading level0 row9\" >ridge</th>\n",
       "                        <td id=\"T_9e0d2a7e_7b36_11ec_8b6d_b46bfc7acf46row9_col0\" class=\"data row9 col0\" >Ridge Classifier</td>\n",
       "                        <td id=\"T_9e0d2a7e_7b36_11ec_8b6d_b46bfc7acf46row9_col1\" class=\"data row9 col1\" >0.6381</td>\n",
       "                        <td id=\"T_9e0d2a7e_7b36_11ec_8b6d_b46bfc7acf46row9_col2\" class=\"data row9 col2\" >0.0000</td>\n",
       "                        <td id=\"T_9e0d2a7e_7b36_11ec_8b6d_b46bfc7acf46row9_col3\" class=\"data row9 col3\" >0.7417</td>\n",
       "                        <td id=\"T_9e0d2a7e_7b36_11ec_8b6d_b46bfc7acf46row9_col4\" class=\"data row9 col4\" >0.6650</td>\n",
       "                        <td id=\"T_9e0d2a7e_7b36_11ec_8b6d_b46bfc7acf46row9_col5\" class=\"data row9 col5\" >0.6598</td>\n",
       "                        <td id=\"T_9e0d2a7e_7b36_11ec_8b6d_b46bfc7acf46row9_col6\" class=\"data row9 col6\" >0.2806</td>\n",
       "                        <td id=\"T_9e0d2a7e_7b36_11ec_8b6d_b46bfc7acf46row9_col7\" class=\"data row9 col7\" >0.3058</td>\n",
       "                        <td id=\"T_9e0d2a7e_7b36_11ec_8b6d_b46bfc7acf46row9_col8\" class=\"data row9 col8\" >0.0050</td>\n",
       "            </tr>\n",
       "            <tr>\n",
       "                        <th id=\"T_9e0d2a7e_7b36_11ec_8b6d_b46bfc7acf46level0_row10\" class=\"row_heading level0 row10\" >lda</th>\n",
       "                        <td id=\"T_9e0d2a7e_7b36_11ec_8b6d_b46bfc7acf46row10_col0\" class=\"data row10 col0\" >Linear Discriminant Analysis</td>\n",
       "                        <td id=\"T_9e0d2a7e_7b36_11ec_8b6d_b46bfc7acf46row10_col1\" class=\"data row10 col1\" >0.6071</td>\n",
       "                        <td id=\"T_9e0d2a7e_7b36_11ec_8b6d_b46bfc7acf46row10_col2\" class=\"data row10 col2\" >0.6222</td>\n",
       "                        <td id=\"T_9e0d2a7e_7b36_11ec_8b6d_b46bfc7acf46row10_col3\" class=\"data row10 col3\" >0.7417</td>\n",
       "                        <td id=\"T_9e0d2a7e_7b36_11ec_8b6d_b46bfc7acf46row10_col4\" class=\"data row10 col4\" >0.5933</td>\n",
       "                        <td id=\"T_9e0d2a7e_7b36_11ec_8b6d_b46bfc7acf46row10_col5\" class=\"data row10 col5\" >0.6390</td>\n",
       "                        <td id=\"T_9e0d2a7e_7b36_11ec_8b6d_b46bfc7acf46row10_col6\" class=\"data row10 col6\" >0.2080</td>\n",
       "                        <td id=\"T_9e0d2a7e_7b36_11ec_8b6d_b46bfc7acf46row10_col7\" class=\"data row10 col7\" >0.2213</td>\n",
       "                        <td id=\"T_9e0d2a7e_7b36_11ec_8b6d_b46bfc7acf46row10_col8\" class=\"data row10 col8\" >0.0070</td>\n",
       "            </tr>\n",
       "            <tr>\n",
       "                        <th id=\"T_9e0d2a7e_7b36_11ec_8b6d_b46bfc7acf46level0_row11\" class=\"row_heading level0 row11\" >ada</th>\n",
       "                        <td id=\"T_9e0d2a7e_7b36_11ec_8b6d_b46bfc7acf46row11_col0\" class=\"data row11 col0\" >Ada Boost Classifier</td>\n",
       "                        <td id=\"T_9e0d2a7e_7b36_11ec_8b6d_b46bfc7acf46row11_col1\" class=\"data row11 col1\" >0.5762</td>\n",
       "                        <td id=\"T_9e0d2a7e_7b36_11ec_8b6d_b46bfc7acf46row11_col2\" class=\"data row11 col2\" >0.6333</td>\n",
       "                        <td id=\"T_9e0d2a7e_7b36_11ec_8b6d_b46bfc7acf46row11_col3\" class=\"data row11 col3\" >0.7083</td>\n",
       "                        <td id=\"T_9e0d2a7e_7b36_11ec_8b6d_b46bfc7acf46row11_col4\" class=\"data row11 col4\" >0.6083</td>\n",
       "                        <td id=\"T_9e0d2a7e_7b36_11ec_8b6d_b46bfc7acf46row11_col5\" class=\"data row11 col5\" >0.6145</td>\n",
       "                        <td id=\"T_9e0d2a7e_7b36_11ec_8b6d_b46bfc7acf46row11_col6\" class=\"data row11 col6\" >0.1510</td>\n",
       "                        <td id=\"T_9e0d2a7e_7b36_11ec_8b6d_b46bfc7acf46row11_col7\" class=\"data row11 col7\" >0.1695</td>\n",
       "                        <td id=\"T_9e0d2a7e_7b36_11ec_8b6d_b46bfc7acf46row11_col8\" class=\"data row11 col8\" >0.0320</td>\n",
       "            </tr>\n",
       "            <tr>\n",
       "                        <th id=\"T_9e0d2a7e_7b36_11ec_8b6d_b46bfc7acf46level0_row12\" class=\"row_heading level0 row12\" >svm</th>\n",
       "                        <td id=\"T_9e0d2a7e_7b36_11ec_8b6d_b46bfc7acf46row12_col0\" class=\"data row12 col0\" >SVM - Linear Kernel</td>\n",
       "                        <td id=\"T_9e0d2a7e_7b36_11ec_8b6d_b46bfc7acf46row12_col1\" class=\"data row12 col1\" >0.5595</td>\n",
       "                        <td id=\"T_9e0d2a7e_7b36_11ec_8b6d_b46bfc7acf46row12_col2\" class=\"data row12 col2\" >0.0000</td>\n",
       "                        <td id=\"T_9e0d2a7e_7b36_11ec_8b6d_b46bfc7acf46row12_col3\" class=\"data row12 col3\" >0.5000</td>\n",
       "                        <td id=\"T_9e0d2a7e_7b36_11ec_8b6d_b46bfc7acf46row12_col4\" class=\"data row12 col4\" >0.6017</td>\n",
       "                        <td id=\"T_9e0d2a7e_7b36_11ec_8b6d_b46bfc7acf46row12_col5\" class=\"data row12 col5\" >0.4917</td>\n",
       "                        <td id=\"T_9e0d2a7e_7b36_11ec_8b6d_b46bfc7acf46row12_col6\" class=\"data row12 col6\" >0.1350</td>\n",
       "                        <td id=\"T_9e0d2a7e_7b36_11ec_8b6d_b46bfc7acf46row12_col7\" class=\"data row12 col7\" >0.1789</td>\n",
       "                        <td id=\"T_9e0d2a7e_7b36_11ec_8b6d_b46bfc7acf46row12_col8\" class=\"data row12 col8\" >0.0070</td>\n",
       "            </tr>\n",
       "            <tr>\n",
       "                        <th id=\"T_9e0d2a7e_7b36_11ec_8b6d_b46bfc7acf46level0_row13\" class=\"row_heading level0 row13\" >nb</th>\n",
       "                        <td id=\"T_9e0d2a7e_7b36_11ec_8b6d_b46bfc7acf46row13_col0\" class=\"data row13 col0\" >Naive Bayes</td>\n",
       "                        <td id=\"T_9e0d2a7e_7b36_11ec_8b6d_b46bfc7acf46row13_col1\" class=\"data row13 col1\" >0.5429</td>\n",
       "                        <td id=\"T_9e0d2a7e_7b36_11ec_8b6d_b46bfc7acf46row13_col2\" class=\"data row13 col2\" >0.6153</td>\n",
       "                        <td id=\"T_9e0d2a7e_7b36_11ec_8b6d_b46bfc7acf46row13_col3\" class=\"data row13 col3\" >0.9333</td>\n",
       "                        <td id=\"T_9e0d2a7e_7b36_11ec_8b6d_b46bfc7acf46row13_col4\" class=\"data row13 col4\" >0.5121</td>\n",
       "                        <td id=\"T_9e0d2a7e_7b36_11ec_8b6d_b46bfc7acf46row13_col5\" class=\"data row13 col5\" >0.6596</td>\n",
       "                        <td id=\"T_9e0d2a7e_7b36_11ec_8b6d_b46bfc7acf46row13_col6\" class=\"data row13 col6\" >0.0822</td>\n",
       "                        <td id=\"T_9e0d2a7e_7b36_11ec_8b6d_b46bfc7acf46row13_col7\" class=\"data row13 col7\" >0.1279</td>\n",
       "                        <td id=\"T_9e0d2a7e_7b36_11ec_8b6d_b46bfc7acf46row13_col8\" class=\"data row13 col8\" >0.0060</td>\n",
       "            </tr>\n",
       "            <tr>\n",
       "                        <th id=\"T_9e0d2a7e_7b36_11ec_8b6d_b46bfc7acf46level0_row14\" class=\"row_heading level0 row14\" >dummy</th>\n",
       "                        <td id=\"T_9e0d2a7e_7b36_11ec_8b6d_b46bfc7acf46row14_col0\" class=\"data row14 col0\" >Dummy Classifier</td>\n",
       "                        <td id=\"T_9e0d2a7e_7b36_11ec_8b6d_b46bfc7acf46row14_col1\" class=\"data row14 col1\" >0.5071</td>\n",
       "                        <td id=\"T_9e0d2a7e_7b36_11ec_8b6d_b46bfc7acf46row14_col2\" class=\"data row14 col2\" >0.5000</td>\n",
       "                        <td id=\"T_9e0d2a7e_7b36_11ec_8b6d_b46bfc7acf46row14_col3\" class=\"data row14 col3\" >0.0000</td>\n",
       "                        <td id=\"T_9e0d2a7e_7b36_11ec_8b6d_b46bfc7acf46row14_col4\" class=\"data row14 col4\" >0.0000</td>\n",
       "                        <td id=\"T_9e0d2a7e_7b36_11ec_8b6d_b46bfc7acf46row14_col5\" class=\"data row14 col5\" >0.0000</td>\n",
       "                        <td id=\"T_9e0d2a7e_7b36_11ec_8b6d_b46bfc7acf46row14_col6\" class=\"data row14 col6\" >0.0000</td>\n",
       "                        <td id=\"T_9e0d2a7e_7b36_11ec_8b6d_b46bfc7acf46row14_col7\" class=\"data row14 col7\" >0.0000</td>\n",
       "                        <td id=\"T_9e0d2a7e_7b36_11ec_8b6d_b46bfc7acf46row14_col8\" class=\"data row14 col8\" >0.0060</td>\n",
       "            </tr>\n",
       "    </tbody></table>"
      ],
      "text/plain": [
       "<pandas.io.formats.style.Styler at 0x19927b196a0>"
      ]
     },
     "metadata": {},
     "output_type": "display_data"
    },
    {
     "name": "stdout",
     "output_type": "stream",
     "text": [
      "<catboost.core.CatBoostClassifier object at 0x0000019927AF5FD0>\n"
     ]
    }
   ],
   "source": [
    "get_best_model(df3)"
   ]
  },
  {
   "cell_type": "markdown",
   "metadata": {},
   "source": [
    "All datasets now have an improved accuracy. Based on the results above, the dataset with the highest accuracy uses all features. We will be using this dataset moving forward with the following models:\n",
    "\n",
    "- Extra Trees Classifier\n",
    "- Decision Tree Classifier\n",
    "- Random Forest Classifier\n",
    "\n",
    "We will also be using a Voting Classifier to see if using all three models together improves the accuracy of prediction."
   ]
  },
  {
   "cell_type": "code",
   "execution_count": 42,
   "metadata": {},
   "outputs": [],
   "source": [
    "# train_test_split on df3\n",
    "\n",
    "X = df3.drop(columns='y', axis=1)\n",
    "y = df3.y\n",
    "\n",
    "X_train, X_test, y_train, y_test = train_test_split(X, y, test_size = 0.2, random_state = 42)"
   ]
  },
  {
   "cell_type": "markdown",
   "metadata": {},
   "source": [
    "# MODELING"
   ]
  },
  {
   "cell_type": "code",
   "execution_count": 43,
   "metadata": {},
   "outputs": [],
   "source": [
    "from sklearn.tree import DecisionTreeClassifier\n",
    "from sklearn.ensemble import ExtraTreesClassifier, RandomForestClassifier, VotingClassifier\n",
    "from sklearn.metrics import accuracy_score, classification_report, confusion_matrix, plot_roc_curve"
   ]
  },
  {
   "cell_type": "code",
   "execution_count": 44,
   "metadata": {},
   "outputs": [],
   "source": [
    "def evaluate_model(classifier, X_tr, y_tr, X_te, y_te):\n",
    "    \n",
    "    clf = classifier\n",
    "    clf.fit(X_tr,y_tr)\n",
    "    y_pr = clf.predict(X_te)\n",
    "    \n",
    "    score = clf.score(X_tr, y_tr)\n",
    "    accuracy = accuracy_score(y_te, y_pr)\n",
    "    \n",
    "    print(f'Train score: {score}\\nTest accuracy: {accuracy}\\nDifference: {score - accuracy}')\n",
    "    \n",
    "    return clf, y_te, y_pr"
   ]
  },
  {
   "cell_type": "code",
   "execution_count": 45,
   "metadata": {},
   "outputs": [],
   "source": [
    "def plot_confusion_matrix(test, pred, title):\n",
    "\n",
    "    cm = confusion_matrix(test, pred)\n",
    "    df_cm = pd.DataFrame(cm)\n",
    "    plt.figure(figsize=(10, 5))\n",
    "    sns.heatmap(df_cm, annot=True, cmap='Blues', fmt='')\n",
    "    plt.xlabel(\"Predicted labels\")\n",
    "    plt.ylabel(\"True labels\")\n",
    "    plt.title(f'{title} Confusion Matrix')\n",
    "\n",
    "    return None"
   ]
  },
  {
   "cell_type": "markdown",
   "metadata": {},
   "source": [
    "### Random Forest"
   ]
  },
  {
   "cell_type": "code",
   "execution_count": 46,
   "metadata": {},
   "outputs": [
    {
     "name": "stdout",
     "output_type": "stream",
     "text": [
      "Train score: 0.9861111111111112\n",
      "Test accuracy: 0.8421052631578947\n",
      "Difference: 0.14400584795321647\n"
     ]
    }
   ],
   "source": [
    "rf, rf_y_test, rf_y_pred = evaluate_model(RandomForestClassifier(), X_train, y_train, X_test, y_test)"
   ]
  },
  {
   "cell_type": "markdown",
   "metadata": {},
   "source": [
    "#### CONFUSION MATRIX"
   ]
  },
  {
   "cell_type": "code",
   "execution_count": 47,
   "metadata": {
    "scrolled": false
   },
   "outputs": [
    {
     "data": {
      "image/png": "[encoded data removed]",
      "text/plain": [
       "<Figure size 720x360 with 2 Axes>"
      ]
     },
     "metadata": {},
     "output_type": "display_data"
    }
   ],
   "source": [
    "plot_confusion_matrix(rf_y_test, rf_y_pred, 'Random Forest')"
   ]
  },
  {
   "cell_type": "markdown",
   "metadata": {},
   "source": [
    "#### CLASSIFICATION REPORT"
   ]
  },
  {
   "cell_type": "code",
   "execution_count": 48,
   "metadata": {},
   "outputs": [
    {
     "name": "stdout",
     "output_type": "stream",
     "text": [
      "Random Forest Classification Report\n",
      "\n",
      "              precision    recall  f1-score   support\n",
      "\n",
      "         0.0       1.00      0.70      0.82        10\n",
      "         1.0       0.75      1.00      0.86         9\n",
      "\n",
      "    accuracy                           0.84        19\n",
      "   macro avg       0.88      0.85      0.84        19\n",
      "weighted avg       0.88      0.84      0.84        19\n",
      "\n"
     ]
    }
   ],
   "source": [
    "print(f'Random Forest Classification Report\\n\\n{classification_report(rf_y_test, rf_y_pred)}')"
   ]
  },
  {
   "cell_type": "markdown",
   "metadata": {},
   "source": [
    "#### ROC CURVE"
   ]
  },
  {
   "cell_type": "code",
   "execution_count": 49,
   "metadata": {},
   "outputs": [
    {
     "data": {
      "text/plain": [
       "<sklearn.metrics._plot.roc_curve.RocCurveDisplay at 0x19927b187c0>"
      ]
     },
     "execution_count": 49,
     "metadata": {},
     "output_type": "execute_result"
    },
    {
     "data": {
      "image/png": "[encoded data removed]",
      "text/plain": [
       "<Figure size 576x396 with 1 Axes>"
      ]
     },
     "metadata": {},
     "output_type": "display_data"
    }
   ],
   "source": [
    "plot_roc_curve(rf, X_test, y_test)"
   ]
  },
  {
   "cell_type": "markdown",
   "metadata": {},
   "source": [
    "### Decision Tree"
   ]
  },
  {
   "cell_type": "code",
   "execution_count": 50,
   "metadata": {},
   "outputs": [
    {
     "name": "stdout",
     "output_type": "stream",
     "text": [
      "Train score: 0.9861111111111112\n",
      "Test accuracy: 0.8421052631578947\n",
      "Difference: 0.14400584795321647\n"
     ]
    }
   ],
   "source": [
    "dt, dt_y_test, dt_y_pred = evaluate_model(DecisionTreeClassifier(), X_train, y_train, X_test, y_test)"
   ]
  },
  {
   "cell_type": "markdown",
   "metadata": {},
   "source": [
    "#### CONFUSION MATRIX"
   ]
  },
  {
   "cell_type": "code",
   "execution_count": 51,
   "metadata": {},
   "outputs": [
    {
     "data": {
      "image/png": "[encoded data removed]",
      "text/plain": [
       "<Figure size 720x360 with 2 Axes>"
      ]
     },
     "metadata": {},
     "output_type": "display_data"
    }
   ],
   "source": [
    "plot_confusion_matrix(dt_y_test, dt_y_pred, 'Decision Tree')"
   ]
  },
  {
   "cell_type": "markdown",
   "metadata": {},
   "source": [
    "#### CLASSIFICATION REPORT"
   ]
  },
  {
   "cell_type": "code",
   "execution_count": 52,
   "metadata": {},
   "outputs": [
    {
     "name": "stdout",
     "output_type": "stream",
     "text": [
      "Decision Tree Classification Report\n",
      "\n",
      "              precision    recall  f1-score   support\n",
      "\n",
      "         0.0       1.00      0.70      0.82        10\n",
      "         1.0       0.75      1.00      0.86         9\n",
      "\n",
      "    accuracy                           0.84        19\n",
      "   macro avg       0.88      0.85      0.84        19\n",
      "weighted avg       0.88      0.84      0.84        19\n",
      "\n"
     ]
    }
   ],
   "source": [
    "print(f'Decision Tree Classification Report\\n\\n{classification_report(dt_y_test, dt_y_pred)}')"
   ]
  },
  {
   "cell_type": "markdown",
   "metadata": {},
   "source": [
    "#### ROC CURVE"
   ]
  },
  {
   "cell_type": "code",
   "execution_count": 53,
   "metadata": {},
   "outputs": [
    {
     "data": {
      "text/plain": [
       "<sklearn.metrics._plot.roc_curve.RocCurveDisplay at 0x19928e04f40>"
      ]
     },
     "execution_count": 53,
     "metadata": {},
     "output_type": "execute_result"
    },
    {
     "data": {
      "image/png": "[encoded data removed]",
      "text/plain": [
       "<Figure size 576x396 with 1 Axes>"
      ]
     },
     "metadata": {},
     "output_type": "display_data"
    }
   ],
   "source": [
    "plot_roc_curve(dt, X_test, y_test)"
   ]
  },
  {
   "cell_type": "markdown",
   "metadata": {},
   "source": [
    "### Extra Trees"
   ]
  },
  {
   "cell_type": "code",
   "execution_count": 54,
   "metadata": {
    "scrolled": true
   },
   "outputs": [
    {
     "name": "stdout",
     "output_type": "stream",
     "text": [
      "Train score: 0.9861111111111112\n",
      "Test accuracy: 0.8947368421052632\n",
      "Difference: 0.091374269005848\n"
     ]
    }
   ],
   "source": [
    "et, et_y_test, et_y_pred = evaluate_model(ExtraTreesClassifier(), X_train, y_train, X_test, y_test)"
   ]
  },
  {
   "cell_type": "markdown",
   "metadata": {},
   "source": [
    "#### CONFUSION MATRIX"
   ]
  },
  {
   "cell_type": "code",
   "execution_count": 55,
   "metadata": {},
   "outputs": [
    {
     "data": {
      "image/png": "[encoded data removed]",
      "text/plain": [
       "<Figure size 720x360 with 2 Axes>"
      ]
     },
     "metadata": {},
     "output_type": "display_data"
    }
   ],
   "source": [
    "plot_confusion_matrix(et_y_test, et_y_pred, 'Extra Trees')"
   ]
  },
  {
   "cell_type": "markdown",
   "metadata": {},
   "source": [
    "#### CLASSIFICATION REPORT"
   ]
  },
  {
   "cell_type": "code",
   "execution_count": 56,
   "metadata": {},
   "outputs": [
    {
     "name": "stdout",
     "output_type": "stream",
     "text": [
      "Extra Trees Classification Report\n",
      "\n",
      "              precision    recall  f1-score   support\n",
      "\n",
      "         0.0       1.00      0.80      0.89        10\n",
      "         1.0       0.82      1.00      0.90         9\n",
      "\n",
      "    accuracy                           0.89        19\n",
      "   macro avg       0.91      0.90      0.89        19\n",
      "weighted avg       0.91      0.89      0.89        19\n",
      "\n"
     ]
    }
   ],
   "source": [
    "print(f'Extra Trees Classification Report\\n\\n{classification_report(et_y_test, et_y_pred)}')"
   ]
  },
  {
   "cell_type": "markdown",
   "metadata": {},
   "source": [
    "#### ROC CURVE"
   ]
  },
  {
   "cell_type": "code",
   "execution_count": 57,
   "metadata": {
    "scrolled": false
   },
   "outputs": [
    {
     "data": {
      "text/plain": [
       "<sklearn.metrics._plot.roc_curve.RocCurveDisplay at 0x19928d0f670>"
      ]
     },
     "execution_count": 57,
     "metadata": {},
     "output_type": "execute_result"
    },
    {
     "data": {
      "image/png": "[encoded data removed]",
      "text/plain": [
       "<Figure size 576x396 with 1 Axes>"
      ]
     },
     "metadata": {},
     "output_type": "display_data"
    }
   ],
   "source": [
    "plot_roc_curve(et, X_test, y_test)"
   ]
  },
  {
   "cell_type": "markdown",
   "metadata": {},
   "source": [
    "The best model performing so far, keeping the F1-score and accuracy in mind, is our Decision Tree model."
   ]
  },
  {
   "cell_type": "markdown",
   "metadata": {},
   "source": [
    "### VOTING CLASSIFIER"
   ]
  },
  {
   "cell_type": "code",
   "execution_count": 58,
   "metadata": {},
   "outputs": [],
   "source": [
    "# Decision Tree Classifier\n",
    "\n",
    "clf1 = DecisionTreeClassifier()\n",
    "\n",
    "# Random Forest Classifier\n",
    "\n",
    "clf2 = RandomForestClassifier()\n",
    "\n",
    "# Extra Trees Classifier\n",
    "\n",
    "clf3 = ExtraTreesClassifier()"
   ]
  },
  {
   "cell_type": "markdown",
   "metadata": {},
   "source": [
    "#### FINDING THE WEIGHTS"
   ]
  },
  {
   "cell_type": "code",
   "execution_count": 59,
   "metadata": {},
   "outputs": [],
   "source": [
    "# Create empty lists that will storage the different weights\n",
    "\n",
    "weights1 = []\n",
    "weights2 = []\n",
    "weights3 = []\n",
    "scores = []\n",
    "\n",
    "# Create a for loop to evaluate different combinations of weights\n",
    "\n",
    "for i in np.arange(0.1,1, 0.1):\n",
    "    for j in np.arange(0.1,1, 0.1):\n",
    "        for k in np.arange(0.1,1, 0.1):\n",
    "            clf_voting = VotingClassifier(estimators = [('est1', clf1), ('est2', clf2),\n",
    "                                           ('est3', clf3)], voting = 'soft', weights = [i, j, k])\n",
    "            clf_voting.fit(X_train, y_train)\n",
    "            pred = clf_voting.predict(X_test)\n",
    "            score = accuracy_score(y_test, pred)\n",
    "            scores.append(score)\n",
    "            weights1.append(i)\n",
    "            weights2.append(j)\n",
    "            weights3.append(k)"
   ]
  },
  {
   "cell_type": "code",
   "execution_count": 60,
   "metadata": {},
   "outputs": [],
   "source": [
    "# Save the results in a data frame\n",
    "\n",
    "test_scores = pd.DataFrame()\n",
    "test_scores['Weight1'] = weights1\n",
    "test_scores['Weight2'] = weights2\n",
    "test_scores['Weight3'] = weights3\n",
    "test_scores['Test Score'] = scores\n",
    "\n",
    "# Create an additional column to save the sum of all the weights\n",
    "\n",
    "test_scores['sum_weights'] = test_scores['Weight1'].add(test_scores['Weight2']).add(test_scores['Weight3'])\n",
    "\n",
    "#We are only getting the rows that the sum of all weights were equal to one\n",
    "\n",
    "condition = test_scores['sum_weights'] == 1\n",
    "\n",
    "test_scores = test_scores.loc[condition]"
   ]
  },
  {
   "cell_type": "code",
   "execution_count": 61,
   "metadata": {},
   "outputs": [
    {
     "name": "stdout",
     "output_type": "stream",
     "text": [
      "     Weight1  Weight2  Weight3  Test Score  sum_weights\n",
      "7        0.1      0.1      0.8    0.894737          1.0\n",
      "95       0.2      0.2      0.6    0.894737          1.0\n",
      "263      0.4      0.3      0.3    0.894737          1.0\n",
      "271      0.4      0.4      0.2    0.894737          1.0\n",
      "15       0.1      0.2      0.7    0.894737          1.0\n",
      "175      0.3      0.2      0.5    0.894737          1.0\n",
      "167      0.3      0.1      0.6    0.894737          1.0\n",
      "111      0.2      0.4      0.4    0.894737          1.0\n",
      "103      0.2      0.3      0.5    0.894737          1.0\n",
      "423      0.6      0.3      0.1    0.894737          1.0\n",
      "63       0.1      0.8      0.1    0.894737          1.0\n",
      "55       0.1      0.7      0.2    0.894737          1.0\n",
      "487      0.7      0.1      0.2    0.894737          1.0\n",
      "39       0.1      0.5      0.4    0.894737          1.0\n",
      "31       0.1      0.4      0.5    0.894737          1.0\n",
      "23       0.1      0.3      0.6    0.894737          1.0\n",
      "247      0.4      0.1      0.5    0.894737          1.0\n",
      "255      0.4      0.2      0.4    0.842105          1.0\n",
      "407      0.6      0.1      0.3    0.842105          1.0\n",
      "343      0.5      0.3      0.2    0.842105          1.0\n",
      "327      0.5      0.1      0.4    0.842105          1.0\n",
      "567      0.8      0.1      0.1    0.842105          1.0\n",
      "207      0.3      0.6      0.1    0.842105          1.0\n",
      "199      0.3      0.5      0.2    0.842105          1.0\n",
      "183      0.3      0.3      0.4    0.842105          1.0\n",
      "127      0.2      0.6      0.2    0.842105          1.0\n",
      "119      0.2      0.5      0.3    0.842105          1.0\n",
      "87       0.2      0.1      0.7    0.842105          1.0\n",
      "47       0.1      0.6      0.3    0.842105          1.0\n",
      "279      0.4      0.5      0.1    0.789474          1.0\n",
      "335      0.5      0.2      0.3    0.789474          1.0\n",
      "351      0.5      0.4      0.1    0.789474          1.0\n",
      "415      0.6      0.2      0.2    0.789474          1.0\n",
      "191      0.3      0.4      0.3    0.789474          1.0\n"
     ]
    }
   ],
   "source": [
    "print(test_scores.sort_values('Test Score', ascending=False))"
   ]
  },
  {
   "cell_type": "code",
   "execution_count": 62,
   "metadata": {},
   "outputs": [
    {
     "name": "stdout",
     "output_type": "stream",
     "text": [
      "Train score: 0.9861111111111112\n",
      "Test accuracy: 0.8947368421052632\n",
      "Difference: 0.091374269005848\n"
     ]
    }
   ],
   "source": [
    "# Create the Voting Classifier with soft voting because all models perform similarly\n",
    "clf_voting = VotingClassifier(estimators = [('est1', clf1), ('est2', clf2),\n",
    "                                           ('est3', clf3)], voting = 'hard', weights=[0.4, 0.3, 0.3])\n",
    "#Fit and predict\n",
    "vc, y_test, y_pred = evaluate_model(clf_voting, X_train, y_train, X_test, y_test)"
   ]
  },
  {
   "cell_type": "markdown",
   "metadata": {},
   "source": [
    "#### Confusion Matrix"
   ]
  },
  {
   "cell_type": "code",
   "execution_count": 68,
   "metadata": {},
   "outputs": [
    {
     "data": {
      "image/png": "[encoded data removed]",
      "text/plain": [
       "<Figure size 720x360 with 2 Axes>"
      ]
     },
     "metadata": {},
     "output_type": "display_data"
    }
   ],
   "source": [
    "plot_confusion_matrix(y_test, y_pred, 'Voting Classifier')"
   ]
  },
  {
   "cell_type": "markdown",
   "metadata": {},
   "source": [
    "#### Classification Report"
   ]
  },
  {
   "cell_type": "code",
   "execution_count": 64,
   "metadata": {},
   "outputs": [
    {
     "name": "stdout",
     "output_type": "stream",
     "text": [
      "Extra Trees Classification Report\n",
      "\n",
      "              precision    recall  f1-score   support\n",
      "\n",
      "         0.0       1.00      0.80      0.89        10\n",
      "         1.0       0.82      1.00      0.90         9\n",
      "\n",
      "    accuracy                           0.89        19\n",
      "   macro avg       0.91      0.90      0.89        19\n",
      "weighted avg       0.91      0.89      0.89        19\n",
      "\n"
     ]
    }
   ],
   "source": [
    "print(f'Voting Classifier Classification Report\\n\\n{classification_report(y_test, y_pred)}')"
   ]
  },
  {
   "cell_type": "markdown",
   "metadata": {},
   "source": [
    "# FEATURE SELECTION"
   ]
  },
  {
   "cell_type": "code",
   "execution_count": 65,
   "metadata": {},
   "outputs": [],
   "source": [
    "def compute_feature_importance(voting_clf, weights):\n",
    "    \"\"\" Function to compute feature importance of Voting Classifier \"\"\"\n",
    "    \n",
    "    feature_importance = dict()\n",
    "    for est in voting_clf.estimators_:\n",
    "        feature_importance[str(est)] = est.feature_importances_\n",
    "    \n",
    "    fe_scores = [0]*len(list(feature_importance.values())[0])\n",
    "    for idx, imp_score in enumerate(feature_importance.values()):\n",
    "        imp_score_with_weight = imp_score*weights[idx]\n",
    "        fe_scores = list(np.add(fe_scores, list(imp_score_with_weight)))\n",
    "    return fe_scores"
   ]
  },
  {
   "cell_type": "code",
   "execution_count": 66,
   "metadata": {},
   "outputs": [
    {
     "data": {
      "text/html": [
       "<div>\n",
       "<style scoped>\n",
       "    .dataframe tbody tr th:only-of-type {\n",
       "        vertical-align: middle;\n",
       "    }\n",
       "\n",
       "    .dataframe tbody tr th {\n",
       "        vertical-align: top;\n",
       "    }\n",
       "\n",
       "    .dataframe thead th {\n",
       "        text-align: right;\n",
       "    }\n",
       "</style>\n",
       "<table border=\"1\" class=\"dataframe\">\n",
       "  <thead>\n",
       "    <tr style=\"text-align: right;\">\n",
       "      <th></th>\n",
       "      <th>Feature</th>\n",
       "      <th>Feature Importance</th>\n",
       "    </tr>\n",
       "  </thead>\n",
       "  <tbody>\n",
       "    <tr>\n",
       "      <th>2</th>\n",
       "      <td>delivered_time_54.5247746643552</td>\n",
       "      <td>0.666865</td>\n",
       "    </tr>\n",
       "    <tr>\n",
       "      <th>3</th>\n",
       "      <td>order_satisfaction_1.0</td>\n",
       "      <td>0.286476</td>\n",
       "    </tr>\n",
       "    <tr>\n",
       "      <th>15</th>\n",
       "      <td>price_satisfaction_4.619280396498076</td>\n",
       "      <td>0.284906</td>\n",
       "    </tr>\n",
       "    <tr>\n",
       "      <th>10</th>\n",
       "      <td>order_completed_3.0</td>\n",
       "      <td>0.256160</td>\n",
       "    </tr>\n",
       "    <tr>\n",
       "      <th>11</th>\n",
       "      <td>order_completed_4.0</td>\n",
       "      <td>0.213990</td>\n",
       "    </tr>\n",
       "    <tr>\n",
       "      <th>0</th>\n",
       "      <td>delivered_time_10.310458730724413</td>\n",
       "      <td>0.207878</td>\n",
       "    </tr>\n",
       "    <tr>\n",
       "      <th>1</th>\n",
       "      <td>delivered_time_26.45962443532881</td>\n",
       "      <td>0.202402</td>\n",
       "    </tr>\n",
       "    <tr>\n",
       "      <th>23</th>\n",
       "      <td>app_satisfaction_15.062868892183324</td>\n",
       "      <td>0.199299</td>\n",
       "    </tr>\n",
       "    <tr>\n",
       "      <th>20</th>\n",
       "      <td>courier_satisfaction_5.570103900851001</td>\n",
       "      <td>0.185420</td>\n",
       "    </tr>\n",
       "    <tr>\n",
       "      <th>4</th>\n",
       "      <td>order_satisfaction_2.0</td>\n",
       "      <td>0.165503</td>\n",
       "    </tr>\n",
       "    <tr>\n",
       "      <th>19</th>\n",
       "      <td>courier_satisfaction_3.197319621781466</td>\n",
       "      <td>0.152835</td>\n",
       "    </tr>\n",
       "    <tr>\n",
       "      <th>14</th>\n",
       "      <td>price_satisfaction_2.7759316481736693</td>\n",
       "      <td>0.143511</td>\n",
       "    </tr>\n",
       "    <tr>\n",
       "      <th>6</th>\n",
       "      <td>order_satisfaction_4.0</td>\n",
       "      <td>0.142572</td>\n",
       "    </tr>\n",
       "    <tr>\n",
       "      <th>24</th>\n",
       "      <td>app_satisfaction_27.7412316011414</td>\n",
       "      <td>0.131069</td>\n",
       "    </tr>\n",
       "    <tr>\n",
       "      <th>9</th>\n",
       "      <td>order_completed_2.0</td>\n",
       "      <td>0.116293</td>\n",
       "    </tr>\n",
       "    <tr>\n",
       "      <th>13</th>\n",
       "      <td>price_satisfaction_1.2134639678414998</td>\n",
       "      <td>0.108067</td>\n",
       "    </tr>\n",
       "    <tr>\n",
       "      <th>5</th>\n",
       "      <td>order_satisfaction_3.0</td>\n",
       "      <td>0.103800</td>\n",
       "    </tr>\n",
       "    <tr>\n",
       "      <th>18</th>\n",
       "      <td>courier_satisfaction_1.3176634131293332</td>\n",
       "      <td>0.103220</td>\n",
       "    </tr>\n",
       "    <tr>\n",
       "      <th>16</th>\n",
       "      <td>price_satisfaction_6.7043076640119255</td>\n",
       "      <td>0.089854</td>\n",
       "    </tr>\n",
       "    <tr>\n",
       "      <th>21</th>\n",
       "      <td>courier_satisfaction_8.393209601168339</td>\n",
       "      <td>0.062360</td>\n",
       "    </tr>\n",
       "    <tr>\n",
       "      <th>22</th>\n",
       "      <td>app_satisfaction_6.752861093968326</td>\n",
       "      <td>0.062324</td>\n",
       "    </tr>\n",
       "    <tr>\n",
       "      <th>12</th>\n",
       "      <td>order_completed_5.0</td>\n",
       "      <td>0.040195</td>\n",
       "    </tr>\n",
       "    <tr>\n",
       "      <th>8</th>\n",
       "      <td>order_completed_1.0</td>\n",
       "      <td>0.034775</td>\n",
       "    </tr>\n",
       "    <tr>\n",
       "      <th>7</th>\n",
       "      <td>order_satisfaction_5.0</td>\n",
       "      <td>0.026169</td>\n",
       "    </tr>\n",
       "    <tr>\n",
       "      <th>17</th>\n",
       "      <td>courier_satisfaction_0.0</td>\n",
       "      <td>0.014056</td>\n",
       "    </tr>\n",
       "  </tbody>\n",
       "</table>\n",
       "</div>"
      ],
      "text/plain": [
       "                                    Feature  Feature Importance\n",
       "2           delivered_time_54.5247746643552            0.666865\n",
       "3                    order_satisfaction_1.0            0.286476\n",
       "15     price_satisfaction_4.619280396498076            0.284906\n",
       "10                      order_completed_3.0            0.256160\n",
       "11                      order_completed_4.0            0.213990\n",
       "0         delivered_time_10.310458730724413            0.207878\n",
       "1          delivered_time_26.45962443532881            0.202402\n",
       "23      app_satisfaction_15.062868892183324            0.199299\n",
       "20   courier_satisfaction_5.570103900851001            0.185420\n",
       "4                    order_satisfaction_2.0            0.165503\n",
       "19   courier_satisfaction_3.197319621781466            0.152835\n",
       "14    price_satisfaction_2.7759316481736693            0.143511\n",
       "6                    order_satisfaction_4.0            0.142572\n",
       "24        app_satisfaction_27.7412316011414            0.131069\n",
       "9                       order_completed_2.0            0.116293\n",
       "13    price_satisfaction_1.2134639678414998            0.108067\n",
       "5                    order_satisfaction_3.0            0.103800\n",
       "18  courier_satisfaction_1.3176634131293332            0.103220\n",
       "16    price_satisfaction_6.7043076640119255            0.089854\n",
       "21   courier_satisfaction_8.393209601168339            0.062360\n",
       "22       app_satisfaction_6.752861093968326            0.062324\n",
       "12                      order_completed_5.0            0.040195\n",
       "8                       order_completed_1.0            0.034775\n",
       "7                    order_satisfaction_5.0            0.026169\n",
       "17                 courier_satisfaction_0.0            0.014056"
      ]
     },
     "execution_count": 66,
     "metadata": {},
     "output_type": "execute_result"
    }
   ],
   "source": [
    "df = pd.DataFrame()\n",
    "df['Feature'] = X_train.columns\n",
    "df['Feature Importance'] = compute_feature_importance(clf_voting, [1, 1, 2])\n",
    "df.sort_values('Feature Importance', ascending=False)"
   ]
  },
  {
   "cell_type": "markdown",
   "metadata": {},
   "source": [
    "Based on our data, delivery time had the most impact on customer happiness. However, order satisfaction ratings of 1 also had an impact on customer happiness, followed by price satisfaction ratings.\n",
    "\n",
    "Knowing what action to take/which features are priority to improve will depend on budgetary and time constraints of the company. In this case, I would recommend to continue delivering efficiently or extending the estimated delivery time so that deliveries appear to arrive earlier than planned. This may require further A/B testing to see if this improves the ratings.\n",
    "\n",
    "Order satisfaction can be improved via more quality control training and should be further investigated as to what is causing incomplete orders."
   ]
  },
  {
   "cell_type": "markdown",
   "metadata": {},
   "source": [
    "# CONCLUSION"
   ]
  },
  {
   "cell_type": "markdown",
   "metadata": {},
   "source": [
    "In conclusion the Voting Classifier was the best model using the data set with all features. It had the highest train and test accuracy. It also had the highest classification scores with both unhappy and happy customers getting an f1-score of 84%. I chose the Voting Classifier model because the training set had the closest accuracy to the test set and used a weighted combination of all the models we looked at."
   ]
  }
 ],
 "metadata": {
  "kernelspec": {
   "display_name": "Python 3",
   "language": "python",
   "name": "python3"
  },
  "language_info": {
   "codemirror_mode": {
    "name": "ipython",
    "version": 3
   },
   "file_extension": ".py",
   "mimetype": "text/x-python",
   "name": "python",
   "nbconvert_exporter": "python",
   "pygments_lexer": "ipython3",
   "version": "3.8.5"
  }
 },
 "nbformat": 4,
 "nbformat_minor": 4
}
