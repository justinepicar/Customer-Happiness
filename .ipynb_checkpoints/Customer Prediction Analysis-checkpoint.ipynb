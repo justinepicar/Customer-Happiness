{
 "cells": [
  {
   "cell_type": "markdown",
   "metadata": {},
   "source": [
    "__Background:__\n",
    "\n",
    "We are one of the fastest growing startups in the logistics and delivery domain. We work with several partners and make on-demand delivery to our customers. During the COVID-19 pandemic, we are facing several different challenges and everyday we are trying to address these challenges.\n",
    "\n",
    "We thrive on making our customers happy. As a growing startup, with a global expansion strategy we know that we need to make our customers happy and the only way to do that is to measure how happy each customer is. If we can predict what makes our customers happy or unhappy, we can then take necessary actions.\n",
    "\n",
    "Getting feedback from customers is not easy either, but we do our best to get constant feedback from our customers. This is a crucial function to improve our operations across all levels.\n",
    "\n",
    "We recently did a survey to a select customer cohort. You are presented with a subset of this data. We will be using the remaining data as a private test set.\n",
    "\n",
    "__Data Description:__\n",
    "\n",
    "- Y = target attribute (Y) with values indicating 0 (unhappy) and 1 (happy) customers\n",
    "- X1 = my order was delivered on time\n",
    "- X2 = contents of my order was as I expected\n",
    "- X3 = I ordered everything I wanted to order\n",
    "- X4 = I paid a good price for my order\n",
    "- X5 = I am satisfied with my courier\n",
    "- X6 = the app makes ordering easy for me\n",
    "\n",
    "Attributes X1 to X6 indicate the responses for each question and have values from 1 to 5 where the smaller number indicates less and the higher number indicates more towards the answer.\n",
    "\n",
    "__Goal(s):__\n",
    "\n",
    "Predict if a customer is happy or not based on the answers they give to questions asked.\n",
    "\n",
    "__Success Metrics:__\n",
    "\n",
    "Reach 73% accuracy score or above, or convince us why your solution is superior. We are definitely interested in every solution and insight you can provide us."
   ]
  },
  {
   "cell_type": "markdown",
   "metadata": {},
   "source": [
    "# DATA WRANGLING"
   ]
  },
  {
   "cell_type": "code",
   "execution_count": 1,
   "metadata": {},
   "outputs": [],
   "source": [
    "import pandas as pd\n",
    "import numpy as np\n",
    "import matplotlib.pyplot as plt\n",
    "import seaborn as sns"
   ]
  },
  {
   "cell_type": "code",
   "execution_count": 2,
   "metadata": {},
   "outputs": [],
   "source": [
    "df = pd.read_csv('data/ACME-HappinessSurvey2020.csv')"
   ]
  },
  {
   "cell_type": "code",
   "execution_count": 3,
   "metadata": {},
   "outputs": [
    {
     "data": {
      "text/html": [
       "<div>\n",
       "<style scoped>\n",
       "    .dataframe tbody tr th:only-of-type {\n",
       "        vertical-align: middle;\n",
       "    }\n",
       "\n",
       "    .dataframe tbody tr th {\n",
       "        vertical-align: top;\n",
       "    }\n",
       "\n",
       "    .dataframe thead th {\n",
       "        text-align: right;\n",
       "    }\n",
       "</style>\n",
       "<table border=\"1\" class=\"dataframe\">\n",
       "  <thead>\n",
       "    <tr style=\"text-align: right;\">\n",
       "      <th></th>\n",
       "      <th>Y</th>\n",
       "      <th>X1</th>\n",
       "      <th>X2</th>\n",
       "      <th>X3</th>\n",
       "      <th>X4</th>\n",
       "      <th>X5</th>\n",
       "      <th>X6</th>\n",
       "    </tr>\n",
       "  </thead>\n",
       "  <tbody>\n",
       "    <tr>\n",
       "      <th>0</th>\n",
       "      <td>0</td>\n",
       "      <td>3</td>\n",
       "      <td>3</td>\n",
       "      <td>3</td>\n",
       "      <td>4</td>\n",
       "      <td>2</td>\n",
       "      <td>4</td>\n",
       "    </tr>\n",
       "    <tr>\n",
       "      <th>1</th>\n",
       "      <td>0</td>\n",
       "      <td>3</td>\n",
       "      <td>2</td>\n",
       "      <td>3</td>\n",
       "      <td>5</td>\n",
       "      <td>4</td>\n",
       "      <td>3</td>\n",
       "    </tr>\n",
       "    <tr>\n",
       "      <th>2</th>\n",
       "      <td>1</td>\n",
       "      <td>5</td>\n",
       "      <td>3</td>\n",
       "      <td>3</td>\n",
       "      <td>3</td>\n",
       "      <td>3</td>\n",
       "      <td>5</td>\n",
       "    </tr>\n",
       "    <tr>\n",
       "      <th>3</th>\n",
       "      <td>0</td>\n",
       "      <td>5</td>\n",
       "      <td>4</td>\n",
       "      <td>3</td>\n",
       "      <td>3</td>\n",
       "      <td>3</td>\n",
       "      <td>5</td>\n",
       "    </tr>\n",
       "    <tr>\n",
       "      <th>4</th>\n",
       "      <td>0</td>\n",
       "      <td>5</td>\n",
       "      <td>4</td>\n",
       "      <td>3</td>\n",
       "      <td>3</td>\n",
       "      <td>3</td>\n",
       "      <td>5</td>\n",
       "    </tr>\n",
       "  </tbody>\n",
       "</table>\n",
       "</div>"
      ],
      "text/plain": [
       "   Y  X1  X2  X3  X4  X5  X6\n",
       "0  0   3   3   3   4   2   4\n",
       "1  0   3   2   3   5   4   3\n",
       "2  1   5   3   3   3   3   5\n",
       "3  0   5   4   3   3   3   5\n",
       "4  0   5   4   3   3   3   5"
      ]
     },
     "execution_count": 3,
     "metadata": {},
     "output_type": "execute_result"
    }
   ],
   "source": [
    "# preview data\n",
    "df.head()"
   ]
  },
  {
   "cell_type": "code",
   "execution_count": 4,
   "metadata": {},
   "outputs": [
    {
     "data": {
      "text/html": [
       "<div>\n",
       "<style scoped>\n",
       "    .dataframe tbody tr th:only-of-type {\n",
       "        vertical-align: middle;\n",
       "    }\n",
       "\n",
       "    .dataframe tbody tr th {\n",
       "        vertical-align: top;\n",
       "    }\n",
       "\n",
       "    .dataframe thead th {\n",
       "        text-align: right;\n",
       "    }\n",
       "</style>\n",
       "<table border=\"1\" class=\"dataframe\">\n",
       "  <thead>\n",
       "    <tr style=\"text-align: right;\">\n",
       "      <th></th>\n",
       "      <th>delivered_time</th>\n",
       "      <th>order_satisfaction</th>\n",
       "      <th>order_completed</th>\n",
       "      <th>price_satisfaction</th>\n",
       "      <th>courier_satisfaction</th>\n",
       "      <th>app_satisfaction</th>\n",
       "      <th>happiness</th>\n",
       "    </tr>\n",
       "  </thead>\n",
       "  <tbody>\n",
       "    <tr>\n",
       "      <th>0</th>\n",
       "      <td>3</td>\n",
       "      <td>3</td>\n",
       "      <td>3</td>\n",
       "      <td>4</td>\n",
       "      <td>2</td>\n",
       "      <td>4</td>\n",
       "      <td>0</td>\n",
       "    </tr>\n",
       "    <tr>\n",
       "      <th>1</th>\n",
       "      <td>3</td>\n",
       "      <td>2</td>\n",
       "      <td>3</td>\n",
       "      <td>5</td>\n",
       "      <td>4</td>\n",
       "      <td>3</td>\n",
       "      <td>0</td>\n",
       "    </tr>\n",
       "    <tr>\n",
       "      <th>2</th>\n",
       "      <td>5</td>\n",
       "      <td>3</td>\n",
       "      <td>3</td>\n",
       "      <td>3</td>\n",
       "      <td>3</td>\n",
       "      <td>5</td>\n",
       "      <td>1</td>\n",
       "    </tr>\n",
       "    <tr>\n",
       "      <th>3</th>\n",
       "      <td>5</td>\n",
       "      <td>4</td>\n",
       "      <td>3</td>\n",
       "      <td>3</td>\n",
       "      <td>3</td>\n",
       "      <td>5</td>\n",
       "      <td>0</td>\n",
       "    </tr>\n",
       "    <tr>\n",
       "      <th>4</th>\n",
       "      <td>5</td>\n",
       "      <td>4</td>\n",
       "      <td>3</td>\n",
       "      <td>3</td>\n",
       "      <td>3</td>\n",
       "      <td>5</td>\n",
       "      <td>0</td>\n",
       "    </tr>\n",
       "  </tbody>\n",
       "</table>\n",
       "</div>"
      ],
      "text/plain": [
       "   delivered_time  order_satisfaction  order_completed  price_satisfaction  \\\n",
       "0               3                   3                3                   4   \n",
       "1               3                   2                3                   5   \n",
       "2               5                   3                3                   3   \n",
       "3               5                   4                3                   3   \n",
       "4               5                   4                3                   3   \n",
       "\n",
       "   courier_satisfaction  app_satisfaction  happiness  \n",
       "0                     2                 4          0  \n",
       "1                     4                 3          0  \n",
       "2                     3                 5          1  \n",
       "3                     3                 5          0  \n",
       "4                     3                 5          0  "
      ]
     },
     "execution_count": 4,
     "metadata": {},
     "output_type": "execute_result"
    }
   ],
   "source": [
    "# move outcome to the last column\n",
    "df = df[['X1', 'X2', 'X3', 'X4', 'X5', 'X6', 'Y']]\n",
    "\n",
    "# rename columns to a user readable format\n",
    "old_name = list(df.columns)\n",
    "new_name = ['delivered_time', 'order_satisfaction', 'order_completed', 'price_satisfaction', \n",
    "            'courier_satisfaction', 'app_satisfaction', 'happiness']\n",
    "\n",
    "df.rename(columns = (dict(zip(old_name, new_name))), inplace = True)\n",
    "df.head()"
   ]
  },
  {
   "cell_type": "code",
   "execution_count": 5,
   "metadata": {},
   "outputs": [
    {
     "name": "stdout",
     "output_type": "stream",
     "text": [
      "<class 'pandas.core.frame.DataFrame'>\n",
      "RangeIndex: 126 entries, 0 to 125\n",
      "Data columns (total 7 columns):\n",
      " #   Column                Non-Null Count  Dtype\n",
      "---  ------                --------------  -----\n",
      " 0   delivered_time        126 non-null    int64\n",
      " 1   order_satisfaction    126 non-null    int64\n",
      " 2   order_completed       126 non-null    int64\n",
      " 3   price_satisfaction    126 non-null    int64\n",
      " 4   courier_satisfaction  126 non-null    int64\n",
      " 5   app_satisfaction      126 non-null    int64\n",
      " 6   happiness             126 non-null    int64\n",
      "dtypes: int64(7)\n",
      "memory usage: 7.0 KB\n"
     ]
    }
   ],
   "source": [
    "# check dtypes, any null values, number of columns, and total number of samples\n",
    "df.info()"
   ]
  },
  {
   "cell_type": "code",
   "execution_count": 6,
   "metadata": {},
   "outputs": [
    {
     "data": {
      "text/plain": [
       "delivered_time          0\n",
       "order_satisfaction      0\n",
       "order_completed         0\n",
       "price_satisfaction      0\n",
       "courier_satisfaction    0\n",
       "app_satisfaction        0\n",
       "happiness               0\n",
       "dtype: int64"
      ]
     },
     "execution_count": 6,
     "metadata": {},
     "output_type": "execute_result"
    }
   ],
   "source": [
    "# check for missing data\n",
    "df.isna().sum()"
   ]
  },
  {
   "cell_type": "code",
   "execution_count": 7,
   "metadata": {},
   "outputs": [
    {
     "name": "stdout",
     "output_type": "stream",
     "text": [
      "delivered_time: [3 5 4 1]\n",
      "order_satisfaction: [3 2 4 5 1]\n",
      "order_completed: [3 2 4 5 1]\n",
      "price_satisfaction: [4 5 3 2 1]\n",
      "courier_satisfaction: [2 4 3 5 1]\n",
      "app_satisfaction: [4 3 5 2 1]\n",
      "happiness: [0 1]\n"
     ]
    }
   ],
   "source": [
    "# check that all values for each feature ranges from 1 to 5\n",
    "# check that the value for the outcome is only 0 or 1\n",
    "\n",
    "for i in df.columns:\n",
    "    print(f'{i}: {df[i].unique()}')"
   ]
  },
  {
   "cell_type": "code",
   "execution_count": 8,
   "metadata": {},
   "outputs": [
    {
     "data": {
      "text/html": [
       "<div>\n",
       "<style scoped>\n",
       "    .dataframe tbody tr th:only-of-type {\n",
       "        vertical-align: middle;\n",
       "    }\n",
       "\n",
       "    .dataframe tbody tr th {\n",
       "        vertical-align: top;\n",
       "    }\n",
       "\n",
       "    .dataframe thead th {\n",
       "        text-align: right;\n",
       "    }\n",
       "</style>\n",
       "<table border=\"1\" class=\"dataframe\">\n",
       "  <thead>\n",
       "    <tr style=\"text-align: right;\">\n",
       "      <th></th>\n",
       "      <th>delivered_time</th>\n",
       "      <th>order_satisfaction</th>\n",
       "      <th>order_completed</th>\n",
       "      <th>price_satisfaction</th>\n",
       "      <th>courier_satisfaction</th>\n",
       "      <th>app_satisfaction</th>\n",
       "      <th>happiness</th>\n",
       "    </tr>\n",
       "  </thead>\n",
       "  <tbody>\n",
       "    <tr>\n",
       "      <th>count</th>\n",
       "      <td>126.000000</td>\n",
       "      <td>126.000000</td>\n",
       "      <td>126.000000</td>\n",
       "      <td>126.000000</td>\n",
       "      <td>126.000000</td>\n",
       "      <td>126.000000</td>\n",
       "      <td>126.000000</td>\n",
       "    </tr>\n",
       "    <tr>\n",
       "      <th>mean</th>\n",
       "      <td>4.333333</td>\n",
       "      <td>2.531746</td>\n",
       "      <td>3.309524</td>\n",
       "      <td>3.746032</td>\n",
       "      <td>3.650794</td>\n",
       "      <td>4.253968</td>\n",
       "      <td>0.547619</td>\n",
       "    </tr>\n",
       "    <tr>\n",
       "      <th>std</th>\n",
       "      <td>0.800000</td>\n",
       "      <td>1.114892</td>\n",
       "      <td>1.023440</td>\n",
       "      <td>0.875776</td>\n",
       "      <td>1.147641</td>\n",
       "      <td>0.809311</td>\n",
       "      <td>0.499714</td>\n",
       "    </tr>\n",
       "    <tr>\n",
       "      <th>min</th>\n",
       "      <td>1.000000</td>\n",
       "      <td>1.000000</td>\n",
       "      <td>1.000000</td>\n",
       "      <td>1.000000</td>\n",
       "      <td>1.000000</td>\n",
       "      <td>1.000000</td>\n",
       "      <td>0.000000</td>\n",
       "    </tr>\n",
       "    <tr>\n",
       "      <th>25%</th>\n",
       "      <td>4.000000</td>\n",
       "      <td>2.000000</td>\n",
       "      <td>3.000000</td>\n",
       "      <td>3.000000</td>\n",
       "      <td>3.000000</td>\n",
       "      <td>4.000000</td>\n",
       "      <td>0.000000</td>\n",
       "    </tr>\n",
       "    <tr>\n",
       "      <th>50%</th>\n",
       "      <td>5.000000</td>\n",
       "      <td>3.000000</td>\n",
       "      <td>3.000000</td>\n",
       "      <td>4.000000</td>\n",
       "      <td>4.000000</td>\n",
       "      <td>4.000000</td>\n",
       "      <td>1.000000</td>\n",
       "    </tr>\n",
       "    <tr>\n",
       "      <th>75%</th>\n",
       "      <td>5.000000</td>\n",
       "      <td>3.000000</td>\n",
       "      <td>4.000000</td>\n",
       "      <td>4.000000</td>\n",
       "      <td>4.000000</td>\n",
       "      <td>5.000000</td>\n",
       "      <td>1.000000</td>\n",
       "    </tr>\n",
       "    <tr>\n",
       "      <th>max</th>\n",
       "      <td>5.000000</td>\n",
       "      <td>5.000000</td>\n",
       "      <td>5.000000</td>\n",
       "      <td>5.000000</td>\n",
       "      <td>5.000000</td>\n",
       "      <td>5.000000</td>\n",
       "      <td>1.000000</td>\n",
       "    </tr>\n",
       "  </tbody>\n",
       "</table>\n",
       "</div>"
      ],
      "text/plain": [
       "       delivered_time  order_satisfaction  order_completed  \\\n",
       "count      126.000000          126.000000       126.000000   \n",
       "mean         4.333333            2.531746         3.309524   \n",
       "std          0.800000            1.114892         1.023440   \n",
       "min          1.000000            1.000000         1.000000   \n",
       "25%          4.000000            2.000000         3.000000   \n",
       "50%          5.000000            3.000000         3.000000   \n",
       "75%          5.000000            3.000000         4.000000   \n",
       "max          5.000000            5.000000         5.000000   \n",
       "\n",
       "       price_satisfaction  courier_satisfaction  app_satisfaction   happiness  \n",
       "count          126.000000            126.000000        126.000000  126.000000  \n",
       "mean             3.746032              3.650794          4.253968    0.547619  \n",
       "std              0.875776              1.147641          0.809311    0.499714  \n",
       "min              1.000000              1.000000          1.000000    0.000000  \n",
       "25%              3.000000              3.000000          4.000000    0.000000  \n",
       "50%              4.000000              4.000000          4.000000    1.000000  \n",
       "75%              4.000000              4.000000          5.000000    1.000000  \n",
       "max              5.000000              5.000000          5.000000    1.000000  "
      ]
     },
     "execution_count": 8,
     "metadata": {},
     "output_type": "execute_result"
    }
   ],
   "source": [
    "df.describe()"
   ]
  },
  {
   "cell_type": "markdown",
   "metadata": {},
   "source": [
    "The data has the appropriate dtype and is not missing any values or has any inconsistencies.\n",
    "\n",
    "Based on a cursory glance of the descriptive statistics, we can see that the lowest rating is order satisfaction. Delivery time, app satisfaction, courier satisfaciton, price satisfaction on average skew to higher ratings, but order completeness is pretty neutral. There seems to be very little difference between happy and unhappy customers.\n",
    "\n",
    "In conclusion, both order satisfaction and order completeness need to be improved.\n",
    "We will explore all this more visually in the next section."
   ]
  },
  {
   "cell_type": "markdown",
   "metadata": {},
   "source": [
    "# EXPLORATORY DATA ANALYSIS"
   ]
  },
  {
   "cell_type": "code",
   "execution_count": 9,
   "metadata": {},
   "outputs": [
    {
     "data": {
      "image/png": "[encoded data removed]",
      "text/plain": [
       "<Figure size 1080x720 with 6 Axes>"
      ]
     },
     "metadata": {
      "needs_background": "light"
     },
     "output_type": "display_data"
    }
   ],
   "source": [
    "#plot feature distribution\n",
    "feature = df.copy().iloc[:, 0:6]\n",
    "\n",
    "#set default number of bins to 5 for ratings\n",
    "bins = 5\n",
    "\n",
    "plt.figure(figsize=(15, 10))\n",
    "\n",
    "for i in range(len(feature.columns)):\n",
    "    ax = plt.subplot(int(len(feature.columns) / 3), 3, i + 1)\n",
    "    _ = sns.histplot(data=df, x=feature.columns[i], ax=ax, bins=bins)\n",
    "    _ = plt.ylabel('Count')\n",
    "_ = plt.tight_layout()\n",
    "_ = plt.suptitle(f'Feature Distribution', y=1.02, size=20)\n",
    "_ = plt.show()"
   ]
  },
  {
   "cell_type": "code",
   "execution_count": 10,
   "metadata": {},
   "outputs": [
    {
     "data": {
      "image/png": "[encoded data removed]",
      "text/plain": [
       "<Figure size 720x360 with 1 Axes>"
      ]
     },
     "metadata": {
      "needs_background": "light"
     },
     "output_type": "display_data"
    }
   ],
   "source": [
    "#plot outcome distribution\n",
    "\n",
    "plt.figure(figsize=(10, 5))\n",
    "\n",
    "ax = sns.countplot(data=df, x=df.happiness)\n",
    "_ = plt.title('Customer Happiness Distribution', size=15)\n",
    "_ = ax.set_xticklabels(['Unhappy', 'Happy'])\n",
    "_ = plt.ylabel('Count')\n",
    "_ = plt.show()"
   ]
  },
  {
   "cell_type": "markdown",
   "metadata": {},
   "source": [
    "Now let's formally look at how skewed each feature is.\n",
    "\n",
    "For skewness, we will consider a rule of thumb that a score between -0.5 and 0.5 is fairly symmetrical. Anything outside of those bounds we will consider for scaling and transformation."
   ]
  },
  {
   "cell_type": "code",
   "execution_count": 11,
   "metadata": {},
   "outputs": [
    {
     "data": {
      "text/html": [
       "<div>\n",
       "<style scoped>\n",
       "    .dataframe tbody tr th:only-of-type {\n",
       "        vertical-align: middle;\n",
       "    }\n",
       "\n",
       "    .dataframe tbody tr th {\n",
       "        vertical-align: top;\n",
       "    }\n",
       "\n",
       "    .dataframe thead th {\n",
       "        text-align: right;\n",
       "    }\n",
       "</style>\n",
       "<table border=\"1\" class=\"dataframe\">\n",
       "  <thead>\n",
       "    <tr style=\"text-align: right;\">\n",
       "      <th></th>\n",
       "      <th>skew</th>\n",
       "    </tr>\n",
       "  </thead>\n",
       "  <tbody>\n",
       "    <tr>\n",
       "      <th>delivered_time</th>\n",
       "      <td>-1.058468</td>\n",
       "    </tr>\n",
       "    <tr>\n",
       "      <th>order_satisfaction</th>\n",
       "      <td>0.271000</td>\n",
       "    </tr>\n",
       "    <tr>\n",
       "      <th>order_completed</th>\n",
       "      <td>-0.199536</td>\n",
       "    </tr>\n",
       "    <tr>\n",
       "      <th>price_satisfaction</th>\n",
       "      <td>-0.422240</td>\n",
       "    </tr>\n",
       "    <tr>\n",
       "      <th>courier_satisfaction</th>\n",
       "      <td>-0.699999</td>\n",
       "    </tr>\n",
       "    <tr>\n",
       "      <th>app_satisfaction</th>\n",
       "      <td>-0.957590</td>\n",
       "    </tr>\n",
       "    <tr>\n",
       "      <th>happiness</th>\n",
       "      <td>-0.193659</td>\n",
       "    </tr>\n",
       "  </tbody>\n",
       "</table>\n",
       "</div>"
      ],
      "text/plain": [
       "                          skew\n",
       "delivered_time       -1.058468\n",
       "order_satisfaction    0.271000\n",
       "order_completed      -0.199536\n",
       "price_satisfaction   -0.422240\n",
       "courier_satisfaction -0.699999\n",
       "app_satisfaction     -0.957590\n",
       "happiness            -0.193659"
      ]
     },
     "execution_count": 11,
     "metadata": {},
     "output_type": "execute_result"
    }
   ],
   "source": [
    "df.agg(['skew']).T"
   ]
  },
  {
   "cell_type": "markdown",
   "metadata": {},
   "source": [
    "Based on the above distributions we can see that most of the features are not normally distributed:\n",
    "\n",
    "- order_completed and order_satisfaction look normally distributed and are fairly symmetrical.\n",
    "- price_satisfaction is skewed left, but is otherwise symmetrical and falls within the bounds we are considering for skewness.\n",
    "- delivered_time, courier_satisfaction, and app_satisfaction are all moderately skewed left amd will need to be transformed.\n",
    "\n",
    "There are slightly more happy than unhappy customers. Otherwise, this is also fairly symmetrical."
   ]
  },
  {
   "cell_type": "code",
   "execution_count": 12,
   "metadata": {},
   "outputs": [
    {
     "data": {
      "text/html": [
       "<div>\n",
       "<style scoped>\n",
       "    .dataframe tbody tr th:only-of-type {\n",
       "        vertical-align: middle;\n",
       "    }\n",
       "\n",
       "    .dataframe tbody tr th {\n",
       "        vertical-align: top;\n",
       "    }\n",
       "\n",
       "    .dataframe thead th {\n",
       "        text-align: right;\n",
       "    }\n",
       "</style>\n",
       "<table border=\"1\" class=\"dataframe\">\n",
       "  <thead>\n",
       "    <tr style=\"text-align: right;\">\n",
       "      <th></th>\n",
       "      <th>delivered_time</th>\n",
       "      <th>order_satisfaction</th>\n",
       "      <th>order_completed</th>\n",
       "      <th>price_satisfaction</th>\n",
       "      <th>courier_satisfaction</th>\n",
       "      <th>app_satisfaction</th>\n",
       "      <th>happiness</th>\n",
       "    </tr>\n",
       "  </thead>\n",
       "  <tbody>\n",
       "    <tr>\n",
       "      <th>1</th>\n",
       "      <td>4.536232</td>\n",
       "      <td>2.507246</td>\n",
       "      <td>3.449275</td>\n",
       "      <td>3.797101</td>\n",
       "      <td>3.884058</td>\n",
       "      <td>4.376812</td>\n",
       "      <td>1.0</td>\n",
       "    </tr>\n",
       "    <tr>\n",
       "      <th>0</th>\n",
       "      <td>4.087719</td>\n",
       "      <td>2.561404</td>\n",
       "      <td>3.140351</td>\n",
       "      <td>3.684211</td>\n",
       "      <td>3.368421</td>\n",
       "      <td>4.105263</td>\n",
       "      <td>0.0</td>\n",
       "    </tr>\n",
       "  </tbody>\n",
       "</table>\n",
       "</div>"
      ],
      "text/plain": [
       "   delivered_time  order_satisfaction  order_completed  price_satisfaction  \\\n",
       "1        4.536232            2.507246         3.449275            3.797101   \n",
       "0        4.087719            2.561404         3.140351            3.684211   \n",
       "\n",
       "   courier_satisfaction  app_satisfaction  happiness  \n",
       "1              3.884058          4.376812        1.0  \n",
       "0              3.368421          4.105263        0.0  "
      ]
     },
     "execution_count": 12,
     "metadata": {},
     "output_type": "execute_result"
    }
   ],
   "source": [
    "happiness_mean = pd.DataFrame(data = {1 : list(df[df.happiness == 1].describe().T['mean']), \n",
    "                                      0 : list(df[df.happiness == 0].describe().T['mean'])},\n",
    "                              index = new_name)\n",
    "happiness_mean.T"
   ]
  },
  {
   "cell_type": "markdown",
   "metadata": {},
   "source": [
    "When we break down the average rating by happy and unhappy customers, we can confirm again that order_satisfaction and order_completed seriously needs to be improved because even happy customers are rating that there orders are not correct. We can drop order_satisfaction as this won't add any value to the model in predicting customer happiness.\n",
    "\n",
    "Let's break this out for the rest of the features."
   ]
  },
  {
   "cell_type": "code",
   "execution_count": 13,
   "metadata": {
    "scrolled": false
   },
   "outputs": [
    {
     "data": {
      "image/png": "[encoded data removed]",
      "text/plain": [
       "<Figure size 1440x1440 with 6 Axes>"
      ]
     },
     "metadata": {
      "needs_background": "light"
     },
     "output_type": "display_data"
    }
   ],
   "source": [
    "data = df.copy().iloc[:, 0:6]\n",
    "\n",
    "plt.figure(figsize=(20, 20))\n",
    "\n",
    "for i in range(len(data.columns)):\n",
    "    ax = plt.subplot(int(len(data.columns) / 3), 3, i + 1)\n",
    "    arr = sns.countplot(data=df, x=data.columns[i], ax=ax, hue='happiness')\n",
    "    legend_labels, _= ax.get_legend_handles_labels()\n",
    "    _ = arr.legend(legend_labels, ['Unhappy','Happy'], bbox_to_anchor=(1,1), title='Customer Rating')\n",
    "    _ = plt.xlabel(f'{data.columns[i]} reviews')\n",
    "    _ = plt.ylabel('Count')\n",
    "_ = plt.tight_layout()\n",
    "_ = plt.suptitle(f'Happy and Unhappy Customer Ratings', y=1.02, size=20)\n",
    "_ = plt.show()"
   ]
  },
  {
   "cell_type": "markdown",
   "metadata": {},
   "source": [
    "We can see above when we break down the ratings for order_satisfaction, that even customers who are happy still rate 3 stars and below. This won't help us with our model. All other features look useful and can be included."
   ]
  },
  {
   "cell_type": "markdown",
   "metadata": {},
   "source": [
    "Let's take a look at the correlation of features to see if there are any features we can drop from our dataset."
   ]
  },
  {
   "cell_type": "code",
   "execution_count": 14,
   "metadata": {
    "scrolled": false
   },
   "outputs": [
    {
     "data": {
      "image/png": "[encoded data removed]",
      "text/plain": [
       "<Figure size 1080x720 with 2 Axes>"
      ]
     },
     "metadata": {
      "needs_background": "light"
     },
     "output_type": "display_data"
    }
   ],
   "source": [
    "plt.subplots(figsize=(15,10))\n",
    "plt.title('Correlation of Features')\n",
    "sns.heatmap(df.corr(), annot=True)\n",
    "plt.show()"
   ]
  },
  {
   "cell_type": "markdown",
   "metadata": {},
   "source": [
    "Based on the heatmap and distribution of happy and unhappy customers, we could drop order_satisfaction and price_satisfaction from our dataset. App satisfcation and courier satisfaction have a moderate correlation with delivered time which could be an issue if we choose to use a linear regression model.\n",
    "\n",
    "However, based on the breakdown of customer reviews, customers that were happy did rate price_satisfaction much higher so we will keep this in the data as it could potentially help our model."
   ]
  },
  {
   "cell_type": "markdown",
   "metadata": {},
   "source": [
    "We can see that the data is imbalanced, with most ratings at 3, 4, and 5.\n",
    "There may also be potential issues with overfitting since the dataset is so small."
   ]
  },
  {
   "cell_type": "markdown",
   "metadata": {},
   "source": [
    "# PRE-PROCESSING"
   ]
  },
  {
   "cell_type": "markdown",
   "metadata": {},
   "source": [
    "### Feature Engineering: Transformations"
   ]
  },
  {
   "cell_type": "code",
   "execution_count": 15,
   "metadata": {},
   "outputs": [],
   "source": [
    "from sklearn.model_selection import train_test_split\n",
    "from scipy.stats import boxcox"
   ]
  },
  {
   "cell_type": "markdown",
   "metadata": {},
   "source": [
    "Based on what we learned about the features and distribution, we want to transform and reduce skewness before modeling the data on the following:\n",
    "\n",
    "- delivered_time\n",
    "- price_satisfaction\n",
    "- courier_satisfaction\n",
    "- app_satisfaction\n",
    "\n",
    "We are considering scaling price satisfaction because it is close enough to being skewed and we want to see whether we can improve its correlation with happiness.\n",
    "\n",
    "We will be using the following transformations to see which best reduces skewness in our data:\n",
    "\n",
    "- log transformation\n",
    "- square root transformation\n",
    "- box-cox transformation"
   ]
  },
  {
   "cell_type": "code",
   "execution_count": 16,
   "metadata": {},
   "outputs": [],
   "source": [
    "def skewness_score(df, func):\n",
    "    \n",
    "    #create a copy of df\n",
    "    scaledf = df.copy()\n",
    "    \n",
    "    for i in df.columns:\n",
    "        if (df[i].agg(['skew'])[0] > 0.3) | (df[i].agg(['skew'])[0] < -0.3):\n",
    "            scale = func(df[i])\n",
    "            if func == boxcox:\n",
    "                scaledf[i] = scale[0]\n",
    "            else:\n",
    "                scaledf[i] = scale\n",
    "\n",
    "    # measure for skewness\n",
    "    print(scaledf.agg(['skew']).T)\n",
    "    return scaledf"
   ]
  },
  {
   "cell_type": "code",
   "execution_count": 17,
   "metadata": {},
   "outputs": [
    {
     "data": {
      "text/html": [
       "<div>\n",
       "<style scoped>\n",
       "    .dataframe tbody tr th:only-of-type {\n",
       "        vertical-align: middle;\n",
       "    }\n",
       "\n",
       "    .dataframe tbody tr th {\n",
       "        vertical-align: top;\n",
       "    }\n",
       "\n",
       "    .dataframe thead th {\n",
       "        text-align: right;\n",
       "    }\n",
       "</style>\n",
       "<table border=\"1\" class=\"dataframe\">\n",
       "  <thead>\n",
       "    <tr style=\"text-align: right;\">\n",
       "      <th></th>\n",
       "      <th>skew</th>\n",
       "    </tr>\n",
       "  </thead>\n",
       "  <tbody>\n",
       "    <tr>\n",
       "      <th>delivered_time</th>\n",
       "      <td>-1.058468</td>\n",
       "    </tr>\n",
       "    <tr>\n",
       "      <th>order_satisfaction</th>\n",
       "      <td>0.271000</td>\n",
       "    </tr>\n",
       "    <tr>\n",
       "      <th>order_completed</th>\n",
       "      <td>-0.199536</td>\n",
       "    </tr>\n",
       "    <tr>\n",
       "      <th>price_satisfaction</th>\n",
       "      <td>-0.422240</td>\n",
       "    </tr>\n",
       "    <tr>\n",
       "      <th>courier_satisfaction</th>\n",
       "      <td>-0.699999</td>\n",
       "    </tr>\n",
       "    <tr>\n",
       "      <th>app_satisfaction</th>\n",
       "      <td>-0.957590</td>\n",
       "    </tr>\n",
       "    <tr>\n",
       "      <th>happiness</th>\n",
       "      <td>-0.193659</td>\n",
       "    </tr>\n",
       "  </tbody>\n",
       "</table>\n",
       "</div>"
      ],
      "text/plain": [
       "                          skew\n",
       "delivered_time       -1.058468\n",
       "order_satisfaction    0.271000\n",
       "order_completed      -0.199536\n",
       "price_satisfaction   -0.422240\n",
       "courier_satisfaction -0.699999\n",
       "app_satisfaction     -0.957590\n",
       "happiness            -0.193659"
      ]
     },
     "execution_count": 17,
     "metadata": {},
     "output_type": "execute_result"
    }
   ],
   "source": [
    "# original skew\n",
    "df.agg(['skew']).T"
   ]
  },
  {
   "cell_type": "code",
   "execution_count": 18,
   "metadata": {},
   "outputs": [
    {
     "name": "stdout",
     "output_type": "stream",
     "text": [
      "                          skew\n",
      "delivered_time       -2.509650\n",
      "order_satisfaction    0.271000\n",
      "order_completed      -0.199536\n",
      "price_satisfaction   -1.783357\n",
      "courier_satisfaction -1.553415\n",
      "app_satisfaction     -2.373047\n",
      "happiness            -0.193659\n"
     ]
    }
   ],
   "source": [
    "# log transformation\n",
    "logdf = skewness_score(df, np.log)"
   ]
  },
  {
   "cell_type": "code",
   "execution_count": 19,
   "metadata": {},
   "outputs": [
    {
     "name": "stdout",
     "output_type": "stream",
     "text": [
      "                          skew\n",
      "delivered_time       -1.562586\n",
      "order_satisfaction    0.271000\n",
      "order_completed      -0.199536\n",
      "price_satisfaction   -0.971423\n",
      "courier_satisfaction -1.088021\n",
      "app_satisfaction     -1.470749\n",
      "happiness            -0.193659\n"
     ]
    }
   ],
   "source": [
    "# square root transformation\n",
    "sqrtdf = skewness_score(df, np.sqrt)"
   ]
  },
  {
   "cell_type": "markdown",
   "metadata": {},
   "source": [
    "Based on the following transformations so far, the log and square root transformations have only worsened the skewness. price_satisfaction was only slightly reduced under the square root transformation.\n",
    "\n",
    "Let's try Box-Cox."
   ]
  },
  {
   "cell_type": "code",
   "execution_count": 20,
   "metadata": {},
   "outputs": [
    {
     "name": "stdout",
     "output_type": "stream",
     "text": [
      "                          skew\n",
      "delivered_time       -0.381695\n",
      "order_satisfaction    0.271000\n",
      "order_completed      -0.199536\n",
      "price_satisfaction   -0.052506\n",
      "courier_satisfaction -0.274511\n",
      "app_satisfaction     -0.278770\n",
      "happiness            -0.193659\n"
     ]
    }
   ],
   "source": [
    "#box-cox transformation\n",
    "boxcoxdf = skewness_score(df, boxcox)"
   ]
  },
  {
   "cell_type": "markdown",
   "metadata": {},
   "source": [
    "Box-Cox transformation significantly reduced skewness for all left skewed data. We will be using this transformation and making this our new dataset."
   ]
  },
  {
   "cell_type": "code",
   "execution_count": 21,
   "metadata": {},
   "outputs": [
    {
     "data": {
      "text/html": [
       "<div>\n",
       "<style scoped>\n",
       "    .dataframe tbody tr th:only-of-type {\n",
       "        vertical-align: middle;\n",
       "    }\n",
       "\n",
       "    .dataframe tbody tr th {\n",
       "        vertical-align: top;\n",
       "    }\n",
       "\n",
       "    .dataframe thead th {\n",
       "        text-align: right;\n",
       "    }\n",
       "</style>\n",
       "<table border=\"1\" class=\"dataframe\">\n",
       "  <thead>\n",
       "    <tr style=\"text-align: right;\">\n",
       "      <th></th>\n",
       "      <th>delivered_time</th>\n",
       "      <th>order_satisfaction</th>\n",
       "      <th>order_completed</th>\n",
       "      <th>price_satisfaction</th>\n",
       "      <th>courier_satisfaction</th>\n",
       "      <th>app_satisfaction</th>\n",
       "      <th>happiness</th>\n",
       "    </tr>\n",
       "  </thead>\n",
       "  <tbody>\n",
       "    <tr>\n",
       "      <th>0</th>\n",
       "      <td>10.310459</td>\n",
       "      <td>3</td>\n",
       "      <td>3</td>\n",
       "      <td>4.619280</td>\n",
       "      <td>1.317663</td>\n",
       "      <td>15.062869</td>\n",
       "      <td>0</td>\n",
       "    </tr>\n",
       "    <tr>\n",
       "      <th>1</th>\n",
       "      <td>10.310459</td>\n",
       "      <td>2</td>\n",
       "      <td>3</td>\n",
       "      <td>6.704308</td>\n",
       "      <td>5.570104</td>\n",
       "      <td>6.752861</td>\n",
       "      <td>0</td>\n",
       "    </tr>\n",
       "    <tr>\n",
       "      <th>2</th>\n",
       "      <td>54.524775</td>\n",
       "      <td>3</td>\n",
       "      <td>3</td>\n",
       "      <td>2.775932</td>\n",
       "      <td>3.197320</td>\n",
       "      <td>27.741232</td>\n",
       "      <td>1</td>\n",
       "    </tr>\n",
       "    <tr>\n",
       "      <th>3</th>\n",
       "      <td>54.524775</td>\n",
       "      <td>4</td>\n",
       "      <td>3</td>\n",
       "      <td>2.775932</td>\n",
       "      <td>3.197320</td>\n",
       "      <td>27.741232</td>\n",
       "      <td>0</td>\n",
       "    </tr>\n",
       "    <tr>\n",
       "      <th>4</th>\n",
       "      <td>54.524775</td>\n",
       "      <td>4</td>\n",
       "      <td>3</td>\n",
       "      <td>2.775932</td>\n",
       "      <td>3.197320</td>\n",
       "      <td>27.741232</td>\n",
       "      <td>0</td>\n",
       "    </tr>\n",
       "  </tbody>\n",
       "</table>\n",
       "</div>"
      ],
      "text/plain": [
       "   delivered_time  order_satisfaction  order_completed  price_satisfaction  \\\n",
       "0       10.310459                   3                3            4.619280   \n",
       "1       10.310459                   2                3            6.704308   \n",
       "2       54.524775                   3                3            2.775932   \n",
       "3       54.524775                   4                3            2.775932   \n",
       "4       54.524775                   4                3            2.775932   \n",
       "\n",
       "   courier_satisfaction  app_satisfaction  happiness  \n",
       "0              1.317663         15.062869          0  \n",
       "1              5.570104          6.752861          0  \n",
       "2              3.197320         27.741232          1  \n",
       "3              3.197320         27.741232          0  \n",
       "4              3.197320         27.741232          0  "
      ]
     },
     "execution_count": 21,
     "metadata": {},
     "output_type": "execute_result"
    }
   ],
   "source": [
    "# use the box-cox transformation as our new dataset\n",
    "df = boxcoxdf\n",
    "df.head()"
   ]
  },
  {
   "cell_type": "code",
   "execution_count": 22,
   "metadata": {},
   "outputs": [
    {
     "data": {
      "image/png": "[encoded data removed]",
      "text/plain": [
       "<Figure size 1080x720 with 2 Axes>"
      ]
     },
     "metadata": {
      "needs_background": "light"
     },
     "output_type": "display_data"
    }
   ],
   "source": [
    "# compare new correlations\n",
    "plt.subplots(figsize=(15,10))\n",
    "plt.title('Correlation of Features')\n",
    "sns.heatmap(df.corr(), annot=True)\n",
    "plt.show()"
   ]
  },
  {
   "cell_type": "markdown",
   "metadata": {},
   "source": [
    "price_satisfaction has slightly increased in correlation to happiness. For now we will look at 3 different datasets to see which one will perform best with the models:\n",
    "\n",
    "- __df1__: dataset that includes all features except order_satisfaction and price_satisfaction\n",
    "- __df2__: dataset that includes all features except order_satisfaction\n",
    "- __df3__: dataset that includes all features\n",
    "\n",
    "Because we've transformed the data and each rating is represented as a categorical variable instead of an integer, we need to create dummy variables for all features. We can exclude the target variable happiness."
   ]
  },
  {
   "cell_type": "markdown",
   "metadata": {},
   "source": [
    "### Create Dummy Variables"
   ]
  },
  {
   "cell_type": "code",
   "execution_count": 23,
   "metadata": {},
   "outputs": [],
   "source": [
    "# drop order_satisfaction and price_satisfaction\n",
    "df1 = df[['happiness','delivered_time', 'order_completed','courier_satisfaction', 'app_satisfaction']]\n",
    "\n",
    "df1 = pd.get_dummies(df1, columns = ['delivered_time', 'order_completed','courier_satisfaction', \n",
    "                                     'app_satisfaction'], drop_first = False)\n",
    "\n",
    "#drop order_satisfaction\n",
    "df2 = df[['happiness','delivered_time', 'order_completed','courier_satisfaction', 'app_satisfaction', \n",
    "            'price_satisfaction']]\n",
    "\n",
    "df2 = pd.get_dummies(df2, columns = ['delivered_time', 'order_completed','courier_satisfaction', \n",
    "                                      'app_satisfaction', 'price_satisfaction'], drop_first = False)\n",
    "#use all features\n",
    "df3 = df[['happiness','delivered_time', 'order_satisfaction', 'order_completed', 'price_satisfaction', \n",
    "            'courier_satisfaction', 'app_satisfaction']]\n",
    "\n",
    "df3 = pd.get_dummies(df3, columns = ['delivered_time', 'order_satisfaction', 'order_completed', 'price_satisfaction', \n",
    "                                     'courier_satisfaction', 'app_satisfaction'], drop_first = False)"
   ]
  },
  {
   "cell_type": "markdown",
   "metadata": {},
   "source": [
    "### Train Test Split"
   ]
  },
  {
   "cell_type": "code",
   "execution_count": 24,
   "metadata": {},
   "outputs": [],
   "source": [
    "def create_df(X, y):\n",
    "    data = pd.DataFrame(X)\n",
    "    data['y'] = y\n",
    "    data.reset_index(drop=True, inplace=True)\n",
    "    return data"
   ]
  },
  {
   "cell_type": "code",
   "execution_count": 25,
   "metadata": {},
   "outputs": [],
   "source": [
    "# divide each dataset into a train and test set and recombine X_train and y_train into our new training dataset\n",
    "\n",
    "#df1\n",
    "X1 = df1.drop(columns='happiness', axis=1)\n",
    "y1 = df1.happiness\n",
    "\n",
    "X1_train, X1_test, y1_train, y1_test = train_test_split(X1, y1, test_size = 0.2, random_state = 42)\n",
    "\n",
    "df1 = create_df(X1_train, y1_train)\n",
    "\n",
    "# df2\n",
    "X2 = df2.drop(columns='happiness', axis=1)\n",
    "y2 = df2.happiness\n",
    "\n",
    "X2_train, X2_test, y2_train, y2_test = train_test_split(X2, y2, test_size = 0.2, random_state = 42)\n",
    "\n",
    "df2 = create_df(X2_train, y2_train)\n",
    "\n",
    "# df3\n",
    "X3 = df3.drop(columns='happiness', axis=1)\n",
    "y3 = df3.happiness\n",
    "\n",
    "X3_train, X3_test, y3_train, y3_test = train_test_split(X3, y3, test_size = 0.2, random_state = 42)\n",
    "\n",
    "df3 = create_df(X3_train, y3_train)"
   ]
  },
  {
   "cell_type": "markdown",
   "metadata": {},
   "source": [
    "### Model Review"
   ]
  },
  {
   "cell_type": "markdown",
   "metadata": {},
   "source": [
    "Before we start choosing our models, we will use pycaret's automl to determine our top 3 performing models optimized for accuracy."
   ]
  },
  {
   "cell_type": "code",
   "execution_count": 26,
   "metadata": {},
   "outputs": [
    {
     "name": "stderr",
     "output_type": "stream",
     "text": [
      "C:\\Users\\Justine\\anaconda3\\lib\\site-packages\\dask\\dataframe\\utils.py:13: FutureWarning: pandas.util.testing is deprecated. Use the functions in the public API at pandas.testing instead.\n",
      "  import pandas.util.testing as tm\n",
      "C:\\Users\\Justine\\anaconda3\\lib\\site-packages\\distributed\\config.py:63: YAMLLoadWarning: calling yaml.load() without Loader=... is deprecated, as the default Loader is unsafe. Please read https://msg.pyyaml.org/load for full details.\n",
      "  config.update(yaml.load(text) or {})\n"
     ]
    }
   ],
   "source": [
    "from pycaret.classification import *"
   ]
  },
  {
   "cell_type": "code",
   "execution_count": 27,
   "metadata": {},
   "outputs": [],
   "source": [
    "def get_best_model(data):\n",
    "    \n",
    "    clf1 = setup(data, target = data.columns[-1])\n",
    "    #compare the models\n",
    "    top5 = compare_models(n_select = 3) \n",
    "    #find the best model\n",
    "    best = automl(optimize = 'Accuracy')\n",
    "    \n",
    "    return best"
   ]
  },
  {
   "cell_type": "code",
   "execution_count": 28,
   "metadata": {
    "scrolled": false
   },
   "outputs": [
    {
     "data": {
      "text/html": [
       "<style  type=\"text/css\" >\n",
       "    #T_d6e7751d_742b_11ec_b98c_b46bfc7acf46 th {\n",
       "          text-align: left;\n",
       "    }#T_d6e7751d_742b_11ec_b98c_b46bfc7acf46row0_col0,#T_d6e7751d_742b_11ec_b98c_b46bfc7acf46row0_col2,#T_d6e7751d_742b_11ec_b98c_b46bfc7acf46row0_col3,#T_d6e7751d_742b_11ec_b98c_b46bfc7acf46row0_col5,#T_d6e7751d_742b_11ec_b98c_b46bfc7acf46row1_col0,#T_d6e7751d_742b_11ec_b98c_b46bfc7acf46row1_col1,#T_d6e7751d_742b_11ec_b98c_b46bfc7acf46row1_col2,#T_d6e7751d_742b_11ec_b98c_b46bfc7acf46row1_col3,#T_d6e7751d_742b_11ec_b98c_b46bfc7acf46row1_col4,#T_d6e7751d_742b_11ec_b98c_b46bfc7acf46row1_col5,#T_d6e7751d_742b_11ec_b98c_b46bfc7acf46row1_col6,#T_d6e7751d_742b_11ec_b98c_b46bfc7acf46row1_col7,#T_d6e7751d_742b_11ec_b98c_b46bfc7acf46row2_col0,#T_d6e7751d_742b_11ec_b98c_b46bfc7acf46row2_col1,#T_d6e7751d_742b_11ec_b98c_b46bfc7acf46row2_col2,#T_d6e7751d_742b_11ec_b98c_b46bfc7acf46row2_col3,#T_d6e7751d_742b_11ec_b98c_b46bfc7acf46row2_col4,#T_d6e7751d_742b_11ec_b98c_b46bfc7acf46row2_col5,#T_d6e7751d_742b_11ec_b98c_b46bfc7acf46row2_col6,#T_d6e7751d_742b_11ec_b98c_b46bfc7acf46row2_col7,#T_d6e7751d_742b_11ec_b98c_b46bfc7acf46row3_col0,#T_d6e7751d_742b_11ec_b98c_b46bfc7acf46row3_col1,#T_d6e7751d_742b_11ec_b98c_b46bfc7acf46row3_col3,#T_d6e7751d_742b_11ec_b98c_b46bfc7acf46row3_col4,#T_d6e7751d_742b_11ec_b98c_b46bfc7acf46row3_col5,#T_d6e7751d_742b_11ec_b98c_b46bfc7acf46row3_col6,#T_d6e7751d_742b_11ec_b98c_b46bfc7acf46row3_col7,#T_d6e7751d_742b_11ec_b98c_b46bfc7acf46row4_col0,#T_d6e7751d_742b_11ec_b98c_b46bfc7acf46row4_col1,#T_d6e7751d_742b_11ec_b98c_b46bfc7acf46row4_col2,#T_d6e7751d_742b_11ec_b98c_b46bfc7acf46row4_col4,#T_d6e7751d_742b_11ec_b98c_b46bfc7acf46row4_col6,#T_d6e7751d_742b_11ec_b98c_b46bfc7acf46row4_col7,#T_d6e7751d_742b_11ec_b98c_b46bfc7acf46row5_col0,#T_d6e7751d_742b_11ec_b98c_b46bfc7acf46row5_col1,#T_d6e7751d_742b_11ec_b98c_b46bfc7acf46row5_col2,#T_d6e7751d_742b_11ec_b98c_b46bfc7acf46row5_col3,#T_d6e7751d_742b_11ec_b98c_b46bfc7acf46row5_col4,#T_d6e7751d_742b_11ec_b98c_b46bfc7acf46row5_col5,#T_d6e7751d_742b_11ec_b98c_b46bfc7acf46row5_col6,#T_d6e7751d_742b_11ec_b98c_b46bfc7acf46row5_col7,#T_d6e7751d_742b_11ec_b98c_b46bfc7acf46row6_col0,#T_d6e7751d_742b_11ec_b98c_b46bfc7acf46row6_col1,#T_d6e7751d_742b_11ec_b98c_b46bfc7acf46row6_col2,#T_d6e7751d_742b_11ec_b98c_b46bfc7acf46row6_col3,#T_d6e7751d_742b_11ec_b98c_b46bfc7acf46row6_col4,#T_d6e7751d_742b_11ec_b98c_b46bfc7acf46row6_col5,#T_d6e7751d_742b_11ec_b98c_b46bfc7acf46row6_col6,#T_d6e7751d_742b_11ec_b98c_b46bfc7acf46row6_col7,#T_d6e7751d_742b_11ec_b98c_b46bfc7acf46row7_col0,#T_d6e7751d_742b_11ec_b98c_b46bfc7acf46row7_col1,#T_d6e7751d_742b_11ec_b98c_b46bfc7acf46row7_col2,#T_d6e7751d_742b_11ec_b98c_b46bfc7acf46row7_col3,#T_d6e7751d_742b_11ec_b98c_b46bfc7acf46row7_col4,#T_d6e7751d_742b_11ec_b98c_b46bfc7acf46row7_col5,#T_d6e7751d_742b_11ec_b98c_b46bfc7acf46row7_col6,#T_d6e7751d_742b_11ec_b98c_b46bfc7acf46row7_col7,#T_d6e7751d_742b_11ec_b98c_b46bfc7acf46row8_col0,#T_d6e7751d_742b_11ec_b98c_b46bfc7acf46row8_col1,#T_d6e7751d_742b_11ec_b98c_b46bfc7acf46row8_col2,#T_d6e7751d_742b_11ec_b98c_b46bfc7acf46row8_col3,#T_d6e7751d_742b_11ec_b98c_b46bfc7acf46row8_col4,#T_d6e7751d_742b_11ec_b98c_b46bfc7acf46row8_col5,#T_d6e7751d_742b_11ec_b98c_b46bfc7acf46row8_col6,#T_d6e7751d_742b_11ec_b98c_b46bfc7acf46row8_col7,#T_d6e7751d_742b_11ec_b98c_b46bfc7acf46row9_col0,#T_d6e7751d_742b_11ec_b98c_b46bfc7acf46row9_col1,#T_d6e7751d_742b_11ec_b98c_b46bfc7acf46row9_col2,#T_d6e7751d_742b_11ec_b98c_b46bfc7acf46row9_col3,#T_d6e7751d_742b_11ec_b98c_b46bfc7acf46row9_col4,#T_d6e7751d_742b_11ec_b98c_b46bfc7acf46row9_col5,#T_d6e7751d_742b_11ec_b98c_b46bfc7acf46row9_col6,#T_d6e7751d_742b_11ec_b98c_b46bfc7acf46row9_col7,#T_d6e7751d_742b_11ec_b98c_b46bfc7acf46row10_col0,#T_d6e7751d_742b_11ec_b98c_b46bfc7acf46row10_col1,#T_d6e7751d_742b_11ec_b98c_b46bfc7acf46row10_col2,#T_d6e7751d_742b_11ec_b98c_b46bfc7acf46row10_col3,#T_d6e7751d_742b_11ec_b98c_b46bfc7acf46row10_col4,#T_d6e7751d_742b_11ec_b98c_b46bfc7acf46row10_col5,#T_d6e7751d_742b_11ec_b98c_b46bfc7acf46row10_col6,#T_d6e7751d_742b_11ec_b98c_b46bfc7acf46row10_col7,#T_d6e7751d_742b_11ec_b98c_b46bfc7acf46row11_col0,#T_d6e7751d_742b_11ec_b98c_b46bfc7acf46row11_col1,#T_d6e7751d_742b_11ec_b98c_b46bfc7acf46row11_col2,#T_d6e7751d_742b_11ec_b98c_b46bfc7acf46row11_col3,#T_d6e7751d_742b_11ec_b98c_b46bfc7acf46row11_col4,#T_d6e7751d_742b_11ec_b98c_b46bfc7acf46row11_col5,#T_d6e7751d_742b_11ec_b98c_b46bfc7acf46row11_col6,#T_d6e7751d_742b_11ec_b98c_b46bfc7acf46row11_col7,#T_d6e7751d_742b_11ec_b98c_b46bfc7acf46row12_col0,#T_d6e7751d_742b_11ec_b98c_b46bfc7acf46row12_col1,#T_d6e7751d_742b_11ec_b98c_b46bfc7acf46row12_col2,#T_d6e7751d_742b_11ec_b98c_b46bfc7acf46row12_col3,#T_d6e7751d_742b_11ec_b98c_b46bfc7acf46row12_col4,#T_d6e7751d_742b_11ec_b98c_b46bfc7acf46row12_col5,#T_d6e7751d_742b_11ec_b98c_b46bfc7acf46row12_col6,#T_d6e7751d_742b_11ec_b98c_b46bfc7acf46row12_col7,#T_d6e7751d_742b_11ec_b98c_b46bfc7acf46row13_col0,#T_d6e7751d_742b_11ec_b98c_b46bfc7acf46row13_col1,#T_d6e7751d_742b_11ec_b98c_b46bfc7acf46row13_col2,#T_d6e7751d_742b_11ec_b98c_b46bfc7acf46row13_col3,#T_d6e7751d_742b_11ec_b98c_b46bfc7acf46row13_col4,#T_d6e7751d_742b_11ec_b98c_b46bfc7acf46row13_col5,#T_d6e7751d_742b_11ec_b98c_b46bfc7acf46row13_col6,#T_d6e7751d_742b_11ec_b98c_b46bfc7acf46row13_col7,#T_d6e7751d_742b_11ec_b98c_b46bfc7acf46row14_col0,#T_d6e7751d_742b_11ec_b98c_b46bfc7acf46row14_col1,#T_d6e7751d_742b_11ec_b98c_b46bfc7acf46row14_col2,#T_d6e7751d_742b_11ec_b98c_b46bfc7acf46row14_col3,#T_d6e7751d_742b_11ec_b98c_b46bfc7acf46row14_col4,#T_d6e7751d_742b_11ec_b98c_b46bfc7acf46row14_col5,#T_d6e7751d_742b_11ec_b98c_b46bfc7acf46row14_col6,#T_d6e7751d_742b_11ec_b98c_b46bfc7acf46row14_col7{\n",
       "            text-align:  left;\n",
       "            text-align:  left;\n",
       "        }#T_d6e7751d_742b_11ec_b98c_b46bfc7acf46row0_col1,#T_d6e7751d_742b_11ec_b98c_b46bfc7acf46row0_col4,#T_d6e7751d_742b_11ec_b98c_b46bfc7acf46row0_col6,#T_d6e7751d_742b_11ec_b98c_b46bfc7acf46row0_col7,#T_d6e7751d_742b_11ec_b98c_b46bfc7acf46row3_col2,#T_d6e7751d_742b_11ec_b98c_b46bfc7acf46row4_col3,#T_d6e7751d_742b_11ec_b98c_b46bfc7acf46row4_col5{\n",
       "            text-align:  left;\n",
       "            text-align:  left;\n",
       "            background-color:  yellow;\n",
       "        }#T_d6e7751d_742b_11ec_b98c_b46bfc7acf46row0_col8,#T_d6e7751d_742b_11ec_b98c_b46bfc7acf46row1_col8,#T_d6e7751d_742b_11ec_b98c_b46bfc7acf46row2_col8,#T_d6e7751d_742b_11ec_b98c_b46bfc7acf46row3_col8,#T_d6e7751d_742b_11ec_b98c_b46bfc7acf46row5_col8,#T_d6e7751d_742b_11ec_b98c_b46bfc7acf46row6_col8,#T_d6e7751d_742b_11ec_b98c_b46bfc7acf46row7_col8,#T_d6e7751d_742b_11ec_b98c_b46bfc7acf46row8_col8,#T_d6e7751d_742b_11ec_b98c_b46bfc7acf46row9_col8,#T_d6e7751d_742b_11ec_b98c_b46bfc7acf46row10_col8,#T_d6e7751d_742b_11ec_b98c_b46bfc7acf46row11_col8,#T_d6e7751d_742b_11ec_b98c_b46bfc7acf46row13_col8,#T_d6e7751d_742b_11ec_b98c_b46bfc7acf46row14_col8{\n",
       "            text-align:  left;\n",
       "            text-align:  left;\n",
       "            background-color:  lightgrey;\n",
       "        }#T_d6e7751d_742b_11ec_b98c_b46bfc7acf46row4_col8,#T_d6e7751d_742b_11ec_b98c_b46bfc7acf46row12_col8{\n",
       "            text-align:  left;\n",
       "            text-align:  left;\n",
       "            background-color:  yellow;\n",
       "            background-color:  lightgrey;\n",
       "        }</style><table id=\"T_d6e7751d_742b_11ec_b98c_b46bfc7acf46\" ><thead>    <tr>        <th class=\"blank level0\" ></th>        <th class=\"col_heading level0 col0\" >Model</th>        <th class=\"col_heading level0 col1\" >Accuracy</th>        <th class=\"col_heading level0 col2\" >AUC</th>        <th class=\"col_heading level0 col3\" >Recall</th>        <th class=\"col_heading level0 col4\" >Prec.</th>        <th class=\"col_heading level0 col5\" >F1</th>        <th class=\"col_heading level0 col6\" >Kappa</th>        <th class=\"col_heading level0 col7\" >MCC</th>        <th class=\"col_heading level0 col8\" >TT (Sec)</th>    </tr></thead><tbody>\n",
       "                <tr>\n",
       "                        <th id=\"T_d6e7751d_742b_11ec_b98c_b46bfc7acf46level0_row0\" class=\"row_heading level0 row0\" >ada</th>\n",
       "                        <td id=\"T_d6e7751d_742b_11ec_b98c_b46bfc7acf46row0_col0\" class=\"data row0 col0\" >Ada Boost Classifier</td>\n",
       "                        <td id=\"T_d6e7751d_742b_11ec_b98c_b46bfc7acf46row0_col1\" class=\"data row0 col1\" >0.6381</td>\n",
       "                        <td id=\"T_d6e7751d_742b_11ec_b98c_b46bfc7acf46row0_col2\" class=\"data row0 col2\" >0.4475</td>\n",
       "                        <td id=\"T_d6e7751d_742b_11ec_b98c_b46bfc7acf46row0_col3\" class=\"data row0 col3\" >0.8100</td>\n",
       "                        <td id=\"T_d6e7751d_742b_11ec_b98c_b46bfc7acf46row0_col4\" class=\"data row0 col4\" >0.6776</td>\n",
       "                        <td id=\"T_d6e7751d_742b_11ec_b98c_b46bfc7acf46row0_col5\" class=\"data row0 col5\" >0.7243</td>\n",
       "                        <td id=\"T_d6e7751d_742b_11ec_b98c_b46bfc7acf46row0_col6\" class=\"data row0 col6\" >0.2121</td>\n",
       "                        <td id=\"T_d6e7751d_742b_11ec_b98c_b46bfc7acf46row0_col7\" class=\"data row0 col7\" >0.2253</td>\n",
       "                        <td id=\"T_d6e7751d_742b_11ec_b98c_b46bfc7acf46row0_col8\" class=\"data row0 col8\" >0.0340</td>\n",
       "            </tr>\n",
       "            <tr>\n",
       "                        <th id=\"T_d6e7751d_742b_11ec_b98c_b46bfc7acf46level0_row1\" class=\"row_heading level0 row1\" >knn</th>\n",
       "                        <td id=\"T_d6e7751d_742b_11ec_b98c_b46bfc7acf46row1_col0\" class=\"data row1 col0\" >K Neighbors Classifier</td>\n",
       "                        <td id=\"T_d6e7751d_742b_11ec_b98c_b46bfc7acf46row1_col1\" class=\"data row1 col1\" >0.6262</td>\n",
       "                        <td id=\"T_d6e7751d_742b_11ec_b98c_b46bfc7acf46row1_col2\" class=\"data row1 col2\" >0.4279</td>\n",
       "                        <td id=\"T_d6e7751d_742b_11ec_b98c_b46bfc7acf46row1_col3\" class=\"data row1 col3\" >0.9350</td>\n",
       "                        <td id=\"T_d6e7751d_742b_11ec_b98c_b46bfc7acf46row1_col4\" class=\"data row1 col4\" >0.6348</td>\n",
       "                        <td id=\"T_d6e7751d_742b_11ec_b98c_b46bfc7acf46row1_col5\" class=\"data row1 col5\" >0.7525</td>\n",
       "                        <td id=\"T_d6e7751d_742b_11ec_b98c_b46bfc7acf46row1_col6\" class=\"data row1 col6\" >0.0919</td>\n",
       "                        <td id=\"T_d6e7751d_742b_11ec_b98c_b46bfc7acf46row1_col7\" class=\"data row1 col7\" >0.1177</td>\n",
       "                        <td id=\"T_d6e7751d_742b_11ec_b98c_b46bfc7acf46row1_col8\" class=\"data row1 col8\" >0.0170</td>\n",
       "            </tr>\n",
       "            <tr>\n",
       "                        <th id=\"T_d6e7751d_742b_11ec_b98c_b46bfc7acf46level0_row2\" class=\"row_heading level0 row2\" >rf</th>\n",
       "                        <td id=\"T_d6e7751d_742b_11ec_b98c_b46bfc7acf46row2_col0\" class=\"data row2 col0\" >Random Forest Classifier</td>\n",
       "                        <td id=\"T_d6e7751d_742b_11ec_b98c_b46bfc7acf46row2_col1\" class=\"data row2 col1\" >0.6238</td>\n",
       "                        <td id=\"T_d6e7751d_742b_11ec_b98c_b46bfc7acf46row2_col2\" class=\"data row2 col2\" >0.5250</td>\n",
       "                        <td id=\"T_d6e7751d_742b_11ec_b98c_b46bfc7acf46row2_col3\" class=\"data row2 col3\" >0.8100</td>\n",
       "                        <td id=\"T_d6e7751d_742b_11ec_b98c_b46bfc7acf46row2_col4\" class=\"data row2 col4\" >0.6583</td>\n",
       "                        <td id=\"T_d6e7751d_742b_11ec_b98c_b46bfc7acf46row2_col5\" class=\"data row2 col5\" >0.7216</td>\n",
       "                        <td id=\"T_d6e7751d_742b_11ec_b98c_b46bfc7acf46row2_col6\" class=\"data row2 col6\" >0.1269</td>\n",
       "                        <td id=\"T_d6e7751d_742b_11ec_b98c_b46bfc7acf46row2_col7\" class=\"data row2 col7\" >0.1525</td>\n",
       "                        <td id=\"T_d6e7751d_742b_11ec_b98c_b46bfc7acf46row2_col8\" class=\"data row2 col8\" >0.0930</td>\n",
       "            </tr>\n",
       "            <tr>\n",
       "                        <th id=\"T_d6e7751d_742b_11ec_b98c_b46bfc7acf46level0_row3\" class=\"row_heading level0 row3\" >nb</th>\n",
       "                        <td id=\"T_d6e7751d_742b_11ec_b98c_b46bfc7acf46row3_col0\" class=\"data row3 col0\" >Naive Bayes</td>\n",
       "                        <td id=\"T_d6e7751d_742b_11ec_b98c_b46bfc7acf46row3_col1\" class=\"data row3 col1\" >0.6095</td>\n",
       "                        <td id=\"T_d6e7751d_742b_11ec_b98c_b46bfc7acf46row3_col2\" class=\"data row3 col2\" >0.5700</td>\n",
       "                        <td id=\"T_d6e7751d_742b_11ec_b98c_b46bfc7acf46row3_col3\" class=\"data row3 col3\" >0.9100</td>\n",
       "                        <td id=\"T_d6e7751d_742b_11ec_b98c_b46bfc7acf46row3_col4\" class=\"data row3 col4\" >0.6352</td>\n",
       "                        <td id=\"T_d6e7751d_742b_11ec_b98c_b46bfc7acf46row3_col5\" class=\"data row3 col5\" >0.7370</td>\n",
       "                        <td id=\"T_d6e7751d_742b_11ec_b98c_b46bfc7acf46row3_col6\" class=\"data row3 col6\" >0.0666</td>\n",
       "                        <td id=\"T_d6e7751d_742b_11ec_b98c_b46bfc7acf46row3_col7\" class=\"data row3 col7\" >0.0867</td>\n",
       "                        <td id=\"T_d6e7751d_742b_11ec_b98c_b46bfc7acf46row3_col8\" class=\"data row3 col8\" >0.0070</td>\n",
       "            </tr>\n",
       "            <tr>\n",
       "                        <th id=\"T_d6e7751d_742b_11ec_b98c_b46bfc7acf46level0_row4\" class=\"row_heading level0 row4\" >dummy</th>\n",
       "                        <td id=\"T_d6e7751d_742b_11ec_b98c_b46bfc7acf46row4_col0\" class=\"data row4 col0\" >Dummy Classifier</td>\n",
       "                        <td id=\"T_d6e7751d_742b_11ec_b98c_b46bfc7acf46row4_col1\" class=\"data row4 col1\" >0.6095</td>\n",
       "                        <td id=\"T_d6e7751d_742b_11ec_b98c_b46bfc7acf46row4_col2\" class=\"data row4 col2\" >0.5000</td>\n",
       "                        <td id=\"T_d6e7751d_742b_11ec_b98c_b46bfc7acf46row4_col3\" class=\"data row4 col3\" >1.0000</td>\n",
       "                        <td id=\"T_d6e7751d_742b_11ec_b98c_b46bfc7acf46row4_col4\" class=\"data row4 col4\" >0.6095</td>\n",
       "                        <td id=\"T_d6e7751d_742b_11ec_b98c_b46bfc7acf46row4_col5\" class=\"data row4 col5\" >0.7558</td>\n",
       "                        <td id=\"T_d6e7751d_742b_11ec_b98c_b46bfc7acf46row4_col6\" class=\"data row4 col6\" >0.0000</td>\n",
       "                        <td id=\"T_d6e7751d_742b_11ec_b98c_b46bfc7acf46row4_col7\" class=\"data row4 col7\" >0.0000</td>\n",
       "                        <td id=\"T_d6e7751d_742b_11ec_b98c_b46bfc7acf46row4_col8\" class=\"data row4 col8\" >0.0060</td>\n",
       "            </tr>\n",
       "            <tr>\n",
       "                        <th id=\"T_d6e7751d_742b_11ec_b98c_b46bfc7acf46level0_row5\" class=\"row_heading level0 row5\" >lightgbm</th>\n",
       "                        <td id=\"T_d6e7751d_742b_11ec_b98c_b46bfc7acf46row5_col0\" class=\"data row5 col0\" >Light Gradient Boosting Machine</td>\n",
       "                        <td id=\"T_d6e7751d_742b_11ec_b98c_b46bfc7acf46row5_col1\" class=\"data row5 col1\" >0.5976</td>\n",
       "                        <td id=\"T_d6e7751d_742b_11ec_b98c_b46bfc7acf46row5_col2\" class=\"data row5 col2\" >0.5279</td>\n",
       "                        <td id=\"T_d6e7751d_742b_11ec_b98c_b46bfc7acf46row5_col3\" class=\"data row5 col3\" >0.8650</td>\n",
       "                        <td id=\"T_d6e7751d_742b_11ec_b98c_b46bfc7acf46row5_col4\" class=\"data row5 col4\" >0.6157</td>\n",
       "                        <td id=\"T_d6e7751d_742b_11ec_b98c_b46bfc7acf46row5_col5\" class=\"data row5 col5\" >0.7121</td>\n",
       "                        <td id=\"T_d6e7751d_742b_11ec_b98c_b46bfc7acf46row5_col6\" class=\"data row5 col6\" >0.0701</td>\n",
       "                        <td id=\"T_d6e7751d_742b_11ec_b98c_b46bfc7acf46row5_col7\" class=\"data row5 col7\" >0.0979</td>\n",
       "                        <td id=\"T_d6e7751d_742b_11ec_b98c_b46bfc7acf46row5_col8\" class=\"data row5 col8\" >0.0840</td>\n",
       "            </tr>\n",
       "            <tr>\n",
       "                        <th id=\"T_d6e7751d_742b_11ec_b98c_b46bfc7acf46level0_row6\" class=\"row_heading level0 row6\" >gbc</th>\n",
       "                        <td id=\"T_d6e7751d_742b_11ec_b98c_b46bfc7acf46row6_col0\" class=\"data row6 col0\" >Gradient Boosting Classifier</td>\n",
       "                        <td id=\"T_d6e7751d_742b_11ec_b98c_b46bfc7acf46row6_col1\" class=\"data row6 col1\" >0.5810</td>\n",
       "                        <td id=\"T_d6e7751d_742b_11ec_b98c_b46bfc7acf46row6_col2\" class=\"data row6 col2\" >0.4508</td>\n",
       "                        <td id=\"T_d6e7751d_742b_11ec_b98c_b46bfc7acf46row6_col3\" class=\"data row6 col3\" >0.7650</td>\n",
       "                        <td id=\"T_d6e7751d_742b_11ec_b98c_b46bfc7acf46row6_col4\" class=\"data row6 col4\" >0.6271</td>\n",
       "                        <td id=\"T_d6e7751d_742b_11ec_b98c_b46bfc7acf46row6_col5\" class=\"data row6 col5\" >0.6821</td>\n",
       "                        <td id=\"T_d6e7751d_742b_11ec_b98c_b46bfc7acf46row6_col6\" class=\"data row6 col6\" >0.0512</td>\n",
       "                        <td id=\"T_d6e7751d_742b_11ec_b98c_b46bfc7acf46row6_col7\" class=\"data row6 col7\" >0.0709</td>\n",
       "                        <td id=\"T_d6e7751d_742b_11ec_b98c_b46bfc7acf46row6_col8\" class=\"data row6 col8\" >0.0240</td>\n",
       "            </tr>\n",
       "            <tr>\n",
       "                        <th id=\"T_d6e7751d_742b_11ec_b98c_b46bfc7acf46level0_row7\" class=\"row_heading level0 row7\" >lda</th>\n",
       "                        <td id=\"T_d6e7751d_742b_11ec_b98c_b46bfc7acf46row7_col0\" class=\"data row7 col0\" >Linear Discriminant Analysis</td>\n",
       "                        <td id=\"T_d6e7751d_742b_11ec_b98c_b46bfc7acf46row7_col1\" class=\"data row7 col1\" >0.5810</td>\n",
       "                        <td id=\"T_d6e7751d_742b_11ec_b98c_b46bfc7acf46row7_col2\" class=\"data row7 col2\" >0.4358</td>\n",
       "                        <td id=\"T_d6e7751d_742b_11ec_b98c_b46bfc7acf46row7_col3\" class=\"data row7 col3\" >0.8100</td>\n",
       "                        <td id=\"T_d6e7751d_742b_11ec_b98c_b46bfc7acf46row7_col4\" class=\"data row7 col4\" >0.6174</td>\n",
       "                        <td id=\"T_d6e7751d_742b_11ec_b98c_b46bfc7acf46row7_col5\" class=\"data row7 col5\" >0.6938</td>\n",
       "                        <td id=\"T_d6e7751d_742b_11ec_b98c_b46bfc7acf46row7_col6\" class=\"data row7 col6\" >0.0308</td>\n",
       "                        <td id=\"T_d6e7751d_742b_11ec_b98c_b46bfc7acf46row7_col7\" class=\"data row7 col7\" >0.0429</td>\n",
       "                        <td id=\"T_d6e7751d_742b_11ec_b98c_b46bfc7acf46row7_col8\" class=\"data row7 col8\" >0.0090</td>\n",
       "            </tr>\n",
       "            <tr>\n",
       "                        <th id=\"T_d6e7751d_742b_11ec_b98c_b46bfc7acf46level0_row8\" class=\"row_heading level0 row8\" >catboost</th>\n",
       "                        <td id=\"T_d6e7751d_742b_11ec_b98c_b46bfc7acf46row8_col0\" class=\"data row8 col0\" >CatBoost Classifier</td>\n",
       "                        <td id=\"T_d6e7751d_742b_11ec_b98c_b46bfc7acf46row8_col1\" class=\"data row8 col1\" >0.5810</td>\n",
       "                        <td id=\"T_d6e7751d_742b_11ec_b98c_b46bfc7acf46row8_col2\" class=\"data row8 col2\" >0.4958</td>\n",
       "                        <td id=\"T_d6e7751d_742b_11ec_b98c_b46bfc7acf46row8_col3\" class=\"data row8 col3\" >0.7850</td>\n",
       "                        <td id=\"T_d6e7751d_742b_11ec_b98c_b46bfc7acf46row8_col4\" class=\"data row8 col4\" >0.6238</td>\n",
       "                        <td id=\"T_d6e7751d_742b_11ec_b98c_b46bfc7acf46row8_col5\" class=\"data row8 col5\" >0.6893</td>\n",
       "                        <td id=\"T_d6e7751d_742b_11ec_b98c_b46bfc7acf46row8_col6\" class=\"data row8 col6\" >0.0322</td>\n",
       "                        <td id=\"T_d6e7751d_742b_11ec_b98c_b46bfc7acf46row8_col7\" class=\"data row8 col7\" >0.0470</td>\n",
       "                        <td id=\"T_d6e7751d_742b_11ec_b98c_b46bfc7acf46row8_col8\" class=\"data row8 col8\" >0.2390</td>\n",
       "            </tr>\n",
       "            <tr>\n",
       "                        <th id=\"T_d6e7751d_742b_11ec_b98c_b46bfc7acf46level0_row9\" class=\"row_heading level0 row9\" >lr</th>\n",
       "                        <td id=\"T_d6e7751d_742b_11ec_b98c_b46bfc7acf46row9_col0\" class=\"data row9 col0\" >Logistic Regression</td>\n",
       "                        <td id=\"T_d6e7751d_742b_11ec_b98c_b46bfc7acf46row9_col1\" class=\"data row9 col1\" >0.5667</td>\n",
       "                        <td id=\"T_d6e7751d_742b_11ec_b98c_b46bfc7acf46row9_col2\" class=\"data row9 col2\" >0.5192</td>\n",
       "                        <td id=\"T_d6e7751d_742b_11ec_b98c_b46bfc7acf46row9_col3\" class=\"data row9 col3\" >0.8100</td>\n",
       "                        <td id=\"T_d6e7751d_742b_11ec_b98c_b46bfc7acf46row9_col4\" class=\"data row9 col4\" >0.6036</td>\n",
       "                        <td id=\"T_d6e7751d_742b_11ec_b98c_b46bfc7acf46row9_col5\" class=\"data row9 col5\" >0.6855</td>\n",
       "                        <td id=\"T_d6e7751d_742b_11ec_b98c_b46bfc7acf46row9_col6\" class=\"data row9 col6\" >-0.0020</td>\n",
       "                        <td id=\"T_d6e7751d_742b_11ec_b98c_b46bfc7acf46row9_col7\" class=\"data row9 col7\" >0.0196</td>\n",
       "                        <td id=\"T_d6e7751d_742b_11ec_b98c_b46bfc7acf46row9_col8\" class=\"data row9 col8\" >0.7240</td>\n",
       "            </tr>\n",
       "            <tr>\n",
       "                        <th id=\"T_d6e7751d_742b_11ec_b98c_b46bfc7acf46level0_row10\" class=\"row_heading level0 row10\" >ridge</th>\n",
       "                        <td id=\"T_d6e7751d_742b_11ec_b98c_b46bfc7acf46row10_col0\" class=\"data row10 col0\" >Ridge Classifier</td>\n",
       "                        <td id=\"T_d6e7751d_742b_11ec_b98c_b46bfc7acf46row10_col1\" class=\"data row10 col1\" >0.5667</td>\n",
       "                        <td id=\"T_d6e7751d_742b_11ec_b98c_b46bfc7acf46row10_col2\" class=\"data row10 col2\" >0.0000</td>\n",
       "                        <td id=\"T_d6e7751d_742b_11ec_b98c_b46bfc7acf46row10_col3\" class=\"data row10 col3\" >0.8100</td>\n",
       "                        <td id=\"T_d6e7751d_742b_11ec_b98c_b46bfc7acf46row10_col4\" class=\"data row10 col4\" >0.6074</td>\n",
       "                        <td id=\"T_d6e7751d_742b_11ec_b98c_b46bfc7acf46row10_col5\" class=\"data row10 col5\" >0.6871</td>\n",
       "                        <td id=\"T_d6e7751d_742b_11ec_b98c_b46bfc7acf46row10_col6\" class=\"data row10 col6\" >-0.0052</td>\n",
       "                        <td id=\"T_d6e7751d_742b_11ec_b98c_b46bfc7acf46row10_col7\" class=\"data row10 col7\" >-0.0016</td>\n",
       "                        <td id=\"T_d6e7751d_742b_11ec_b98c_b46bfc7acf46row10_col8\" class=\"data row10 col8\" >0.0080</td>\n",
       "            </tr>\n",
       "            <tr>\n",
       "                        <th id=\"T_d6e7751d_742b_11ec_b98c_b46bfc7acf46level0_row11\" class=\"row_heading level0 row11\" >qda</th>\n",
       "                        <td id=\"T_d6e7751d_742b_11ec_b98c_b46bfc7acf46row11_col0\" class=\"data row11 col0\" >Quadratic Discriminant Analysis</td>\n",
       "                        <td id=\"T_d6e7751d_742b_11ec_b98c_b46bfc7acf46row11_col1\" class=\"data row11 col1\" >0.5667</td>\n",
       "                        <td id=\"T_d6e7751d_742b_11ec_b98c_b46bfc7acf46row11_col2\" class=\"data row11 col2\" >0.0000</td>\n",
       "                        <td id=\"T_d6e7751d_742b_11ec_b98c_b46bfc7acf46row11_col3\" class=\"data row11 col3\" >0.9000</td>\n",
       "                        <td id=\"T_d6e7751d_742b_11ec_b98c_b46bfc7acf46row11_col4\" class=\"data row11 col4\" >0.5381</td>\n",
       "                        <td id=\"T_d6e7751d_742b_11ec_b98c_b46bfc7acf46row11_col5\" class=\"data row11 col5\" >0.6724</td>\n",
       "                        <td id=\"T_d6e7751d_742b_11ec_b98c_b46bfc7acf46row11_col6\" class=\"data row11 col6\" >0.0000</td>\n",
       "                        <td id=\"T_d6e7751d_742b_11ec_b98c_b46bfc7acf46row11_col7\" class=\"data row11 col7\" >0.0000</td>\n",
       "                        <td id=\"T_d6e7751d_742b_11ec_b98c_b46bfc7acf46row11_col8\" class=\"data row11 col8\" >0.0100</td>\n",
       "            </tr>\n",
       "            <tr>\n",
       "                        <th id=\"T_d6e7751d_742b_11ec_b98c_b46bfc7acf46level0_row12\" class=\"row_heading level0 row12\" >dt</th>\n",
       "                        <td id=\"T_d6e7751d_742b_11ec_b98c_b46bfc7acf46row12_col0\" class=\"data row12 col0\" >Decision Tree Classifier</td>\n",
       "                        <td id=\"T_d6e7751d_742b_11ec_b98c_b46bfc7acf46row12_col1\" class=\"data row12 col1\" >0.5357</td>\n",
       "                        <td id=\"T_d6e7751d_742b_11ec_b98c_b46bfc7acf46row12_col2\" class=\"data row12 col2\" >0.5192</td>\n",
       "                        <td id=\"T_d6e7751d_742b_11ec_b98c_b46bfc7acf46row12_col3\" class=\"data row12 col3\" >0.6200</td>\n",
       "                        <td id=\"T_d6e7751d_742b_11ec_b98c_b46bfc7acf46row12_col4\" class=\"data row12 col4\" >0.6183</td>\n",
       "                        <td id=\"T_d6e7751d_742b_11ec_b98c_b46bfc7acf46row12_col5\" class=\"data row12 col5\" >0.6103</td>\n",
       "                        <td id=\"T_d6e7751d_742b_11ec_b98c_b46bfc7acf46row12_col6\" class=\"data row12 col6\" >0.0097</td>\n",
       "                        <td id=\"T_d6e7751d_742b_11ec_b98c_b46bfc7acf46row12_col7\" class=\"data row12 col7\" >0.0173</td>\n",
       "                        <td id=\"T_d6e7751d_742b_11ec_b98c_b46bfc7acf46row12_col8\" class=\"data row12 col8\" >0.0060</td>\n",
       "            </tr>\n",
       "            <tr>\n",
       "                        <th id=\"T_d6e7751d_742b_11ec_b98c_b46bfc7acf46level0_row13\" class=\"row_heading level0 row13\" >et</th>\n",
       "                        <td id=\"T_d6e7751d_742b_11ec_b98c_b46bfc7acf46row13_col0\" class=\"data row13 col0\" >Extra Trees Classifier</td>\n",
       "                        <td id=\"T_d6e7751d_742b_11ec_b98c_b46bfc7acf46row13_col1\" class=\"data row13 col1\" >0.5357</td>\n",
       "                        <td id=\"T_d6e7751d_742b_11ec_b98c_b46bfc7acf46row13_col2\" class=\"data row13 col2\" >0.5433</td>\n",
       "                        <td id=\"T_d6e7751d_742b_11ec_b98c_b46bfc7acf46row13_col3\" class=\"data row13 col3\" >0.6500</td>\n",
       "                        <td id=\"T_d6e7751d_742b_11ec_b98c_b46bfc7acf46row13_col4\" class=\"data row13 col4\" >0.6150</td>\n",
       "                        <td id=\"T_d6e7751d_742b_11ec_b98c_b46bfc7acf46row13_col5\" class=\"data row13 col5\" >0.6237</td>\n",
       "                        <td id=\"T_d6e7751d_742b_11ec_b98c_b46bfc7acf46row13_col6\" class=\"data row13 col6\" >0.0113</td>\n",
       "                        <td id=\"T_d6e7751d_742b_11ec_b98c_b46bfc7acf46row13_col7\" class=\"data row13 col7\" >0.0214</td>\n",
       "                        <td id=\"T_d6e7751d_742b_11ec_b98c_b46bfc7acf46row13_col8\" class=\"data row13 col8\" >0.0740</td>\n",
       "            </tr>\n",
       "            <tr>\n",
       "                        <th id=\"T_d6e7751d_742b_11ec_b98c_b46bfc7acf46level0_row14\" class=\"row_heading level0 row14\" >svm</th>\n",
       "                        <td id=\"T_d6e7751d_742b_11ec_b98c_b46bfc7acf46row14_col0\" class=\"data row14 col0\" >SVM - Linear Kernel</td>\n",
       "                        <td id=\"T_d6e7751d_742b_11ec_b98c_b46bfc7acf46row14_col1\" class=\"data row14 col1\" >0.5095</td>\n",
       "                        <td id=\"T_d6e7751d_742b_11ec_b98c_b46bfc7acf46row14_col2\" class=\"data row14 col2\" >0.0000</td>\n",
       "                        <td id=\"T_d6e7751d_742b_11ec_b98c_b46bfc7acf46row14_col3\" class=\"data row14 col3\" >0.6850</td>\n",
       "                        <td id=\"T_d6e7751d_742b_11ec_b98c_b46bfc7acf46row14_col4\" class=\"data row14 col4\" >0.5919</td>\n",
       "                        <td id=\"T_d6e7751d_742b_11ec_b98c_b46bfc7acf46row14_col5\" class=\"data row14 col5\" >0.6146</td>\n",
       "                        <td id=\"T_d6e7751d_742b_11ec_b98c_b46bfc7acf46row14_col6\" class=\"data row14 col6\" >-0.0938</td>\n",
       "                        <td id=\"T_d6e7751d_742b_11ec_b98c_b46bfc7acf46row14_col7\" class=\"data row14 col7\" >-0.1008</td>\n",
       "                        <td id=\"T_d6e7751d_742b_11ec_b98c_b46bfc7acf46row14_col8\" class=\"data row14 col8\" >0.0080</td>\n",
       "            </tr>\n",
       "    </tbody></table>"
      ],
      "text/plain": [
       "<pandas.io.formats.style.Styler at 0x156d607cf70>"
      ]
     },
     "metadata": {},
     "output_type": "display_data"
    },
    {
     "data": {
      "text/plain": [
       "AdaBoostClassifier(algorithm='SAMME.R', base_estimator=None, learning_rate=1.0,\n",
       "                   n_estimators=50, random_state=1089)"
      ]
     },
     "execution_count": 28,
     "metadata": {},
     "output_type": "execute_result"
    }
   ],
   "source": [
    "get_best_model(df1)"
   ]
  },
  {
   "cell_type": "code",
   "execution_count": 29,
   "metadata": {
    "scrolled": false
   },
   "outputs": [
    {
     "data": {
      "text/html": [
       "<style  type=\"text/css\" >\n",
       "    #T_dd487e7d_742b_11ec_abb7_b46bfc7acf46 th {\n",
       "          text-align: left;\n",
       "    }#T_dd487e7d_742b_11ec_abb7_b46bfc7acf46row0_col0,#T_dd487e7d_742b_11ec_abb7_b46bfc7acf46row0_col3,#T_dd487e7d_742b_11ec_abb7_b46bfc7acf46row0_col4,#T_dd487e7d_742b_11ec_abb7_b46bfc7acf46row0_col5,#T_dd487e7d_742b_11ec_abb7_b46bfc7acf46row1_col0,#T_dd487e7d_742b_11ec_abb7_b46bfc7acf46row1_col1,#T_dd487e7d_742b_11ec_abb7_b46bfc7acf46row1_col2,#T_dd487e7d_742b_11ec_abb7_b46bfc7acf46row1_col4,#T_dd487e7d_742b_11ec_abb7_b46bfc7acf46row1_col6,#T_dd487e7d_742b_11ec_abb7_b46bfc7acf46row1_col7,#T_dd487e7d_742b_11ec_abb7_b46bfc7acf46row2_col0,#T_dd487e7d_742b_11ec_abb7_b46bfc7acf46row2_col1,#T_dd487e7d_742b_11ec_abb7_b46bfc7acf46row2_col2,#T_dd487e7d_742b_11ec_abb7_b46bfc7acf46row2_col3,#T_dd487e7d_742b_11ec_abb7_b46bfc7acf46row2_col4,#T_dd487e7d_742b_11ec_abb7_b46bfc7acf46row2_col5,#T_dd487e7d_742b_11ec_abb7_b46bfc7acf46row2_col6,#T_dd487e7d_742b_11ec_abb7_b46bfc7acf46row2_col7,#T_dd487e7d_742b_11ec_abb7_b46bfc7acf46row3_col0,#T_dd487e7d_742b_11ec_abb7_b46bfc7acf46row3_col1,#T_dd487e7d_742b_11ec_abb7_b46bfc7acf46row3_col2,#T_dd487e7d_742b_11ec_abb7_b46bfc7acf46row3_col3,#T_dd487e7d_742b_11ec_abb7_b46bfc7acf46row3_col4,#T_dd487e7d_742b_11ec_abb7_b46bfc7acf46row3_col5,#T_dd487e7d_742b_11ec_abb7_b46bfc7acf46row3_col6,#T_dd487e7d_742b_11ec_abb7_b46bfc7acf46row3_col7,#T_dd487e7d_742b_11ec_abb7_b46bfc7acf46row4_col0,#T_dd487e7d_742b_11ec_abb7_b46bfc7acf46row4_col1,#T_dd487e7d_742b_11ec_abb7_b46bfc7acf46row4_col2,#T_dd487e7d_742b_11ec_abb7_b46bfc7acf46row4_col3,#T_dd487e7d_742b_11ec_abb7_b46bfc7acf46row4_col4,#T_dd487e7d_742b_11ec_abb7_b46bfc7acf46row4_col5,#T_dd487e7d_742b_11ec_abb7_b46bfc7acf46row4_col6,#T_dd487e7d_742b_11ec_abb7_b46bfc7acf46row4_col7,#T_dd487e7d_742b_11ec_abb7_b46bfc7acf46row5_col0,#T_dd487e7d_742b_11ec_abb7_b46bfc7acf46row5_col1,#T_dd487e7d_742b_11ec_abb7_b46bfc7acf46row5_col2,#T_dd487e7d_742b_11ec_abb7_b46bfc7acf46row5_col3,#T_dd487e7d_742b_11ec_abb7_b46bfc7acf46row5_col4,#T_dd487e7d_742b_11ec_abb7_b46bfc7acf46row5_col5,#T_dd487e7d_742b_11ec_abb7_b46bfc7acf46row5_col6,#T_dd487e7d_742b_11ec_abb7_b46bfc7acf46row5_col7,#T_dd487e7d_742b_11ec_abb7_b46bfc7acf46row6_col0,#T_dd487e7d_742b_11ec_abb7_b46bfc7acf46row6_col1,#T_dd487e7d_742b_11ec_abb7_b46bfc7acf46row6_col2,#T_dd487e7d_742b_11ec_abb7_b46bfc7acf46row6_col3,#T_dd487e7d_742b_11ec_abb7_b46bfc7acf46row6_col4,#T_dd487e7d_742b_11ec_abb7_b46bfc7acf46row6_col5,#T_dd487e7d_742b_11ec_abb7_b46bfc7acf46row6_col6,#T_dd487e7d_742b_11ec_abb7_b46bfc7acf46row6_col7,#T_dd487e7d_742b_11ec_abb7_b46bfc7acf46row7_col0,#T_dd487e7d_742b_11ec_abb7_b46bfc7acf46row7_col1,#T_dd487e7d_742b_11ec_abb7_b46bfc7acf46row7_col2,#T_dd487e7d_742b_11ec_abb7_b46bfc7acf46row7_col3,#T_dd487e7d_742b_11ec_abb7_b46bfc7acf46row7_col5,#T_dd487e7d_742b_11ec_abb7_b46bfc7acf46row7_col6,#T_dd487e7d_742b_11ec_abb7_b46bfc7acf46row7_col7,#T_dd487e7d_742b_11ec_abb7_b46bfc7acf46row8_col0,#T_dd487e7d_742b_11ec_abb7_b46bfc7acf46row8_col1,#T_dd487e7d_742b_11ec_abb7_b46bfc7acf46row8_col2,#T_dd487e7d_742b_11ec_abb7_b46bfc7acf46row8_col3,#T_dd487e7d_742b_11ec_abb7_b46bfc7acf46row8_col4,#T_dd487e7d_742b_11ec_abb7_b46bfc7acf46row8_col5,#T_dd487e7d_742b_11ec_abb7_b46bfc7acf46row8_col6,#T_dd487e7d_742b_11ec_abb7_b46bfc7acf46row8_col7,#T_dd487e7d_742b_11ec_abb7_b46bfc7acf46row9_col0,#T_dd487e7d_742b_11ec_abb7_b46bfc7acf46row9_col1,#T_dd487e7d_742b_11ec_abb7_b46bfc7acf46row9_col2,#T_dd487e7d_742b_11ec_abb7_b46bfc7acf46row9_col3,#T_dd487e7d_742b_11ec_abb7_b46bfc7acf46row9_col4,#T_dd487e7d_742b_11ec_abb7_b46bfc7acf46row9_col5,#T_dd487e7d_742b_11ec_abb7_b46bfc7acf46row9_col6,#T_dd487e7d_742b_11ec_abb7_b46bfc7acf46row9_col7,#T_dd487e7d_742b_11ec_abb7_b46bfc7acf46row10_col0,#T_dd487e7d_742b_11ec_abb7_b46bfc7acf46row10_col1,#T_dd487e7d_742b_11ec_abb7_b46bfc7acf46row10_col2,#T_dd487e7d_742b_11ec_abb7_b46bfc7acf46row10_col3,#T_dd487e7d_742b_11ec_abb7_b46bfc7acf46row10_col4,#T_dd487e7d_742b_11ec_abb7_b46bfc7acf46row10_col5,#T_dd487e7d_742b_11ec_abb7_b46bfc7acf46row10_col6,#T_dd487e7d_742b_11ec_abb7_b46bfc7acf46row10_col7,#T_dd487e7d_742b_11ec_abb7_b46bfc7acf46row11_col0,#T_dd487e7d_742b_11ec_abb7_b46bfc7acf46row11_col1,#T_dd487e7d_742b_11ec_abb7_b46bfc7acf46row11_col2,#T_dd487e7d_742b_11ec_abb7_b46bfc7acf46row11_col3,#T_dd487e7d_742b_11ec_abb7_b46bfc7acf46row11_col4,#T_dd487e7d_742b_11ec_abb7_b46bfc7acf46row11_col5,#T_dd487e7d_742b_11ec_abb7_b46bfc7acf46row11_col6,#T_dd487e7d_742b_11ec_abb7_b46bfc7acf46row11_col7,#T_dd487e7d_742b_11ec_abb7_b46bfc7acf46row12_col0,#T_dd487e7d_742b_11ec_abb7_b46bfc7acf46row12_col1,#T_dd487e7d_742b_11ec_abb7_b46bfc7acf46row12_col2,#T_dd487e7d_742b_11ec_abb7_b46bfc7acf46row12_col3,#T_dd487e7d_742b_11ec_abb7_b46bfc7acf46row12_col4,#T_dd487e7d_742b_11ec_abb7_b46bfc7acf46row12_col5,#T_dd487e7d_742b_11ec_abb7_b46bfc7acf46row12_col6,#T_dd487e7d_742b_11ec_abb7_b46bfc7acf46row12_col7,#T_dd487e7d_742b_11ec_abb7_b46bfc7acf46row13_col0,#T_dd487e7d_742b_11ec_abb7_b46bfc7acf46row13_col1,#T_dd487e7d_742b_11ec_abb7_b46bfc7acf46row13_col2,#T_dd487e7d_742b_11ec_abb7_b46bfc7acf46row13_col3,#T_dd487e7d_742b_11ec_abb7_b46bfc7acf46row13_col4,#T_dd487e7d_742b_11ec_abb7_b46bfc7acf46row13_col5,#T_dd487e7d_742b_11ec_abb7_b46bfc7acf46row13_col6,#T_dd487e7d_742b_11ec_abb7_b46bfc7acf46row13_col7,#T_dd487e7d_742b_11ec_abb7_b46bfc7acf46row14_col0,#T_dd487e7d_742b_11ec_abb7_b46bfc7acf46row14_col1,#T_dd487e7d_742b_11ec_abb7_b46bfc7acf46row14_col2,#T_dd487e7d_742b_11ec_abb7_b46bfc7acf46row14_col3,#T_dd487e7d_742b_11ec_abb7_b46bfc7acf46row14_col4,#T_dd487e7d_742b_11ec_abb7_b46bfc7acf46row14_col5,#T_dd487e7d_742b_11ec_abb7_b46bfc7acf46row14_col6,#T_dd487e7d_742b_11ec_abb7_b46bfc7acf46row14_col7{\n",
       "            text-align:  left;\n",
       "            text-align:  left;\n",
       "        }#T_dd487e7d_742b_11ec_abb7_b46bfc7acf46row0_col1,#T_dd487e7d_742b_11ec_abb7_b46bfc7acf46row0_col2,#T_dd487e7d_742b_11ec_abb7_b46bfc7acf46row0_col6,#T_dd487e7d_742b_11ec_abb7_b46bfc7acf46row0_col7,#T_dd487e7d_742b_11ec_abb7_b46bfc7acf46row1_col3,#T_dd487e7d_742b_11ec_abb7_b46bfc7acf46row1_col5,#T_dd487e7d_742b_11ec_abb7_b46bfc7acf46row7_col4{\n",
       "            text-align:  left;\n",
       "            text-align:  left;\n",
       "            background-color:  yellow;\n",
       "        }#T_dd487e7d_742b_11ec_abb7_b46bfc7acf46row0_col8,#T_dd487e7d_742b_11ec_abb7_b46bfc7acf46row1_col8,#T_dd487e7d_742b_11ec_abb7_b46bfc7acf46row2_col8,#T_dd487e7d_742b_11ec_abb7_b46bfc7acf46row3_col8,#T_dd487e7d_742b_11ec_abb7_b46bfc7acf46row4_col8,#T_dd487e7d_742b_11ec_abb7_b46bfc7acf46row6_col8,#T_dd487e7d_742b_11ec_abb7_b46bfc7acf46row7_col8,#T_dd487e7d_742b_11ec_abb7_b46bfc7acf46row8_col8,#T_dd487e7d_742b_11ec_abb7_b46bfc7acf46row9_col8,#T_dd487e7d_742b_11ec_abb7_b46bfc7acf46row10_col8,#T_dd487e7d_742b_11ec_abb7_b46bfc7acf46row11_col8,#T_dd487e7d_742b_11ec_abb7_b46bfc7acf46row12_col8,#T_dd487e7d_742b_11ec_abb7_b46bfc7acf46row13_col8,#T_dd487e7d_742b_11ec_abb7_b46bfc7acf46row14_col8{\n",
       "            text-align:  left;\n",
       "            text-align:  left;\n",
       "            background-color:  lightgrey;\n",
       "        }#T_dd487e7d_742b_11ec_abb7_b46bfc7acf46row5_col8{\n",
       "            text-align:  left;\n",
       "            text-align:  left;\n",
       "            background-color:  yellow;\n",
       "            background-color:  lightgrey;\n",
       "        }</style><table id=\"T_dd487e7d_742b_11ec_abb7_b46bfc7acf46\" ><thead>    <tr>        <th class=\"blank level0\" ></th>        <th class=\"col_heading level0 col0\" >Model</th>        <th class=\"col_heading level0 col1\" >Accuracy</th>        <th class=\"col_heading level0 col2\" >AUC</th>        <th class=\"col_heading level0 col3\" >Recall</th>        <th class=\"col_heading level0 col4\" >Prec.</th>        <th class=\"col_heading level0 col5\" >F1</th>        <th class=\"col_heading level0 col6\" >Kappa</th>        <th class=\"col_heading level0 col7\" >MCC</th>        <th class=\"col_heading level0 col8\" >TT (Sec)</th>    </tr></thead><tbody>\n",
       "                <tr>\n",
       "                        <th id=\"T_dd487e7d_742b_11ec_abb7_b46bfc7acf46level0_row0\" class=\"row_heading level0 row0\" >lightgbm</th>\n",
       "                        <td id=\"T_dd487e7d_742b_11ec_abb7_b46bfc7acf46row0_col0\" class=\"data row0 col0\" >Light Gradient Boosting Machine</td>\n",
       "                        <td id=\"T_dd487e7d_742b_11ec_abb7_b46bfc7acf46row0_col1\" class=\"data row0 col1\" >0.6071</td>\n",
       "                        <td id=\"T_dd487e7d_742b_11ec_abb7_b46bfc7acf46row0_col2\" class=\"data row0 col2\" >0.6600</td>\n",
       "                        <td id=\"T_dd487e7d_742b_11ec_abb7_b46bfc7acf46row0_col3\" class=\"data row0 col3\" >0.7850</td>\n",
       "                        <td id=\"T_dd487e7d_742b_11ec_abb7_b46bfc7acf46row0_col4\" class=\"data row0 col4\" >0.6305</td>\n",
       "                        <td id=\"T_dd487e7d_742b_11ec_abb7_b46bfc7acf46row0_col5\" class=\"data row0 col5\" >0.6821</td>\n",
       "                        <td id=\"T_dd487e7d_742b_11ec_abb7_b46bfc7acf46row0_col6\" class=\"data row0 col6\" >0.1507</td>\n",
       "                        <td id=\"T_dd487e7d_742b_11ec_abb7_b46bfc7acf46row0_col7\" class=\"data row0 col7\" >0.1958</td>\n",
       "                        <td id=\"T_dd487e7d_742b_11ec_abb7_b46bfc7acf46row0_col8\" class=\"data row0 col8\" >0.0110</td>\n",
       "            </tr>\n",
       "            <tr>\n",
       "                        <th id=\"T_dd487e7d_742b_11ec_abb7_b46bfc7acf46level0_row1\" class=\"row_heading level0 row1\" >dummy</th>\n",
       "                        <td id=\"T_dd487e7d_742b_11ec_abb7_b46bfc7acf46row1_col0\" class=\"data row1 col0\" >Dummy Classifier</td>\n",
       "                        <td id=\"T_dd487e7d_742b_11ec_abb7_b46bfc7acf46row1_col1\" class=\"data row1 col1\" >0.5952</td>\n",
       "                        <td id=\"T_dd487e7d_742b_11ec_abb7_b46bfc7acf46row1_col2\" class=\"data row1 col2\" >0.5000</td>\n",
       "                        <td id=\"T_dd487e7d_742b_11ec_abb7_b46bfc7acf46row1_col3\" class=\"data row1 col3\" >1.0000</td>\n",
       "                        <td id=\"T_dd487e7d_742b_11ec_abb7_b46bfc7acf46row1_col4\" class=\"data row1 col4\" >0.5952</td>\n",
       "                        <td id=\"T_dd487e7d_742b_11ec_abb7_b46bfc7acf46row1_col5\" class=\"data row1 col5\" >0.7452</td>\n",
       "                        <td id=\"T_dd487e7d_742b_11ec_abb7_b46bfc7acf46row1_col6\" class=\"data row1 col6\" >0.0000</td>\n",
       "                        <td id=\"T_dd487e7d_742b_11ec_abb7_b46bfc7acf46row1_col7\" class=\"data row1 col7\" >0.0000</td>\n",
       "                        <td id=\"T_dd487e7d_742b_11ec_abb7_b46bfc7acf46row1_col8\" class=\"data row1 col8\" >0.0060</td>\n",
       "            </tr>\n",
       "            <tr>\n",
       "                        <th id=\"T_dd487e7d_742b_11ec_abb7_b46bfc7acf46level0_row2\" class=\"row_heading level0 row2\" >lda</th>\n",
       "                        <td id=\"T_dd487e7d_742b_11ec_abb7_b46bfc7acf46row2_col0\" class=\"data row2 col0\" >Linear Discriminant Analysis</td>\n",
       "                        <td id=\"T_dd487e7d_742b_11ec_abb7_b46bfc7acf46row2_col1\" class=\"data row2 col1\" >0.5810</td>\n",
       "                        <td id=\"T_dd487e7d_742b_11ec_abb7_b46bfc7acf46row2_col2\" class=\"data row2 col2\" >0.5642</td>\n",
       "                        <td id=\"T_dd487e7d_742b_11ec_abb7_b46bfc7acf46row2_col3\" class=\"data row2 col3\" >0.6850</td>\n",
       "                        <td id=\"T_dd487e7d_742b_11ec_abb7_b46bfc7acf46row2_col4\" class=\"data row2 col4\" >0.6100</td>\n",
       "                        <td id=\"T_dd487e7d_742b_11ec_abb7_b46bfc7acf46row2_col5\" class=\"data row2 col5\" >0.6250</td>\n",
       "                        <td id=\"T_dd487e7d_742b_11ec_abb7_b46bfc7acf46row2_col6\" class=\"data row2 col6\" >0.1346</td>\n",
       "                        <td id=\"T_dd487e7d_742b_11ec_abb7_b46bfc7acf46row2_col7\" class=\"data row2 col7\" >0.1522</td>\n",
       "                        <td id=\"T_dd487e7d_742b_11ec_abb7_b46bfc7acf46row2_col8\" class=\"data row2 col8\" >0.0060</td>\n",
       "            </tr>\n",
       "            <tr>\n",
       "                        <th id=\"T_dd487e7d_742b_11ec_abb7_b46bfc7acf46level0_row3\" class=\"row_heading level0 row3\" >gbc</th>\n",
       "                        <td id=\"T_dd487e7d_742b_11ec_abb7_b46bfc7acf46row3_col0\" class=\"data row3 col0\" >Gradient Boosting Classifier</td>\n",
       "                        <td id=\"T_dd487e7d_742b_11ec_abb7_b46bfc7acf46row3_col1\" class=\"data row3 col1\" >0.5762</td>\n",
       "                        <td id=\"T_dd487e7d_742b_11ec_abb7_b46bfc7acf46row3_col2\" class=\"data row3 col2\" >0.5583</td>\n",
       "                        <td id=\"T_dd487e7d_742b_11ec_abb7_b46bfc7acf46row3_col3\" class=\"data row3 col3\" >0.7000</td>\n",
       "                        <td id=\"T_dd487e7d_742b_11ec_abb7_b46bfc7acf46row3_col4\" class=\"data row3 col4\" >0.5981</td>\n",
       "                        <td id=\"T_dd487e7d_742b_11ec_abb7_b46bfc7acf46row3_col5\" class=\"data row3 col5\" >0.6329</td>\n",
       "                        <td id=\"T_dd487e7d_742b_11ec_abb7_b46bfc7acf46row3_col6\" class=\"data row3 col6\" >0.0776</td>\n",
       "                        <td id=\"T_dd487e7d_742b_11ec_abb7_b46bfc7acf46row3_col7\" class=\"data row3 col7\" >0.1025</td>\n",
       "                        <td id=\"T_dd487e7d_742b_11ec_abb7_b46bfc7acf46row3_col8\" class=\"data row3 col8\" >0.0290</td>\n",
       "            </tr>\n",
       "            <tr>\n",
       "                        <th id=\"T_dd487e7d_742b_11ec_abb7_b46bfc7acf46level0_row4\" class=\"row_heading level0 row4\" >knn</th>\n",
       "                        <td id=\"T_dd487e7d_742b_11ec_abb7_b46bfc7acf46row4_col0\" class=\"data row4 col0\" >K Neighbors Classifier</td>\n",
       "                        <td id=\"T_dd487e7d_742b_11ec_abb7_b46bfc7acf46row4_col1\" class=\"data row4 col1\" >0.5667</td>\n",
       "                        <td id=\"T_dd487e7d_742b_11ec_abb7_b46bfc7acf46row4_col2\" class=\"data row4 col2\" >0.4996</td>\n",
       "                        <td id=\"T_dd487e7d_742b_11ec_abb7_b46bfc7acf46row4_col3\" class=\"data row4 col3\" >0.7500</td>\n",
       "                        <td id=\"T_dd487e7d_742b_11ec_abb7_b46bfc7acf46row4_col4\" class=\"data row4 col4\" >0.6202</td>\n",
       "                        <td id=\"T_dd487e7d_742b_11ec_abb7_b46bfc7acf46row4_col5\" class=\"data row4 col5\" >0.6679</td>\n",
       "                        <td id=\"T_dd487e7d_742b_11ec_abb7_b46bfc7acf46row4_col6\" class=\"data row4 col6\" >0.0293</td>\n",
       "                        <td id=\"T_dd487e7d_742b_11ec_abb7_b46bfc7acf46row4_col7\" class=\"data row4 col7\" >0.0328</td>\n",
       "                        <td id=\"T_dd487e7d_742b_11ec_abb7_b46bfc7acf46row4_col8\" class=\"data row4 col8\" >0.0170</td>\n",
       "            </tr>\n",
       "            <tr>\n",
       "                        <th id=\"T_dd487e7d_742b_11ec_abb7_b46bfc7acf46level0_row5\" class=\"row_heading level0 row5\" >ridge</th>\n",
       "                        <td id=\"T_dd487e7d_742b_11ec_abb7_b46bfc7acf46row5_col0\" class=\"data row5 col0\" >Ridge Classifier</td>\n",
       "                        <td id=\"T_dd487e7d_742b_11ec_abb7_b46bfc7acf46row5_col1\" class=\"data row5 col1\" >0.5667</td>\n",
       "                        <td id=\"T_dd487e7d_742b_11ec_abb7_b46bfc7acf46row5_col2\" class=\"data row5 col2\" >0.0000</td>\n",
       "                        <td id=\"T_dd487e7d_742b_11ec_abb7_b46bfc7acf46row5_col3\" class=\"data row5 col3\" >0.6850</td>\n",
       "                        <td id=\"T_dd487e7d_742b_11ec_abb7_b46bfc7acf46row5_col4\" class=\"data row5 col4\" >0.6100</td>\n",
       "                        <td id=\"T_dd487e7d_742b_11ec_abb7_b46bfc7acf46row5_col5\" class=\"data row5 col5\" >0.6250</td>\n",
       "                        <td id=\"T_dd487e7d_742b_11ec_abb7_b46bfc7acf46row5_col6\" class=\"data row5 col6\" >0.1027</td>\n",
       "                        <td id=\"T_dd487e7d_742b_11ec_abb7_b46bfc7acf46row5_col7\" class=\"data row5 col7\" >0.1263</td>\n",
       "                        <td id=\"T_dd487e7d_742b_11ec_abb7_b46bfc7acf46row5_col8\" class=\"data row5 col8\" >0.0050</td>\n",
       "            </tr>\n",
       "            <tr>\n",
       "                        <th id=\"T_dd487e7d_742b_11ec_abb7_b46bfc7acf46level0_row6\" class=\"row_heading level0 row6\" >rf</th>\n",
       "                        <td id=\"T_dd487e7d_742b_11ec_abb7_b46bfc7acf46row6_col0\" class=\"data row6 col0\" >Random Forest Classifier</td>\n",
       "                        <td id=\"T_dd487e7d_742b_11ec_abb7_b46bfc7acf46row6_col1\" class=\"data row6 col1\" >0.5619</td>\n",
       "                        <td id=\"T_dd487e7d_742b_11ec_abb7_b46bfc7acf46row6_col2\" class=\"data row6 col2\" >0.5383</td>\n",
       "                        <td id=\"T_dd487e7d_742b_11ec_abb7_b46bfc7acf46row6_col3\" class=\"data row6 col3\" >0.7000</td>\n",
       "                        <td id=\"T_dd487e7d_742b_11ec_abb7_b46bfc7acf46row6_col4\" class=\"data row6 col4\" >0.6131</td>\n",
       "                        <td id=\"T_dd487e7d_742b_11ec_abb7_b46bfc7acf46row6_col5\" class=\"data row6 col5\" >0.6426</td>\n",
       "                        <td id=\"T_dd487e7d_742b_11ec_abb7_b46bfc7acf46row6_col6\" class=\"data row6 col6\" >0.0358</td>\n",
       "                        <td id=\"T_dd487e7d_742b_11ec_abb7_b46bfc7acf46row6_col7\" class=\"data row6 col7\" >0.0506</td>\n",
       "                        <td id=\"T_dd487e7d_742b_11ec_abb7_b46bfc7acf46row6_col8\" class=\"data row6 col8\" >0.1050</td>\n",
       "            </tr>\n",
       "            <tr>\n",
       "                        <th id=\"T_dd487e7d_742b_11ec_abb7_b46bfc7acf46level0_row7\" class=\"row_heading level0 row7\" >dt</th>\n",
       "                        <td id=\"T_dd487e7d_742b_11ec_abb7_b46bfc7acf46row7_col0\" class=\"data row7 col0\" >Decision Tree Classifier</td>\n",
       "                        <td id=\"T_dd487e7d_742b_11ec_abb7_b46bfc7acf46row7_col1\" class=\"data row7 col1\" >0.5524</td>\n",
       "                        <td id=\"T_dd487e7d_742b_11ec_abb7_b46bfc7acf46row7_col2\" class=\"data row7 col2\" >0.5421</td>\n",
       "                        <td id=\"T_dd487e7d_742b_11ec_abb7_b46bfc7acf46row7_col3\" class=\"data row7 col3\" >0.5550</td>\n",
       "                        <td id=\"T_dd487e7d_742b_11ec_abb7_b46bfc7acf46row7_col4\" class=\"data row7 col4\" >0.6583</td>\n",
       "                        <td id=\"T_dd487e7d_742b_11ec_abb7_b46bfc7acf46row7_col5\" class=\"data row7 col5\" >0.5577</td>\n",
       "                        <td id=\"T_dd487e7d_742b_11ec_abb7_b46bfc7acf46row7_col6\" class=\"data row7 col6\" >0.0707</td>\n",
       "                        <td id=\"T_dd487e7d_742b_11ec_abb7_b46bfc7acf46row7_col7\" class=\"data row7 col7\" >0.0940</td>\n",
       "                        <td id=\"T_dd487e7d_742b_11ec_abb7_b46bfc7acf46row7_col8\" class=\"data row7 col8\" >0.0070</td>\n",
       "            </tr>\n",
       "            <tr>\n",
       "                        <th id=\"T_dd487e7d_742b_11ec_abb7_b46bfc7acf46level0_row8\" class=\"row_heading level0 row8\" >ada</th>\n",
       "                        <td id=\"T_dd487e7d_742b_11ec_abb7_b46bfc7acf46row8_col0\" class=\"data row8 col0\" >Ada Boost Classifier</td>\n",
       "                        <td id=\"T_dd487e7d_742b_11ec_abb7_b46bfc7acf46row8_col1\" class=\"data row8 col1\" >0.5524</td>\n",
       "                        <td id=\"T_dd487e7d_742b_11ec_abb7_b46bfc7acf46row8_col2\" class=\"data row8 col2\" >0.5433</td>\n",
       "                        <td id=\"T_dd487e7d_742b_11ec_abb7_b46bfc7acf46row8_col3\" class=\"data row8 col3\" >0.6600</td>\n",
       "                        <td id=\"T_dd487e7d_742b_11ec_abb7_b46bfc7acf46row8_col4\" class=\"data row8 col4\" >0.6033</td>\n",
       "                        <td id=\"T_dd487e7d_742b_11ec_abb7_b46bfc7acf46row8_col5\" class=\"data row8 col5\" >0.6117</td>\n",
       "                        <td id=\"T_dd487e7d_742b_11ec_abb7_b46bfc7acf46row8_col6\" class=\"data row8 col6\" >0.0750</td>\n",
       "                        <td id=\"T_dd487e7d_742b_11ec_abb7_b46bfc7acf46row8_col7\" class=\"data row8 col7\" >0.0883</td>\n",
       "                        <td id=\"T_dd487e7d_742b_11ec_abb7_b46bfc7acf46row8_col8\" class=\"data row8 col8\" >0.0340</td>\n",
       "            </tr>\n",
       "            <tr>\n",
       "                        <th id=\"T_dd487e7d_742b_11ec_abb7_b46bfc7acf46level0_row9\" class=\"row_heading level0 row9\" >lr</th>\n",
       "                        <td id=\"T_dd487e7d_742b_11ec_abb7_b46bfc7acf46row9_col0\" class=\"data row9 col0\" >Logistic Regression</td>\n",
       "                        <td id=\"T_dd487e7d_742b_11ec_abb7_b46bfc7acf46row9_col1\" class=\"data row9 col1\" >0.5500</td>\n",
       "                        <td id=\"T_dd487e7d_742b_11ec_abb7_b46bfc7acf46row9_col2\" class=\"data row9 col2\" >0.5767</td>\n",
       "                        <td id=\"T_dd487e7d_742b_11ec_abb7_b46bfc7acf46row9_col3\" class=\"data row9 col3\" >0.7350</td>\n",
       "                        <td id=\"T_dd487e7d_742b_11ec_abb7_b46bfc7acf46row9_col4\" class=\"data row9 col4\" >0.5900</td>\n",
       "                        <td id=\"T_dd487e7d_742b_11ec_abb7_b46bfc7acf46row9_col5\" class=\"data row9 col5\" >0.6457</td>\n",
       "                        <td id=\"T_dd487e7d_742b_11ec_abb7_b46bfc7acf46row9_col6\" class=\"data row9 col6\" >0.0279</td>\n",
       "                        <td id=\"T_dd487e7d_742b_11ec_abb7_b46bfc7acf46row9_col7\" class=\"data row9 col7\" >0.0518</td>\n",
       "                        <td id=\"T_dd487e7d_742b_11ec_abb7_b46bfc7acf46row9_col8\" class=\"data row9 col8\" >0.0070</td>\n",
       "            </tr>\n",
       "            <tr>\n",
       "                        <th id=\"T_dd487e7d_742b_11ec_abb7_b46bfc7acf46level0_row10\" class=\"row_heading level0 row10\" >catboost</th>\n",
       "                        <td id=\"T_dd487e7d_742b_11ec_abb7_b46bfc7acf46row10_col0\" class=\"data row10 col0\" >CatBoost Classifier</td>\n",
       "                        <td id=\"T_dd487e7d_742b_11ec_abb7_b46bfc7acf46row10_col1\" class=\"data row10 col1\" >0.5476</td>\n",
       "                        <td id=\"T_dd487e7d_742b_11ec_abb7_b46bfc7acf46row10_col2\" class=\"data row10 col2\" >0.5350</td>\n",
       "                        <td id=\"T_dd487e7d_742b_11ec_abb7_b46bfc7acf46row10_col3\" class=\"data row10 col3\" >0.7000</td>\n",
       "                        <td id=\"T_dd487e7d_742b_11ec_abb7_b46bfc7acf46row10_col4\" class=\"data row10 col4\" >0.5814</td>\n",
       "                        <td id=\"T_dd487e7d_742b_11ec_abb7_b46bfc7acf46row10_col5\" class=\"data row10 col5\" >0.6271</td>\n",
       "                        <td id=\"T_dd487e7d_742b_11ec_abb7_b46bfc7acf46row10_col6\" class=\"data row10 col6\" >0.0075</td>\n",
       "                        <td id=\"T_dd487e7d_742b_11ec_abb7_b46bfc7acf46row10_col7\" class=\"data row10 col7\" >0.0181</td>\n",
       "                        <td id=\"T_dd487e7d_742b_11ec_abb7_b46bfc7acf46row10_col8\" class=\"data row10 col8\" >0.2250</td>\n",
       "            </tr>\n",
       "            <tr>\n",
       "                        <th id=\"T_dd487e7d_742b_11ec_abb7_b46bfc7acf46level0_row11\" class=\"row_heading level0 row11\" >et</th>\n",
       "                        <td id=\"T_dd487e7d_742b_11ec_abb7_b46bfc7acf46row11_col0\" class=\"data row11 col0\" >Extra Trees Classifier</td>\n",
       "                        <td id=\"T_dd487e7d_742b_11ec_abb7_b46bfc7acf46row11_col1\" class=\"data row11 col1\" >0.5333</td>\n",
       "                        <td id=\"T_dd487e7d_742b_11ec_abb7_b46bfc7acf46row11_col2\" class=\"data row11 col2\" >0.5450</td>\n",
       "                        <td id=\"T_dd487e7d_742b_11ec_abb7_b46bfc7acf46row11_col3\" class=\"data row11 col3\" >0.6250</td>\n",
       "                        <td id=\"T_dd487e7d_742b_11ec_abb7_b46bfc7acf46row11_col4\" class=\"data row11 col4\" >0.5798</td>\n",
       "                        <td id=\"T_dd487e7d_742b_11ec_abb7_b46bfc7acf46row11_col5\" class=\"data row11 col5\" >0.5874</td>\n",
       "                        <td id=\"T_dd487e7d_742b_11ec_abb7_b46bfc7acf46row11_col6\" class=\"data row11 col6\" >-0.0006</td>\n",
       "                        <td id=\"T_dd487e7d_742b_11ec_abb7_b46bfc7acf46row11_col7\" class=\"data row11 col7\" >0.0185</td>\n",
       "                        <td id=\"T_dd487e7d_742b_11ec_abb7_b46bfc7acf46row11_col8\" class=\"data row11 col8\" >0.0820</td>\n",
       "            </tr>\n",
       "            <tr>\n",
       "                        <th id=\"T_dd487e7d_742b_11ec_abb7_b46bfc7acf46level0_row12\" class=\"row_heading level0 row12\" >svm</th>\n",
       "                        <td id=\"T_dd487e7d_742b_11ec_abb7_b46bfc7acf46row12_col0\" class=\"data row12 col0\" >SVM - Linear Kernel</td>\n",
       "                        <td id=\"T_dd487e7d_742b_11ec_abb7_b46bfc7acf46row12_col1\" class=\"data row12 col1\" >0.5048</td>\n",
       "                        <td id=\"T_dd487e7d_742b_11ec_abb7_b46bfc7acf46row12_col2\" class=\"data row12 col2\" >0.0000</td>\n",
       "                        <td id=\"T_dd487e7d_742b_11ec_abb7_b46bfc7acf46row12_col3\" class=\"data row12 col3\" >0.5300</td>\n",
       "                        <td id=\"T_dd487e7d_742b_11ec_abb7_b46bfc7acf46row12_col4\" class=\"data row12 col4\" >0.4650</td>\n",
       "                        <td id=\"T_dd487e7d_742b_11ec_abb7_b46bfc7acf46row12_col5\" class=\"data row12 col5\" >0.4902</td>\n",
       "                        <td id=\"T_dd487e7d_742b_11ec_abb7_b46bfc7acf46row12_col6\" class=\"data row12 col6\" >-0.0172</td>\n",
       "                        <td id=\"T_dd487e7d_742b_11ec_abb7_b46bfc7acf46row12_col7\" class=\"data row12 col7\" >-0.0158</td>\n",
       "                        <td id=\"T_dd487e7d_742b_11ec_abb7_b46bfc7acf46row12_col8\" class=\"data row12 col8\" >0.0080</td>\n",
       "            </tr>\n",
       "            <tr>\n",
       "                        <th id=\"T_dd487e7d_742b_11ec_abb7_b46bfc7acf46level0_row13\" class=\"row_heading level0 row13\" >nb</th>\n",
       "                        <td id=\"T_dd487e7d_742b_11ec_abb7_b46bfc7acf46row13_col0\" class=\"data row13 col0\" >Naive Bayes</td>\n",
       "                        <td id=\"T_dd487e7d_742b_11ec_abb7_b46bfc7acf46row13_col1\" class=\"data row13 col1\" >0.4071</td>\n",
       "                        <td id=\"T_dd487e7d_742b_11ec_abb7_b46bfc7acf46row13_col2\" class=\"data row13 col2\" >0.5600</td>\n",
       "                        <td id=\"T_dd487e7d_742b_11ec_abb7_b46bfc7acf46row13_col3\" class=\"data row13 col3\" >0.1750</td>\n",
       "                        <td id=\"T_dd487e7d_742b_11ec_abb7_b46bfc7acf46row13_col4\" class=\"data row13 col4\" >0.1700</td>\n",
       "                        <td id=\"T_dd487e7d_742b_11ec_abb7_b46bfc7acf46row13_col5\" class=\"data row13 col5\" >0.1667</td>\n",
       "                        <td id=\"T_dd487e7d_742b_11ec_abb7_b46bfc7acf46row13_col6\" class=\"data row13 col6\" >-0.0868</td>\n",
       "                        <td id=\"T_dd487e7d_742b_11ec_abb7_b46bfc7acf46row13_col7\" class=\"data row13 col7\" >-0.1259</td>\n",
       "                        <td id=\"T_dd487e7d_742b_11ec_abb7_b46bfc7acf46row13_col8\" class=\"data row13 col8\" >0.0070</td>\n",
       "            </tr>\n",
       "            <tr>\n",
       "                        <th id=\"T_dd487e7d_742b_11ec_abb7_b46bfc7acf46level0_row14\" class=\"row_heading level0 row14\" >qda</th>\n",
       "                        <td id=\"T_dd487e7d_742b_11ec_abb7_b46bfc7acf46row14_col0\" class=\"data row14 col0\" >Quadratic Discriminant Analysis</td>\n",
       "                        <td id=\"T_dd487e7d_742b_11ec_abb7_b46bfc7acf46row14_col1\" class=\"data row14 col1\" >0.4048</td>\n",
       "                        <td id=\"T_dd487e7d_742b_11ec_abb7_b46bfc7acf46row14_col2\" class=\"data row14 col2\" >0.0000</td>\n",
       "                        <td id=\"T_dd487e7d_742b_11ec_abb7_b46bfc7acf46row14_col3\" class=\"data row14 col3\" >0.0000</td>\n",
       "                        <td id=\"T_dd487e7d_742b_11ec_abb7_b46bfc7acf46row14_col4\" class=\"data row14 col4\" >0.0000</td>\n",
       "                        <td id=\"T_dd487e7d_742b_11ec_abb7_b46bfc7acf46row14_col5\" class=\"data row14 col5\" >0.0000</td>\n",
       "                        <td id=\"T_dd487e7d_742b_11ec_abb7_b46bfc7acf46row14_col6\" class=\"data row14 col6\" >0.0000</td>\n",
       "                        <td id=\"T_dd487e7d_742b_11ec_abb7_b46bfc7acf46row14_col7\" class=\"data row14 col7\" >0.0000</td>\n",
       "                        <td id=\"T_dd487e7d_742b_11ec_abb7_b46bfc7acf46row14_col8\" class=\"data row14 col8\" >0.0140</td>\n",
       "            </tr>\n",
       "    </tbody></table>"
      ],
      "text/plain": [
       "<pandas.io.formats.style.Styler at 0x156d582a520>"
      ]
     },
     "metadata": {},
     "output_type": "display_data"
    },
    {
     "data": {
      "text/plain": [
       "LGBMClassifier(boosting_type='gbdt', class_weight=None, colsample_bytree=1.0,\n",
       "               importance_type='split', learning_rate=0.1, max_depth=-1,\n",
       "               min_child_samples=20, min_child_weight=0.001, min_split_gain=0.0,\n",
       "               n_estimators=100, n_jobs=-1, num_leaves=31, objective=None,\n",
       "               random_state=7445, reg_alpha=0.0, reg_lambda=0.0, silent='warn',\n",
       "               subsample=1.0, subsample_for_bin=200000, subsample_freq=0)"
      ]
     },
     "execution_count": 29,
     "metadata": {},
     "output_type": "execute_result"
    }
   ],
   "source": [
    "get_best_model(df2)"
   ]
  },
  {
   "cell_type": "code",
   "execution_count": 30,
   "metadata": {
    "scrolled": false
   },
   "outputs": [
    {
     "data": {
      "text/html": [
       "<style  type=\"text/css\" >\n",
       "    #T_e41cbdc7_742b_11ec_b639_b46bfc7acf46 th {\n",
       "          text-align: left;\n",
       "    }#T_e41cbdc7_742b_11ec_b639_b46bfc7acf46row0_col0,#T_e41cbdc7_742b_11ec_b639_b46bfc7acf46row0_col3,#T_e41cbdc7_742b_11ec_b639_b46bfc7acf46row0_col4,#T_e41cbdc7_742b_11ec_b639_b46bfc7acf46row0_col5,#T_e41cbdc7_742b_11ec_b639_b46bfc7acf46row1_col0,#T_e41cbdc7_742b_11ec_b639_b46bfc7acf46row1_col1,#T_e41cbdc7_742b_11ec_b639_b46bfc7acf46row1_col2,#T_e41cbdc7_742b_11ec_b639_b46bfc7acf46row1_col3,#T_e41cbdc7_742b_11ec_b639_b46bfc7acf46row1_col4,#T_e41cbdc7_742b_11ec_b639_b46bfc7acf46row1_col5,#T_e41cbdc7_742b_11ec_b639_b46bfc7acf46row1_col6,#T_e41cbdc7_742b_11ec_b639_b46bfc7acf46row1_col7,#T_e41cbdc7_742b_11ec_b639_b46bfc7acf46row2_col0,#T_e41cbdc7_742b_11ec_b639_b46bfc7acf46row2_col1,#T_e41cbdc7_742b_11ec_b639_b46bfc7acf46row2_col2,#T_e41cbdc7_742b_11ec_b639_b46bfc7acf46row2_col3,#T_e41cbdc7_742b_11ec_b639_b46bfc7acf46row2_col4,#T_e41cbdc7_742b_11ec_b639_b46bfc7acf46row2_col5,#T_e41cbdc7_742b_11ec_b639_b46bfc7acf46row2_col6,#T_e41cbdc7_742b_11ec_b639_b46bfc7acf46row2_col7,#T_e41cbdc7_742b_11ec_b639_b46bfc7acf46row3_col0,#T_e41cbdc7_742b_11ec_b639_b46bfc7acf46row3_col1,#T_e41cbdc7_742b_11ec_b639_b46bfc7acf46row3_col2,#T_e41cbdc7_742b_11ec_b639_b46bfc7acf46row3_col3,#T_e41cbdc7_742b_11ec_b639_b46bfc7acf46row3_col4,#T_e41cbdc7_742b_11ec_b639_b46bfc7acf46row3_col5,#T_e41cbdc7_742b_11ec_b639_b46bfc7acf46row3_col6,#T_e41cbdc7_742b_11ec_b639_b46bfc7acf46row3_col7,#T_e41cbdc7_742b_11ec_b639_b46bfc7acf46row4_col0,#T_e41cbdc7_742b_11ec_b639_b46bfc7acf46row4_col1,#T_e41cbdc7_742b_11ec_b639_b46bfc7acf46row4_col2,#T_e41cbdc7_742b_11ec_b639_b46bfc7acf46row4_col3,#T_e41cbdc7_742b_11ec_b639_b46bfc7acf46row4_col5,#T_e41cbdc7_742b_11ec_b639_b46bfc7acf46row4_col6,#T_e41cbdc7_742b_11ec_b639_b46bfc7acf46row4_col7,#T_e41cbdc7_742b_11ec_b639_b46bfc7acf46row5_col0,#T_e41cbdc7_742b_11ec_b639_b46bfc7acf46row5_col1,#T_e41cbdc7_742b_11ec_b639_b46bfc7acf46row5_col2,#T_e41cbdc7_742b_11ec_b639_b46bfc7acf46row5_col3,#T_e41cbdc7_742b_11ec_b639_b46bfc7acf46row5_col4,#T_e41cbdc7_742b_11ec_b639_b46bfc7acf46row5_col5,#T_e41cbdc7_742b_11ec_b639_b46bfc7acf46row5_col6,#T_e41cbdc7_742b_11ec_b639_b46bfc7acf46row5_col7,#T_e41cbdc7_742b_11ec_b639_b46bfc7acf46row6_col0,#T_e41cbdc7_742b_11ec_b639_b46bfc7acf46row6_col1,#T_e41cbdc7_742b_11ec_b639_b46bfc7acf46row6_col2,#T_e41cbdc7_742b_11ec_b639_b46bfc7acf46row6_col4,#T_e41cbdc7_742b_11ec_b639_b46bfc7acf46row6_col6,#T_e41cbdc7_742b_11ec_b639_b46bfc7acf46row6_col7,#T_e41cbdc7_742b_11ec_b639_b46bfc7acf46row7_col0,#T_e41cbdc7_742b_11ec_b639_b46bfc7acf46row7_col1,#T_e41cbdc7_742b_11ec_b639_b46bfc7acf46row7_col2,#T_e41cbdc7_742b_11ec_b639_b46bfc7acf46row7_col3,#T_e41cbdc7_742b_11ec_b639_b46bfc7acf46row7_col4,#T_e41cbdc7_742b_11ec_b639_b46bfc7acf46row7_col5,#T_e41cbdc7_742b_11ec_b639_b46bfc7acf46row7_col6,#T_e41cbdc7_742b_11ec_b639_b46bfc7acf46row7_col7,#T_e41cbdc7_742b_11ec_b639_b46bfc7acf46row8_col0,#T_e41cbdc7_742b_11ec_b639_b46bfc7acf46row8_col1,#T_e41cbdc7_742b_11ec_b639_b46bfc7acf46row8_col2,#T_e41cbdc7_742b_11ec_b639_b46bfc7acf46row8_col3,#T_e41cbdc7_742b_11ec_b639_b46bfc7acf46row8_col4,#T_e41cbdc7_742b_11ec_b639_b46bfc7acf46row8_col5,#T_e41cbdc7_742b_11ec_b639_b46bfc7acf46row8_col6,#T_e41cbdc7_742b_11ec_b639_b46bfc7acf46row8_col7,#T_e41cbdc7_742b_11ec_b639_b46bfc7acf46row9_col0,#T_e41cbdc7_742b_11ec_b639_b46bfc7acf46row9_col1,#T_e41cbdc7_742b_11ec_b639_b46bfc7acf46row9_col2,#T_e41cbdc7_742b_11ec_b639_b46bfc7acf46row9_col3,#T_e41cbdc7_742b_11ec_b639_b46bfc7acf46row9_col4,#T_e41cbdc7_742b_11ec_b639_b46bfc7acf46row9_col5,#T_e41cbdc7_742b_11ec_b639_b46bfc7acf46row9_col6,#T_e41cbdc7_742b_11ec_b639_b46bfc7acf46row9_col7,#T_e41cbdc7_742b_11ec_b639_b46bfc7acf46row10_col0,#T_e41cbdc7_742b_11ec_b639_b46bfc7acf46row10_col1,#T_e41cbdc7_742b_11ec_b639_b46bfc7acf46row10_col2,#T_e41cbdc7_742b_11ec_b639_b46bfc7acf46row10_col3,#T_e41cbdc7_742b_11ec_b639_b46bfc7acf46row10_col4,#T_e41cbdc7_742b_11ec_b639_b46bfc7acf46row10_col5,#T_e41cbdc7_742b_11ec_b639_b46bfc7acf46row10_col6,#T_e41cbdc7_742b_11ec_b639_b46bfc7acf46row10_col7,#T_e41cbdc7_742b_11ec_b639_b46bfc7acf46row11_col0,#T_e41cbdc7_742b_11ec_b639_b46bfc7acf46row11_col1,#T_e41cbdc7_742b_11ec_b639_b46bfc7acf46row11_col2,#T_e41cbdc7_742b_11ec_b639_b46bfc7acf46row11_col3,#T_e41cbdc7_742b_11ec_b639_b46bfc7acf46row11_col4,#T_e41cbdc7_742b_11ec_b639_b46bfc7acf46row11_col5,#T_e41cbdc7_742b_11ec_b639_b46bfc7acf46row11_col6,#T_e41cbdc7_742b_11ec_b639_b46bfc7acf46row11_col7,#T_e41cbdc7_742b_11ec_b639_b46bfc7acf46row12_col0,#T_e41cbdc7_742b_11ec_b639_b46bfc7acf46row12_col1,#T_e41cbdc7_742b_11ec_b639_b46bfc7acf46row12_col2,#T_e41cbdc7_742b_11ec_b639_b46bfc7acf46row12_col3,#T_e41cbdc7_742b_11ec_b639_b46bfc7acf46row12_col4,#T_e41cbdc7_742b_11ec_b639_b46bfc7acf46row12_col5,#T_e41cbdc7_742b_11ec_b639_b46bfc7acf46row12_col6,#T_e41cbdc7_742b_11ec_b639_b46bfc7acf46row12_col7,#T_e41cbdc7_742b_11ec_b639_b46bfc7acf46row13_col0,#T_e41cbdc7_742b_11ec_b639_b46bfc7acf46row13_col1,#T_e41cbdc7_742b_11ec_b639_b46bfc7acf46row13_col2,#T_e41cbdc7_742b_11ec_b639_b46bfc7acf46row13_col3,#T_e41cbdc7_742b_11ec_b639_b46bfc7acf46row13_col4,#T_e41cbdc7_742b_11ec_b639_b46bfc7acf46row13_col5,#T_e41cbdc7_742b_11ec_b639_b46bfc7acf46row13_col6,#T_e41cbdc7_742b_11ec_b639_b46bfc7acf46row13_col7,#T_e41cbdc7_742b_11ec_b639_b46bfc7acf46row14_col0,#T_e41cbdc7_742b_11ec_b639_b46bfc7acf46row14_col1,#T_e41cbdc7_742b_11ec_b639_b46bfc7acf46row14_col2,#T_e41cbdc7_742b_11ec_b639_b46bfc7acf46row14_col3,#T_e41cbdc7_742b_11ec_b639_b46bfc7acf46row14_col4,#T_e41cbdc7_742b_11ec_b639_b46bfc7acf46row14_col5,#T_e41cbdc7_742b_11ec_b639_b46bfc7acf46row14_col6,#T_e41cbdc7_742b_11ec_b639_b46bfc7acf46row14_col7{\n",
       "            text-align:  left;\n",
       "            text-align:  left;\n",
       "        }#T_e41cbdc7_742b_11ec_b639_b46bfc7acf46row0_col1,#T_e41cbdc7_742b_11ec_b639_b46bfc7acf46row0_col2,#T_e41cbdc7_742b_11ec_b639_b46bfc7acf46row0_col6,#T_e41cbdc7_742b_11ec_b639_b46bfc7acf46row0_col7,#T_e41cbdc7_742b_11ec_b639_b46bfc7acf46row4_col4,#T_e41cbdc7_742b_11ec_b639_b46bfc7acf46row6_col3,#T_e41cbdc7_742b_11ec_b639_b46bfc7acf46row6_col5{\n",
       "            text-align:  left;\n",
       "            text-align:  left;\n",
       "            background-color:  yellow;\n",
       "        }#T_e41cbdc7_742b_11ec_b639_b46bfc7acf46row0_col8,#T_e41cbdc7_742b_11ec_b639_b46bfc7acf46row1_col8,#T_e41cbdc7_742b_11ec_b639_b46bfc7acf46row2_col8,#T_e41cbdc7_742b_11ec_b639_b46bfc7acf46row3_col8,#T_e41cbdc7_742b_11ec_b639_b46bfc7acf46row7_col8,#T_e41cbdc7_742b_11ec_b639_b46bfc7acf46row8_col8,#T_e41cbdc7_742b_11ec_b639_b46bfc7acf46row10_col8,#T_e41cbdc7_742b_11ec_b639_b46bfc7acf46row11_col8,#T_e41cbdc7_742b_11ec_b639_b46bfc7acf46row12_col8,#T_e41cbdc7_742b_11ec_b639_b46bfc7acf46row13_col8,#T_e41cbdc7_742b_11ec_b639_b46bfc7acf46row14_col8{\n",
       "            text-align:  left;\n",
       "            text-align:  left;\n",
       "            background-color:  lightgrey;\n",
       "        }#T_e41cbdc7_742b_11ec_b639_b46bfc7acf46row4_col8,#T_e41cbdc7_742b_11ec_b639_b46bfc7acf46row5_col8,#T_e41cbdc7_742b_11ec_b639_b46bfc7acf46row6_col8,#T_e41cbdc7_742b_11ec_b639_b46bfc7acf46row9_col8{\n",
       "            text-align:  left;\n",
       "            text-align:  left;\n",
       "            background-color:  yellow;\n",
       "            background-color:  lightgrey;\n",
       "        }</style><table id=\"T_e41cbdc7_742b_11ec_b639_b46bfc7acf46\" ><thead>    <tr>        <th class=\"blank level0\" ></th>        <th class=\"col_heading level0 col0\" >Model</th>        <th class=\"col_heading level0 col1\" >Accuracy</th>        <th class=\"col_heading level0 col2\" >AUC</th>        <th class=\"col_heading level0 col3\" >Recall</th>        <th class=\"col_heading level0 col4\" >Prec.</th>        <th class=\"col_heading level0 col5\" >F1</th>        <th class=\"col_heading level0 col6\" >Kappa</th>        <th class=\"col_heading level0 col7\" >MCC</th>        <th class=\"col_heading level0 col8\" >TT (Sec)</th>    </tr></thead><tbody>\n",
       "                <tr>\n",
       "                        <th id=\"T_e41cbdc7_742b_11ec_b639_b46bfc7acf46level0_row0\" class=\"row_heading level0 row0\" >lightgbm</th>\n",
       "                        <td id=\"T_e41cbdc7_742b_11ec_b639_b46bfc7acf46row0_col0\" class=\"data row0 col0\" >Light Gradient Boosting Machine</td>\n",
       "                        <td id=\"T_e41cbdc7_742b_11ec_b639_b46bfc7acf46row0_col1\" class=\"data row0 col1\" >0.6381</td>\n",
       "                        <td id=\"T_e41cbdc7_742b_11ec_b639_b46bfc7acf46row0_col2\" class=\"data row0 col2\" >0.7250</td>\n",
       "                        <td id=\"T_e41cbdc7_742b_11ec_b639_b46bfc7acf46row0_col3\" class=\"data row0 col3\" >0.7250</td>\n",
       "                        <td id=\"T_e41cbdc7_742b_11ec_b639_b46bfc7acf46row0_col4\" class=\"data row0 col4\" >0.6638</td>\n",
       "                        <td id=\"T_e41cbdc7_742b_11ec_b639_b46bfc7acf46row0_col5\" class=\"data row0 col5\" >0.6823</td>\n",
       "                        <td id=\"T_e41cbdc7_742b_11ec_b639_b46bfc7acf46row0_col6\" class=\"data row0 col6\" >0.2507</td>\n",
       "                        <td id=\"T_e41cbdc7_742b_11ec_b639_b46bfc7acf46row0_col7\" class=\"data row0 col7\" >0.2608</td>\n",
       "                        <td id=\"T_e41cbdc7_742b_11ec_b639_b46bfc7acf46row0_col8\" class=\"data row0 col8\" >0.0110</td>\n",
       "            </tr>\n",
       "            <tr>\n",
       "                        <th id=\"T_e41cbdc7_742b_11ec_b639_b46bfc7acf46level0_row1\" class=\"row_heading level0 row1\" >lr</th>\n",
       "                        <td id=\"T_e41cbdc7_742b_11ec_b639_b46bfc7acf46row1_col0\" class=\"data row1 col0\" >Logistic Regression</td>\n",
       "                        <td id=\"T_e41cbdc7_742b_11ec_b639_b46bfc7acf46row1_col1\" class=\"data row1 col1\" >0.6214</td>\n",
       "                        <td id=\"T_e41cbdc7_742b_11ec_b639_b46bfc7acf46row1_col2\" class=\"data row1 col2\" >0.6083</td>\n",
       "                        <td id=\"T_e41cbdc7_742b_11ec_b639_b46bfc7acf46row1_col3\" class=\"data row1 col3\" >0.7250</td>\n",
       "                        <td id=\"T_e41cbdc7_742b_11ec_b639_b46bfc7acf46row1_col4\" class=\"data row1 col4\" >0.6638</td>\n",
       "                        <td id=\"T_e41cbdc7_742b_11ec_b639_b46bfc7acf46row1_col5\" class=\"data row1 col5\" >0.6823</td>\n",
       "                        <td id=\"T_e41cbdc7_742b_11ec_b639_b46bfc7acf46row1_col6\" class=\"data row1 col6\" >0.2140</td>\n",
       "                        <td id=\"T_e41cbdc7_742b_11ec_b639_b46bfc7acf46row1_col7\" class=\"data row1 col7\" >0.2274</td>\n",
       "                        <td id=\"T_e41cbdc7_742b_11ec_b639_b46bfc7acf46row1_col8\" class=\"data row1 col8\" >0.0070</td>\n",
       "            </tr>\n",
       "            <tr>\n",
       "                        <th id=\"T_e41cbdc7_742b_11ec_b639_b46bfc7acf46level0_row2\" class=\"row_heading level0 row2\" >lda</th>\n",
       "                        <td id=\"T_e41cbdc7_742b_11ec_b639_b46bfc7acf46row2_col0\" class=\"data row2 col0\" >Linear Discriminant Analysis</td>\n",
       "                        <td id=\"T_e41cbdc7_742b_11ec_b639_b46bfc7acf46row2_col1\" class=\"data row2 col1\" >0.6214</td>\n",
       "                        <td id=\"T_e41cbdc7_742b_11ec_b639_b46bfc7acf46row2_col2\" class=\"data row2 col2\" >0.6083</td>\n",
       "                        <td id=\"T_e41cbdc7_742b_11ec_b639_b46bfc7acf46row2_col3\" class=\"data row2 col3\" >0.7500</td>\n",
       "                        <td id=\"T_e41cbdc7_742b_11ec_b639_b46bfc7acf46row2_col4\" class=\"data row2 col4\" >0.6755</td>\n",
       "                        <td id=\"T_e41cbdc7_742b_11ec_b639_b46bfc7acf46row2_col5\" class=\"data row2 col5\" >0.6853</td>\n",
       "                        <td id=\"T_e41cbdc7_742b_11ec_b639_b46bfc7acf46row2_col6\" class=\"data row2 col6\" >0.2049</td>\n",
       "                        <td id=\"T_e41cbdc7_742b_11ec_b639_b46bfc7acf46row2_col7\" class=\"data row2 col7\" >0.2470</td>\n",
       "                        <td id=\"T_e41cbdc7_742b_11ec_b639_b46bfc7acf46row2_col8\" class=\"data row2 col8\" >0.0070</td>\n",
       "            </tr>\n",
       "            <tr>\n",
       "                        <th id=\"T_e41cbdc7_742b_11ec_b639_b46bfc7acf46level0_row3\" class=\"row_heading level0 row3\" >knn</th>\n",
       "                        <td id=\"T_e41cbdc7_742b_11ec_b639_b46bfc7acf46row3_col0\" class=\"data row3 col0\" >K Neighbors Classifier</td>\n",
       "                        <td id=\"T_e41cbdc7_742b_11ec_b639_b46bfc7acf46row3_col1\" class=\"data row3 col1\" >0.6190</td>\n",
       "                        <td id=\"T_e41cbdc7_742b_11ec_b639_b46bfc7acf46row3_col2\" class=\"data row3 col2\" >0.5604</td>\n",
       "                        <td id=\"T_e41cbdc7_742b_11ec_b639_b46bfc7acf46row3_col3\" class=\"data row3 col3\" >0.8250</td>\n",
       "                        <td id=\"T_e41cbdc7_742b_11ec_b639_b46bfc7acf46row3_col4\" class=\"data row3 col4\" >0.6355</td>\n",
       "                        <td id=\"T_e41cbdc7_742b_11ec_b639_b46bfc7acf46row3_col5\" class=\"data row3 col5\" >0.7122</td>\n",
       "                        <td id=\"T_e41cbdc7_742b_11ec_b639_b46bfc7acf46row3_col6\" class=\"data row3 col6\" >0.1683</td>\n",
       "                        <td id=\"T_e41cbdc7_742b_11ec_b639_b46bfc7acf46row3_col7\" class=\"data row3 col7\" >0.1891</td>\n",
       "                        <td id=\"T_e41cbdc7_742b_11ec_b639_b46bfc7acf46row3_col8\" class=\"data row3 col8\" >0.0150</td>\n",
       "            </tr>\n",
       "            <tr>\n",
       "                        <th id=\"T_e41cbdc7_742b_11ec_b639_b46bfc7acf46level0_row4\" class=\"row_heading level0 row4\" >ridge</th>\n",
       "                        <td id=\"T_e41cbdc7_742b_11ec_b639_b46bfc7acf46row4_col0\" class=\"data row4 col0\" >Ridge Classifier</td>\n",
       "                        <td id=\"T_e41cbdc7_742b_11ec_b639_b46bfc7acf46row4_col1\" class=\"data row4 col1\" >0.6071</td>\n",
       "                        <td id=\"T_e41cbdc7_742b_11ec_b639_b46bfc7acf46row4_col2\" class=\"data row4 col2\" >0.0000</td>\n",
       "                        <td id=\"T_e41cbdc7_742b_11ec_b639_b46bfc7acf46row4_col3\" class=\"data row4 col3\" >0.6750</td>\n",
       "                        <td id=\"T_e41cbdc7_742b_11ec_b639_b46bfc7acf46row4_col4\" class=\"data row4 col4\" >0.6788</td>\n",
       "                        <td id=\"T_e41cbdc7_742b_11ec_b639_b46bfc7acf46row4_col5\" class=\"data row4 col5\" >0.6547</td>\n",
       "                        <td id=\"T_e41cbdc7_742b_11ec_b639_b46bfc7acf46row4_col6\" class=\"data row4 col6\" >0.1924</td>\n",
       "                        <td id=\"T_e41cbdc7_742b_11ec_b639_b46bfc7acf46row4_col7\" class=\"data row4 col7\" >0.2166</td>\n",
       "                        <td id=\"T_e41cbdc7_742b_11ec_b639_b46bfc7acf46row4_col8\" class=\"data row4 col8\" >0.0060</td>\n",
       "            </tr>\n",
       "            <tr>\n",
       "                        <th id=\"T_e41cbdc7_742b_11ec_b639_b46bfc7acf46level0_row5\" class=\"row_heading level0 row5\" >qda</th>\n",
       "                        <td id=\"T_e41cbdc7_742b_11ec_b639_b46bfc7acf46row5_col0\" class=\"data row5 col0\" >Quadratic Discriminant Analysis</td>\n",
       "                        <td id=\"T_e41cbdc7_742b_11ec_b639_b46bfc7acf46row5_col1\" class=\"data row5 col1\" >0.5929</td>\n",
       "                        <td id=\"T_e41cbdc7_742b_11ec_b639_b46bfc7acf46row5_col2\" class=\"data row5 col2\" >0.5042</td>\n",
       "                        <td id=\"T_e41cbdc7_742b_11ec_b639_b46bfc7acf46row5_col3\" class=\"data row5 col3\" >0.9000</td>\n",
       "                        <td id=\"T_e41cbdc7_742b_11ec_b639_b46bfc7acf46row5_col4\" class=\"data row5 col4\" >0.5981</td>\n",
       "                        <td id=\"T_e41cbdc7_742b_11ec_b639_b46bfc7acf46row5_col5\" class=\"data row5 col5\" >0.7148</td>\n",
       "                        <td id=\"T_e41cbdc7_742b_11ec_b639_b46bfc7acf46row5_col6\" class=\"data row5 col6\" >0.0729</td>\n",
       "                        <td id=\"T_e41cbdc7_742b_11ec_b639_b46bfc7acf46row5_col7\" class=\"data row5 col7\" >0.1049</td>\n",
       "                        <td id=\"T_e41cbdc7_742b_11ec_b639_b46bfc7acf46row5_col8\" class=\"data row5 col8\" >0.0060</td>\n",
       "            </tr>\n",
       "            <tr>\n",
       "                        <th id=\"T_e41cbdc7_742b_11ec_b639_b46bfc7acf46level0_row6\" class=\"row_heading level0 row6\" >dummy</th>\n",
       "                        <td id=\"T_e41cbdc7_742b_11ec_b639_b46bfc7acf46row6_col0\" class=\"data row6 col0\" >Dummy Classifier</td>\n",
       "                        <td id=\"T_e41cbdc7_742b_11ec_b639_b46bfc7acf46row6_col1\" class=\"data row6 col1\" >0.5810</td>\n",
       "                        <td id=\"T_e41cbdc7_742b_11ec_b639_b46bfc7acf46row6_col2\" class=\"data row6 col2\" >0.5000</td>\n",
       "                        <td id=\"T_e41cbdc7_742b_11ec_b639_b46bfc7acf46row6_col3\" class=\"data row6 col3\" >1.0000</td>\n",
       "                        <td id=\"T_e41cbdc7_742b_11ec_b639_b46bfc7acf46row6_col4\" class=\"data row6 col4\" >0.5810</td>\n",
       "                        <td id=\"T_e41cbdc7_742b_11ec_b639_b46bfc7acf46row6_col5\" class=\"data row6 col5\" >0.7345</td>\n",
       "                        <td id=\"T_e41cbdc7_742b_11ec_b639_b46bfc7acf46row6_col6\" class=\"data row6 col6\" >0.0000</td>\n",
       "                        <td id=\"T_e41cbdc7_742b_11ec_b639_b46bfc7acf46row6_col7\" class=\"data row6 col7\" >0.0000</td>\n",
       "                        <td id=\"T_e41cbdc7_742b_11ec_b639_b46bfc7acf46row6_col8\" class=\"data row6 col8\" >0.0060</td>\n",
       "            </tr>\n",
       "            <tr>\n",
       "                        <th id=\"T_e41cbdc7_742b_11ec_b639_b46bfc7acf46level0_row7\" class=\"row_heading level0 row7\" >gbc</th>\n",
       "                        <td id=\"T_e41cbdc7_742b_11ec_b639_b46bfc7acf46row7_col0\" class=\"data row7 col0\" >Gradient Boosting Classifier</td>\n",
       "                        <td id=\"T_e41cbdc7_742b_11ec_b639_b46bfc7acf46row7_col1\" class=\"data row7 col1\" >0.5762</td>\n",
       "                        <td id=\"T_e41cbdc7_742b_11ec_b639_b46bfc7acf46row7_col2\" class=\"data row7 col2\" >0.5750</td>\n",
       "                        <td id=\"T_e41cbdc7_742b_11ec_b639_b46bfc7acf46row7_col3\" class=\"data row7 col3\" >0.6750</td>\n",
       "                        <td id=\"T_e41cbdc7_742b_11ec_b639_b46bfc7acf46row7_col4\" class=\"data row7 col4\" >0.6305</td>\n",
       "                        <td id=\"T_e41cbdc7_742b_11ec_b639_b46bfc7acf46row7_col5\" class=\"data row7 col5\" >0.6359</td>\n",
       "                        <td id=\"T_e41cbdc7_742b_11ec_b639_b46bfc7acf46row7_col6\" class=\"data row7 col6\" >0.1086</td>\n",
       "                        <td id=\"T_e41cbdc7_742b_11ec_b639_b46bfc7acf46row7_col7\" class=\"data row7 col7\" >0.1043</td>\n",
       "                        <td id=\"T_e41cbdc7_742b_11ec_b639_b46bfc7acf46row7_col8\" class=\"data row7 col8\" >0.0230</td>\n",
       "            </tr>\n",
       "            <tr>\n",
       "                        <th id=\"T_e41cbdc7_742b_11ec_b639_b46bfc7acf46level0_row8\" class=\"row_heading level0 row8\" >ada</th>\n",
       "                        <td id=\"T_e41cbdc7_742b_11ec_b639_b46bfc7acf46row8_col0\" class=\"data row8 col0\" >Ada Boost Classifier</td>\n",
       "                        <td id=\"T_e41cbdc7_742b_11ec_b639_b46bfc7acf46row8_col1\" class=\"data row8 col1\" >0.5643</td>\n",
       "                        <td id=\"T_e41cbdc7_742b_11ec_b639_b46bfc7acf46row8_col2\" class=\"data row8 col2\" >0.5458</td>\n",
       "                        <td id=\"T_e41cbdc7_742b_11ec_b639_b46bfc7acf46row8_col3\" class=\"data row8 col3\" >0.6500</td>\n",
       "                        <td id=\"T_e41cbdc7_742b_11ec_b639_b46bfc7acf46row8_col4\" class=\"data row8 col4\" >0.6117</td>\n",
       "                        <td id=\"T_e41cbdc7_742b_11ec_b639_b46bfc7acf46row8_col5\" class=\"data row8 col5\" >0.6160</td>\n",
       "                        <td id=\"T_e41cbdc7_742b_11ec_b639_b46bfc7acf46row8_col6\" class=\"data row8 col6\" >0.1068</td>\n",
       "                        <td id=\"T_e41cbdc7_742b_11ec_b639_b46bfc7acf46row8_col7\" class=\"data row8 col7\" >0.1284</td>\n",
       "                        <td id=\"T_e41cbdc7_742b_11ec_b639_b46bfc7acf46row8_col8\" class=\"data row8 col8\" >0.0340</td>\n",
       "            </tr>\n",
       "            <tr>\n",
       "                        <th id=\"T_e41cbdc7_742b_11ec_b639_b46bfc7acf46level0_row9\" class=\"row_heading level0 row9\" >dt</th>\n",
       "                        <td id=\"T_e41cbdc7_742b_11ec_b639_b46bfc7acf46row9_col0\" class=\"data row9 col0\" >Decision Tree Classifier</td>\n",
       "                        <td id=\"T_e41cbdc7_742b_11ec_b639_b46bfc7acf46row9_col1\" class=\"data row9 col1\" >0.5500</td>\n",
       "                        <td id=\"T_e41cbdc7_742b_11ec_b639_b46bfc7acf46row9_col2\" class=\"data row9 col2\" >0.5792</td>\n",
       "                        <td id=\"T_e41cbdc7_742b_11ec_b639_b46bfc7acf46row9_col3\" class=\"data row9 col3\" >0.5500</td>\n",
       "                        <td id=\"T_e41cbdc7_742b_11ec_b639_b46bfc7acf46row9_col4\" class=\"data row9 col4\" >0.6467</td>\n",
       "                        <td id=\"T_e41cbdc7_742b_11ec_b639_b46bfc7acf46row9_col5\" class=\"data row9 col5\" >0.5646</td>\n",
       "                        <td id=\"T_e41cbdc7_742b_11ec_b639_b46bfc7acf46row9_col6\" class=\"data row9 col6\" >0.0989</td>\n",
       "                        <td id=\"T_e41cbdc7_742b_11ec_b639_b46bfc7acf46row9_col7\" class=\"data row9 col7\" >0.1178</td>\n",
       "                        <td id=\"T_e41cbdc7_742b_11ec_b639_b46bfc7acf46row9_col8\" class=\"data row9 col8\" >0.0060</td>\n",
       "            </tr>\n",
       "            <tr>\n",
       "                        <th id=\"T_e41cbdc7_742b_11ec_b639_b46bfc7acf46level0_row10\" class=\"row_heading level0 row10\" >rf</th>\n",
       "                        <td id=\"T_e41cbdc7_742b_11ec_b639_b46bfc7acf46row10_col0\" class=\"data row10 col0\" >Random Forest Classifier</td>\n",
       "                        <td id=\"T_e41cbdc7_742b_11ec_b639_b46bfc7acf46row10_col1\" class=\"data row10 col1\" >0.5476</td>\n",
       "                        <td id=\"T_e41cbdc7_742b_11ec_b639_b46bfc7acf46row10_col2\" class=\"data row10 col2\" >0.5417</td>\n",
       "                        <td id=\"T_e41cbdc7_742b_11ec_b639_b46bfc7acf46row10_col3\" class=\"data row10 col3\" >0.6500</td>\n",
       "                        <td id=\"T_e41cbdc7_742b_11ec_b639_b46bfc7acf46row10_col4\" class=\"data row10 col4\" >0.5888</td>\n",
       "                        <td id=\"T_e41cbdc7_742b_11ec_b639_b46bfc7acf46row10_col5\" class=\"data row10 col5\" >0.6038</td>\n",
       "                        <td id=\"T_e41cbdc7_742b_11ec_b639_b46bfc7acf46row10_col6\" class=\"data row10 col6\" >0.0550</td>\n",
       "                        <td id=\"T_e41cbdc7_742b_11ec_b639_b46bfc7acf46row10_col7\" class=\"data row10 col7\" >0.0460</td>\n",
       "                        <td id=\"T_e41cbdc7_742b_11ec_b639_b46bfc7acf46row10_col8\" class=\"data row10 col8\" >0.0990</td>\n",
       "            </tr>\n",
       "            <tr>\n",
       "                        <th id=\"T_e41cbdc7_742b_11ec_b639_b46bfc7acf46level0_row11\" class=\"row_heading level0 row11\" >et</th>\n",
       "                        <td id=\"T_e41cbdc7_742b_11ec_b639_b46bfc7acf46row11_col0\" class=\"data row11 col0\" >Extra Trees Classifier</td>\n",
       "                        <td id=\"T_e41cbdc7_742b_11ec_b639_b46bfc7acf46row11_col1\" class=\"data row11 col1\" >0.5214</td>\n",
       "                        <td id=\"T_e41cbdc7_742b_11ec_b639_b46bfc7acf46row11_col2\" class=\"data row11 col2\" >0.5583</td>\n",
       "                        <td id=\"T_e41cbdc7_742b_11ec_b639_b46bfc7acf46row11_col3\" class=\"data row11 col3\" >0.5500</td>\n",
       "                        <td id=\"T_e41cbdc7_742b_11ec_b639_b46bfc7acf46row11_col4\" class=\"data row11 col4\" >0.5900</td>\n",
       "                        <td id=\"T_e41cbdc7_742b_11ec_b639_b46bfc7acf46row11_col5\" class=\"data row11 col5\" >0.5470</td>\n",
       "                        <td id=\"T_e41cbdc7_742b_11ec_b639_b46bfc7acf46row11_col6\" class=\"data row11 col6\" >0.0326</td>\n",
       "                        <td id=\"T_e41cbdc7_742b_11ec_b639_b46bfc7acf46row11_col7\" class=\"data row11 col7\" >0.0174</td>\n",
       "                        <td id=\"T_e41cbdc7_742b_11ec_b639_b46bfc7acf46row11_col8\" class=\"data row11 col8\" >0.0790</td>\n",
       "            </tr>\n",
       "            <tr>\n",
       "                        <th id=\"T_e41cbdc7_742b_11ec_b639_b46bfc7acf46level0_row12\" class=\"row_heading level0 row12\" >svm</th>\n",
       "                        <td id=\"T_e41cbdc7_742b_11ec_b639_b46bfc7acf46row12_col0\" class=\"data row12 col0\" >SVM - Linear Kernel</td>\n",
       "                        <td id=\"T_e41cbdc7_742b_11ec_b639_b46bfc7acf46row12_col1\" class=\"data row12 col1\" >0.5190</td>\n",
       "                        <td id=\"T_e41cbdc7_742b_11ec_b639_b46bfc7acf46row12_col2\" class=\"data row12 col2\" >0.0000</td>\n",
       "                        <td id=\"T_e41cbdc7_742b_11ec_b639_b46bfc7acf46row12_col3\" class=\"data row12 col3\" >0.6000</td>\n",
       "                        <td id=\"T_e41cbdc7_742b_11ec_b639_b46bfc7acf46row12_col4\" class=\"data row12 col4\" >0.5605</td>\n",
       "                        <td id=\"T_e41cbdc7_742b_11ec_b639_b46bfc7acf46row12_col5\" class=\"data row12 col5\" >0.5599</td>\n",
       "                        <td id=\"T_e41cbdc7_742b_11ec_b639_b46bfc7acf46row12_col6\" class=\"data row12 col6\" >0.0029</td>\n",
       "                        <td id=\"T_e41cbdc7_742b_11ec_b639_b46bfc7acf46row12_col7\" class=\"data row12 col7\" >0.0064</td>\n",
       "                        <td id=\"T_e41cbdc7_742b_11ec_b639_b46bfc7acf46row12_col8\" class=\"data row12 col8\" >0.0080</td>\n",
       "            </tr>\n",
       "            <tr>\n",
       "                        <th id=\"T_e41cbdc7_742b_11ec_b639_b46bfc7acf46level0_row13\" class=\"row_heading level0 row13\" >catboost</th>\n",
       "                        <td id=\"T_e41cbdc7_742b_11ec_b639_b46bfc7acf46row13_col0\" class=\"data row13 col0\" >CatBoost Classifier</td>\n",
       "                        <td id=\"T_e41cbdc7_742b_11ec_b639_b46bfc7acf46row13_col1\" class=\"data row13 col1\" >0.4905</td>\n",
       "                        <td id=\"T_e41cbdc7_742b_11ec_b639_b46bfc7acf46row13_col2\" class=\"data row13 col2\" >0.5833</td>\n",
       "                        <td id=\"T_e41cbdc7_742b_11ec_b639_b46bfc7acf46row13_col3\" class=\"data row13 col3\" >0.6250</td>\n",
       "                        <td id=\"T_e41cbdc7_742b_11ec_b639_b46bfc7acf46row13_col4\" class=\"data row13 col4\" >0.5155</td>\n",
       "                        <td id=\"T_e41cbdc7_742b_11ec_b639_b46bfc7acf46row13_col5\" class=\"data row13 col5\" >0.5511</td>\n",
       "                        <td id=\"T_e41cbdc7_742b_11ec_b639_b46bfc7acf46row13_col6\" class=\"data row13 col6\" >-0.0654</td>\n",
       "                        <td id=\"T_e41cbdc7_742b_11ec_b639_b46bfc7acf46row13_col7\" class=\"data row13 col7\" >-0.0649</td>\n",
       "                        <td id=\"T_e41cbdc7_742b_11ec_b639_b46bfc7acf46row13_col8\" class=\"data row13 col8\" >0.2800</td>\n",
       "            </tr>\n",
       "            <tr>\n",
       "                        <th id=\"T_e41cbdc7_742b_11ec_b639_b46bfc7acf46level0_row14\" class=\"row_heading level0 row14\" >nb</th>\n",
       "                        <td id=\"T_e41cbdc7_742b_11ec_b639_b46bfc7acf46row14_col0\" class=\"data row14 col0\" >Naive Bayes</td>\n",
       "                        <td id=\"T_e41cbdc7_742b_11ec_b639_b46bfc7acf46row14_col1\" class=\"data row14 col1\" >0.4619</td>\n",
       "                        <td id=\"T_e41cbdc7_742b_11ec_b639_b46bfc7acf46row14_col2\" class=\"data row14 col2\" >0.5750</td>\n",
       "                        <td id=\"T_e41cbdc7_742b_11ec_b639_b46bfc7acf46row14_col3\" class=\"data row14 col3\" >0.0750</td>\n",
       "                        <td id=\"T_e41cbdc7_742b_11ec_b639_b46bfc7acf46row14_col4\" class=\"data row14 col4\" >0.3000</td>\n",
       "                        <td id=\"T_e41cbdc7_742b_11ec_b639_b46bfc7acf46row14_col5\" class=\"data row14 col5\" >0.1200</td>\n",
       "                        <td id=\"T_e41cbdc7_742b_11ec_b639_b46bfc7acf46row14_col6\" class=\"data row14 col6\" >0.0667</td>\n",
       "                        <td id=\"T_e41cbdc7_742b_11ec_b639_b46bfc7acf46row14_col7\" class=\"data row14 col7\" >0.1061</td>\n",
       "                        <td id=\"T_e41cbdc7_742b_11ec_b639_b46bfc7acf46row14_col8\" class=\"data row14 col8\" >0.0070</td>\n",
       "            </tr>\n",
       "    </tbody></table>"
      ],
      "text/plain": [
       "<pandas.io.formats.style.Styler at 0x156d606eeb0>"
      ]
     },
     "metadata": {},
     "output_type": "display_data"
    },
    {
     "data": {
      "text/plain": [
       "LGBMClassifier(boosting_type='gbdt', class_weight=None, colsample_bytree=1.0,\n",
       "               importance_type='split', learning_rate=0.1, max_depth=-1,\n",
       "               min_child_samples=20, min_child_weight=0.001, min_split_gain=0.0,\n",
       "               n_estimators=100, n_jobs=-1, num_leaves=31, objective=None,\n",
       "               random_state=1083, reg_alpha=0.0, reg_lambda=0.0, silent='warn',\n",
       "               subsample=1.0, subsample_for_bin=200000, subsample_freq=0)"
      ]
     },
     "execution_count": 30,
     "metadata": {},
     "output_type": "execute_result"
    }
   ],
   "source": [
    "get_best_model(df3)"
   ]
  },
  {
   "cell_type": "markdown",
   "metadata": {},
   "source": [
    "So far all 3 datasets are between 60% to 70% accurate on the best model chosen by AutoML. We need to bring this up to at least 73% accuracy. We will need to go back and continue feature engineering by bootstrapping on the original dataset to prevent any overfitting and downsample the data to an equal number based on the target variable of happy and unhappy customers."
   ]
  },
  {
   "cell_type": "markdown",
   "metadata": {},
   "source": [
    "## FEATURE ENGINEERING: 2ND ROUND"
   ]
  },
  {
   "cell_type": "markdown",
   "metadata": {},
   "source": [
    "### BOOTSTRAPPING"
   ]
  },
  {
   "cell_type": "code",
   "execution_count": 31,
   "metadata": {},
   "outputs": [],
   "source": [
    "# create a function for bootstrapping\n",
    "\n",
    "def bootstrapping(array, n_sample, n_iters):\n",
    "    \n",
    "    boot = []\n",
    "    \n",
    "    for i in range(n_iters):\n",
    "        # choose a random index number between 0 to n_sample with replacement\n",
    "        index = np.random.choice(range(n_sample), replace=True)\n",
    "        # store value in a temp variable\n",
    "        sample = array[index]\n",
    "        # append to list\n",
    "        boot.append(sample)\n",
    "        \n",
    "    return boot"
   ]
  },
  {
   "cell_type": "code",
   "execution_count": 32,
   "metadata": {},
   "outputs": [
    {
     "name": "stdout",
     "output_type": "stream",
     "text": [
      " Happy Customers: 69\n",
      " Unhappy Customers: 57\n"
     ]
    }
   ],
   "source": [
    "# split the dataset into happy and unhappy customers\n",
    "happy_df = df[df.happiness == 1].reset_index(drop=True)\n",
    "unhappy_df = df[df.happiness == 0].reset_index(drop=True)\n",
    "\n",
    "print(f' Happy Customers: {len(happy_df)}\\n Unhappy Customers: {len(unhappy_df)}')"
   ]
  },
  {
   "cell_type": "markdown",
   "metadata": {},
   "source": [
    "In this case we want to downsample to 57 happy and unhappy customers each for a total of 114 customers."
   ]
  },
  {
   "cell_type": "code",
   "execution_count": 33,
   "metadata": {},
   "outputs": [],
   "source": [
    "# we will downsample happy customers to the same number of unhappy customers\n",
    "n_sample = len(unhappy_df)\n",
    "\n",
    "# create an array for happy and unhappy values to sample from\n",
    "happy_array = happy_df.values\n",
    "unhappy_array = unhappy_df.values\n",
    "\n",
    "# choose an iteration; for this we will choose 100\n",
    "n_iters = 100"
   ]
  },
  {
   "cell_type": "code",
   "execution_count": 34,
   "metadata": {},
   "outputs": [],
   "source": [
    "# create a boot to store happy customers\n",
    "happy_boot = bootstrapping(happy_array, n_sample, n_iters)\n",
    "\n",
    "# create a boot to store unhappy customers\n",
    "unhappy_boot = bootstrapping(unhappy_array, n_sample, n_iters)"
   ]
  },
  {
   "cell_type": "markdown",
   "metadata": {},
   "source": [
    "### DOWNSAMPLING"
   ]
  },
  {
   "cell_type": "markdown",
   "metadata": {},
   "source": [
    "From our 100 random samples in each boot, we will now downsample the data of happy and unhappy customers to original sample number of 57 happy and unhappy customers each."
   ]
  },
  {
   "cell_type": "code",
   "execution_count": 35,
   "metadata": {},
   "outputs": [
    {
     "name": "stdout",
     "output_type": "stream",
     "text": [
      " Happy Customers: 57\n",
      " Unhappy Customers: 57\n"
     ]
    }
   ],
   "source": [
    "# use the original sample as the new iteration\n",
    "n_iters = 57\n",
    "\n",
    "# set the sample to the length of either happy_boot or unhappy_boot since both are equal\n",
    "if len(happy_boot) == len(unhappy_boot):\n",
    "    n_sample = len(happy_boot)\n",
    "    \n",
    "# create a new list of happy customers from the boot we created\n",
    "happy_customers = bootstrapping(happy_boot, n_sample, n_iters)\n",
    "\n",
    "# create a new list of unhappy customers from the boot we created\n",
    "unhappy_customers = bootstrapping(unhappy_boot, n_sample, n_iters)\n",
    "\n",
    "# confirm length of each new list\n",
    "print(f' Happy Customers: {len(happy_customers)}\\n Unhappy Customers: {len(unhappy_customers)}')"
   ]
  },
  {
   "cell_type": "markdown",
   "metadata": {},
   "source": [
    "We can now combine our happy and unhappy customers into a new dataset."
   ]
  },
  {
   "cell_type": "code",
   "execution_count": 36,
   "metadata": {},
   "outputs": [],
   "source": [
    "# create a dataframe of happy customers\n",
    "happy_df = pd.DataFrame(happy_customers, columns=df.columns)\n",
    "\n",
    "# create a dataframe of unhappy customers\n",
    "unhappy_df = pd.DataFrame(unhappy_customers, columns=df.columns)\n",
    "\n",
    "#combine both dataframe into our new dataset\n",
    "cleaned_df = pd.concat([happy_df, unhappy_df], axis=0).reset_index(drop=True)"
   ]
  },
  {
   "cell_type": "markdown",
   "metadata": {},
   "source": [
    "### CREATE NEW DUMMY VARIABLES"
   ]
  },
  {
   "cell_type": "code",
   "execution_count": 37,
   "metadata": {},
   "outputs": [],
   "source": [
    "# drop order_satisfaction and price_satisfaction\n",
    "df1 = cleaned_df[['happiness','delivered_time', 'order_completed','courier_satisfaction', 'app_satisfaction']]\n",
    "\n",
    "df1 = pd.get_dummies(df1, columns = ['delivered_time', 'order_completed','courier_satisfaction', \n",
    "                                     'app_satisfaction'], drop_first = False)\n",
    "\n",
    "#drop order_satisfaction\n",
    "df2 = cleaned_df[['happiness','delivered_time', 'order_completed','courier_satisfaction', 'app_satisfaction', \n",
    "            'price_satisfaction']]\n",
    "\n",
    "df2 = pd.get_dummies(df2, columns = ['delivered_time', 'order_completed','courier_satisfaction', \n",
    "                                      'app_satisfaction', 'price_satisfaction'], drop_first = False)\n",
    "#use all features\n",
    "df3 = cleaned_df[['happiness','delivered_time', 'order_satisfaction', 'order_completed', 'price_satisfaction', \n",
    "            'courier_satisfaction', 'app_satisfaction']]\n",
    "\n",
    "df3 = pd.get_dummies(df3, columns = ['delivered_time', 'order_satisfaction', 'order_completed', 'price_satisfaction', \n",
    "                                     'courier_satisfaction', 'app_satisfaction'], drop_first = False)"
   ]
  },
  {
   "cell_type": "markdown",
   "metadata": {},
   "source": [
    "### TRAIN TEST SPLIT"
   ]
  },
  {
   "cell_type": "code",
   "execution_count": 38,
   "metadata": {},
   "outputs": [],
   "source": [
    "# divide each dataset into a train and test set and recombine X_train and y_train into our new training dataset\n",
    "\n",
    "#df1\n",
    "X1 = df1.drop(columns='happiness', axis=1)\n",
    "y1 = df1.happiness\n",
    "\n",
    "X1_train, X1_test, y1_train, y1_test = train_test_split(X1, y1, test_size = 0.2, random_state = 42)\n",
    "\n",
    "df1 = create_df(X1_train, y1_train)\n",
    "\n",
    "# df2\n",
    "X2 = df2.drop(columns='happiness', axis=1)\n",
    "y2 = df2.happiness\n",
    "\n",
    "X2_train, X2_test, y2_train, y2_test = train_test_split(X2, y2, test_size = 0.2, random_state = 42)\n",
    "\n",
    "df2 = create_df(X2_train, y2_train)\n",
    "\n",
    "# df3\n",
    "X3 = df3.drop(columns='happiness', axis=1)\n",
    "y3 = df3.happiness\n",
    "\n",
    "X3_train, X3_test, y3_train, y3_test = train_test_split(X3, y3, test_size = 0.2, random_state = 42)\n",
    "\n",
    "df3 = create_df(X3_train, y3_train)"
   ]
  },
  {
   "cell_type": "markdown",
   "metadata": {},
   "source": [
    "We should now have a training dataset of 91 data points. Let's see if anything if the best model has changed for each dataset has changed."
   ]
  },
  {
   "cell_type": "code",
   "execution_count": 39,
   "metadata": {
    "scrolled": false
   },
   "outputs": [
    {
     "data": {
      "text/html": [
       "<style  type=\"text/css\" >\n",
       "    #T_eaed4373_742b_11ec_b1b7_b46bfc7acf46 th {\n",
       "          text-align: left;\n",
       "    }#T_eaed4373_742b_11ec_b1b7_b46bfc7acf46row0_col0,#T_eaed4373_742b_11ec_b1b7_b46bfc7acf46row0_col3,#T_eaed4373_742b_11ec_b1b7_b46bfc7acf46row0_col4,#T_eaed4373_742b_11ec_b1b7_b46bfc7acf46row0_col7,#T_eaed4373_742b_11ec_b1b7_b46bfc7acf46row1_col0,#T_eaed4373_742b_11ec_b1b7_b46bfc7acf46row1_col2,#T_eaed4373_742b_11ec_b1b7_b46bfc7acf46row1_col3,#T_eaed4373_742b_11ec_b1b7_b46bfc7acf46row1_col4,#T_eaed4373_742b_11ec_b1b7_b46bfc7acf46row1_col7,#T_eaed4373_742b_11ec_b1b7_b46bfc7acf46row2_col0,#T_eaed4373_742b_11ec_b1b7_b46bfc7acf46row2_col2,#T_eaed4373_742b_11ec_b1b7_b46bfc7acf46row2_col3,#T_eaed4373_742b_11ec_b1b7_b46bfc7acf46row2_col4,#T_eaed4373_742b_11ec_b1b7_b46bfc7acf46row2_col7,#T_eaed4373_742b_11ec_b1b7_b46bfc7acf46row3_col0,#T_eaed4373_742b_11ec_b1b7_b46bfc7acf46row3_col1,#T_eaed4373_742b_11ec_b1b7_b46bfc7acf46row3_col2,#T_eaed4373_742b_11ec_b1b7_b46bfc7acf46row3_col3,#T_eaed4373_742b_11ec_b1b7_b46bfc7acf46row3_col5,#T_eaed4373_742b_11ec_b1b7_b46bfc7acf46row3_col6,#T_eaed4373_742b_11ec_b1b7_b46bfc7acf46row4_col0,#T_eaed4373_742b_11ec_b1b7_b46bfc7acf46row4_col1,#T_eaed4373_742b_11ec_b1b7_b46bfc7acf46row4_col2,#T_eaed4373_742b_11ec_b1b7_b46bfc7acf46row4_col3,#T_eaed4373_742b_11ec_b1b7_b46bfc7acf46row4_col4,#T_eaed4373_742b_11ec_b1b7_b46bfc7acf46row4_col5,#T_eaed4373_742b_11ec_b1b7_b46bfc7acf46row4_col6,#T_eaed4373_742b_11ec_b1b7_b46bfc7acf46row4_col7,#T_eaed4373_742b_11ec_b1b7_b46bfc7acf46row5_col0,#T_eaed4373_742b_11ec_b1b7_b46bfc7acf46row5_col1,#T_eaed4373_742b_11ec_b1b7_b46bfc7acf46row5_col2,#T_eaed4373_742b_11ec_b1b7_b46bfc7acf46row5_col3,#T_eaed4373_742b_11ec_b1b7_b46bfc7acf46row5_col4,#T_eaed4373_742b_11ec_b1b7_b46bfc7acf46row5_col5,#T_eaed4373_742b_11ec_b1b7_b46bfc7acf46row5_col6,#T_eaed4373_742b_11ec_b1b7_b46bfc7acf46row5_col7,#T_eaed4373_742b_11ec_b1b7_b46bfc7acf46row6_col0,#T_eaed4373_742b_11ec_b1b7_b46bfc7acf46row6_col1,#T_eaed4373_742b_11ec_b1b7_b46bfc7acf46row6_col2,#T_eaed4373_742b_11ec_b1b7_b46bfc7acf46row6_col3,#T_eaed4373_742b_11ec_b1b7_b46bfc7acf46row6_col4,#T_eaed4373_742b_11ec_b1b7_b46bfc7acf46row6_col5,#T_eaed4373_742b_11ec_b1b7_b46bfc7acf46row6_col6,#T_eaed4373_742b_11ec_b1b7_b46bfc7acf46row6_col7,#T_eaed4373_742b_11ec_b1b7_b46bfc7acf46row7_col0,#T_eaed4373_742b_11ec_b1b7_b46bfc7acf46row7_col1,#T_eaed4373_742b_11ec_b1b7_b46bfc7acf46row7_col2,#T_eaed4373_742b_11ec_b1b7_b46bfc7acf46row7_col3,#T_eaed4373_742b_11ec_b1b7_b46bfc7acf46row7_col4,#T_eaed4373_742b_11ec_b1b7_b46bfc7acf46row7_col5,#T_eaed4373_742b_11ec_b1b7_b46bfc7acf46row7_col6,#T_eaed4373_742b_11ec_b1b7_b46bfc7acf46row7_col7,#T_eaed4373_742b_11ec_b1b7_b46bfc7acf46row8_col0,#T_eaed4373_742b_11ec_b1b7_b46bfc7acf46row8_col1,#T_eaed4373_742b_11ec_b1b7_b46bfc7acf46row8_col2,#T_eaed4373_742b_11ec_b1b7_b46bfc7acf46row8_col3,#T_eaed4373_742b_11ec_b1b7_b46bfc7acf46row8_col4,#T_eaed4373_742b_11ec_b1b7_b46bfc7acf46row8_col5,#T_eaed4373_742b_11ec_b1b7_b46bfc7acf46row8_col6,#T_eaed4373_742b_11ec_b1b7_b46bfc7acf46row8_col7,#T_eaed4373_742b_11ec_b1b7_b46bfc7acf46row9_col0,#T_eaed4373_742b_11ec_b1b7_b46bfc7acf46row9_col1,#T_eaed4373_742b_11ec_b1b7_b46bfc7acf46row9_col2,#T_eaed4373_742b_11ec_b1b7_b46bfc7acf46row9_col3,#T_eaed4373_742b_11ec_b1b7_b46bfc7acf46row9_col4,#T_eaed4373_742b_11ec_b1b7_b46bfc7acf46row9_col5,#T_eaed4373_742b_11ec_b1b7_b46bfc7acf46row9_col6,#T_eaed4373_742b_11ec_b1b7_b46bfc7acf46row9_col7,#T_eaed4373_742b_11ec_b1b7_b46bfc7acf46row10_col0,#T_eaed4373_742b_11ec_b1b7_b46bfc7acf46row10_col1,#T_eaed4373_742b_11ec_b1b7_b46bfc7acf46row10_col2,#T_eaed4373_742b_11ec_b1b7_b46bfc7acf46row10_col3,#T_eaed4373_742b_11ec_b1b7_b46bfc7acf46row10_col4,#T_eaed4373_742b_11ec_b1b7_b46bfc7acf46row10_col5,#T_eaed4373_742b_11ec_b1b7_b46bfc7acf46row10_col6,#T_eaed4373_742b_11ec_b1b7_b46bfc7acf46row10_col7,#T_eaed4373_742b_11ec_b1b7_b46bfc7acf46row11_col0,#T_eaed4373_742b_11ec_b1b7_b46bfc7acf46row11_col1,#T_eaed4373_742b_11ec_b1b7_b46bfc7acf46row11_col2,#T_eaed4373_742b_11ec_b1b7_b46bfc7acf46row11_col3,#T_eaed4373_742b_11ec_b1b7_b46bfc7acf46row11_col4,#T_eaed4373_742b_11ec_b1b7_b46bfc7acf46row11_col5,#T_eaed4373_742b_11ec_b1b7_b46bfc7acf46row11_col6,#T_eaed4373_742b_11ec_b1b7_b46bfc7acf46row11_col7,#T_eaed4373_742b_11ec_b1b7_b46bfc7acf46row12_col0,#T_eaed4373_742b_11ec_b1b7_b46bfc7acf46row12_col1,#T_eaed4373_742b_11ec_b1b7_b46bfc7acf46row12_col2,#T_eaed4373_742b_11ec_b1b7_b46bfc7acf46row12_col4,#T_eaed4373_742b_11ec_b1b7_b46bfc7acf46row12_col5,#T_eaed4373_742b_11ec_b1b7_b46bfc7acf46row12_col6,#T_eaed4373_742b_11ec_b1b7_b46bfc7acf46row12_col7,#T_eaed4373_742b_11ec_b1b7_b46bfc7acf46row13_col0,#T_eaed4373_742b_11ec_b1b7_b46bfc7acf46row13_col1,#T_eaed4373_742b_11ec_b1b7_b46bfc7acf46row13_col2,#T_eaed4373_742b_11ec_b1b7_b46bfc7acf46row13_col3,#T_eaed4373_742b_11ec_b1b7_b46bfc7acf46row13_col4,#T_eaed4373_742b_11ec_b1b7_b46bfc7acf46row13_col5,#T_eaed4373_742b_11ec_b1b7_b46bfc7acf46row13_col6,#T_eaed4373_742b_11ec_b1b7_b46bfc7acf46row13_col7,#T_eaed4373_742b_11ec_b1b7_b46bfc7acf46row14_col0,#T_eaed4373_742b_11ec_b1b7_b46bfc7acf46row14_col1,#T_eaed4373_742b_11ec_b1b7_b46bfc7acf46row14_col2,#T_eaed4373_742b_11ec_b1b7_b46bfc7acf46row14_col3,#T_eaed4373_742b_11ec_b1b7_b46bfc7acf46row14_col4,#T_eaed4373_742b_11ec_b1b7_b46bfc7acf46row14_col5,#T_eaed4373_742b_11ec_b1b7_b46bfc7acf46row14_col6,#T_eaed4373_742b_11ec_b1b7_b46bfc7acf46row14_col7{\n",
       "            text-align:  left;\n",
       "            text-align:  left;\n",
       "        }#T_eaed4373_742b_11ec_b1b7_b46bfc7acf46row0_col1,#T_eaed4373_742b_11ec_b1b7_b46bfc7acf46row0_col2,#T_eaed4373_742b_11ec_b1b7_b46bfc7acf46row0_col5,#T_eaed4373_742b_11ec_b1b7_b46bfc7acf46row0_col6,#T_eaed4373_742b_11ec_b1b7_b46bfc7acf46row1_col1,#T_eaed4373_742b_11ec_b1b7_b46bfc7acf46row1_col5,#T_eaed4373_742b_11ec_b1b7_b46bfc7acf46row1_col6,#T_eaed4373_742b_11ec_b1b7_b46bfc7acf46row2_col1,#T_eaed4373_742b_11ec_b1b7_b46bfc7acf46row2_col5,#T_eaed4373_742b_11ec_b1b7_b46bfc7acf46row2_col6,#T_eaed4373_742b_11ec_b1b7_b46bfc7acf46row3_col4,#T_eaed4373_742b_11ec_b1b7_b46bfc7acf46row3_col7,#T_eaed4373_742b_11ec_b1b7_b46bfc7acf46row12_col3{\n",
       "            text-align:  left;\n",
       "            text-align:  left;\n",
       "            background-color:  yellow;\n",
       "        }#T_eaed4373_742b_11ec_b1b7_b46bfc7acf46row0_col8,#T_eaed4373_742b_11ec_b1b7_b46bfc7acf46row1_col8,#T_eaed4373_742b_11ec_b1b7_b46bfc7acf46row2_col8,#T_eaed4373_742b_11ec_b1b7_b46bfc7acf46row4_col8,#T_eaed4373_742b_11ec_b1b7_b46bfc7acf46row5_col8,#T_eaed4373_742b_11ec_b1b7_b46bfc7acf46row6_col8,#T_eaed4373_742b_11ec_b1b7_b46bfc7acf46row8_col8,#T_eaed4373_742b_11ec_b1b7_b46bfc7acf46row9_col8,#T_eaed4373_742b_11ec_b1b7_b46bfc7acf46row10_col8,#T_eaed4373_742b_11ec_b1b7_b46bfc7acf46row12_col8,#T_eaed4373_742b_11ec_b1b7_b46bfc7acf46row13_col8,#T_eaed4373_742b_11ec_b1b7_b46bfc7acf46row14_col8{\n",
       "            text-align:  left;\n",
       "            text-align:  left;\n",
       "            background-color:  lightgrey;\n",
       "        }#T_eaed4373_742b_11ec_b1b7_b46bfc7acf46row3_col8,#T_eaed4373_742b_11ec_b1b7_b46bfc7acf46row7_col8,#T_eaed4373_742b_11ec_b1b7_b46bfc7acf46row11_col8{\n",
       "            text-align:  left;\n",
       "            text-align:  left;\n",
       "            background-color:  yellow;\n",
       "            background-color:  lightgrey;\n",
       "        }</style><table id=\"T_eaed4373_742b_11ec_b1b7_b46bfc7acf46\" ><thead>    <tr>        <th class=\"blank level0\" ></th>        <th class=\"col_heading level0 col0\" >Model</th>        <th class=\"col_heading level0 col1\" >Accuracy</th>        <th class=\"col_heading level0 col2\" >AUC</th>        <th class=\"col_heading level0 col3\" >Recall</th>        <th class=\"col_heading level0 col4\" >Prec.</th>        <th class=\"col_heading level0 col5\" >F1</th>        <th class=\"col_heading level0 col6\" >Kappa</th>        <th class=\"col_heading level0 col7\" >MCC</th>        <th class=\"col_heading level0 col8\" >TT (Sec)</th>    </tr></thead><tbody>\n",
       "                <tr>\n",
       "                        <th id=\"T_eaed4373_742b_11ec_b1b7_b46bfc7acf46level0_row0\" class=\"row_heading level0 row0\" >rf</th>\n",
       "                        <td id=\"T_eaed4373_742b_11ec_b1b7_b46bfc7acf46row0_col0\" class=\"data row0 col0\" >Random Forest Classifier</td>\n",
       "                        <td id=\"T_eaed4373_742b_11ec_b1b7_b46bfc7acf46row0_col1\" class=\"data row0 col1\" >0.8310</td>\n",
       "                        <td id=\"T_eaed4373_742b_11ec_b1b7_b46bfc7acf46row0_col2\" class=\"data row0 col2\" >0.9194</td>\n",
       "                        <td id=\"T_eaed4373_742b_11ec_b1b7_b46bfc7acf46row0_col3\" class=\"data row0 col3\" >0.7917</td>\n",
       "                        <td id=\"T_eaed4373_742b_11ec_b1b7_b46bfc7acf46row0_col4\" class=\"data row0 col4\" >0.8667</td>\n",
       "                        <td id=\"T_eaed4373_742b_11ec_b1b7_b46bfc7acf46row0_col5\" class=\"data row0 col5\" >0.8114</td>\n",
       "                        <td id=\"T_eaed4373_742b_11ec_b1b7_b46bfc7acf46row0_col6\" class=\"data row0 col6\" >0.6673</td>\n",
       "                        <td id=\"T_eaed4373_742b_11ec_b1b7_b46bfc7acf46row0_col7\" class=\"data row0 col7\" >0.6861</td>\n",
       "                        <td id=\"T_eaed4373_742b_11ec_b1b7_b46bfc7acf46row0_col8\" class=\"data row0 col8\" >0.0970</td>\n",
       "            </tr>\n",
       "            <tr>\n",
       "                        <th id=\"T_eaed4373_742b_11ec_b1b7_b46bfc7acf46level0_row1\" class=\"row_heading level0 row1\" >et</th>\n",
       "                        <td id=\"T_eaed4373_742b_11ec_b1b7_b46bfc7acf46row1_col0\" class=\"data row1 col0\" >Extra Trees Classifier</td>\n",
       "                        <td id=\"T_eaed4373_742b_11ec_b1b7_b46bfc7acf46row1_col1\" class=\"data row1 col1\" >0.8310</td>\n",
       "                        <td id=\"T_eaed4373_742b_11ec_b1b7_b46bfc7acf46row1_col2\" class=\"data row1 col2\" >0.8792</td>\n",
       "                        <td id=\"T_eaed4373_742b_11ec_b1b7_b46bfc7acf46row1_col3\" class=\"data row1 col3\" >0.7917</td>\n",
       "                        <td id=\"T_eaed4373_742b_11ec_b1b7_b46bfc7acf46row1_col4\" class=\"data row1 col4\" >0.8667</td>\n",
       "                        <td id=\"T_eaed4373_742b_11ec_b1b7_b46bfc7acf46row1_col5\" class=\"data row1 col5\" >0.8114</td>\n",
       "                        <td id=\"T_eaed4373_742b_11ec_b1b7_b46bfc7acf46row1_col6\" class=\"data row1 col6\" >0.6673</td>\n",
       "                        <td id=\"T_eaed4373_742b_11ec_b1b7_b46bfc7acf46row1_col7\" class=\"data row1 col7\" >0.6861</td>\n",
       "                        <td id=\"T_eaed4373_742b_11ec_b1b7_b46bfc7acf46row1_col8\" class=\"data row1 col8\" >0.0750</td>\n",
       "            </tr>\n",
       "            <tr>\n",
       "                        <th id=\"T_eaed4373_742b_11ec_b1b7_b46bfc7acf46level0_row2\" class=\"row_heading level0 row2\" >catboost</th>\n",
       "                        <td id=\"T_eaed4373_742b_11ec_b1b7_b46bfc7acf46row2_col0\" class=\"data row2 col0\" >CatBoost Classifier</td>\n",
       "                        <td id=\"T_eaed4373_742b_11ec_b1b7_b46bfc7acf46row2_col1\" class=\"data row2 col1\" >0.8310</td>\n",
       "                        <td id=\"T_eaed4373_742b_11ec_b1b7_b46bfc7acf46row2_col2\" class=\"data row2 col2\" >0.9056</td>\n",
       "                        <td id=\"T_eaed4373_742b_11ec_b1b7_b46bfc7acf46row2_col3\" class=\"data row2 col3\" >0.7917</td>\n",
       "                        <td id=\"T_eaed4373_742b_11ec_b1b7_b46bfc7acf46row2_col4\" class=\"data row2 col4\" >0.8667</td>\n",
       "                        <td id=\"T_eaed4373_742b_11ec_b1b7_b46bfc7acf46row2_col5\" class=\"data row2 col5\" >0.8114</td>\n",
       "                        <td id=\"T_eaed4373_742b_11ec_b1b7_b46bfc7acf46row2_col6\" class=\"data row2 col6\" >0.6673</td>\n",
       "                        <td id=\"T_eaed4373_742b_11ec_b1b7_b46bfc7acf46row2_col7\" class=\"data row2 col7\" >0.6861</td>\n",
       "                        <td id=\"T_eaed4373_742b_11ec_b1b7_b46bfc7acf46row2_col8\" class=\"data row2 col8\" >0.2230</td>\n",
       "            </tr>\n",
       "            <tr>\n",
       "                        <th id=\"T_eaed4373_742b_11ec_b1b7_b46bfc7acf46level0_row3\" class=\"row_heading level0 row3\" >dt</th>\n",
       "                        <td id=\"T_eaed4373_742b_11ec_b1b7_b46bfc7acf46row3_col0\" class=\"data row3 col0\" >Decision Tree Classifier</td>\n",
       "                        <td id=\"T_eaed4373_742b_11ec_b1b7_b46bfc7acf46row3_col1\" class=\"data row3 col1\" >0.8286</td>\n",
       "                        <td id=\"T_eaed4373_742b_11ec_b1b7_b46bfc7acf46row3_col2\" class=\"data row3 col2\" >0.8208</td>\n",
       "                        <td id=\"T_eaed4373_742b_11ec_b1b7_b46bfc7acf46row3_col3\" class=\"data row3 col3\" >0.7917</td>\n",
       "                        <td id=\"T_eaed4373_742b_11ec_b1b7_b46bfc7acf46row3_col4\" class=\"data row3 col4\" >0.8967</td>\n",
       "                        <td id=\"T_eaed4373_742b_11ec_b1b7_b46bfc7acf46row3_col5\" class=\"data row3 col5\" >0.8070</td>\n",
       "                        <td id=\"T_eaed4373_742b_11ec_b1b7_b46bfc7acf46row3_col6\" class=\"data row3 col6\" >0.6638</td>\n",
       "                        <td id=\"T_eaed4373_742b_11ec_b1b7_b46bfc7acf46row3_col7\" class=\"data row3 col7\" >0.6996</td>\n",
       "                        <td id=\"T_eaed4373_742b_11ec_b1b7_b46bfc7acf46row3_col8\" class=\"data row3 col8\" >0.0060</td>\n",
       "            </tr>\n",
       "            <tr>\n",
       "                        <th id=\"T_eaed4373_742b_11ec_b1b7_b46bfc7acf46level0_row4\" class=\"row_heading level0 row4\" >knn</th>\n",
       "                        <td id=\"T_eaed4373_742b_11ec_b1b7_b46bfc7acf46row4_col0\" class=\"data row4 col0\" >K Neighbors Classifier</td>\n",
       "                        <td id=\"T_eaed4373_742b_11ec_b1b7_b46bfc7acf46row4_col1\" class=\"data row4 col1\" >0.7976</td>\n",
       "                        <td id=\"T_eaed4373_742b_11ec_b1b7_b46bfc7acf46row4_col2\" class=\"data row4 col2\" >0.8639</td>\n",
       "                        <td id=\"T_eaed4373_742b_11ec_b1b7_b46bfc7acf46row4_col3\" class=\"data row4 col3\" >0.7583</td>\n",
       "                        <td id=\"T_eaed4373_742b_11ec_b1b7_b46bfc7acf46row4_col4\" class=\"data row4 col4\" >0.8333</td>\n",
       "                        <td id=\"T_eaed4373_742b_11ec_b1b7_b46bfc7acf46row4_col5\" class=\"data row4 col5\" >0.7810</td>\n",
       "                        <td id=\"T_eaed4373_742b_11ec_b1b7_b46bfc7acf46row4_col6\" class=\"data row4 col6\" >0.5963</td>\n",
       "                        <td id=\"T_eaed4373_742b_11ec_b1b7_b46bfc7acf46row4_col7\" class=\"data row4 col7\" >0.6162</td>\n",
       "                        <td id=\"T_eaed4373_742b_11ec_b1b7_b46bfc7acf46row4_col8\" class=\"data row4 col8\" >0.0120</td>\n",
       "            </tr>\n",
       "            <tr>\n",
       "                        <th id=\"T_eaed4373_742b_11ec_b1b7_b46bfc7acf46level0_row5\" class=\"row_heading level0 row5\" >gbc</th>\n",
       "                        <td id=\"T_eaed4373_742b_11ec_b1b7_b46bfc7acf46row5_col0\" class=\"data row5 col0\" >Gradient Boosting Classifier</td>\n",
       "                        <td id=\"T_eaed4373_742b_11ec_b1b7_b46bfc7acf46row5_col1\" class=\"data row5 col1\" >0.7833</td>\n",
       "                        <td id=\"T_eaed4373_742b_11ec_b1b7_b46bfc7acf46row5_col2\" class=\"data row5 col2\" >0.8750</td>\n",
       "                        <td id=\"T_eaed4373_742b_11ec_b1b7_b46bfc7acf46row5_col3\" class=\"data row5 col3\" >0.7250</td>\n",
       "                        <td id=\"T_eaed4373_742b_11ec_b1b7_b46bfc7acf46row5_col4\" class=\"data row5 col4\" >0.8300</td>\n",
       "                        <td id=\"T_eaed4373_742b_11ec_b1b7_b46bfc7acf46row5_col5\" class=\"data row5 col5\" >0.7622</td>\n",
       "                        <td id=\"T_eaed4373_742b_11ec_b1b7_b46bfc7acf46row5_col6\" class=\"data row5 col6\" >0.5702</td>\n",
       "                        <td id=\"T_eaed4373_742b_11ec_b1b7_b46bfc7acf46row5_col7\" class=\"data row5 col7\" >0.5844</td>\n",
       "                        <td id=\"T_eaed4373_742b_11ec_b1b7_b46bfc7acf46row5_col8\" class=\"data row5 col8\" >0.0230</td>\n",
       "            </tr>\n",
       "            <tr>\n",
       "                        <th id=\"T_eaed4373_742b_11ec_b1b7_b46bfc7acf46level0_row6\" class=\"row_heading level0 row6\" >ada</th>\n",
       "                        <td id=\"T_eaed4373_742b_11ec_b1b7_b46bfc7acf46row6_col0\" class=\"data row6 col0\" >Ada Boost Classifier</td>\n",
       "                        <td id=\"T_eaed4373_742b_11ec_b1b7_b46bfc7acf46row6_col1\" class=\"data row6 col1\" >0.7333</td>\n",
       "                        <td id=\"T_eaed4373_742b_11ec_b1b7_b46bfc7acf46row6_col2\" class=\"data row6 col2\" >0.7389</td>\n",
       "                        <td id=\"T_eaed4373_742b_11ec_b1b7_b46bfc7acf46row6_col3\" class=\"data row6 col3\" >0.7833</td>\n",
       "                        <td id=\"T_eaed4373_742b_11ec_b1b7_b46bfc7acf46row6_col4\" class=\"data row6 col4\" >0.7450</td>\n",
       "                        <td id=\"T_eaed4373_742b_11ec_b1b7_b46bfc7acf46row6_col5\" class=\"data row6 col5\" >0.7381</td>\n",
       "                        <td id=\"T_eaed4373_742b_11ec_b1b7_b46bfc7acf46row6_col6\" class=\"data row6 col6\" >0.4587</td>\n",
       "                        <td id=\"T_eaed4373_742b_11ec_b1b7_b46bfc7acf46row6_col7\" class=\"data row6 col7\" >0.4900</td>\n",
       "                        <td id=\"T_eaed4373_742b_11ec_b1b7_b46bfc7acf46row6_col8\" class=\"data row6 col8\" >0.0360</td>\n",
       "            </tr>\n",
       "            <tr>\n",
       "                        <th id=\"T_eaed4373_742b_11ec_b1b7_b46bfc7acf46level0_row7\" class=\"row_heading level0 row7\" >lda</th>\n",
       "                        <td id=\"T_eaed4373_742b_11ec_b1b7_b46bfc7acf46row7_col0\" class=\"data row7 col0\" >Linear Discriminant Analysis</td>\n",
       "                        <td id=\"T_eaed4373_742b_11ec_b1b7_b46bfc7acf46row7_col1\" class=\"data row7 col1\" >0.7190</td>\n",
       "                        <td id=\"T_eaed4373_742b_11ec_b1b7_b46bfc7acf46row7_col2\" class=\"data row7 col2\" >0.7778</td>\n",
       "                        <td id=\"T_eaed4373_742b_11ec_b1b7_b46bfc7acf46row7_col3\" class=\"data row7 col3\" >0.7583</td>\n",
       "                        <td id=\"T_eaed4373_742b_11ec_b1b7_b46bfc7acf46row7_col4\" class=\"data row7 col4\" >0.7367</td>\n",
       "                        <td id=\"T_eaed4373_742b_11ec_b1b7_b46bfc7acf46row7_col5\" class=\"data row7 col5\" >0.7202</td>\n",
       "                        <td id=\"T_eaed4373_742b_11ec_b1b7_b46bfc7acf46row7_col6\" class=\"data row7 col6\" >0.4330</td>\n",
       "                        <td id=\"T_eaed4373_742b_11ec_b1b7_b46bfc7acf46row7_col7\" class=\"data row7 col7\" >0.4650</td>\n",
       "                        <td id=\"T_eaed4373_742b_11ec_b1b7_b46bfc7acf46row7_col8\" class=\"data row7 col8\" >0.0060</td>\n",
       "            </tr>\n",
       "            <tr>\n",
       "                        <th id=\"T_eaed4373_742b_11ec_b1b7_b46bfc7acf46level0_row8\" class=\"row_heading level0 row8\" >lightgbm</th>\n",
       "                        <td id=\"T_eaed4373_742b_11ec_b1b7_b46bfc7acf46row8_col0\" class=\"data row8 col0\" >Light Gradient Boosting Machine</td>\n",
       "                        <td id=\"T_eaed4373_742b_11ec_b1b7_b46bfc7acf46row8_col1\" class=\"data row8 col1\" >0.7095</td>\n",
       "                        <td id=\"T_eaed4373_742b_11ec_b1b7_b46bfc7acf46row8_col2\" class=\"data row8 col2\" >0.7708</td>\n",
       "                        <td id=\"T_eaed4373_742b_11ec_b1b7_b46bfc7acf46row8_col3\" class=\"data row8 col3\" >0.7500</td>\n",
       "                        <td id=\"T_eaed4373_742b_11ec_b1b7_b46bfc7acf46row8_col4\" class=\"data row8 col4\" >0.7033</td>\n",
       "                        <td id=\"T_eaed4373_742b_11ec_b1b7_b46bfc7acf46row8_col5\" class=\"data row8 col5\" >0.7062</td>\n",
       "                        <td id=\"T_eaed4373_742b_11ec_b1b7_b46bfc7acf46row8_col6\" class=\"data row8 col6\" >0.4235</td>\n",
       "                        <td id=\"T_eaed4373_742b_11ec_b1b7_b46bfc7acf46row8_col7\" class=\"data row8 col7\" >0.4576</td>\n",
       "                        <td id=\"T_eaed4373_742b_11ec_b1b7_b46bfc7acf46row8_col8\" class=\"data row8 col8\" >0.0100</td>\n",
       "            </tr>\n",
       "            <tr>\n",
       "                        <th id=\"T_eaed4373_742b_11ec_b1b7_b46bfc7acf46level0_row9\" class=\"row_heading level0 row9\" >lr</th>\n",
       "                        <td id=\"T_eaed4373_742b_11ec_b1b7_b46bfc7acf46row9_col0\" class=\"data row9 col0\" >Logistic Regression</td>\n",
       "                        <td id=\"T_eaed4373_742b_11ec_b1b7_b46bfc7acf46row9_col1\" class=\"data row9 col1\" >0.7000</td>\n",
       "                        <td id=\"T_eaed4373_742b_11ec_b1b7_b46bfc7acf46row9_col2\" class=\"data row9 col2\" >0.8444</td>\n",
       "                        <td id=\"T_eaed4373_742b_11ec_b1b7_b46bfc7acf46row9_col3\" class=\"data row9 col3\" >0.7583</td>\n",
       "                        <td id=\"T_eaed4373_742b_11ec_b1b7_b46bfc7acf46row9_col4\" class=\"data row9 col4\" >0.6850</td>\n",
       "                        <td id=\"T_eaed4373_742b_11ec_b1b7_b46bfc7acf46row9_col5\" class=\"data row9 col5\" >0.7090</td>\n",
       "                        <td id=\"T_eaed4373_742b_11ec_b1b7_b46bfc7acf46row9_col6\" class=\"data row9 col6\" >0.3993</td>\n",
       "                        <td id=\"T_eaed4373_742b_11ec_b1b7_b46bfc7acf46row9_col7\" class=\"data row9 col7\" >0.4195</td>\n",
       "                        <td id=\"T_eaed4373_742b_11ec_b1b7_b46bfc7acf46row9_col8\" class=\"data row9 col8\" >0.0080</td>\n",
       "            </tr>\n",
       "            <tr>\n",
       "                        <th id=\"T_eaed4373_742b_11ec_b1b7_b46bfc7acf46level0_row10\" class=\"row_heading level0 row10\" >svm</th>\n",
       "                        <td id=\"T_eaed4373_742b_11ec_b1b7_b46bfc7acf46row10_col0\" class=\"data row10 col0\" >SVM - Linear Kernel</td>\n",
       "                        <td id=\"T_eaed4373_742b_11ec_b1b7_b46bfc7acf46row10_col1\" class=\"data row10 col1\" >0.6857</td>\n",
       "                        <td id=\"T_eaed4373_742b_11ec_b1b7_b46bfc7acf46row10_col2\" class=\"data row10 col2\" >0.0000</td>\n",
       "                        <td id=\"T_eaed4373_742b_11ec_b1b7_b46bfc7acf46row10_col3\" class=\"data row10 col3\" >0.6250</td>\n",
       "                        <td id=\"T_eaed4373_742b_11ec_b1b7_b46bfc7acf46row10_col4\" class=\"data row10 col4\" >0.7533</td>\n",
       "                        <td id=\"T_eaed4373_742b_11ec_b1b7_b46bfc7acf46row10_col5\" class=\"data row10 col5\" >0.6455</td>\n",
       "                        <td id=\"T_eaed4373_742b_11ec_b1b7_b46bfc7acf46row10_col6\" class=\"data row10 col6\" >0.3664</td>\n",
       "                        <td id=\"T_eaed4373_742b_11ec_b1b7_b46bfc7acf46row10_col7\" class=\"data row10 col7\" >0.4016</td>\n",
       "                        <td id=\"T_eaed4373_742b_11ec_b1b7_b46bfc7acf46row10_col8\" class=\"data row10 col8\" >0.0100</td>\n",
       "            </tr>\n",
       "            <tr>\n",
       "                        <th id=\"T_eaed4373_742b_11ec_b1b7_b46bfc7acf46level0_row11\" class=\"row_heading level0 row11\" >ridge</th>\n",
       "                        <td id=\"T_eaed4373_742b_11ec_b1b7_b46bfc7acf46row11_col0\" class=\"data row11 col0\" >Ridge Classifier</td>\n",
       "                        <td id=\"T_eaed4373_742b_11ec_b1b7_b46bfc7acf46row11_col1\" class=\"data row11 col1\" >0.6857</td>\n",
       "                        <td id=\"T_eaed4373_742b_11ec_b1b7_b46bfc7acf46row11_col2\" class=\"data row11 col2\" >0.0000</td>\n",
       "                        <td id=\"T_eaed4373_742b_11ec_b1b7_b46bfc7acf46row11_col3\" class=\"data row11 col3\" >0.7583</td>\n",
       "                        <td id=\"T_eaed4373_742b_11ec_b1b7_b46bfc7acf46row11_col4\" class=\"data row11 col4\" >0.6717</td>\n",
       "                        <td id=\"T_eaed4373_742b_11ec_b1b7_b46bfc7acf46row11_col5\" class=\"data row11 col5\" >0.6995</td>\n",
       "                        <td id=\"T_eaed4373_742b_11ec_b1b7_b46bfc7acf46row11_col6\" class=\"data row11 col6\" >0.3664</td>\n",
       "                        <td id=\"T_eaed4373_742b_11ec_b1b7_b46bfc7acf46row11_col7\" class=\"data row11 col7\" >0.3943</td>\n",
       "                        <td id=\"T_eaed4373_742b_11ec_b1b7_b46bfc7acf46row11_col8\" class=\"data row11 col8\" >0.0060</td>\n",
       "            </tr>\n",
       "            <tr>\n",
       "                        <th id=\"T_eaed4373_742b_11ec_b1b7_b46bfc7acf46level0_row12\" class=\"row_heading level0 row12\" >nb</th>\n",
       "                        <td id=\"T_eaed4373_742b_11ec_b1b7_b46bfc7acf46row12_col0\" class=\"data row12 col0\" >Naive Bayes</td>\n",
       "                        <td id=\"T_eaed4373_742b_11ec_b1b7_b46bfc7acf46row12_col1\" class=\"data row12 col1\" >0.6000</td>\n",
       "                        <td id=\"T_eaed4373_742b_11ec_b1b7_b46bfc7acf46row12_col2\" class=\"data row12 col2\" >0.7958</td>\n",
       "                        <td id=\"T_eaed4373_742b_11ec_b1b7_b46bfc7acf46row12_col3\" class=\"data row12 col3\" >0.9083</td>\n",
       "                        <td id=\"T_eaed4373_742b_11ec_b1b7_b46bfc7acf46row12_col4\" class=\"data row12 col4\" >0.5838</td>\n",
       "                        <td id=\"T_eaed4373_742b_11ec_b1b7_b46bfc7acf46row12_col5\" class=\"data row12 col5\" >0.6989</td>\n",
       "                        <td id=\"T_eaed4373_742b_11ec_b1b7_b46bfc7acf46row12_col6\" class=\"data row12 col6\" >0.1833</td>\n",
       "                        <td id=\"T_eaed4373_742b_11ec_b1b7_b46bfc7acf46row12_col7\" class=\"data row12 col7\" >0.1988</td>\n",
       "                        <td id=\"T_eaed4373_742b_11ec_b1b7_b46bfc7acf46row12_col8\" class=\"data row12 col8\" >0.0070</td>\n",
       "            </tr>\n",
       "            <tr>\n",
       "                        <th id=\"T_eaed4373_742b_11ec_b1b7_b46bfc7acf46level0_row13\" class=\"row_heading level0 row13\" >qda</th>\n",
       "                        <td id=\"T_eaed4373_742b_11ec_b1b7_b46bfc7acf46row13_col0\" class=\"data row13 col0\" >Quadratic Discriminant Analysis</td>\n",
       "                        <td id=\"T_eaed4373_742b_11ec_b1b7_b46bfc7acf46row13_col1\" class=\"data row13 col1\" >0.4929</td>\n",
       "                        <td id=\"T_eaed4373_742b_11ec_b1b7_b46bfc7acf46row13_col2\" class=\"data row13 col2\" >0.0000</td>\n",
       "                        <td id=\"T_eaed4373_742b_11ec_b1b7_b46bfc7acf46row13_col3\" class=\"data row13 col3\" >0.0000</td>\n",
       "                        <td id=\"T_eaed4373_742b_11ec_b1b7_b46bfc7acf46row13_col4\" class=\"data row13 col4\" >0.0000</td>\n",
       "                        <td id=\"T_eaed4373_742b_11ec_b1b7_b46bfc7acf46row13_col5\" class=\"data row13 col5\" >0.0000</td>\n",
       "                        <td id=\"T_eaed4373_742b_11ec_b1b7_b46bfc7acf46row13_col6\" class=\"data row13 col6\" >0.0000</td>\n",
       "                        <td id=\"T_eaed4373_742b_11ec_b1b7_b46bfc7acf46row13_col7\" class=\"data row13 col7\" >0.0000</td>\n",
       "                        <td id=\"T_eaed4373_742b_11ec_b1b7_b46bfc7acf46row13_col8\" class=\"data row13 col8\" >0.0100</td>\n",
       "            </tr>\n",
       "            <tr>\n",
       "                        <th id=\"T_eaed4373_742b_11ec_b1b7_b46bfc7acf46level0_row14\" class=\"row_heading level0 row14\" >dummy</th>\n",
       "                        <td id=\"T_eaed4373_742b_11ec_b1b7_b46bfc7acf46row14_col0\" class=\"data row14 col0\" >Dummy Classifier</td>\n",
       "                        <td id=\"T_eaed4373_742b_11ec_b1b7_b46bfc7acf46row14_col1\" class=\"data row14 col1\" >0.4786</td>\n",
       "                        <td id=\"T_eaed4373_742b_11ec_b1b7_b46bfc7acf46row14_col2\" class=\"data row14 col2\" >0.5000</td>\n",
       "                        <td id=\"T_eaed4373_742b_11ec_b1b7_b46bfc7acf46row14_col3\" class=\"data row14 col3\" >0.8000</td>\n",
       "                        <td id=\"T_eaed4373_742b_11ec_b1b7_b46bfc7acf46row14_col4\" class=\"data row14 col4\" >0.3929</td>\n",
       "                        <td id=\"T_eaed4373_742b_11ec_b1b7_b46bfc7acf46row14_col5\" class=\"data row14 col5\" >0.5267</td>\n",
       "                        <td id=\"T_eaed4373_742b_11ec_b1b7_b46bfc7acf46row14_col6\" class=\"data row14 col6\" >0.0000</td>\n",
       "                        <td id=\"T_eaed4373_742b_11ec_b1b7_b46bfc7acf46row14_col7\" class=\"data row14 col7\" >0.0000</td>\n",
       "                        <td id=\"T_eaed4373_742b_11ec_b1b7_b46bfc7acf46row14_col8\" class=\"data row14 col8\" >0.0070</td>\n",
       "            </tr>\n",
       "    </tbody></table>"
      ],
      "text/plain": [
       "<pandas.io.formats.style.Styler at 0x156d1c84a60>"
      ]
     },
     "metadata": {},
     "output_type": "display_data"
    },
    {
     "data": {
      "text/plain": [
       "RandomForestClassifier(bootstrap=True, ccp_alpha=0.0, class_weight=None,\n",
       "                       criterion='gini', max_depth=None, max_features='auto',\n",
       "                       max_leaf_nodes=None, max_samples=None,\n",
       "                       min_impurity_decrease=0.0, min_impurity_split=None,\n",
       "                       min_samples_leaf=1, min_samples_split=2,\n",
       "                       min_weight_fraction_leaf=0.0, n_estimators=100,\n",
       "                       n_jobs=-1, oob_score=False, random_state=7669, verbose=0,\n",
       "                       warm_start=False)"
      ]
     },
     "execution_count": 39,
     "metadata": {},
     "output_type": "execute_result"
    }
   ],
   "source": [
    "get_best_model(df1)"
   ]
  },
  {
   "cell_type": "code",
   "execution_count": 40,
   "metadata": {
    "scrolled": false
   },
   "outputs": [
    {
     "data": {
      "text/html": [
       "<style  type=\"text/css\" >\n",
       "    #T_f1f4e50f_742b_11ec_9384_b46bfc7acf46 th {\n",
       "          text-align: left;\n",
       "    }#T_f1f4e50f_742b_11ec_9384_b46bfc7acf46row0_col0,#T_f1f4e50f_742b_11ec_9384_b46bfc7acf46row0_col3,#T_f1f4e50f_742b_11ec_9384_b46bfc7acf46row1_col0,#T_f1f4e50f_742b_11ec_9384_b46bfc7acf46row1_col3,#T_f1f4e50f_742b_11ec_9384_b46bfc7acf46row2_col0,#T_f1f4e50f_742b_11ec_9384_b46bfc7acf46row2_col1,#T_f1f4e50f_742b_11ec_9384_b46bfc7acf46row2_col2,#T_f1f4e50f_742b_11ec_9384_b46bfc7acf46row2_col3,#T_f1f4e50f_742b_11ec_9384_b46bfc7acf46row2_col4,#T_f1f4e50f_742b_11ec_9384_b46bfc7acf46row2_col5,#T_f1f4e50f_742b_11ec_9384_b46bfc7acf46row2_col6,#T_f1f4e50f_742b_11ec_9384_b46bfc7acf46row2_col7,#T_f1f4e50f_742b_11ec_9384_b46bfc7acf46row3_col0,#T_f1f4e50f_742b_11ec_9384_b46bfc7acf46row3_col1,#T_f1f4e50f_742b_11ec_9384_b46bfc7acf46row3_col2,#T_f1f4e50f_742b_11ec_9384_b46bfc7acf46row3_col3,#T_f1f4e50f_742b_11ec_9384_b46bfc7acf46row3_col4,#T_f1f4e50f_742b_11ec_9384_b46bfc7acf46row3_col5,#T_f1f4e50f_742b_11ec_9384_b46bfc7acf46row3_col6,#T_f1f4e50f_742b_11ec_9384_b46bfc7acf46row3_col7,#T_f1f4e50f_742b_11ec_9384_b46bfc7acf46row4_col0,#T_f1f4e50f_742b_11ec_9384_b46bfc7acf46row4_col1,#T_f1f4e50f_742b_11ec_9384_b46bfc7acf46row4_col2,#T_f1f4e50f_742b_11ec_9384_b46bfc7acf46row4_col3,#T_f1f4e50f_742b_11ec_9384_b46bfc7acf46row4_col4,#T_f1f4e50f_742b_11ec_9384_b46bfc7acf46row4_col5,#T_f1f4e50f_742b_11ec_9384_b46bfc7acf46row4_col6,#T_f1f4e50f_742b_11ec_9384_b46bfc7acf46row4_col7,#T_f1f4e50f_742b_11ec_9384_b46bfc7acf46row5_col0,#T_f1f4e50f_742b_11ec_9384_b46bfc7acf46row5_col1,#T_f1f4e50f_742b_11ec_9384_b46bfc7acf46row5_col2,#T_f1f4e50f_742b_11ec_9384_b46bfc7acf46row5_col3,#T_f1f4e50f_742b_11ec_9384_b46bfc7acf46row5_col4,#T_f1f4e50f_742b_11ec_9384_b46bfc7acf46row5_col5,#T_f1f4e50f_742b_11ec_9384_b46bfc7acf46row5_col6,#T_f1f4e50f_742b_11ec_9384_b46bfc7acf46row5_col7,#T_f1f4e50f_742b_11ec_9384_b46bfc7acf46row6_col0,#T_f1f4e50f_742b_11ec_9384_b46bfc7acf46row6_col1,#T_f1f4e50f_742b_11ec_9384_b46bfc7acf46row6_col2,#T_f1f4e50f_742b_11ec_9384_b46bfc7acf46row6_col3,#T_f1f4e50f_742b_11ec_9384_b46bfc7acf46row6_col4,#T_f1f4e50f_742b_11ec_9384_b46bfc7acf46row6_col5,#T_f1f4e50f_742b_11ec_9384_b46bfc7acf46row6_col6,#T_f1f4e50f_742b_11ec_9384_b46bfc7acf46row6_col7,#T_f1f4e50f_742b_11ec_9384_b46bfc7acf46row7_col0,#T_f1f4e50f_742b_11ec_9384_b46bfc7acf46row7_col1,#T_f1f4e50f_742b_11ec_9384_b46bfc7acf46row7_col2,#T_f1f4e50f_742b_11ec_9384_b46bfc7acf46row7_col3,#T_f1f4e50f_742b_11ec_9384_b46bfc7acf46row7_col4,#T_f1f4e50f_742b_11ec_9384_b46bfc7acf46row7_col5,#T_f1f4e50f_742b_11ec_9384_b46bfc7acf46row7_col6,#T_f1f4e50f_742b_11ec_9384_b46bfc7acf46row7_col7,#T_f1f4e50f_742b_11ec_9384_b46bfc7acf46row8_col0,#T_f1f4e50f_742b_11ec_9384_b46bfc7acf46row8_col1,#T_f1f4e50f_742b_11ec_9384_b46bfc7acf46row8_col2,#T_f1f4e50f_742b_11ec_9384_b46bfc7acf46row8_col3,#T_f1f4e50f_742b_11ec_9384_b46bfc7acf46row8_col4,#T_f1f4e50f_742b_11ec_9384_b46bfc7acf46row8_col5,#T_f1f4e50f_742b_11ec_9384_b46bfc7acf46row8_col6,#T_f1f4e50f_742b_11ec_9384_b46bfc7acf46row8_col7,#T_f1f4e50f_742b_11ec_9384_b46bfc7acf46row9_col0,#T_f1f4e50f_742b_11ec_9384_b46bfc7acf46row9_col1,#T_f1f4e50f_742b_11ec_9384_b46bfc7acf46row9_col2,#T_f1f4e50f_742b_11ec_9384_b46bfc7acf46row9_col3,#T_f1f4e50f_742b_11ec_9384_b46bfc7acf46row9_col4,#T_f1f4e50f_742b_11ec_9384_b46bfc7acf46row9_col5,#T_f1f4e50f_742b_11ec_9384_b46bfc7acf46row9_col6,#T_f1f4e50f_742b_11ec_9384_b46bfc7acf46row9_col7,#T_f1f4e50f_742b_11ec_9384_b46bfc7acf46row10_col0,#T_f1f4e50f_742b_11ec_9384_b46bfc7acf46row10_col1,#T_f1f4e50f_742b_11ec_9384_b46bfc7acf46row10_col2,#T_f1f4e50f_742b_11ec_9384_b46bfc7acf46row10_col3,#T_f1f4e50f_742b_11ec_9384_b46bfc7acf46row10_col4,#T_f1f4e50f_742b_11ec_9384_b46bfc7acf46row10_col5,#T_f1f4e50f_742b_11ec_9384_b46bfc7acf46row10_col6,#T_f1f4e50f_742b_11ec_9384_b46bfc7acf46row10_col7,#T_f1f4e50f_742b_11ec_9384_b46bfc7acf46row11_col0,#T_f1f4e50f_742b_11ec_9384_b46bfc7acf46row11_col1,#T_f1f4e50f_742b_11ec_9384_b46bfc7acf46row11_col2,#T_f1f4e50f_742b_11ec_9384_b46bfc7acf46row11_col3,#T_f1f4e50f_742b_11ec_9384_b46bfc7acf46row11_col4,#T_f1f4e50f_742b_11ec_9384_b46bfc7acf46row11_col5,#T_f1f4e50f_742b_11ec_9384_b46bfc7acf46row11_col6,#T_f1f4e50f_742b_11ec_9384_b46bfc7acf46row11_col7,#T_f1f4e50f_742b_11ec_9384_b46bfc7acf46row12_col0,#T_f1f4e50f_742b_11ec_9384_b46bfc7acf46row12_col1,#T_f1f4e50f_742b_11ec_9384_b46bfc7acf46row12_col2,#T_f1f4e50f_742b_11ec_9384_b46bfc7acf46row12_col4,#T_f1f4e50f_742b_11ec_9384_b46bfc7acf46row12_col5,#T_f1f4e50f_742b_11ec_9384_b46bfc7acf46row12_col6,#T_f1f4e50f_742b_11ec_9384_b46bfc7acf46row12_col7,#T_f1f4e50f_742b_11ec_9384_b46bfc7acf46row13_col0,#T_f1f4e50f_742b_11ec_9384_b46bfc7acf46row13_col1,#T_f1f4e50f_742b_11ec_9384_b46bfc7acf46row13_col2,#T_f1f4e50f_742b_11ec_9384_b46bfc7acf46row13_col3,#T_f1f4e50f_742b_11ec_9384_b46bfc7acf46row13_col4,#T_f1f4e50f_742b_11ec_9384_b46bfc7acf46row13_col5,#T_f1f4e50f_742b_11ec_9384_b46bfc7acf46row13_col6,#T_f1f4e50f_742b_11ec_9384_b46bfc7acf46row13_col7,#T_f1f4e50f_742b_11ec_9384_b46bfc7acf46row14_col0,#T_f1f4e50f_742b_11ec_9384_b46bfc7acf46row14_col1,#T_f1f4e50f_742b_11ec_9384_b46bfc7acf46row14_col2,#T_f1f4e50f_742b_11ec_9384_b46bfc7acf46row14_col3,#T_f1f4e50f_742b_11ec_9384_b46bfc7acf46row14_col4,#T_f1f4e50f_742b_11ec_9384_b46bfc7acf46row14_col5,#T_f1f4e50f_742b_11ec_9384_b46bfc7acf46row14_col6,#T_f1f4e50f_742b_11ec_9384_b46bfc7acf46row14_col7{\n",
       "            text-align:  left;\n",
       "            text-align:  left;\n",
       "        }#T_f1f4e50f_742b_11ec_9384_b46bfc7acf46row0_col1,#T_f1f4e50f_742b_11ec_9384_b46bfc7acf46row0_col2,#T_f1f4e50f_742b_11ec_9384_b46bfc7acf46row0_col4,#T_f1f4e50f_742b_11ec_9384_b46bfc7acf46row0_col5,#T_f1f4e50f_742b_11ec_9384_b46bfc7acf46row0_col6,#T_f1f4e50f_742b_11ec_9384_b46bfc7acf46row0_col7,#T_f1f4e50f_742b_11ec_9384_b46bfc7acf46row1_col1,#T_f1f4e50f_742b_11ec_9384_b46bfc7acf46row1_col2,#T_f1f4e50f_742b_11ec_9384_b46bfc7acf46row1_col4,#T_f1f4e50f_742b_11ec_9384_b46bfc7acf46row1_col5,#T_f1f4e50f_742b_11ec_9384_b46bfc7acf46row1_col6,#T_f1f4e50f_742b_11ec_9384_b46bfc7acf46row1_col7,#T_f1f4e50f_742b_11ec_9384_b46bfc7acf46row12_col3{\n",
       "            text-align:  left;\n",
       "            text-align:  left;\n",
       "            background-color:  yellow;\n",
       "        }#T_f1f4e50f_742b_11ec_9384_b46bfc7acf46row0_col8,#T_f1f4e50f_742b_11ec_9384_b46bfc7acf46row1_col8,#T_f1f4e50f_742b_11ec_9384_b46bfc7acf46row2_col8,#T_f1f4e50f_742b_11ec_9384_b46bfc7acf46row3_col8,#T_f1f4e50f_742b_11ec_9384_b46bfc7acf46row4_col8,#T_f1f4e50f_742b_11ec_9384_b46bfc7acf46row6_col8,#T_f1f4e50f_742b_11ec_9384_b46bfc7acf46row8_col8,#T_f1f4e50f_742b_11ec_9384_b46bfc7acf46row9_col8,#T_f1f4e50f_742b_11ec_9384_b46bfc7acf46row10_col8,#T_f1f4e50f_742b_11ec_9384_b46bfc7acf46row11_col8,#T_f1f4e50f_742b_11ec_9384_b46bfc7acf46row13_col8,#T_f1f4e50f_742b_11ec_9384_b46bfc7acf46row14_col8{\n",
       "            text-align:  left;\n",
       "            text-align:  left;\n",
       "            background-color:  lightgrey;\n",
       "        }#T_f1f4e50f_742b_11ec_9384_b46bfc7acf46row5_col8,#T_f1f4e50f_742b_11ec_9384_b46bfc7acf46row7_col8,#T_f1f4e50f_742b_11ec_9384_b46bfc7acf46row12_col8{\n",
       "            text-align:  left;\n",
       "            text-align:  left;\n",
       "            background-color:  yellow;\n",
       "            background-color:  lightgrey;\n",
       "        }</style><table id=\"T_f1f4e50f_742b_11ec_9384_b46bfc7acf46\" ><thead>    <tr>        <th class=\"blank level0\" ></th>        <th class=\"col_heading level0 col0\" >Model</th>        <th class=\"col_heading level0 col1\" >Accuracy</th>        <th class=\"col_heading level0 col2\" >AUC</th>        <th class=\"col_heading level0 col3\" >Recall</th>        <th class=\"col_heading level0 col4\" >Prec.</th>        <th class=\"col_heading level0 col5\" >F1</th>        <th class=\"col_heading level0 col6\" >Kappa</th>        <th class=\"col_heading level0 col7\" >MCC</th>        <th class=\"col_heading level0 col8\" >TT (Sec)</th>    </tr></thead><tbody>\n",
       "                <tr>\n",
       "                        <th id=\"T_f1f4e50f_742b_11ec_9384_b46bfc7acf46level0_row0\" class=\"row_heading level0 row0\" >rf</th>\n",
       "                        <td id=\"T_f1f4e50f_742b_11ec_9384_b46bfc7acf46row0_col0\" class=\"data row0 col0\" >Random Forest Classifier</td>\n",
       "                        <td id=\"T_f1f4e50f_742b_11ec_9384_b46bfc7acf46row0_col1\" class=\"data row0 col1\" >0.7881</td>\n",
       "                        <td id=\"T_f1f4e50f_742b_11ec_9384_b46bfc7acf46row0_col2\" class=\"data row0 col2\" >0.8833</td>\n",
       "                        <td id=\"T_f1f4e50f_742b_11ec_9384_b46bfc7acf46row0_col3\" class=\"data row0 col3\" >0.7750</td>\n",
       "                        <td id=\"T_f1f4e50f_742b_11ec_9384_b46bfc7acf46row0_col4\" class=\"data row0 col4\" >0.8417</td>\n",
       "                        <td id=\"T_f1f4e50f_742b_11ec_9384_b46bfc7acf46row0_col5\" class=\"data row0 col5\" >0.7702</td>\n",
       "                        <td id=\"T_f1f4e50f_742b_11ec_9384_b46bfc7acf46row0_col6\" class=\"data row0 col6\" >0.5750</td>\n",
       "                        <td id=\"T_f1f4e50f_742b_11ec_9384_b46bfc7acf46row0_col7\" class=\"data row0 col7\" >0.6059</td>\n",
       "                        <td id=\"T_f1f4e50f_742b_11ec_9384_b46bfc7acf46row0_col8\" class=\"data row0 col8\" >0.0920</td>\n",
       "            </tr>\n",
       "            <tr>\n",
       "                        <th id=\"T_f1f4e50f_742b_11ec_9384_b46bfc7acf46level0_row1\" class=\"row_heading level0 row1\" >catboost</th>\n",
       "                        <td id=\"T_f1f4e50f_742b_11ec_9384_b46bfc7acf46row1_col0\" class=\"data row1 col0\" >CatBoost Classifier</td>\n",
       "                        <td id=\"T_f1f4e50f_742b_11ec_9384_b46bfc7acf46row1_col1\" class=\"data row1 col1\" >0.7881</td>\n",
       "                        <td id=\"T_f1f4e50f_742b_11ec_9384_b46bfc7acf46row1_col2\" class=\"data row1 col2\" >0.8833</td>\n",
       "                        <td id=\"T_f1f4e50f_742b_11ec_9384_b46bfc7acf46row1_col3\" class=\"data row1 col3\" >0.7750</td>\n",
       "                        <td id=\"T_f1f4e50f_742b_11ec_9384_b46bfc7acf46row1_col4\" class=\"data row1 col4\" >0.8417</td>\n",
       "                        <td id=\"T_f1f4e50f_742b_11ec_9384_b46bfc7acf46row1_col5\" class=\"data row1 col5\" >0.7702</td>\n",
       "                        <td id=\"T_f1f4e50f_742b_11ec_9384_b46bfc7acf46row1_col6\" class=\"data row1 col6\" >0.5750</td>\n",
       "                        <td id=\"T_f1f4e50f_742b_11ec_9384_b46bfc7acf46row1_col7\" class=\"data row1 col7\" >0.6059</td>\n",
       "                        <td id=\"T_f1f4e50f_742b_11ec_9384_b46bfc7acf46row1_col8\" class=\"data row1 col8\" >0.2470</td>\n",
       "            </tr>\n",
       "            <tr>\n",
       "                        <th id=\"T_f1f4e50f_742b_11ec_9384_b46bfc7acf46level0_row2\" class=\"row_heading level0 row2\" >et</th>\n",
       "                        <td id=\"T_f1f4e50f_742b_11ec_9384_b46bfc7acf46row2_col0\" class=\"data row2 col0\" >Extra Trees Classifier</td>\n",
       "                        <td id=\"T_f1f4e50f_742b_11ec_9384_b46bfc7acf46row2_col1\" class=\"data row2 col1\" >0.7738</td>\n",
       "                        <td id=\"T_f1f4e50f_742b_11ec_9384_b46bfc7acf46row2_col2\" class=\"data row2 col2\" >0.8778</td>\n",
       "                        <td id=\"T_f1f4e50f_742b_11ec_9384_b46bfc7acf46row2_col3\" class=\"data row2 col3\" >0.7750</td>\n",
       "                        <td id=\"T_f1f4e50f_742b_11ec_9384_b46bfc7acf46row2_col4\" class=\"data row2 col4\" >0.8267</td>\n",
       "                        <td id=\"T_f1f4e50f_742b_11ec_9384_b46bfc7acf46row2_col5\" class=\"data row2 col5\" >0.7560</td>\n",
       "                        <td id=\"T_f1f4e50f_742b_11ec_9384_b46bfc7acf46row2_col6\" class=\"data row2 col6\" >0.5515</td>\n",
       "                        <td id=\"T_f1f4e50f_742b_11ec_9384_b46bfc7acf46row2_col7\" class=\"data row2 col7\" >0.5940</td>\n",
       "                        <td id=\"T_f1f4e50f_742b_11ec_9384_b46bfc7acf46row2_col8\" class=\"data row2 col8\" >0.0860</td>\n",
       "            </tr>\n",
       "            <tr>\n",
       "                        <th id=\"T_f1f4e50f_742b_11ec_9384_b46bfc7acf46level0_row3\" class=\"row_heading level0 row3\" >gbc</th>\n",
       "                        <td id=\"T_f1f4e50f_742b_11ec_9384_b46bfc7acf46row3_col0\" class=\"data row3 col0\" >Gradient Boosting Classifier</td>\n",
       "                        <td id=\"T_f1f4e50f_742b_11ec_9384_b46bfc7acf46row3_col1\" class=\"data row3 col1\" >0.7714</td>\n",
       "                        <td id=\"T_f1f4e50f_742b_11ec_9384_b46bfc7acf46row3_col2\" class=\"data row3 col2\" >0.8222</td>\n",
       "                        <td id=\"T_f1f4e50f_742b_11ec_9384_b46bfc7acf46row3_col3\" class=\"data row3 col3\" >0.7750</td>\n",
       "                        <td id=\"T_f1f4e50f_742b_11ec_9384_b46bfc7acf46row3_col4\" class=\"data row3 col4\" >0.8267</td>\n",
       "                        <td id=\"T_f1f4e50f_742b_11ec_9384_b46bfc7acf46row3_col5\" class=\"data row3 col5\" >0.7560</td>\n",
       "                        <td id=\"T_f1f4e50f_742b_11ec_9384_b46bfc7acf46row3_col6\" class=\"data row3 col6\" >0.5440</td>\n",
       "                        <td id=\"T_f1f4e50f_742b_11ec_9384_b46bfc7acf46row3_col7\" class=\"data row3 col7\" >0.5882</td>\n",
       "                        <td id=\"T_f1f4e50f_742b_11ec_9384_b46bfc7acf46row3_col8\" class=\"data row3 col8\" >0.0320</td>\n",
       "            </tr>\n",
       "            <tr>\n",
       "                        <th id=\"T_f1f4e50f_742b_11ec_9384_b46bfc7acf46level0_row4\" class=\"row_heading level0 row4\" >lr</th>\n",
       "                        <td id=\"T_f1f4e50f_742b_11ec_9384_b46bfc7acf46row4_col0\" class=\"data row4 col0\" >Logistic Regression</td>\n",
       "                        <td id=\"T_f1f4e50f_742b_11ec_9384_b46bfc7acf46row4_col1\" class=\"data row4 col1\" >0.7429</td>\n",
       "                        <td id=\"T_f1f4e50f_742b_11ec_9384_b46bfc7acf46row4_col2\" class=\"data row4 col2\" >0.8028</td>\n",
       "                        <td id=\"T_f1f4e50f_742b_11ec_9384_b46bfc7acf46row4_col3\" class=\"data row4 col3\" >0.7750</td>\n",
       "                        <td id=\"T_f1f4e50f_742b_11ec_9384_b46bfc7acf46row4_col4\" class=\"data row4 col4\" >0.7867</td>\n",
       "                        <td id=\"T_f1f4e50f_742b_11ec_9384_b46bfc7acf46row4_col5\" class=\"data row4 col5\" >0.7469</td>\n",
       "                        <td id=\"T_f1f4e50f_742b_11ec_9384_b46bfc7acf46row4_col6\" class=\"data row4 col6\" >0.4783</td>\n",
       "                        <td id=\"T_f1f4e50f_742b_11ec_9384_b46bfc7acf46row4_col7\" class=\"data row4 col7\" >0.5171</td>\n",
       "                        <td id=\"T_f1f4e50f_742b_11ec_9384_b46bfc7acf46row4_col8\" class=\"data row4 col8\" >0.0080</td>\n",
       "            </tr>\n",
       "            <tr>\n",
       "                        <th id=\"T_f1f4e50f_742b_11ec_9384_b46bfc7acf46level0_row5\" class=\"row_heading level0 row5\" >dt</th>\n",
       "                        <td id=\"T_f1f4e50f_742b_11ec_9384_b46bfc7acf46row5_col0\" class=\"data row5 col0\" >Decision Tree Classifier</td>\n",
       "                        <td id=\"T_f1f4e50f_742b_11ec_9384_b46bfc7acf46row5_col1\" class=\"data row5 col1\" >0.7405</td>\n",
       "                        <td id=\"T_f1f4e50f_742b_11ec_9384_b46bfc7acf46row5_col2\" class=\"data row5 col2\" >0.7625</td>\n",
       "                        <td id=\"T_f1f4e50f_742b_11ec_9384_b46bfc7acf46row5_col3\" class=\"data row5 col3\" >0.7750</td>\n",
       "                        <td id=\"T_f1f4e50f_742b_11ec_9384_b46bfc7acf46row5_col4\" class=\"data row5 col4\" >0.7967</td>\n",
       "                        <td id=\"T_f1f4e50f_742b_11ec_9384_b46bfc7acf46row5_col5\" class=\"data row5 col5\" >0.7345</td>\n",
       "                        <td id=\"T_f1f4e50f_742b_11ec_9384_b46bfc7acf46row5_col6\" class=\"data row5 col6\" >0.4848</td>\n",
       "                        <td id=\"T_f1f4e50f_742b_11ec_9384_b46bfc7acf46row5_col7\" class=\"data row5 col7\" >0.5420</td>\n",
       "                        <td id=\"T_f1f4e50f_742b_11ec_9384_b46bfc7acf46row5_col8\" class=\"data row5 col8\" >0.0050</td>\n",
       "            </tr>\n",
       "            <tr>\n",
       "                        <th id=\"T_f1f4e50f_742b_11ec_9384_b46bfc7acf46level0_row6\" class=\"row_heading level0 row6\" >ridge</th>\n",
       "                        <td id=\"T_f1f4e50f_742b_11ec_9384_b46bfc7acf46row6_col0\" class=\"data row6 col0\" >Ridge Classifier</td>\n",
       "                        <td id=\"T_f1f4e50f_742b_11ec_9384_b46bfc7acf46row6_col1\" class=\"data row6 col1\" >0.6762</td>\n",
       "                        <td id=\"T_f1f4e50f_742b_11ec_9384_b46bfc7acf46row6_col2\" class=\"data row6 col2\" >0.0000</td>\n",
       "                        <td id=\"T_f1f4e50f_742b_11ec_9384_b46bfc7acf46row6_col3\" class=\"data row6 col3\" >0.7417</td>\n",
       "                        <td id=\"T_f1f4e50f_742b_11ec_9384_b46bfc7acf46row6_col4\" class=\"data row6 col4\" >0.7183</td>\n",
       "                        <td id=\"T_f1f4e50f_742b_11ec_9384_b46bfc7acf46row6_col5\" class=\"data row6 col5\" >0.6979</td>\n",
       "                        <td id=\"T_f1f4e50f_742b_11ec_9384_b46bfc7acf46row6_col6\" class=\"data row6 col6\" >0.3449</td>\n",
       "                        <td id=\"T_f1f4e50f_742b_11ec_9384_b46bfc7acf46row6_col7\" class=\"data row6 col7\" >0.3643</td>\n",
       "                        <td id=\"T_f1f4e50f_742b_11ec_9384_b46bfc7acf46row6_col8\" class=\"data row6 col8\" >0.0060</td>\n",
       "            </tr>\n",
       "            <tr>\n",
       "                        <th id=\"T_f1f4e50f_742b_11ec_9384_b46bfc7acf46level0_row7\" class=\"row_heading level0 row7\" >lda</th>\n",
       "                        <td id=\"T_f1f4e50f_742b_11ec_9384_b46bfc7acf46row7_col0\" class=\"data row7 col0\" >Linear Discriminant Analysis</td>\n",
       "                        <td id=\"T_f1f4e50f_742b_11ec_9384_b46bfc7acf46row7_col1\" class=\"data row7 col1\" >0.6762</td>\n",
       "                        <td id=\"T_f1f4e50f_742b_11ec_9384_b46bfc7acf46row7_col2\" class=\"data row7 col2\" >0.7306</td>\n",
       "                        <td id=\"T_f1f4e50f_742b_11ec_9384_b46bfc7acf46row7_col3\" class=\"data row7 col3\" >0.7417</td>\n",
       "                        <td id=\"T_f1f4e50f_742b_11ec_9384_b46bfc7acf46row7_col4\" class=\"data row7 col4\" >0.7183</td>\n",
       "                        <td id=\"T_f1f4e50f_742b_11ec_9384_b46bfc7acf46row7_col5\" class=\"data row7 col5\" >0.6979</td>\n",
       "                        <td id=\"T_f1f4e50f_742b_11ec_9384_b46bfc7acf46row7_col6\" class=\"data row7 col6\" >0.3449</td>\n",
       "                        <td id=\"T_f1f4e50f_742b_11ec_9384_b46bfc7acf46row7_col7\" class=\"data row7 col7\" >0.3643</td>\n",
       "                        <td id=\"T_f1f4e50f_742b_11ec_9384_b46bfc7acf46row7_col8\" class=\"data row7 col8\" >0.0050</td>\n",
       "            </tr>\n",
       "            <tr>\n",
       "                        <th id=\"T_f1f4e50f_742b_11ec_9384_b46bfc7acf46level0_row8\" class=\"row_heading level0 row8\" >knn</th>\n",
       "                        <td id=\"T_f1f4e50f_742b_11ec_9384_b46bfc7acf46row8_col0\" class=\"data row8 col0\" >K Neighbors Classifier</td>\n",
       "                        <td id=\"T_f1f4e50f_742b_11ec_9384_b46bfc7acf46row8_col1\" class=\"data row8 col1\" >0.6643</td>\n",
       "                        <td id=\"T_f1f4e50f_742b_11ec_9384_b46bfc7acf46row8_col2\" class=\"data row8 col2\" >0.8208</td>\n",
       "                        <td id=\"T_f1f4e50f_742b_11ec_9384_b46bfc7acf46row8_col3\" class=\"data row8 col3\" >0.7667</td>\n",
       "                        <td id=\"T_f1f4e50f_742b_11ec_9384_b46bfc7acf46row8_col4\" class=\"data row8 col4\" >0.6450</td>\n",
       "                        <td id=\"T_f1f4e50f_742b_11ec_9384_b46bfc7acf46row8_col5\" class=\"data row8 col5\" >0.6833</td>\n",
       "                        <td id=\"T_f1f4e50f_742b_11ec_9384_b46bfc7acf46row8_col6\" class=\"data row8 col6\" >0.3244</td>\n",
       "                        <td id=\"T_f1f4e50f_742b_11ec_9384_b46bfc7acf46row8_col7\" class=\"data row8 col7\" >0.3656</td>\n",
       "                        <td id=\"T_f1f4e50f_742b_11ec_9384_b46bfc7acf46row8_col8\" class=\"data row8 col8\" >0.0130</td>\n",
       "            </tr>\n",
       "            <tr>\n",
       "                        <th id=\"T_f1f4e50f_742b_11ec_9384_b46bfc7acf46level0_row9\" class=\"row_heading level0 row9\" >ada</th>\n",
       "                        <td id=\"T_f1f4e50f_742b_11ec_9384_b46bfc7acf46row9_col0\" class=\"data row9 col0\" >Ada Boost Classifier</td>\n",
       "                        <td id=\"T_f1f4e50f_742b_11ec_9384_b46bfc7acf46row9_col1\" class=\"data row9 col1\" >0.6619</td>\n",
       "                        <td id=\"T_f1f4e50f_742b_11ec_9384_b46bfc7acf46row9_col2\" class=\"data row9 col2\" >0.7083</td>\n",
       "                        <td id=\"T_f1f4e50f_742b_11ec_9384_b46bfc7acf46row9_col3\" class=\"data row9 col3\" >0.7083</td>\n",
       "                        <td id=\"T_f1f4e50f_742b_11ec_9384_b46bfc7acf46row9_col4\" class=\"data row9 col4\" >0.6783</td>\n",
       "                        <td id=\"T_f1f4e50f_742b_11ec_9384_b46bfc7acf46row9_col5\" class=\"data row9 col5\" >0.6650</td>\n",
       "                        <td id=\"T_f1f4e50f_742b_11ec_9384_b46bfc7acf46row9_col6\" class=\"data row9 col6\" >0.3170</td>\n",
       "                        <td id=\"T_f1f4e50f_742b_11ec_9384_b46bfc7acf46row9_col7\" class=\"data row9 col7\" >0.3443</td>\n",
       "                        <td id=\"T_f1f4e50f_742b_11ec_9384_b46bfc7acf46row9_col8\" class=\"data row9 col8\" >0.0330</td>\n",
       "            </tr>\n",
       "            <tr>\n",
       "                        <th id=\"T_f1f4e50f_742b_11ec_9384_b46bfc7acf46level0_row10\" class=\"row_heading level0 row10\" >lightgbm</th>\n",
       "                        <td id=\"T_f1f4e50f_742b_11ec_9384_b46bfc7acf46row10_col0\" class=\"data row10 col0\" >Light Gradient Boosting Machine</td>\n",
       "                        <td id=\"T_f1f4e50f_742b_11ec_9384_b46bfc7acf46row10_col1\" class=\"data row10 col1\" >0.6548</td>\n",
       "                        <td id=\"T_f1f4e50f_742b_11ec_9384_b46bfc7acf46row10_col2\" class=\"data row10 col2\" >0.6403</td>\n",
       "                        <td id=\"T_f1f4e50f_742b_11ec_9384_b46bfc7acf46row10_col3\" class=\"data row10 col3\" >0.6417</td>\n",
       "                        <td id=\"T_f1f4e50f_742b_11ec_9384_b46bfc7acf46row10_col4\" class=\"data row10 col4\" >0.6283</td>\n",
       "                        <td id=\"T_f1f4e50f_742b_11ec_9384_b46bfc7acf46row10_col5\" class=\"data row10 col5\" >0.6179</td>\n",
       "                        <td id=\"T_f1f4e50f_742b_11ec_9384_b46bfc7acf46row10_col6\" class=\"data row10 col6\" >0.2942</td>\n",
       "                        <td id=\"T_f1f4e50f_742b_11ec_9384_b46bfc7acf46row10_col7\" class=\"data row10 col7\" >0.3073</td>\n",
       "                        <td id=\"T_f1f4e50f_742b_11ec_9384_b46bfc7acf46row10_col8\" class=\"data row10 col8\" >0.0090</td>\n",
       "            </tr>\n",
       "            <tr>\n",
       "                        <th id=\"T_f1f4e50f_742b_11ec_9384_b46bfc7acf46level0_row11\" class=\"row_heading level0 row11\" >svm</th>\n",
       "                        <td id=\"T_f1f4e50f_742b_11ec_9384_b46bfc7acf46row11_col0\" class=\"data row11 col0\" >SVM - Linear Kernel</td>\n",
       "                        <td id=\"T_f1f4e50f_742b_11ec_9384_b46bfc7acf46row11_col1\" class=\"data row11 col1\" >0.6476</td>\n",
       "                        <td id=\"T_f1f4e50f_742b_11ec_9384_b46bfc7acf46row11_col2\" class=\"data row11 col2\" >0.0000</td>\n",
       "                        <td id=\"T_f1f4e50f_742b_11ec_9384_b46bfc7acf46row11_col3\" class=\"data row11 col3\" >0.7750</td>\n",
       "                        <td id=\"T_f1f4e50f_742b_11ec_9384_b46bfc7acf46row11_col4\" class=\"data row11 col4\" >0.6550</td>\n",
       "                        <td id=\"T_f1f4e50f_742b_11ec_9384_b46bfc7acf46row11_col5\" class=\"data row11 col5\" >0.6774</td>\n",
       "                        <td id=\"T_f1f4e50f_742b_11ec_9384_b46bfc7acf46row11_col6\" class=\"data row11 col6\" >0.2890</td>\n",
       "                        <td id=\"T_f1f4e50f_742b_11ec_9384_b46bfc7acf46row11_col7\" class=\"data row11 col7\" >0.3266</td>\n",
       "                        <td id=\"T_f1f4e50f_742b_11ec_9384_b46bfc7acf46row11_col8\" class=\"data row11 col8\" >0.0100</td>\n",
       "            </tr>\n",
       "            <tr>\n",
       "                        <th id=\"T_f1f4e50f_742b_11ec_9384_b46bfc7acf46level0_row12\" class=\"row_heading level0 row12\" >nb</th>\n",
       "                        <td id=\"T_f1f4e50f_742b_11ec_9384_b46bfc7acf46row12_col0\" class=\"data row12 col0\" >Naive Bayes</td>\n",
       "                        <td id=\"T_f1f4e50f_742b_11ec_9384_b46bfc7acf46row12_col1\" class=\"data row12 col1\" >0.5381</td>\n",
       "                        <td id=\"T_f1f4e50f_742b_11ec_9384_b46bfc7acf46row12_col2\" class=\"data row12 col2\" >0.6542</td>\n",
       "                        <td id=\"T_f1f4e50f_742b_11ec_9384_b46bfc7acf46row12_col3\" class=\"data row12 col3\" >0.9083</td>\n",
       "                        <td id=\"T_f1f4e50f_742b_11ec_9384_b46bfc7acf46row12_col4\" class=\"data row12 col4\" >0.5200</td>\n",
       "                        <td id=\"T_f1f4e50f_742b_11ec_9384_b46bfc7acf46row12_col5\" class=\"data row12 col5\" >0.6560</td>\n",
       "                        <td id=\"T_f1f4e50f_742b_11ec_9384_b46bfc7acf46row12_col6\" class=\"data row12 col6\" >0.0865</td>\n",
       "                        <td id=\"T_f1f4e50f_742b_11ec_9384_b46bfc7acf46row12_col7\" class=\"data row12 col7\" >0.1246</td>\n",
       "                        <td id=\"T_f1f4e50f_742b_11ec_9384_b46bfc7acf46row12_col8\" class=\"data row12 col8\" >0.0050</td>\n",
       "            </tr>\n",
       "            <tr>\n",
       "                        <th id=\"T_f1f4e50f_742b_11ec_9384_b46bfc7acf46level0_row13\" class=\"row_heading level0 row13\" >qda</th>\n",
       "                        <td id=\"T_f1f4e50f_742b_11ec_9384_b46bfc7acf46row13_col0\" class=\"data row13 col0\" >Quadratic Discriminant Analysis</td>\n",
       "                        <td id=\"T_f1f4e50f_742b_11ec_9384_b46bfc7acf46row13_col1\" class=\"data row13 col1\" >0.5071</td>\n",
       "                        <td id=\"T_f1f4e50f_742b_11ec_9384_b46bfc7acf46row13_col2\" class=\"data row13 col2\" >0.0000</td>\n",
       "                        <td id=\"T_f1f4e50f_742b_11ec_9384_b46bfc7acf46row13_col3\" class=\"data row13 col3\" >0.9000</td>\n",
       "                        <td id=\"T_f1f4e50f_742b_11ec_9384_b46bfc7acf46row13_col4\" class=\"data row13 col4\" >0.4500</td>\n",
       "                        <td id=\"T_f1f4e50f_742b_11ec_9384_b46bfc7acf46row13_col5\" class=\"data row13 col5\" >0.5994</td>\n",
       "                        <td id=\"T_f1f4e50f_742b_11ec_9384_b46bfc7acf46row13_col6\" class=\"data row13 col6\" >0.0000</td>\n",
       "                        <td id=\"T_f1f4e50f_742b_11ec_9384_b46bfc7acf46row13_col7\" class=\"data row13 col7\" >0.0000</td>\n",
       "                        <td id=\"T_f1f4e50f_742b_11ec_9384_b46bfc7acf46row13_col8\" class=\"data row13 col8\" >0.0080</td>\n",
       "            </tr>\n",
       "            <tr>\n",
       "                        <th id=\"T_f1f4e50f_742b_11ec_9384_b46bfc7acf46level0_row14\" class=\"row_heading level0 row14\" >dummy</th>\n",
       "                        <td id=\"T_f1f4e50f_742b_11ec_9384_b46bfc7acf46row14_col0\" class=\"data row14 col0\" >Dummy Classifier</td>\n",
       "                        <td id=\"T_f1f4e50f_742b_11ec_9384_b46bfc7acf46row14_col1\" class=\"data row14 col1\" >0.5071</td>\n",
       "                        <td id=\"T_f1f4e50f_742b_11ec_9384_b46bfc7acf46row14_col2\" class=\"data row14 col2\" >0.5000</td>\n",
       "                        <td id=\"T_f1f4e50f_742b_11ec_9384_b46bfc7acf46row14_col3\" class=\"data row14 col3\" >0.0000</td>\n",
       "                        <td id=\"T_f1f4e50f_742b_11ec_9384_b46bfc7acf46row14_col4\" class=\"data row14 col4\" >0.0000</td>\n",
       "                        <td id=\"T_f1f4e50f_742b_11ec_9384_b46bfc7acf46row14_col5\" class=\"data row14 col5\" >0.0000</td>\n",
       "                        <td id=\"T_f1f4e50f_742b_11ec_9384_b46bfc7acf46row14_col6\" class=\"data row14 col6\" >0.0000</td>\n",
       "                        <td id=\"T_f1f4e50f_742b_11ec_9384_b46bfc7acf46row14_col7\" class=\"data row14 col7\" >0.0000</td>\n",
       "                        <td id=\"T_f1f4e50f_742b_11ec_9384_b46bfc7acf46row14_col8\" class=\"data row14 col8\" >0.0070</td>\n",
       "            </tr>\n",
       "    </tbody></table>"
      ],
      "text/plain": [
       "<pandas.io.formats.style.Styler at 0x156ac5d71f0>"
      ]
     },
     "metadata": {},
     "output_type": "display_data"
    },
    {
     "data": {
      "text/plain": [
       "RandomForestClassifier(bootstrap=True, ccp_alpha=0.0, class_weight=None,\n",
       "                       criterion='gini', max_depth=None, max_features='auto',\n",
       "                       max_leaf_nodes=None, max_samples=None,\n",
       "                       min_impurity_decrease=0.0, min_impurity_split=None,\n",
       "                       min_samples_leaf=1, min_samples_split=2,\n",
       "                       min_weight_fraction_leaf=0.0, n_estimators=100,\n",
       "                       n_jobs=-1, oob_score=False, random_state=3979, verbose=0,\n",
       "                       warm_start=False)"
      ]
     },
     "execution_count": 40,
     "metadata": {},
     "output_type": "execute_result"
    }
   ],
   "source": [
    "get_best_model(df2)"
   ]
  },
  {
   "cell_type": "code",
   "execution_count": 41,
   "metadata": {
    "scrolled": false
   },
   "outputs": [
    {
     "data": {
      "text/html": [
       "<style  type=\"text/css\" >\n",
       "    #T_f937f60a_742b_11ec_bf49_b46bfc7acf46 th {\n",
       "          text-align: left;\n",
       "    }#T_f937f60a_742b_11ec_bf49_b46bfc7acf46row0_col0,#T_f937f60a_742b_11ec_bf49_b46bfc7acf46row0_col2,#T_f937f60a_742b_11ec_bf49_b46bfc7acf46row0_col3,#T_f937f60a_742b_11ec_bf49_b46bfc7acf46row0_col5,#T_f937f60a_742b_11ec_bf49_b46bfc7acf46row0_col7,#T_f937f60a_742b_11ec_bf49_b46bfc7acf46row1_col0,#T_f937f60a_742b_11ec_bf49_b46bfc7acf46row1_col1,#T_f937f60a_742b_11ec_bf49_b46bfc7acf46row1_col3,#T_f937f60a_742b_11ec_bf49_b46bfc7acf46row1_col4,#T_f937f60a_742b_11ec_bf49_b46bfc7acf46row1_col6,#T_f937f60a_742b_11ec_bf49_b46bfc7acf46row2_col0,#T_f937f60a_742b_11ec_bf49_b46bfc7acf46row2_col1,#T_f937f60a_742b_11ec_bf49_b46bfc7acf46row2_col2,#T_f937f60a_742b_11ec_bf49_b46bfc7acf46row2_col3,#T_f937f60a_742b_11ec_bf49_b46bfc7acf46row2_col4,#T_f937f60a_742b_11ec_bf49_b46bfc7acf46row2_col5,#T_f937f60a_742b_11ec_bf49_b46bfc7acf46row2_col6,#T_f937f60a_742b_11ec_bf49_b46bfc7acf46row2_col7,#T_f937f60a_742b_11ec_bf49_b46bfc7acf46row3_col0,#T_f937f60a_742b_11ec_bf49_b46bfc7acf46row3_col1,#T_f937f60a_742b_11ec_bf49_b46bfc7acf46row3_col2,#T_f937f60a_742b_11ec_bf49_b46bfc7acf46row3_col3,#T_f937f60a_742b_11ec_bf49_b46bfc7acf46row3_col5,#T_f937f60a_742b_11ec_bf49_b46bfc7acf46row3_col6,#T_f937f60a_742b_11ec_bf49_b46bfc7acf46row3_col7,#T_f937f60a_742b_11ec_bf49_b46bfc7acf46row4_col0,#T_f937f60a_742b_11ec_bf49_b46bfc7acf46row4_col1,#T_f937f60a_742b_11ec_bf49_b46bfc7acf46row4_col2,#T_f937f60a_742b_11ec_bf49_b46bfc7acf46row4_col3,#T_f937f60a_742b_11ec_bf49_b46bfc7acf46row4_col4,#T_f937f60a_742b_11ec_bf49_b46bfc7acf46row4_col5,#T_f937f60a_742b_11ec_bf49_b46bfc7acf46row4_col6,#T_f937f60a_742b_11ec_bf49_b46bfc7acf46row4_col7,#T_f937f60a_742b_11ec_bf49_b46bfc7acf46row5_col0,#T_f937f60a_742b_11ec_bf49_b46bfc7acf46row5_col1,#T_f937f60a_742b_11ec_bf49_b46bfc7acf46row5_col2,#T_f937f60a_742b_11ec_bf49_b46bfc7acf46row5_col3,#T_f937f60a_742b_11ec_bf49_b46bfc7acf46row5_col4,#T_f937f60a_742b_11ec_bf49_b46bfc7acf46row5_col5,#T_f937f60a_742b_11ec_bf49_b46bfc7acf46row5_col6,#T_f937f60a_742b_11ec_bf49_b46bfc7acf46row5_col7,#T_f937f60a_742b_11ec_bf49_b46bfc7acf46row6_col0,#T_f937f60a_742b_11ec_bf49_b46bfc7acf46row6_col1,#T_f937f60a_742b_11ec_bf49_b46bfc7acf46row6_col2,#T_f937f60a_742b_11ec_bf49_b46bfc7acf46row6_col3,#T_f937f60a_742b_11ec_bf49_b46bfc7acf46row6_col4,#T_f937f60a_742b_11ec_bf49_b46bfc7acf46row6_col5,#T_f937f60a_742b_11ec_bf49_b46bfc7acf46row6_col6,#T_f937f60a_742b_11ec_bf49_b46bfc7acf46row6_col7,#T_f937f60a_742b_11ec_bf49_b46bfc7acf46row7_col0,#T_f937f60a_742b_11ec_bf49_b46bfc7acf46row7_col1,#T_f937f60a_742b_11ec_bf49_b46bfc7acf46row7_col2,#T_f937f60a_742b_11ec_bf49_b46bfc7acf46row7_col3,#T_f937f60a_742b_11ec_bf49_b46bfc7acf46row7_col4,#T_f937f60a_742b_11ec_bf49_b46bfc7acf46row7_col5,#T_f937f60a_742b_11ec_bf49_b46bfc7acf46row7_col6,#T_f937f60a_742b_11ec_bf49_b46bfc7acf46row7_col7,#T_f937f60a_742b_11ec_bf49_b46bfc7acf46row8_col0,#T_f937f60a_742b_11ec_bf49_b46bfc7acf46row8_col1,#T_f937f60a_742b_11ec_bf49_b46bfc7acf46row8_col2,#T_f937f60a_742b_11ec_bf49_b46bfc7acf46row8_col3,#T_f937f60a_742b_11ec_bf49_b46bfc7acf46row8_col4,#T_f937f60a_742b_11ec_bf49_b46bfc7acf46row8_col5,#T_f937f60a_742b_11ec_bf49_b46bfc7acf46row8_col6,#T_f937f60a_742b_11ec_bf49_b46bfc7acf46row8_col7,#T_f937f60a_742b_11ec_bf49_b46bfc7acf46row9_col0,#T_f937f60a_742b_11ec_bf49_b46bfc7acf46row9_col1,#T_f937f60a_742b_11ec_bf49_b46bfc7acf46row9_col2,#T_f937f60a_742b_11ec_bf49_b46bfc7acf46row9_col3,#T_f937f60a_742b_11ec_bf49_b46bfc7acf46row9_col4,#T_f937f60a_742b_11ec_bf49_b46bfc7acf46row9_col5,#T_f937f60a_742b_11ec_bf49_b46bfc7acf46row9_col6,#T_f937f60a_742b_11ec_bf49_b46bfc7acf46row9_col7,#T_f937f60a_742b_11ec_bf49_b46bfc7acf46row10_col0,#T_f937f60a_742b_11ec_bf49_b46bfc7acf46row10_col1,#T_f937f60a_742b_11ec_bf49_b46bfc7acf46row10_col2,#T_f937f60a_742b_11ec_bf49_b46bfc7acf46row10_col3,#T_f937f60a_742b_11ec_bf49_b46bfc7acf46row10_col4,#T_f937f60a_742b_11ec_bf49_b46bfc7acf46row10_col5,#T_f937f60a_742b_11ec_bf49_b46bfc7acf46row10_col6,#T_f937f60a_742b_11ec_bf49_b46bfc7acf46row10_col7,#T_f937f60a_742b_11ec_bf49_b46bfc7acf46row11_col0,#T_f937f60a_742b_11ec_bf49_b46bfc7acf46row11_col1,#T_f937f60a_742b_11ec_bf49_b46bfc7acf46row11_col2,#T_f937f60a_742b_11ec_bf49_b46bfc7acf46row11_col3,#T_f937f60a_742b_11ec_bf49_b46bfc7acf46row11_col4,#T_f937f60a_742b_11ec_bf49_b46bfc7acf46row11_col5,#T_f937f60a_742b_11ec_bf49_b46bfc7acf46row11_col6,#T_f937f60a_742b_11ec_bf49_b46bfc7acf46row11_col7,#T_f937f60a_742b_11ec_bf49_b46bfc7acf46row12_col0,#T_f937f60a_742b_11ec_bf49_b46bfc7acf46row12_col1,#T_f937f60a_742b_11ec_bf49_b46bfc7acf46row12_col2,#T_f937f60a_742b_11ec_bf49_b46bfc7acf46row12_col3,#T_f937f60a_742b_11ec_bf49_b46bfc7acf46row12_col4,#T_f937f60a_742b_11ec_bf49_b46bfc7acf46row12_col5,#T_f937f60a_742b_11ec_bf49_b46bfc7acf46row12_col6,#T_f937f60a_742b_11ec_bf49_b46bfc7acf46row12_col7,#T_f937f60a_742b_11ec_bf49_b46bfc7acf46row13_col0,#T_f937f60a_742b_11ec_bf49_b46bfc7acf46row13_col1,#T_f937f60a_742b_11ec_bf49_b46bfc7acf46row13_col2,#T_f937f60a_742b_11ec_bf49_b46bfc7acf46row13_col3,#T_f937f60a_742b_11ec_bf49_b46bfc7acf46row13_col4,#T_f937f60a_742b_11ec_bf49_b46bfc7acf46row13_col5,#T_f937f60a_742b_11ec_bf49_b46bfc7acf46row13_col6,#T_f937f60a_742b_11ec_bf49_b46bfc7acf46row13_col7,#T_f937f60a_742b_11ec_bf49_b46bfc7acf46row14_col0,#T_f937f60a_742b_11ec_bf49_b46bfc7acf46row14_col1,#T_f937f60a_742b_11ec_bf49_b46bfc7acf46row14_col2,#T_f937f60a_742b_11ec_bf49_b46bfc7acf46row14_col4,#T_f937f60a_742b_11ec_bf49_b46bfc7acf46row14_col5,#T_f937f60a_742b_11ec_bf49_b46bfc7acf46row14_col6,#T_f937f60a_742b_11ec_bf49_b46bfc7acf46row14_col7{\n",
       "            text-align:  left;\n",
       "            text-align:  left;\n",
       "        }#T_f937f60a_742b_11ec_bf49_b46bfc7acf46row0_col1,#T_f937f60a_742b_11ec_bf49_b46bfc7acf46row0_col4,#T_f937f60a_742b_11ec_bf49_b46bfc7acf46row0_col6,#T_f937f60a_742b_11ec_bf49_b46bfc7acf46row1_col2,#T_f937f60a_742b_11ec_bf49_b46bfc7acf46row1_col5,#T_f937f60a_742b_11ec_bf49_b46bfc7acf46row1_col7,#T_f937f60a_742b_11ec_bf49_b46bfc7acf46row3_col4,#T_f937f60a_742b_11ec_bf49_b46bfc7acf46row14_col3{\n",
       "            text-align:  left;\n",
       "            text-align:  left;\n",
       "            background-color:  yellow;\n",
       "        }#T_f937f60a_742b_11ec_bf49_b46bfc7acf46row0_col8,#T_f937f60a_742b_11ec_bf49_b46bfc7acf46row1_col8,#T_f937f60a_742b_11ec_bf49_b46bfc7acf46row2_col8,#T_f937f60a_742b_11ec_bf49_b46bfc7acf46row3_col8,#T_f937f60a_742b_11ec_bf49_b46bfc7acf46row4_col8,#T_f937f60a_742b_11ec_bf49_b46bfc7acf46row5_col8,#T_f937f60a_742b_11ec_bf49_b46bfc7acf46row6_col8,#T_f937f60a_742b_11ec_bf49_b46bfc7acf46row7_col8,#T_f937f60a_742b_11ec_bf49_b46bfc7acf46row9_col8,#T_f937f60a_742b_11ec_bf49_b46bfc7acf46row10_col8,#T_f937f60a_742b_11ec_bf49_b46bfc7acf46row11_col8,#T_f937f60a_742b_11ec_bf49_b46bfc7acf46row12_col8,#T_f937f60a_742b_11ec_bf49_b46bfc7acf46row13_col8,#T_f937f60a_742b_11ec_bf49_b46bfc7acf46row14_col8{\n",
       "            text-align:  left;\n",
       "            text-align:  left;\n",
       "            background-color:  lightgrey;\n",
       "        }#T_f937f60a_742b_11ec_bf49_b46bfc7acf46row8_col8{\n",
       "            text-align:  left;\n",
       "            text-align:  left;\n",
       "            background-color:  yellow;\n",
       "            background-color:  lightgrey;\n",
       "        }</style><table id=\"T_f937f60a_742b_11ec_bf49_b46bfc7acf46\" ><thead>    <tr>        <th class=\"blank level0\" ></th>        <th class=\"col_heading level0 col0\" >Model</th>        <th class=\"col_heading level0 col1\" >Accuracy</th>        <th class=\"col_heading level0 col2\" >AUC</th>        <th class=\"col_heading level0 col3\" >Recall</th>        <th class=\"col_heading level0 col4\" >Prec.</th>        <th class=\"col_heading level0 col5\" >F1</th>        <th class=\"col_heading level0 col6\" >Kappa</th>        <th class=\"col_heading level0 col7\" >MCC</th>        <th class=\"col_heading level0 col8\" >TT (Sec)</th>    </tr></thead><tbody>\n",
       "                <tr>\n",
       "                        <th id=\"T_f937f60a_742b_11ec_bf49_b46bfc7acf46level0_row0\" class=\"row_heading level0 row0\" >rf</th>\n",
       "                        <td id=\"T_f937f60a_742b_11ec_bf49_b46bfc7acf46row0_col0\" class=\"data row0 col0\" >Random Forest Classifier</td>\n",
       "                        <td id=\"T_f937f60a_742b_11ec_bf49_b46bfc7acf46row0_col1\" class=\"data row0 col1\" >0.8095</td>\n",
       "                        <td id=\"T_f937f60a_742b_11ec_bf49_b46bfc7acf46row0_col2\" class=\"data row0 col2\" >0.8444</td>\n",
       "                        <td id=\"T_f937f60a_742b_11ec_bf49_b46bfc7acf46row0_col3\" class=\"data row0 col3\" >0.8333</td>\n",
       "                        <td id=\"T_f937f60a_742b_11ec_bf49_b46bfc7acf46row0_col4\" class=\"data row0 col4\" >0.7833</td>\n",
       "                        <td id=\"T_f937f60a_742b_11ec_bf49_b46bfc7acf46row0_col5\" class=\"data row0 col5\" >0.7952</td>\n",
       "                        <td id=\"T_f937f60a_742b_11ec_bf49_b46bfc7acf46row0_col6\" class=\"data row0 col6\" >0.6213</td>\n",
       "                        <td id=\"T_f937f60a_742b_11ec_bf49_b46bfc7acf46row0_col7\" class=\"data row0 col7\" >0.6371</td>\n",
       "                        <td id=\"T_f937f60a_742b_11ec_bf49_b46bfc7acf46row0_col8\" class=\"data row0 col8\" >0.0920</td>\n",
       "            </tr>\n",
       "            <tr>\n",
       "                        <th id=\"T_f937f60a_742b_11ec_bf49_b46bfc7acf46level0_row1\" class=\"row_heading level0 row1\" >gbc</th>\n",
       "                        <td id=\"T_f937f60a_742b_11ec_bf49_b46bfc7acf46row1_col0\" class=\"data row1 col0\" >Gradient Boosting Classifier</td>\n",
       "                        <td id=\"T_f937f60a_742b_11ec_bf49_b46bfc7acf46row1_col1\" class=\"data row1 col1\" >0.8071</td>\n",
       "                        <td id=\"T_f937f60a_742b_11ec_bf49_b46bfc7acf46row1_col2\" class=\"data row1 col2\" >0.9069</td>\n",
       "                        <td id=\"T_f937f60a_742b_11ec_bf49_b46bfc7acf46row1_col3\" class=\"data row1 col3\" >0.8667</td>\n",
       "                        <td id=\"T_f937f60a_742b_11ec_bf49_b46bfc7acf46row1_col4\" class=\"data row1 col4\" >0.7667</td>\n",
       "                        <td id=\"T_f937f60a_742b_11ec_bf49_b46bfc7acf46row1_col5\" class=\"data row1 col5\" >0.8048</td>\n",
       "                        <td id=\"T_f937f60a_742b_11ec_bf49_b46bfc7acf46row1_col6\" class=\"data row1 col6\" >0.6203</td>\n",
       "                        <td id=\"T_f937f60a_742b_11ec_bf49_b46bfc7acf46row1_col7\" class=\"data row1 col7\" >0.6374</td>\n",
       "                        <td id=\"T_f937f60a_742b_11ec_bf49_b46bfc7acf46row1_col8\" class=\"data row1 col8\" >0.0240</td>\n",
       "            </tr>\n",
       "            <tr>\n",
       "                        <th id=\"T_f937f60a_742b_11ec_bf49_b46bfc7acf46level0_row2\" class=\"row_heading level0 row2\" >catboost</th>\n",
       "                        <td id=\"T_f937f60a_742b_11ec_bf49_b46bfc7acf46row2_col0\" class=\"data row2 col0\" >CatBoost Classifier</td>\n",
       "                        <td id=\"T_f937f60a_742b_11ec_bf49_b46bfc7acf46row2_col1\" class=\"data row2 col1\" >0.7929</td>\n",
       "                        <td id=\"T_f937f60a_742b_11ec_bf49_b46bfc7acf46row2_col2\" class=\"data row2 col2\" >0.8583</td>\n",
       "                        <td id=\"T_f937f60a_742b_11ec_bf49_b46bfc7acf46row2_col3\" class=\"data row2 col3\" >0.8333</td>\n",
       "                        <td id=\"T_f937f60a_742b_11ec_bf49_b46bfc7acf46row2_col4\" class=\"data row2 col4\" >0.7583</td>\n",
       "                        <td id=\"T_f937f60a_742b_11ec_bf49_b46bfc7acf46row2_col5\" class=\"data row2 col5\" >0.7810</td>\n",
       "                        <td id=\"T_f937f60a_742b_11ec_bf49_b46bfc7acf46row2_col6\" class=\"data row2 col6\" >0.5880</td>\n",
       "                        <td id=\"T_f937f60a_742b_11ec_bf49_b46bfc7acf46row2_col7\" class=\"data row2 col7\" >0.6078</td>\n",
       "                        <td id=\"T_f937f60a_742b_11ec_bf49_b46bfc7acf46row2_col8\" class=\"data row2 col8\" >0.2660</td>\n",
       "            </tr>\n",
       "            <tr>\n",
       "                        <th id=\"T_f937f60a_742b_11ec_bf49_b46bfc7acf46level0_row3\" class=\"row_heading level0 row3\" >ada</th>\n",
       "                        <td id=\"T_f937f60a_742b_11ec_bf49_b46bfc7acf46row3_col0\" class=\"data row3 col0\" >Ada Boost Classifier</td>\n",
       "                        <td id=\"T_f937f60a_742b_11ec_bf49_b46bfc7acf46row3_col1\" class=\"data row3 col1\" >0.7905</td>\n",
       "                        <td id=\"T_f937f60a_742b_11ec_bf49_b46bfc7acf46row3_col2\" class=\"data row3 col2\" >0.8181</td>\n",
       "                        <td id=\"T_f937f60a_742b_11ec_bf49_b46bfc7acf46row3_col3\" class=\"data row3 col3\" >0.7667</td>\n",
       "                        <td id=\"T_f937f60a_742b_11ec_bf49_b46bfc7acf46row3_col4\" class=\"data row3 col4\" >0.7833</td>\n",
       "                        <td id=\"T_f937f60a_742b_11ec_bf49_b46bfc7acf46row3_col5\" class=\"data row3 col5\" >0.7581</td>\n",
       "                        <td id=\"T_f937f60a_742b_11ec_bf49_b46bfc7acf46row3_col6\" class=\"data row3 col6\" >0.5802</td>\n",
       "                        <td id=\"T_f937f60a_742b_11ec_bf49_b46bfc7acf46row3_col7\" class=\"data row3 col7\" >0.5978</td>\n",
       "                        <td id=\"T_f937f60a_742b_11ec_bf49_b46bfc7acf46row3_col8\" class=\"data row3 col8\" >0.0390</td>\n",
       "            </tr>\n",
       "            <tr>\n",
       "                        <th id=\"T_f937f60a_742b_11ec_bf49_b46bfc7acf46level0_row4\" class=\"row_heading level0 row4\" >et</th>\n",
       "                        <td id=\"T_f937f60a_742b_11ec_bf49_b46bfc7acf46row4_col0\" class=\"data row4 col0\" >Extra Trees Classifier</td>\n",
       "                        <td id=\"T_f937f60a_742b_11ec_bf49_b46bfc7acf46row4_col1\" class=\"data row4 col1\" >0.7786</td>\n",
       "                        <td id=\"T_f937f60a_742b_11ec_bf49_b46bfc7acf46row4_col2\" class=\"data row4 col2\" >0.8986</td>\n",
       "                        <td id=\"T_f937f60a_742b_11ec_bf49_b46bfc7acf46row4_col3\" class=\"data row4 col3\" >0.7667</td>\n",
       "                        <td id=\"T_f937f60a_742b_11ec_bf49_b46bfc7acf46row4_col4\" class=\"data row4 col4\" >0.7750</td>\n",
       "                        <td id=\"T_f937f60a_742b_11ec_bf49_b46bfc7acf46row4_col5\" class=\"data row4 col5\" >0.7562</td>\n",
       "                        <td id=\"T_f937f60a_742b_11ec_bf49_b46bfc7acf46row4_col6\" class=\"data row4 col6\" >0.5576</td>\n",
       "                        <td id=\"T_f937f60a_742b_11ec_bf49_b46bfc7acf46row4_col7\" class=\"data row4 col7\" >0.5728</td>\n",
       "                        <td id=\"T_f937f60a_742b_11ec_bf49_b46bfc7acf46row4_col8\" class=\"data row4 col8\" >0.0750</td>\n",
       "            </tr>\n",
       "            <tr>\n",
       "                        <th id=\"T_f937f60a_742b_11ec_bf49_b46bfc7acf46level0_row5\" class=\"row_heading level0 row5\" >lightgbm</th>\n",
       "                        <td id=\"T_f937f60a_742b_11ec_bf49_b46bfc7acf46row5_col0\" class=\"data row5 col0\" >Light Gradient Boosting Machine</td>\n",
       "                        <td id=\"T_f937f60a_742b_11ec_bf49_b46bfc7acf46row5_col1\" class=\"data row5 col1\" >0.7643</td>\n",
       "                        <td id=\"T_f937f60a_742b_11ec_bf49_b46bfc7acf46row5_col2\" class=\"data row5 col2\" >0.6854</td>\n",
       "                        <td id=\"T_f937f60a_742b_11ec_bf49_b46bfc7acf46row5_col3\" class=\"data row5 col3\" >0.8000</td>\n",
       "                        <td id=\"T_f937f60a_742b_11ec_bf49_b46bfc7acf46row5_col4\" class=\"data row5 col4\" >0.7600</td>\n",
       "                        <td id=\"T_f937f60a_742b_11ec_bf49_b46bfc7acf46row5_col5\" class=\"data row5 col5\" >0.7469</td>\n",
       "                        <td id=\"T_f937f60a_742b_11ec_bf49_b46bfc7acf46row5_col6\" class=\"data row5 col6\" >0.5295</td>\n",
       "                        <td id=\"T_f937f60a_742b_11ec_bf49_b46bfc7acf46row5_col7\" class=\"data row5 col7\" >0.5657</td>\n",
       "                        <td id=\"T_f937f60a_742b_11ec_bf49_b46bfc7acf46row5_col8\" class=\"data row5 col8\" >0.0100</td>\n",
       "            </tr>\n",
       "            <tr>\n",
       "                        <th id=\"T_f937f60a_742b_11ec_bf49_b46bfc7acf46level0_row6\" class=\"row_heading level0 row6\" >dt</th>\n",
       "                        <td id=\"T_f937f60a_742b_11ec_bf49_b46bfc7acf46row6_col0\" class=\"data row6 col0\" >Decision Tree Classifier</td>\n",
       "                        <td id=\"T_f937f60a_742b_11ec_bf49_b46bfc7acf46row6_col1\" class=\"data row6 col1\" >0.7476</td>\n",
       "                        <td id=\"T_f937f60a_742b_11ec_bf49_b46bfc7acf46row6_col2\" class=\"data row6 col2\" >0.7792</td>\n",
       "                        <td id=\"T_f937f60a_742b_11ec_bf49_b46bfc7acf46row6_col3\" class=\"data row6 col3\" >0.7667</td>\n",
       "                        <td id=\"T_f937f60a_742b_11ec_bf49_b46bfc7acf46row6_col4\" class=\"data row6 col4\" >0.7417</td>\n",
       "                        <td id=\"T_f937f60a_742b_11ec_bf49_b46bfc7acf46row6_col5\" class=\"data row6 col5\" >0.7362</td>\n",
       "                        <td id=\"T_f937f60a_742b_11ec_bf49_b46bfc7acf46row6_col6\" class=\"data row6 col6\" >0.5006</td>\n",
       "                        <td id=\"T_f937f60a_742b_11ec_bf49_b46bfc7acf46row6_col7\" class=\"data row6 col7\" >0.5228</td>\n",
       "                        <td id=\"T_f937f60a_742b_11ec_bf49_b46bfc7acf46row6_col8\" class=\"data row6 col8\" >0.0060</td>\n",
       "            </tr>\n",
       "            <tr>\n",
       "                        <th id=\"T_f937f60a_742b_11ec_bf49_b46bfc7acf46level0_row7\" class=\"row_heading level0 row7\" >lr</th>\n",
       "                        <td id=\"T_f937f60a_742b_11ec_bf49_b46bfc7acf46row7_col0\" class=\"data row7 col0\" >Logistic Regression</td>\n",
       "                        <td id=\"T_f937f60a_742b_11ec_bf49_b46bfc7acf46row7_col1\" class=\"data row7 col1\" >0.7286</td>\n",
       "                        <td id=\"T_f937f60a_742b_11ec_bf49_b46bfc7acf46row7_col2\" class=\"data row7 col2\" >0.7528</td>\n",
       "                        <td id=\"T_f937f60a_742b_11ec_bf49_b46bfc7acf46row7_col3\" class=\"data row7 col3\" >0.7667</td>\n",
       "                        <td id=\"T_f937f60a_742b_11ec_bf49_b46bfc7acf46row7_col4\" class=\"data row7 col4\" >0.7200</td>\n",
       "                        <td id=\"T_f937f60a_742b_11ec_bf49_b46bfc7acf46row7_col5\" class=\"data row7 col5\" >0.7048</td>\n",
       "                        <td id=\"T_f937f60a_742b_11ec_bf49_b46bfc7acf46row7_col6\" class=\"data row7 col6\" >0.4598</td>\n",
       "                        <td id=\"T_f937f60a_742b_11ec_bf49_b46bfc7acf46row7_col7\" class=\"data row7 col7\" >0.5063</td>\n",
       "                        <td id=\"T_f937f60a_742b_11ec_bf49_b46bfc7acf46row7_col8\" class=\"data row7 col8\" >0.0080</td>\n",
       "            </tr>\n",
       "            <tr>\n",
       "                        <th id=\"T_f937f60a_742b_11ec_bf49_b46bfc7acf46level0_row8\" class=\"row_heading level0 row8\" >ridge</th>\n",
       "                        <td id=\"T_f937f60a_742b_11ec_bf49_b46bfc7acf46row8_col0\" class=\"data row8 col0\" >Ridge Classifier</td>\n",
       "                        <td id=\"T_f937f60a_742b_11ec_bf49_b46bfc7acf46row8_col1\" class=\"data row8 col1\" >0.7119</td>\n",
       "                        <td id=\"T_f937f60a_742b_11ec_bf49_b46bfc7acf46row8_col2\" class=\"data row8 col2\" >0.0000</td>\n",
       "                        <td id=\"T_f937f60a_742b_11ec_bf49_b46bfc7acf46row8_col3\" class=\"data row8 col3\" >0.7667</td>\n",
       "                        <td id=\"T_f937f60a_742b_11ec_bf49_b46bfc7acf46row8_col4\" class=\"data row8 col4\" >0.6950</td>\n",
       "                        <td id=\"T_f937f60a_742b_11ec_bf49_b46bfc7acf46row8_col5\" class=\"data row8 col5\" >0.6924</td>\n",
       "                        <td id=\"T_f937f60a_742b_11ec_bf49_b46bfc7acf46row8_col6\" class=\"data row8 col6\" >0.4332</td>\n",
       "                        <td id=\"T_f937f60a_742b_11ec_bf49_b46bfc7acf46row8_col7\" class=\"data row8 col7\" >0.4775</td>\n",
       "                        <td id=\"T_f937f60a_742b_11ec_bf49_b46bfc7acf46row8_col8\" class=\"data row8 col8\" >0.0050</td>\n",
       "            </tr>\n",
       "            <tr>\n",
       "                        <th id=\"T_f937f60a_742b_11ec_bf49_b46bfc7acf46level0_row9\" class=\"row_heading level0 row9\" >lda</th>\n",
       "                        <td id=\"T_f937f60a_742b_11ec_bf49_b46bfc7acf46row9_col0\" class=\"data row9 col0\" >Linear Discriminant Analysis</td>\n",
       "                        <td id=\"T_f937f60a_742b_11ec_bf49_b46bfc7acf46row9_col1\" class=\"data row9 col1\" >0.6952</td>\n",
       "                        <td id=\"T_f937f60a_742b_11ec_bf49_b46bfc7acf46row9_col2\" class=\"data row9 col2\" >0.6833</td>\n",
       "                        <td id=\"T_f937f60a_742b_11ec_bf49_b46bfc7acf46row9_col3\" class=\"data row9 col3\" >0.7667</td>\n",
       "                        <td id=\"T_f937f60a_742b_11ec_bf49_b46bfc7acf46row9_col4\" class=\"data row9 col4\" >0.6783</td>\n",
       "                        <td id=\"T_f937f60a_742b_11ec_bf49_b46bfc7acf46row9_col5\" class=\"data row9 col5\" >0.6829</td>\n",
       "                        <td id=\"T_f937f60a_742b_11ec_bf49_b46bfc7acf46row9_col6\" class=\"data row9 col6\" >0.3998</td>\n",
       "                        <td id=\"T_f937f60a_742b_11ec_bf49_b46bfc7acf46row9_col7\" class=\"data row9 col7\" >0.4442</td>\n",
       "                        <td id=\"T_f937f60a_742b_11ec_bf49_b46bfc7acf46row9_col8\" class=\"data row9 col8\" >0.0060</td>\n",
       "            </tr>\n",
       "            <tr>\n",
       "                        <th id=\"T_f937f60a_742b_11ec_bf49_b46bfc7acf46level0_row10\" class=\"row_heading level0 row10\" >qda</th>\n",
       "                        <td id=\"T_f937f60a_742b_11ec_bf49_b46bfc7acf46row10_col0\" class=\"data row10 col0\" >Quadratic Discriminant Analysis</td>\n",
       "                        <td id=\"T_f937f60a_742b_11ec_bf49_b46bfc7acf46row10_col1\" class=\"data row10 col1\" >0.6548</td>\n",
       "                        <td id=\"T_f937f60a_742b_11ec_bf49_b46bfc7acf46row10_col2\" class=\"data row10 col2\" >0.7014</td>\n",
       "                        <td id=\"T_f937f60a_742b_11ec_bf49_b46bfc7acf46row10_col3\" class=\"data row10 col3\" >0.7333</td>\n",
       "                        <td id=\"T_f937f60a_742b_11ec_bf49_b46bfc7acf46row10_col4\" class=\"data row10 col4\" >0.6333</td>\n",
       "                        <td id=\"T_f937f60a_742b_11ec_bf49_b46bfc7acf46row10_col5\" class=\"data row10 col5\" >0.6424</td>\n",
       "                        <td id=\"T_f937f60a_742b_11ec_bf49_b46bfc7acf46row10_col6\" class=\"data row10 col6\" >0.3203</td>\n",
       "                        <td id=\"T_f937f60a_742b_11ec_bf49_b46bfc7acf46row10_col7\" class=\"data row10 col7\" >0.3640</td>\n",
       "                        <td id=\"T_f937f60a_742b_11ec_bf49_b46bfc7acf46row10_col8\" class=\"data row10 col8\" >0.0080</td>\n",
       "            </tr>\n",
       "            <tr>\n",
       "                        <th id=\"T_f937f60a_742b_11ec_bf49_b46bfc7acf46level0_row11\" class=\"row_heading level0 row11\" >svm</th>\n",
       "                        <td id=\"T_f937f60a_742b_11ec_bf49_b46bfc7acf46row11_col0\" class=\"data row11 col0\" >SVM - Linear Kernel</td>\n",
       "                        <td id=\"T_f937f60a_742b_11ec_bf49_b46bfc7acf46row11_col1\" class=\"data row11 col1\" >0.6500</td>\n",
       "                        <td id=\"T_f937f60a_742b_11ec_bf49_b46bfc7acf46row11_col2\" class=\"data row11 col2\" >0.0000</td>\n",
       "                        <td id=\"T_f937f60a_742b_11ec_bf49_b46bfc7acf46row11_col3\" class=\"data row11 col3\" >0.7000</td>\n",
       "                        <td id=\"T_f937f60a_742b_11ec_bf49_b46bfc7acf46row11_col4\" class=\"data row11 col4\" >0.6350</td>\n",
       "                        <td id=\"T_f937f60a_742b_11ec_bf49_b46bfc7acf46row11_col5\" class=\"data row11 col5\" >0.6317</td>\n",
       "                        <td id=\"T_f937f60a_742b_11ec_bf49_b46bfc7acf46row11_col6\" class=\"data row11 col6\" >0.3034</td>\n",
       "                        <td id=\"T_f937f60a_742b_11ec_bf49_b46bfc7acf46row11_col7\" class=\"data row11 col7\" >0.3402</td>\n",
       "                        <td id=\"T_f937f60a_742b_11ec_bf49_b46bfc7acf46row11_col8\" class=\"data row11 col8\" >0.0070</td>\n",
       "            </tr>\n",
       "            <tr>\n",
       "                        <th id=\"T_f937f60a_742b_11ec_bf49_b46bfc7acf46level0_row12\" class=\"row_heading level0 row12\" >knn</th>\n",
       "                        <td id=\"T_f937f60a_742b_11ec_bf49_b46bfc7acf46row12_col0\" class=\"data row12 col0\" >K Neighbors Classifier</td>\n",
       "                        <td id=\"T_f937f60a_742b_11ec_bf49_b46bfc7acf46row12_col1\" class=\"data row12 col1\" >0.6476</td>\n",
       "                        <td id=\"T_f937f60a_742b_11ec_bf49_b46bfc7acf46row12_col2\" class=\"data row12 col2\" >0.6833</td>\n",
       "                        <td id=\"T_f937f60a_742b_11ec_bf49_b46bfc7acf46row12_col3\" class=\"data row12 col3\" >0.6500</td>\n",
       "                        <td id=\"T_f937f60a_742b_11ec_bf49_b46bfc7acf46row12_col4\" class=\"data row12 col4\" >0.6350</td>\n",
       "                        <td id=\"T_f937f60a_742b_11ec_bf49_b46bfc7acf46row12_col5\" class=\"data row12 col5\" >0.6150</td>\n",
       "                        <td id=\"T_f937f60a_742b_11ec_bf49_b46bfc7acf46row12_col6\" class=\"data row12 col6\" >0.2807</td>\n",
       "                        <td id=\"T_f937f60a_742b_11ec_bf49_b46bfc7acf46row12_col7\" class=\"data row12 col7\" >0.3069</td>\n",
       "                        <td id=\"T_f937f60a_742b_11ec_bf49_b46bfc7acf46row12_col8\" class=\"data row12 col8\" >0.0140</td>\n",
       "            </tr>\n",
       "            <tr>\n",
       "                        <th id=\"T_f937f60a_742b_11ec_bf49_b46bfc7acf46level0_row13\" class=\"row_heading level0 row13\" >dummy</th>\n",
       "                        <td id=\"T_f937f60a_742b_11ec_bf49_b46bfc7acf46row13_col0\" class=\"data row13 col0\" >Dummy Classifier</td>\n",
       "                        <td id=\"T_f937f60a_742b_11ec_bf49_b46bfc7acf46row13_col1\" class=\"data row13 col1\" >0.5381</td>\n",
       "                        <td id=\"T_f937f60a_742b_11ec_bf49_b46bfc7acf46row13_col2\" class=\"data row13 col2\" >0.5000</td>\n",
       "                        <td id=\"T_f937f60a_742b_11ec_bf49_b46bfc7acf46row13_col3\" class=\"data row13 col3\" >0.0000</td>\n",
       "                        <td id=\"T_f937f60a_742b_11ec_bf49_b46bfc7acf46row13_col4\" class=\"data row13 col4\" >0.0000</td>\n",
       "                        <td id=\"T_f937f60a_742b_11ec_bf49_b46bfc7acf46row13_col5\" class=\"data row13 col5\" >0.0000</td>\n",
       "                        <td id=\"T_f937f60a_742b_11ec_bf49_b46bfc7acf46row13_col6\" class=\"data row13 col6\" >0.0000</td>\n",
       "                        <td id=\"T_f937f60a_742b_11ec_bf49_b46bfc7acf46row13_col7\" class=\"data row13 col7\" >0.0000</td>\n",
       "                        <td id=\"T_f937f60a_742b_11ec_bf49_b46bfc7acf46row13_col8\" class=\"data row13 col8\" >0.0080</td>\n",
       "            </tr>\n",
       "            <tr>\n",
       "                        <th id=\"T_f937f60a_742b_11ec_bf49_b46bfc7acf46level0_row14\" class=\"row_heading level0 row14\" >nb</th>\n",
       "                        <td id=\"T_f937f60a_742b_11ec_bf49_b46bfc7acf46row14_col0\" class=\"data row14 col0\" >Naive Bayes</td>\n",
       "                        <td id=\"T_f937f60a_742b_11ec_bf49_b46bfc7acf46row14_col1\" class=\"data row14 col1\" >0.5262</td>\n",
       "                        <td id=\"T_f937f60a_742b_11ec_bf49_b46bfc7acf46row14_col2\" class=\"data row14 col2\" >0.6688</td>\n",
       "                        <td id=\"T_f937f60a_742b_11ec_bf49_b46bfc7acf46row14_col3\" class=\"data row14 col3\" >0.9333</td>\n",
       "                        <td id=\"T_f937f60a_742b_11ec_bf49_b46bfc7acf46row14_col4\" class=\"data row14 col4\" >0.4957</td>\n",
       "                        <td id=\"T_f937f60a_742b_11ec_bf49_b46bfc7acf46row14_col5\" class=\"data row14 col5\" >0.6438</td>\n",
       "                        <td id=\"T_f937f60a_742b_11ec_bf49_b46bfc7acf46row14_col6\" class=\"data row14 col6\" >0.0956</td>\n",
       "                        <td id=\"T_f937f60a_742b_11ec_bf49_b46bfc7acf46row14_col7\" class=\"data row14 col7\" >0.1301</td>\n",
       "                        <td id=\"T_f937f60a_742b_11ec_bf49_b46bfc7acf46row14_col8\" class=\"data row14 col8\" >0.0070</td>\n",
       "            </tr>\n",
       "    </tbody></table>"
      ],
      "text/plain": [
       "<pandas.io.formats.style.Styler at 0x156d60f04c0>"
      ]
     },
     "metadata": {},
     "output_type": "display_data"
    },
    {
     "data": {
      "text/plain": [
       "RandomForestClassifier(bootstrap=True, ccp_alpha=0.0, class_weight=None,\n",
       "                       criterion='gini', max_depth=None, max_features='auto',\n",
       "                       max_leaf_nodes=None, max_samples=None,\n",
       "                       min_impurity_decrease=0.0, min_impurity_split=None,\n",
       "                       min_samples_leaf=1, min_samples_split=2,\n",
       "                       min_weight_fraction_leaf=0.0, n_estimators=100,\n",
       "                       n_jobs=-1, oob_score=False, random_state=5149, verbose=0,\n",
       "                       warm_start=False)"
      ]
     },
     "execution_count": 41,
     "metadata": {},
     "output_type": "execute_result"
    }
   ],
   "source": [
    "get_best_model(df3)"
   ]
  },
  {
   "cell_type": "markdown",
   "metadata": {},
   "source": [
    "All datasets now have an accuracy rating of 75%-85%. Based on the results above, the dataset with the highest accuracy uses all features except order_satisfaction and price_satisfaction. We will be using this dataset moving forward with the following models:\n",
    "\n",
    "- Extra Trees Classifier\n",
    "- Decision Tree Classifier\n",
    "- Random Forest Classifier"
   ]
  },
  {
   "cell_type": "code",
   "execution_count": 44,
   "metadata": {},
   "outputs": [],
   "source": [
    "# train_test_split on df3\n",
    "X = df3.drop(columns='y', axis=1)\n",
    "y = df3.y\n",
    "\n",
    "X_train, X_test, y_train, y_test = train_test_split(X, y, test_size = 0.2, random_state = 42)"
   ]
  },
  {
   "cell_type": "code",
   "execution_count": 192,
   "metadata": {},
   "outputs": [],
   "source": [
    "# train_test_split on df3\n",
    "X = df1.drop(columns='y', axis=1)\n",
    "y = df1.y\n",
    "\n",
    "X_train, X_test, y_train, y_test = train_test_split(X, y, test_size = 0.2, random_state = 42)"
   ]
  },
  {
   "cell_type": "markdown",
   "metadata": {},
   "source": [
    "# MODELING"
   ]
  },
  {
   "cell_type": "code",
   "execution_count": 193,
   "metadata": {},
   "outputs": [],
   "source": [
    "from sklearn.tree import DecisionTreeClassifier\n",
    "from sklearn.ensemble import ExtraTreesClassifier, RandomForestClassifier\n",
    "from sklearn.metrics import accuracy_score, classification_report, confusion_matrix, plot_roc_curve"
   ]
  },
  {
   "cell_type": "code",
   "execution_count": 194,
   "metadata": {},
   "outputs": [],
   "source": [
    "def evaluate_model(classifier, X_train, y_train, X_test, y_test):\n",
    "    \n",
    "    clf = classifier()\n",
    "    clf.fit(X_train,y_train)\n",
    "    y_pred = clf.predict(X_test)\n",
    "    \n",
    "    score = clf.score(X_train, y_train)\n",
    "    accuracy = accuracy_score(y_test, y_pred)\n",
    "    \n",
    "    print(f'Train score: {score}\\nTest accuracy: {accuracy}\\nDifference: {score - accuracy}')\n",
    "    \n",
    "    return clf, y_test, y_pred"
   ]
  },
  {
   "cell_type": "code",
   "execution_count": 195,
   "metadata": {},
   "outputs": [],
   "source": [
    "def plot_confusion_matrix(test, pred, title):\n",
    "\n",
    "    cm = confusion_matrix(test, pred)\n",
    "    df_cm = pd.DataFrame(cm)\n",
    "    plt.figure(figsize=(10, 5))\n",
    "    sns.heatmap(df_cm, annot=True, cmap='Blues', fmt='')\n",
    "    plt.xlabel(\"Predicted labels\")\n",
    "    plt.ylabel(\"True labels\")\n",
    "    plt.title(f'{title} Confusion Matrix')\n",
    "\n",
    "    return None"
   ]
  },
  {
   "cell_type": "markdown",
   "metadata": {},
   "source": [
    "### Random Forest"
   ]
  },
  {
   "cell_type": "code",
   "execution_count": 196,
   "metadata": {},
   "outputs": [
    {
     "name": "stdout",
     "output_type": "stream",
     "text": [
      "Train score: 0.9166666666666666\n",
      "Test accuracy: 0.8421052631578947\n",
      "Difference: 0.07456140350877194\n"
     ]
    }
   ],
   "source": [
    "rf, y_test, y_pred = evaluate_model(RandomForestClassifier, X_train, y_train, X_test, y_test)"
   ]
  },
  {
   "cell_type": "markdown",
   "metadata": {},
   "source": [
    "#### CONFUSION MATRIX"
   ]
  },
  {
   "cell_type": "code",
   "execution_count": 197,
   "metadata": {
    "scrolled": false
   },
   "outputs": [
    {
     "data": {
      "image/png": "[encoded data removed]",
      "text/plain": [
       "<Figure size 720x360 with 2 Axes>"
      ]
     },
     "metadata": {},
     "output_type": "display_data"
    }
   ],
   "source": [
    "plot_confusion_matrix(y_test, y_pred, 'Random Forest')"
   ]
  },
  {
   "cell_type": "markdown",
   "metadata": {},
   "source": [
    "#### CLASSIFICATION REPORT"
   ]
  },
  {
   "cell_type": "code",
   "execution_count": 209,
   "metadata": {},
   "outputs": [
    {
     "name": "stdout",
     "output_type": "stream",
     "text": [
      "Random Forest Classification Report\n",
      "\n",
      "              precision    recall  f1-score   support\n",
      "\n",
      "         0.0       0.73      0.80      0.76        10\n",
      "         1.0       0.75      0.67      0.71         9\n",
      "\n",
      "    accuracy                           0.74        19\n",
      "   macro avg       0.74      0.73      0.73        19\n",
      "weighted avg       0.74      0.74      0.74        19\n",
      "\n"
     ]
    }
   ],
   "source": [
    "print(f'Random Forest Classification Report\\n\\n{classification_report(y_test, y_pred)}')"
   ]
  },
  {
   "cell_type": "markdown",
   "metadata": {},
   "source": [
    "#### ROC CURVE"
   ]
  },
  {
   "cell_type": "code",
   "execution_count": 199,
   "metadata": {},
   "outputs": [
    {
     "data": {
      "text/plain": [
       "<sklearn.metrics._plot.roc_curve.RocCurveDisplay at 0x156d1b5c040>"
      ]
     },
     "execution_count": 199,
     "metadata": {},
     "output_type": "execute_result"
    },
    {
     "data": {
      "image/png": "[encoded data removed]",
      "text/plain": [
       "<Figure size 576x396 with 1 Axes>"
      ]
     },
     "metadata": {},
     "output_type": "display_data"
    }
   ],
   "source": [
    "plot_roc_curve(rf, X_test, y_test)"
   ]
  },
  {
   "cell_type": "markdown",
   "metadata": {},
   "source": [
    "### Decision Tree"
   ]
  },
  {
   "cell_type": "code",
   "execution_count": 200,
   "metadata": {},
   "outputs": [
    {
     "name": "stdout",
     "output_type": "stream",
     "text": [
      "Train score: 0.9166666666666666\n",
      "Test accuracy: 0.8421052631578947\n",
      "Difference: 0.07456140350877194\n"
     ]
    }
   ],
   "source": [
    "dt, y_test, y_pred = evaluate_model(DecisionTreeClassifier, X_train, y_train, X_test, y_test)"
   ]
  },
  {
   "cell_type": "markdown",
   "metadata": {},
   "source": [
    "#### CONFUSION MATRIX"
   ]
  },
  {
   "cell_type": "code",
   "execution_count": 201,
   "metadata": {},
   "outputs": [
    {
     "data": {
      "image/png": "[encoded data removed]",
      "text/plain": [
       "<Figure size 720x360 with 2 Axes>"
      ]
     },
     "metadata": {},
     "output_type": "display_data"
    }
   ],
   "source": [
    "plot_confusion_matrix(y_test, y_pred, 'Decision Tree')"
   ]
  },
  {
   "cell_type": "markdown",
   "metadata": {},
   "source": [
    "#### CLASSIFICATION REPORT"
   ]
  },
  {
   "cell_type": "code",
   "execution_count": 202,
   "metadata": {},
   "outputs": [
    {
     "name": "stdout",
     "output_type": "stream",
     "text": [
      "              precision    recall  f1-score   support\n",
      "\n",
      "         0.0       0.89      0.80      0.84        10\n",
      "         1.0       0.80      0.89      0.84         9\n",
      "\n",
      "    accuracy                           0.84        19\n",
      "   macro avg       0.84      0.84      0.84        19\n",
      "weighted avg       0.85      0.84      0.84        19\n",
      "\n"
     ]
    }
   ],
   "source": [
    "print(f'Decision Tree Classification Report\\n\\n{classification_report(y_test, y_pred)}')"
   ]
  },
  {
   "cell_type": "markdown",
   "metadata": {},
   "source": [
    "#### ROC CURVE"
   ]
  },
  {
   "cell_type": "code",
   "execution_count": 203,
   "metadata": {},
   "outputs": [
    {
     "data": {
      "text/plain": [
       "<sklearn.metrics._plot.roc_curve.RocCurveDisplay at 0x156d7ea0c70>"
      ]
     },
     "execution_count": 203,
     "metadata": {},
     "output_type": "execute_result"
    },
    {
     "data": {
      "image/png": "[encoded data removed]",
      "text/plain": [
       "<Figure size 576x396 with 1 Axes>"
      ]
     },
     "metadata": {},
     "output_type": "display_data"
    }
   ],
   "source": [
    "plot_roc_curve(dt, X_test, y_test)"
   ]
  },
  {
   "cell_type": "markdown",
   "metadata": {},
   "source": [
    "### Extra Trees"
   ]
  },
  {
   "cell_type": "code",
   "execution_count": 204,
   "metadata": {
    "scrolled": true
   },
   "outputs": [
    {
     "name": "stdout",
     "output_type": "stream",
     "text": [
      "Train score: 0.9166666666666666\n",
      "Test accuracy: 0.7368421052631579\n",
      "Difference: 0.17982456140350878\n"
     ]
    }
   ],
   "source": [
    "et, y_test, y_pred = evaluate_model(ExtraTreesClassifier, X_train, y_train, X_test, y_test)"
   ]
  },
  {
   "cell_type": "markdown",
   "metadata": {},
   "source": [
    "#### CONFUSION MATRIX"
   ]
  },
  {
   "cell_type": "code",
   "execution_count": 205,
   "metadata": {},
   "outputs": [
    {
     "data": {
      "image/png": "[encoded data removed]",
      "text/plain": [
       "<Figure size 720x360 with 2 Axes>"
      ]
     },
     "metadata": {},
     "output_type": "display_data"
    }
   ],
   "source": [
    "plot_confusion_matrix(y_test, y_pred, 'Extra Trees')"
   ]
  },
  {
   "cell_type": "markdown",
   "metadata": {},
   "source": [
    "#### CLASSIFICATION REPORT"
   ]
  },
  {
   "cell_type": "code",
   "execution_count": 206,
   "metadata": {},
   "outputs": [
    {
     "name": "stdout",
     "output_type": "stream",
     "text": [
      "              precision    recall  f1-score   support\n",
      "\n",
      "         0.0       0.73      0.80      0.76        10\n",
      "         1.0       0.75      0.67      0.71         9\n",
      "\n",
      "    accuracy                           0.74        19\n",
      "   macro avg       0.74      0.73      0.73        19\n",
      "weighted avg       0.74      0.74      0.74        19\n",
      "\n"
     ]
    }
   ],
   "source": [
    "print(f'Extra Trees Classification Report\\n\\n{classification_report(y_test, y_pred)}')"
   ]
  },
  {
   "cell_type": "markdown",
   "metadata": {},
   "source": [
    "#### ROC CURVE"
   ]
  },
  {
   "cell_type": "code",
   "execution_count": 207,
   "metadata": {},
   "outputs": [
    {
     "data": {
      "text/plain": [
       "<sklearn.metrics._plot.roc_curve.RocCurveDisplay at 0x156d8049e20>"
      ]
     },
     "execution_count": 207,
     "metadata": {},
     "output_type": "execute_result"
    },
    {
     "data": {
      "image/png": "[encoded data removed]",
      "text/plain": [
       "<Figure size 576x396 with 1 Axes>"
      ]
     },
     "metadata": {},
     "output_type": "display_data"
    }
   ],
   "source": [
    "plot_roc_curve(et, X_test, y_test)"
   ]
  },
  {
   "cell_type": "markdown",
   "metadata": {},
   "source": [
    "# CONCLUSION"
   ]
  },
  {
   "cell_type": "markdown",
   "metadata": {},
   "source": [
    "In conclusion the Decision Tree was the best model using the data set without order_satisfaction and price_satisfaction. It had the highest train and test accuracy at 92% and 84% respectively. It also had the highest classification scores with both unhappy and happy customers getting an f1-score of 84%. I chose the Decision Tree model because the training set had the closest accuracy to the test set.\n",
    "\n",
    "The reason the model performed best without order_satisfaction and price_satisfaction was because people who were happy with the product gave order_satisfaction low ratings anyway and thus is not helpful because we are predicting what customers would be happy and focused on increasing ratings. Similarly with price_satisfaction, people who are _not_ happy still gave high ratings if they believe the product has a fair price and is not helpful in finding trends to predict customer happiness."
   ]
  }
 ],
 "metadata": {
  "kernelspec": {
   "display_name": "Python 3",
   "language": "python",
   "name": "python3"
  },
  "language_info": {
   "codemirror_mode": {
    "name": "ipython",
    "version": 3
   },
   "file_extension": ".py",
   "mimetype": "text/x-python",
   "name": "python",
   "nbconvert_exporter": "python",
   "pygments_lexer": "ipython3",
   "version": "3.8.5"
  }
 },
 "nbformat": 4,
 "nbformat_minor": 4
}
